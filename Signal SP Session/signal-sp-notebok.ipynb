{
 "cells": [
  {
   "cell_type": "markdown",
   "id": "8e90e904",
   "metadata": {
    "slideshow": {
     "slide_type": "skip"
    }
   },
   "source": [
    "### Setup"
   ]
  },
  {
   "cell_type": "markdown",
   "id": "d7f5870e",
   "metadata": {},
   "source": [
    "#### Install"
   ]
  },
  {
   "cell_type": "code",
   "execution_count": 7,
   "id": "dc0b96b9",
   "metadata": {},
   "outputs": [
    {
     "name": "stdout",
     "output_type": "stream",
     "text": [
      "\n",
      "\u001b[1m[\u001b[0m\u001b[34;49mnotice\u001b[0m\u001b[1;39;49m]\u001b[0m\u001b[39;49m A new release of pip is available: \u001b[0m\u001b[31;49m25.1.1\u001b[0m\u001b[39;49m -> \u001b[0m\u001b[32;49m25.2\u001b[0m\n",
      "\u001b[1m[\u001b[0m\u001b[34;49mnotice\u001b[0m\u001b[1;39;49m]\u001b[0m\u001b[39;49m To update, run: \u001b[0m\u001b[32;49mpip install --upgrade pip\u001b[0m\n",
      "Note: you may need to restart the kernel to use updated packages.\n"
     ]
    }
   ],
   "source": [
    "%pip install twilio python-dotenv matplotlib numpy diagrams graphviz mermaid-py --quiet"
   ]
  },
  {
   "cell_type": "markdown",
   "id": "4e7183b1",
   "metadata": {},
   "source": [
    "#### Init Client"
   ]
  },
  {
   "cell_type": "markdown",
   "id": "ee05db78",
   "metadata": {},
   "source": [
    "##### Functions"
   ]
  },
  {
   "cell_type": "code",
   "execution_count": 8,
   "id": "3b49a173",
   "metadata": {},
   "outputs": [],
   "source": [
    "import os\n",
    "from twilio.rest import Client\n",
    "from matplotlib.patches import FancyBboxPatch, ConnectionPatch\n",
    "import numpy as np\n",
    "\n",
    "import matplotlib.pyplot as plt\n",
    "import matplotlib.patches as patches\n",
    "\n",
    "import IPython\n",
    "import json\n",
    "\n",
    "from mermaid import Mermaid\n",
    "from IPython.display import display\n",
    "\n",
    "# Find your Account SID and Auth Token at twilio.com/console\n",
    "# and set the environment variables. See http://twil.io/secure\n",
    "account_sid = os.environ[\"TWILIO_ACCOUNT_SID\"]\n",
    "auth_token = os.environ[\"TWILIO_AUTH_TOKEN\"]\n",
    "client = Client(account_sid, auth_token)\n"
   ]
  },
  {
   "cell_type": "code",
   "execution_count": 9,
   "id": "1331a3f9",
   "metadata": {},
   "outputs": [],
   "source": [
    "from IPython.display import display, HTML\n",
    "import xml.dom.minidom\n",
    "\n",
    "def pretty_print_twiml(twiml_response):\n",
    "    \"\"\"\n",
    "    Takes a TwiML VoiceResponse object and renders it in a Twilio-branded pretty HTML box.\n",
    "    \n",
    "    Args:\n",
    "        twiml_response: A twilio.twiml.voice_response.VoiceResponse object\n",
    "    \n",
    "    Returns:\n",
    "        str: Pretty formatted XML string (also displayed in a styled box)\n",
    "    \"\"\"\n",
    "    # Convert TwiML response to pretty XML\n",
    "    xml_string = str(twiml_response)\n",
    "    pretty_xml = xml.dom.minidom.parseString(xml_string).toprettyxml(indent=\"  \")\n",
    "    pretty_xml = '\\n'.join(pretty_xml.split('\\n')[1:])  # Remove XML declaration\n",
    "\n",
    "    # Escape HTML special characters\n",
    "    escaped_xml = pretty_xml.replace(\"&\", \"&amp;\").replace(\"<\", \"&lt;\").replace(\">\", \"&gt;\")\n",
    "\n",
    "    # Twilio-style display box\n",
    "    style = \"\"\"\n",
    "    <style>\n",
    "    .twilio-xml-box {\n",
    "        background: #0B0D17;\n",
    "        border: 1px solid #661847;\n",
    "        padding: 20px;\n",
    "        border-radius: 12px;\n",
    "        font-family: 'Courier New', monospace;\n",
    "        font-size: 0.95em;\n",
    "        color: #FFFFFF;\n",
    "        white-space: pre-wrap;\n",
    "        line-height: 1.5;\n",
    "        box-shadow: 0 0 12px rgba(242, 47, 70, 0.4);\n",
    "        margin: 20px auto;\n",
    "        width: 90%;\n",
    "    }\n",
    "    .twilio-xml-box span.tag {\n",
    "        color: #F22F46;\n",
    "    }\n",
    "    .twilio-xml-box span.attr {\n",
    "        color: #0DC5FB;\n",
    "    }\n",
    "    </style>\n",
    "    \"\"\"\n",
    "\n",
    "    html_output = f\"\"\"\n",
    "    {style}\n",
    "    <div class=\"twilio-xml-box\">{escaped_xml}</div>\n",
    "    \"\"\"\n",
    "\n",
    "    display(HTML(html_output))\n",
    "    return pretty_xml.strip()\n"
   ]
  },
  {
   "cell_type": "code",
   "execution_count": 10,
   "id": "1b79a801",
   "metadata": {},
   "outputs": [],
   "source": [
    "import time\n",
    "from IPython.display import display, clear_output, HTML\n",
    "\n",
    "def animate_call_flow_html(sid=None, delay=1.5):\n",
    "    steps = [\n",
    "        \"Connecting Call\",\n",
    "        \"AI Agent connected\",\n",
    "        \"Text to Speech initiated\",\n",
    "        \"Call Ended\"\n",
    "    ]\n",
    "\n",
    "    style = \"\"\"\n",
    "    <style>\n",
    "    @keyframes gradientFlow {\n",
    "        0% { background-position: 0% 50%; }\n",
    "        50% { background-position: 100% 50%; }\n",
    "        100% { background-position: 0% 50%; }\n",
    "    }\n",
    "    .twilio-flow {\n",
    "        font-family: 'Segoe UI', sans-serif;\n",
    "        font-size: 1.6em;\n",
    "        color: white;\n",
    "        font-weight: 600;\n",
    "        padding: 18px 24px;\n",
    "        border-radius: 12px;\n",
    "        text-align: center;\n",
    "        background: linear-gradient(-45deg, #0DC5FB, #661847, #4B0082, #F22F46);\n",
    "        background-size: 400% 400%;\n",
    "        animation: gradientFlow 6s ease infinite;\n",
    "        box-shadow: 0 0 20px rgba(0,0,0,0.3);\n",
    "        margin: 20px auto;\n",
    "        width: 70%;\n",
    "    }\n",
    "    .twilio-sid {\n",
    "        font-size: 0.95em;\n",
    "        margin-top: 10px;\n",
    "        color: #888;\n",
    "    }\n",
    "    </style>\n",
    "    \"\"\"\n",
    "\n",
    "    flow = \"\"\n",
    "    for step in steps:\n",
    "        flow += f\"{step} ➝ \"\n",
    "        clear_output(wait=True)\n",
    "        html = f\"\"\"\n",
    "        {style}\n",
    "        <div class=\"twilio-flow\">{flow.strip(' ➝ ')}</div>\n",
    "        \"\"\"\n",
    "        display(HTML(html))\n",
    "        time.sleep(delay)\n",
    "\n",
    "    if sid:\n",
    "        final = f\"\"\"\n",
    "        {style}\n",
    "        <div class=\"twilio-flow\">Call Successful!</div>\n",
    "        <div class=\"twilio-sid\">Call SID: <code>{sid}</code></div>\n",
    "        \"\"\"\n",
    "        clear_output(wait=True)\n",
    "        display(HTML(final))\n"
   ]
  },
  {
   "cell_type": "code",
   "execution_count": 11,
   "id": "25fd5a29",
   "metadata": {},
   "outputs": [],
   "source": [
    "from IPython.display import display, HTML\n",
    "\n",
    "def pretty_print_operator_results(transcripts):\n",
    "    from html import escape\n",
    "\n",
    "    style = \"\"\"\n",
    "    <style>\n",
    "    .twilio-box {\n",
    "        background: #0B0D17;\n",
    "        border: 1px solid #661847;\n",
    "        border-radius: 12px;\n",
    "        color: #ffffff;\n",
    "        font-family: 'Segoe UI', sans-serif;\n",
    "        padding: 20px;\n",
    "        margin: 20px auto;\n",
    "        width: 95%;\n",
    "        box-shadow: 0 0 20px rgba(242, 47, 70, 0.2);\n",
    "    }\n",
    "    .twilio-header {\n",
    "        font-size: 1.1em;\n",
    "        font-weight: bold;\n",
    "        margin-bottom: 12px;\n",
    "        color: #F22F46;\n",
    "    }\n",
    "    .twilio-sub {\n",
    "        color: #0DC5FB;\n",
    "        font-size: 0.9em;\n",
    "        margin-bottom: 10px;\n",
    "    }\n",
    "    .twilio-block {\n",
    "        background: #12284C;\n",
    "        padding: 16px;\n",
    "        border-radius: 8px;\n",
    "        margin-bottom: 20px;\n",
    "        border-left: 4px solid #4B0082;\n",
    "        font-size: 0.9em;\n",
    "    }\n",
    "    .twilio-key {\n",
    "        font-weight: bold;\n",
    "        color: #FFFFFF;\n",
    "    }\n",
    "    .twilio-value {\n",
    "        color: #BBBBBB;\n",
    "    }\n",
    "    .twilio-divider {\n",
    "        margin: 16px 0;\n",
    "        border-top: 1px solid #333;\n",
    "    }\n",
    "    </style>\n",
    "    \"\"\"\n",
    "\n",
    "    html = f\"\"\"\n",
    "    {style}\n",
    "    <div class=\"twilio-box\">\n",
    "        <div class=\"twilio-header\">Twilio Intelligence Operator Results</div>\n",
    "        <div class=\"twilio-sub\">Getting operator results for {len(transcripts)} transcripts.</div>\n",
    "    \"\"\"\n",
    "\n",
    "    for transcript in transcripts:\n",
    "        html += f\"\"\"<div class=\"twilio-block\">\n",
    "        <div class=\"twilio-key\">Transcript SID:</div>\n",
    "        <div class=\"twilio-value\">{escape(transcript.sid)}</div>\n",
    "        \"\"\"\n",
    "\n",
    "        try:\n",
    "            operator_results = client.intelligence.v2.transcripts(\n",
    "                transcript.sid\n",
    "            ).operator_results.list(limit=100)\n",
    "\n",
    "            html += f\"\"\"<div class=\"twilio-sub\">Found {len(operator_results)} operator results.</div>\"\"\"\n",
    "\n",
    "            for i, record in enumerate(operator_results, 1):\n",
    "                html += f\"\"\"<div class=\"twilio-divider\"></div>\n",
    "                <div class=\"twilio-key\">Operator #{i}</div>\n",
    "                <div class=\"twilio-value\">Name: {record.name}</div>\n",
    "                <div class=\"twilio-value\">Type: {record.operator_type}</div>\n",
    "                <div class=\"twilio-value\">Operator SID: {record.operator_sid}</div>\n",
    "                \"\"\"\n",
    "\n",
    "                if record.operator_type == 'text-generation' and record.text_generation_results:\n",
    "                    result_text = record.text_generation_results.get('result', 'No result available')\n",
    "                    html += f\"\"\"<div class=\"twilio-key\" style=\"margin-top: 10px;\">Text Generation Result:</div>\n",
    "                                <div class=\"twilio-value\">{escape(result_text)}</div>\"\"\"\n",
    "\n",
    "                elif record.operator_type == 'extract' and record.extract_results:\n",
    "                    html += \"<div class='twilio-key' style='margin-top: 10px;'>Extraction Results:</div>\"\n",
    "                    for entity_type, entities in record.extract_results.items():\n",
    "                        html += f\"<div class='twilio-value'>{entity_type}: {entities}</div>\"\n",
    "\n",
    "                    if record.extract_match:\n",
    "                        html += f\"<div class='twilio-value'>Match Found: {record.extract_match}</div>\"\n",
    "                        html += f\"<div class='twilio-value'>Match Probability: {record.match_probability}</div>\"\n",
    "\n",
    "                    if record.utterance_results:\n",
    "                        html += \"<div class='twilio-key' style='margin-top: 10px;'>Utterance Analysis:</div>\"\n",
    "                        for j, utterance in enumerate(record.utterance_results):\n",
    "                            html += f\"<div class='twilio-sub'>Utterance {j+1} (Index {utterance['utterance_index']}):</div>\"\n",
    "                            html += f\"<div class='twilio-value'>Match Probability: {utterance['match_probability']}</div>\"\n",
    "                            labeled_text = \"\"\n",
    "                            for part in utterance['utterance_parts']:\n",
    "                                label = part.get('label')\n",
    "                                text = part['text']\n",
    "                                labeled_text += f\"[{label}: {text}]\" if label else text\n",
    "                            html += f\"<div class='twilio-value'>Text: {escape(labeled_text)}</div>\"\n",
    "\n",
    "                elif record.operator_type == 'conversation-classify':\n",
    "                    html += \"<div class='twilio-key' style='margin-top: 10px;'>Classification Result:</div>\"\n",
    "                    html += f\"<div class='twilio-value'>Predicted Label: {record.predicted_label}</div>\"\n",
    "                    html += f\"<div class='twilio-value'>Predicted Probability: {record.predicted_probability}</div>\"\n",
    "\n",
    "                    if record.label_probabilities:\n",
    "                        html += \"<div class='twilio-key'>All Label Probabilities:</div>\"\n",
    "                        for label, prob in record.label_probabilities.items():\n",
    "                            html += f\"<div class='twilio-value'>{label}: {prob}</div>\"\n",
    "\n",
    "                html += f\"<div class='twilio-value' style='margin-top: 10px;'>Transcript SID: {record.transcript_sid}</div>\"\n",
    "                html += f\"<div class='twilio-value'>URL: <a style='color:#0DC5FB;' href='{record.url}' target='_blank'>{record.url}</a></div>\"\n",
    "\n",
    "            html += \"</div>\"  # End transcript block\n",
    "\n",
    "        except Exception as e:\n",
    "            html += f\"<div class='twilio-value'>Error fetching operator results: {escape(str(e))}</div></div>\"\n",
    "\n",
    "    html += \"</div>\"  # twilio-box\n",
    "\n",
    "    display(HTML(html))\n"
   ]
  },
  {
   "cell_type": "code",
   "execution_count": 12,
   "id": "209ea31d",
   "metadata": {},
   "outputs": [
    {
     "data": {
      "text/html": [
       "\n",
       "\n",
       "<style>\n",
       ".twilio-box {\n",
       "    background: #0B0D17;\n",
       "    border: 1px solid #661847;\n",
       "    border-radius: 12px;\n",
       "    color: #ffffff;\n",
       "    font-family: 'Segoe UI', sans-serif;\n",
       "    padding: 20px;\n",
       "    margin: 20px auto;\n",
       "    width: 95%;\n",
       "    box-shadow: 0 0 20px rgba(242, 47, 70, 0.2);\n",
       "}\n",
       ".twilio-header {\n",
       "    font-size: 1.1em;\n",
       "    font-weight: bold;\n",
       "    margin-bottom: 10px;\n",
       "    color: #F22F46;\n",
       "}\n",
       ".twilio-sub {\n",
       "    color: #0DC5FB;\n",
       "    font-size: 0.9em;\n",
       "    margin-bottom: 8px;\n",
       "}\n",
       ".twilio-record {\n",
       "    background: #12284C;\n",
       "    padding: 12px;\n",
       "    border-radius: 8px;\n",
       "    margin-bottom: 10px;\n",
       "    border-left: 4px solid #4B0082;\n",
       "    font-size: 0.9em;\n",
       "}\n",
       ".twilio-key {\n",
       "    font-weight: bold;\n",
       "    color: #FFFFFF;\n",
       "}\n",
       ".twilio-value {\n",
       "    color: #BBBBBB;\n",
       "}\n",
       "</style>\n",
       "\n",
       "<div class=\"twilio-box\">\n",
       "  <div class=\"twilio-header\">Twilio Conversational Intelligence</div>\n",
       "  <div class=\"twilio-sub\">Fetching transcripts after: <code>2025-08-07T10:11:40Z</code></div>\n",
       "  <div class=\"twilio-sub\">Found <strong>0</strong> new transcripts:</div>\n",
       "\n",
       "  <div class=\"twilio-sub\">Updated last_update_date to: <code>2025-08-07 10:13:28</code></div>\n",
       "</div>\n"
      ],
      "text/plain": [
       "<IPython.core.display.HTML object>"
      ]
     },
     "metadata": {},
     "output_type": "display_data"
    }
   ],
   "source": [
    "from datetime import datetime, timedelta\n",
    "from IPython.display import display, HTML\n",
    "\n",
    "# Twilio SIGNAL-style CSS block (no emojis)\n",
    "style = \"\"\"\n",
    "<style>\n",
    ".twilio-box {\n",
    "    background: #0B0D17;\n",
    "    border: 1px solid #661847;\n",
    "    border-radius: 12px;\n",
    "    color: #ffffff;\n",
    "    font-family: 'Segoe UI', sans-serif;\n",
    "    padding: 20px;\n",
    "    margin: 20px auto;\n",
    "    width: 95%;\n",
    "    box-shadow: 0 0 20px rgba(242, 47, 70, 0.2);\n",
    "}\n",
    ".twilio-header {\n",
    "    font-size: 1.1em;\n",
    "    font-weight: bold;\n",
    "    margin-bottom: 10px;\n",
    "    color: #F22F46;\n",
    "}\n",
    ".twilio-sub {\n",
    "    color: #0DC5FB;\n",
    "    font-size: 0.9em;\n",
    "    margin-bottom: 8px;\n",
    "}\n",
    ".twilio-record {\n",
    "    background: #12284C;\n",
    "    padding: 12px;\n",
    "    border-radius: 8px;\n",
    "    margin-bottom: 10px;\n",
    "    border-left: 4px solid #4B0082;\n",
    "    font-size: 0.9em;\n",
    "}\n",
    ".twilio-key {\n",
    "    font-weight: bold;\n",
    "    color: #FFFFFF;\n",
    "}\n",
    ".twilio-value {\n",
    "    color: #BBBBBB;\n",
    "}\n",
    "</style>\n",
    "\"\"\"\n",
    "\n",
    "# Initialize last_update_date\n",
    "if 'last_update_date' not in globals():\n",
    "    last_update_date = datetime.now() - timedelta(days=1)\n",
    "\n",
    "last_update_time = last_update_date.strftime('%Y-%m-%dT%H:%M:%SZ')\n",
    "\n",
    "# Fetch transcripts\n",
    "transcripts = client.intelligence.v2.transcripts.list(\n",
    "    limit=100,\n",
    "    after_date_created=last_update_time,\n",
    "    after_start_time=last_update_time,\n",
    ")\n",
    "\n",
    "# Build HTML output\n",
    "html = f\"\"\"\n",
    "{style}\n",
    "<div class=\"twilio-box\">\n",
    "  <div class=\"twilio-header\">Twilio Conversational Intelligence</div>\n",
    "  <div class=\"twilio-sub\">Fetching transcripts after: <code>{last_update_time}</code></div>\n",
    "  <div class=\"twilio-sub\">Found <strong>{len(transcripts)}</strong> new transcripts:</div>\n",
    "\"\"\"\n",
    "\n",
    "for record in transcripts:\n",
    "    html += '<div class=\"twilio-record\">'\n",
    "    for key, value in vars(record).items():\n",
    "        html += f\"<div><span class='twilio-key'>{key}:</span> <span class='twilio-value'>{value}</span></div>\"\n",
    "    html += '</div>'\n",
    "\n",
    "# Update the timestamp for next run\n",
    "last_update_date = datetime.now()\n",
    "html += f\"\"\"\n",
    "  <div class=\"twilio-sub\">Updated last_update_date to: <code>{last_update_date.strftime('%Y-%m-%d %H:%M:%S')}</code></div>\n",
    "</div>\n",
    "\"\"\"\n",
    "\n",
    "# Display in notebook\n",
    "display(HTML(html))\n"
   ]
  },
  {
   "cell_type": "markdown",
   "id": "b90761b5",
   "metadata": {},
   "source": [
    "#\n",
    "___"
   ]
  },
  {
   "cell_type": "markdown",
   "id": "912ab2cd",
   "metadata": {},
   "source": [
    "# Twilio Brasil - Signal São Paulo 2025\n",
    "\n"
   ]
  },
  {
   "cell_type": "markdown",
   "id": "eded9e32",
   "metadata": {},
   "source": [
    "___"
   ]
  },
  {
   "cell_type": "code",
   "execution_count": 16,
   "id": "72a10119",
   "metadata": {
    "slideshow": {
     "slide_type": "fragment"
    }
   },
   "outputs": [
    {
     "data": {
      "text/html": [
       "\n",
       "<style>\n",
       "@keyframes gradient {\n",
       "    0% { background-position: 0% 50%; }\n",
       "    50% { background-position: 100% 50%; }\n",
       "    100% { background-position: 0% 50%; }\n",
       "}\n",
       ".welcome-box {\n",
       "    font-family: 'Segoe UI', sans-serif;\n",
       "    font-size: 2em;\n",
       "    font-weight: bold;\n",
       "    color: white;\n",
       "    padding: 30px;\n",
       "    text-align: center;\n",
       "    border-radius: 16px;\n",
       "    background: linear-gradient(-45deg, #0DC5FB, #661847, #4B0082, #F22F46);\n",
       "    background-size: 400% 400%;\n",
       "    animation: gradient 8s ease infinite;\n",
       "    box-shadow: 0 0 20px rgba(0,0,0,0.4);\n",
       "    margin: 40px auto;\n",
       "    width: 70%;\n",
       "}\n",
       "</style>\n",
       "<div class='welcome-box'>TWILIO SIGNAL SÃO PAULO 2025</div>"
      ],
      "text/plain": [
       "<IPython.core.display.HTML object>"
      ]
     },
     "metadata": {},
     "output_type": "display_data"
    }
   ],
   "source": [
    "import time\n",
    "from IPython.display import display, clear_output, HTML\n",
    "\n",
    "# Messages to cycle through\n",
    "messages = [\n",
    "    \"Welcome, Builders!\",\n",
    "    \"Bienvenidos, Creadores!\",\n",
    "    \"Bem-vindos, Criadores!\",\n",
    "    \"Bienvenidas, Creadoras!\",\n",
    "    \"Bem-vindas, Criadoras!\"\n",
    "]\n",
    "\n",
    "# Final message\n",
    "final_message = \"TWILIO SIGNAL SÃO PAULO 2025\"\n",
    "\n",
    "# Shared CSS for animated gradient box\n",
    "style = \"\"\"\n",
    "<style>\n",
    "@keyframes gradient {\n",
    "    0% { background-position: 0% 50%; }\n",
    "    50% { background-position: 100% 50%; }\n",
    "    100% { background-position: 0% 50%; }\n",
    "}\n",
    ".welcome-box {\n",
    "    font-family: 'Segoe UI', sans-serif;\n",
    "    font-size: 2em;\n",
    "    font-weight: bold;\n",
    "    color: white;\n",
    "    padding: 30px;\n",
    "    text-align: center;\n",
    "    border-radius: 16px;\n",
    "    background: linear-gradient(-45deg, #0DC5FB, #661847, #4B0082, #F22F46);\n",
    "    background-size: 400% 400%;\n",
    "    animation: gradient 8s ease infinite;\n",
    "    box-shadow: 0 0 20px rgba(0,0,0,0.4);\n",
    "    margin: 40px auto;\n",
    "    width: 70%;\n",
    "}\n",
    "</style>\n",
    "\"\"\"\n",
    "\n",
    "# Animation loop\n",
    "for _ in range(2):  # Number of cycles\n",
    "    for msg in messages:\n",
    "        clear_output(wait=True)\n",
    "        html = f\"{style}<div class='welcome-box'>{msg}</div>\"\n",
    "        display(HTML(html))\n",
    "        time.sleep(1.5)\n",
    "\n",
    "# Final SIGNAL banner\n",
    "clear_output(wait=True)\n",
    "html = f\"{style}<div class='welcome-box'>{final_message}</div>\"\n",
    "display(HTML(html))\n"
   ]
  },
  {
   "cell_type": "markdown",
   "id": "9ed10713",
   "metadata": {},
   "source": [
    "___"
   ]
  },
  {
   "cell_type": "markdown",
   "id": "8cc88b83",
   "metadata": {
    "slideshow": {
     "slide_type": "slide"
    }
   },
   "source": [
    "### Melhores Práticas para Escalar o <br>Engajamento de Clientes Multi-Agente <br>com Conversation Relay"
   ]
  },
  {
   "cell_type": "markdown",
   "id": "6954c463",
   "metadata": {
    "slideshow": {
     "slide_type": "fragment"
    }
   },
   "source": [
    "**Content**\n",
    "\n",
    "\n",
    "1. **[Voice API]()**  *Orquestração de voz*\n",
    "\n",
    "2. **[TwiML]()**  *Controles de chamada avançados*\n",
    "\n",
    "3. **[Connect]()**   *ConversationRelay*\n",
    "\n",
    "4. **[Conversational Intelligence]()**   *Observabilidade nativa*"
   ]
  },
  {
   "cell_type": "markdown",
   "id": "5ee60144",
   "metadata": {},
   "source": [
    "___"
   ]
  },
  {
   "cell_type": "markdown",
   "id": "64b7e62a",
   "metadata": {
    "slideshow": {
     "slide_type": "fragment"
    },
    "vscode": {
     "languageId": "html"
    }
   },
   "source": [
    "<style>\n",
    ".fvm-table-card {\n",
    "  background-color: #0B0D17;\n",
    "  color: #ffffff;\n",
    "  border: 1px solid #661847;\n",
    "  border-radius: 16px;\n",
    "  padding: 16px;\n",
    "  font-family: 'Segoe UI', sans-serif;\n",
    "  box-shadow: 0 0 20px rgba(242, 47, 70, 0.15);\n",
    "  margin: 30px auto;\n",
    "  max-width: 520px;\n",
    "  overflow: hidden;\n",
    "}\n",
    "\n",
    ".fvm-table-card table {\n",
    "  width: 100%;\n",
    "  border-collapse: collapse;\n",
    "  border: 0px;\n",
    "}\n",
    "\n",
    ".fvm-table-card td {\n",
    "  vertical-align: middle;\n",
    "  padding: 6px 12px;\n",
    "    border: 0px;\n",
    "\n",
    "}\n",
    "\n",
    ".fvm-table-card .photo {\n",
    "  width: 90px;\n",
    "  padding-right: 16px;\n",
    "    border: 0px;\n",
    "\n",
    "}\n",
    "\n",
    ".fvm-table-card .photo img {\n",
    "  width: 84px;\n",
    "  height: 84px;\n",
    "  border-radius: 50%;\n",
    "  border: 2px solid #F22F46;\n",
    "  object-fit: cover;\n",
    "  display: block;\n",
    "}\n",
    "\n",
    ".fvm-table-card .name {\n",
    "  font-size: 1.2rem;\n",
    "  font-weight: 600;\n",
    "  color: #F22F46;\n",
    "}\n",
    "\n",
    ".fvm-table-card .position {\n",
    "  color: #0DC5FB;\n",
    "  font-size: 1rem;\n",
    "  font-weight: 500;\n",
    "}\n",
    "\n",
    ".fvm-table-card .company {\n",
    "  color: #0DC5FB;\n",
    "  font-size: 0.95rem;\n",
    "}\n",
    "</style>\n",
    "\n",
    "<div class=\"fvm-table-card\">\n",
    "  <table>\n",
    "    <tr>\n",
    "      <td class=\"photo\" rowspan=\"3\">\n",
    "        <img src=\"https://assets.swoogo.com/uploads/medium/5396236-683722fd8921b.jpeg\" alt=\"Fernando Vieira Machado\">\n",
    "      </td>\n",
    "      <td class=\"name\">Fernando Vieira Machado</td>\n",
    "    </tr>\n",
    "    <tr>\n",
    "      <td class=\"position\">Arquiteto de Soluções</td>\n",
    "    </tr>\n",
    "    <tr>\n",
    "      <td class=\"company\">Twilio</td>\n",
    "    </tr>\n",
    "    <tr>\n",
    "      <td></td>\n",
    "    </tr>\n",
    "  </table>\n",
    "</div>\n"
   ]
  },
  {
   "cell_type": "markdown",
   "id": "9737880b",
   "metadata": {},
   "source": [
    "___"
   ]
  },
  {
   "cell_type": "markdown",
   "id": "e5df1f2b",
   "metadata": {
    "slideshow": {
     "slide_type": "slide"
    }
   },
   "source": [
    "## Architectural Overview"
   ]
  },
  {
   "cell_type": "code",
   "execution_count": 17,
   "id": "5eeb37ce",
   "metadata": {
    "slideshow": {
     "slide_type": "fragment"
    }
   },
   "outputs": [
    {
     "data": {
      "text/html": [
       "<svg id=\"mermaid-svg\" width=\"100%\" xmlns=\"http://www.w3.org/2000/svg\" class=\"flowchart\" style=\"max-width: 1633.4453125px;\" viewBox=\"0 0 1633.4453125 873\" role=\"graphics-document document\" aria-roledescription=\"flowchart-v2\" xmlns:xlink=\"http://www.w3.org/1999/xlink\"><style xmlns=\"http://www.w3.org/1999/xhtml\">@import url(\"https://cdnjs.cloudflare.com/ajax/libs/font-awesome/6.7.2/css/all.min.css\");</style><style>#mermaid-svg{font-family:\"trebuchet ms\",verdana,arial,sans-serif;font-size:16px;fill:#FFFFFF;}@keyframes edge-animation-frame{from{stroke-dashoffset:0;}}@keyframes dash{to{stroke-dashoffset:0;}}#mermaid-svg .edge-animation-slow{stroke-dasharray:9,5!important;stroke-dashoffset:900;animation:dash 50s linear infinite;stroke-linecap:round;}#mermaid-svg .edge-animation-fast{stroke-dasharray:9,5!important;stroke-dashoffset:900;animation:dash 20s linear infinite;stroke-linecap:round;}#mermaid-svg .error-icon{fill:#0DC5FB;}#mermaid-svg .error-text{fill:#FFFFFF;stroke:#FFFFFF;}#mermaid-svg .edge-thickness-normal{stroke-width:1px;}#mermaid-svg .edge-thickness-thick{stroke-width:3.5px;}#mermaid-svg .edge-pattern-solid{stroke-dasharray:0;}#mermaid-svg .edge-thickness-invisible{stroke-width:0;fill:none;}#mermaid-svg .edge-pattern-dashed{stroke-dasharray:3;}#mermaid-svg .edge-pattern-dotted{stroke-dasharray:2;}#mermaid-svg .marker{fill:#f4f2e8;stroke:#f4f2e8;}#mermaid-svg .marker.cross{stroke:#f4f2e8;}#mermaid-svg svg{font-family:\"trebuchet ms\",verdana,arial,sans-serif;font-size:16px;}#mermaid-svg p{margin:0;}#mermaid-svg .label{font-family:\"trebuchet ms\",verdana,arial,sans-serif;color:#FFFFFF;}#mermaid-svg .cluster-label text{fill:#FFFFFF;}#mermaid-svg .cluster-label span{color:#FFFFFF;}#mermaid-svg .cluster-label span p{background-color:transparent;}#mermaid-svg .label text,#mermaid-svg span{fill:#FFFFFF;color:#FFFFFF;}#mermaid-svg .node rect,#mermaid-svg .node circle,#mermaid-svg .node ellipse,#mermaid-svg .node polygon,#mermaid-svg .node path{fill:#12284C;stroke:#661847;stroke-width:1px;}#mermaid-svg .rough-node .label text,#mermaid-svg .node .label text,#mermaid-svg .image-shape .label,#mermaid-svg .icon-shape .label{text-anchor:middle;}#mermaid-svg .node .katex path{fill:#000;stroke:#000;stroke-width:1px;}#mermaid-svg .rough-node .label,#mermaid-svg .node .label,#mermaid-svg .image-shape .label,#mermaid-svg .icon-shape .label{text-align:center;}#mermaid-svg .node.clickable{cursor:pointer;}#mermaid-svg .root .anchor path{fill:#f4f2e8!important;stroke-width:0;stroke:#f4f2e8;}#mermaid-svg .arrowheadPath{fill:#f4f2e8;}#mermaid-svg .edgePath .path{stroke:#f4f2e8;stroke-width:2.0px;}#mermaid-svg .flowchart-link{stroke:#f4f2e8;fill:none;}#mermaid-svg .edgeLabel{background-color:hsl(97.2413793103, 61.7021276596%, 18.431372549%);text-align:center;}#mermaid-svg .edgeLabel p{background-color:hsl(97.2413793103, 61.7021276596%, 18.431372549%);}#mermaid-svg .edgeLabel rect{opacity:0.5;background-color:hsl(97.2413793103, 61.7021276596%, 18.431372549%);fill:hsl(97.2413793103, 61.7021276596%, 18.431372549%);}#mermaid-svg .labelBkg{background-color:rgba(40, 75.9999999999, 18, 0.5);}#mermaid-svg .cluster rect{fill:#0B0D17;stroke:#1D1F2B;stroke-width:1px;}#mermaid-svg .cluster text{fill:#FFFFFF;}#mermaid-svg .cluster span{color:#FFFFFF;}#mermaid-svg div.mermaidTooltip{position:absolute;text-align:center;max-width:200px;padding:2px;font-family:\"trebuchet ms\",verdana,arial,sans-serif;font-size:12px;background:#0DC5FB;border:1px solid #0B3D91;border-radius:2px;pointer-events:none;z-index:100;}#mermaid-svg .flowchartTitleText{text-anchor:middle;font-size:18px;fill:#FFFFFF;}#mermaid-svg rect.text{fill:none;stroke-width:0;}#mermaid-svg .icon-shape,#mermaid-svg .image-shape{background-color:hsl(97.2413793103, 61.7021276596%, 18.431372549%);text-align:center;}#mermaid-svg .icon-shape p,#mermaid-svg .image-shape p{background-color:hsl(97.2413793103, 61.7021276596%, 18.431372549%);padding:2px;}#mermaid-svg .icon-shape rect,#mermaid-svg .image-shape rect{opacity:0.5;background-color:hsl(97.2413793103, 61.7021276596%, 18.431372549%);fill:hsl(97.2413793103, 61.7021276596%, 18.431372549%);}#mermaid-svg :root{--mermaid-font-family:\"trebuchet ms\",verdana,arial,sans-serif;}#mermaid-svg .entrypoint&gt;*{fill:#0DC5FB!important;stroke:#0B3D91!important;stroke-width:2px!important;color:#ffffff!important;}#mermaid-svg .entrypoint span{fill:#0DC5FB!important;stroke:#0B3D91!important;stroke-width:2px!important;color:#ffffff!important;}#mermaid-svg .entrypoint tspan{fill:#ffffff!important;}#mermaid-svg .twilio&gt;*{fill:#12284C!important;stroke:#661847!important;stroke-width:2px!important;color:#ffffff!important;}#mermaid-svg .twilio span{fill:#12284C!important;stroke:#661847!important;stroke-width:2px!important;color:#ffffff!important;}#mermaid-svg .twilio tspan{fill:#ffffff!important;}#mermaid-svg .relay&gt;*{fill:#F22F46!important;stroke:#0B3D91!important;stroke-width:2px!important;color:#ffffff!important;}#mermaid-svg .relay span{fill:#F22F46!important;stroke:#0B3D91!important;stroke-width:2px!important;color:#ffffff!important;}#mermaid-svg .relay tspan{fill:#ffffff!important;}#mermaid-svg .backend&gt;*{fill:#4B0082!important;stroke:#F22F46!important;stroke-width:2px!important;color:#ffffff!important;}#mermaid-svg .backend span{fill:#4B0082!important;stroke:#F22F46!important;stroke-width:2px!important;color:#ffffff!important;}#mermaid-svg .backend tspan{fill:#ffffff!important;}#mermaid-svg .llm&gt;*{fill:#ffffff!important;stroke:#4B0082!important;stroke-width:2px!important;color:#4B0082!important;}#mermaid-svg .llm span{fill:#ffffff!important;stroke:#4B0082!important;stroke-width:2px!important;color:#4B0082!important;}#mermaid-svg .llm tspan{fill:#4B0082!important;}#mermaid-svg .steplabel&gt;*{fill:#1D1F2B!important;stroke:#333333!important;stroke-width:1px!important;color:#ffffff!important;}#mermaid-svg .steplabel span{fill:#1D1F2B!important;stroke:#333333!important;stroke-width:1px!important;color:#ffffff!important;}#mermaid-svg .steplabel tspan{fill:#ffffff!important;}</style><g><marker id=\"mermaid-svg_flowchart-v2-pointEnd\" class=\"marker flowchart-v2\" viewBox=\"0 0 10 10\" refX=\"5\" refY=\"5\" markerUnits=\"userSpaceOnUse\" markerWidth=\"8\" markerHeight=\"8\" orient=\"auto\"><path d=\"M 0 0 L 10 5 L 0 10 z\" class=\"arrowMarkerPath\" style=\"stroke-width: 1; stroke-dasharray: 1, 0;\"/></marker><marker id=\"mermaid-svg_flowchart-v2-pointStart\" class=\"marker flowchart-v2\" viewBox=\"0 0 10 10\" refX=\"4.5\" refY=\"5\" markerUnits=\"userSpaceOnUse\" markerWidth=\"8\" markerHeight=\"8\" orient=\"auto\"><path d=\"M 0 5 L 10 10 L 10 0 z\" class=\"arrowMarkerPath\" style=\"stroke-width: 1; stroke-dasharray: 1, 0;\"/></marker><marker id=\"mermaid-svg_flowchart-v2-circleEnd\" class=\"marker flowchart-v2\" viewBox=\"0 0 10 10\" refX=\"11\" refY=\"5\" markerUnits=\"userSpaceOnUse\" markerWidth=\"11\" markerHeight=\"11\" orient=\"auto\"><circle cx=\"5\" cy=\"5\" r=\"5\" class=\"arrowMarkerPath\" style=\"stroke-width: 1; stroke-dasharray: 1, 0;\"/></marker><marker id=\"mermaid-svg_flowchart-v2-circleStart\" class=\"marker flowchart-v2\" viewBox=\"0 0 10 10\" refX=\"-1\" refY=\"5\" markerUnits=\"userSpaceOnUse\" markerWidth=\"11\" markerHeight=\"11\" orient=\"auto\"><circle cx=\"5\" cy=\"5\" r=\"5\" class=\"arrowMarkerPath\" style=\"stroke-width: 1; stroke-dasharray: 1, 0;\"/></marker><marker id=\"mermaid-svg_flowchart-v2-crossEnd\" class=\"marker cross flowchart-v2\" viewBox=\"0 0 11 11\" refX=\"12\" refY=\"5.2\" markerUnits=\"userSpaceOnUse\" markerWidth=\"11\" markerHeight=\"11\" orient=\"auto\"><path d=\"M 1,1 l 9,9 M 10,1 l -9,9\" class=\"arrowMarkerPath\" style=\"stroke-width: 2; stroke-dasharray: 1, 0;\"/></marker><marker id=\"mermaid-svg_flowchart-v2-crossStart\" class=\"marker cross flowchart-v2\" viewBox=\"0 0 11 11\" refX=\"-1\" refY=\"5.2\" markerUnits=\"userSpaceOnUse\" markerWidth=\"11\" markerHeight=\"11\" orient=\"auto\"><path d=\"M 1,1 l 9,9 M 10,1 l -9,9\" class=\"arrowMarkerPath\" style=\"stroke-width: 2; stroke-dasharray: 1, 0;\"/></marker><g class=\"root\"><g class=\"clusters\"><g class=\"cluster \" id=\"C\" data-look=\"classic\"><rect style=\"\" x=\"90.1640625\" y=\"607\" width=\"803.5078125\" height=\"258\"/><g class=\"cluster-label \" transform=\"translate(491.91796875, 607)\"><foreignObject width=\"0\" height=\"0\"><div xmlns=\"http://www.w3.org/1999/xhtml\" style=\"display: table-cell; white-space: nowrap; line-height: 1.5; max-width: 200px; text-align: center;\"><span class=\"nodeLabel \"></span></div></foreignObject></g></g><g class=\"cluster \" id=\"B\" data-look=\"classic\"><rect style=\"\" x=\"287.328125\" y=\"275\" width=\"1338.1171875\" height=\"258\"/><g class=\"cluster-label \" transform=\"translate(956.38671875, 275)\"><foreignObject width=\"0\" height=\"0\"><div xmlns=\"http://www.w3.org/1999/xhtml\" style=\"display: table-cell; white-space: nowrap; line-height: 1.5; max-width: 200px; text-align: center;\"><span class=\"nodeLabel \"></span></div></foreignObject></g></g><g class=\"cluster \" id=\"A\" data-look=\"classic\"><rect style=\"\" x=\"681.56640625\" y=\"121\" width=\"727.96875\" height=\"104\"/><g class=\"cluster-label \" transform=\"translate(1045.55078125, 121)\"><foreignObject width=\"0\" height=\"0\"><div xmlns=\"http://www.w3.org/1999/xhtml\" style=\"display: table-cell; white-space: nowrap; line-height: 1.5; max-width: 200px; text-align: center;\"><span class=\"nodeLabel \"></span></div></foreignObject></g></g><g class=\"cluster \" id=\"LLMs\" data-look=\"classic\"><rect style=\"\" x=\"204.671875\" y=\"736\" width=\"669\" height=\"104\"/><g class=\"cluster-label \" transform=\"translate(495.59375, 736)\"><foreignObject width=\"87.15625\" height=\"24\"><div xmlns=\"http://www.w3.org/1999/xhtml\" style=\"display: table-cell; white-space: nowrap; line-height: 1.5; max-width: 200px; text-align: center;\"><span class=\"nodeLabel \"><p>LLM Models</p></span></div></foreignObject></g></g><g class=\"cluster \" id=\"Orchestration\" data-look=\"classic\"><rect style=\"\" x=\"525.88671875\" y=\"404\" width=\"1057.57421875\" height=\"104\"/><g class=\"cluster-label \" transform=\"translate(984.416015625, 404)\"><foreignObject width=\"140.515625\" height=\"24\"><div xmlns=\"http://www.w3.org/1999/xhtml\" style=\"display: table-cell; white-space: nowrap; line-height: 1.5; max-width: 200px; text-align: center;\"><span class=\"nodeLabel \"><p>Orchestration Layer</p></span></div></foreignObject></g></g></g><g class=\"edgePaths\"><path d=\"M768.402,71.5L768.319,75.583C768.236,79.667,768.069,87.833,767.986,96.083C767.902,104.333,767.902,112.667,767.902,120.333C767.902,128,767.902,135,767.902,138.5L767.902,142\" id=\"L_Step1Label_PSTN_0\" class=\" edge-thickness-normal edge-pattern-solid edge-thickness-normal edge-pattern-solid flowchart-link\" style=\"\" marker-end=\"url(#mermaid-svg_flowchart-v2-pointEnd)\"/><path d=\"M327.828,193L327.745,198.333C327.661,203.667,327.495,214.333,327.411,223.833C327.328,233.333,327.328,241.667,327.328,250C327.328,258.333,327.328,266.667,436.405,278.682C545.483,290.697,763.637,306.393,872.714,314.242L981.792,322.09\" id=\"L_Step2Label_VoiceAPI_0\" class=\" edge-thickness-normal edge-pattern-solid edge-thickness-normal edge-pattern-solid flowchart-link\" style=\"\" marker-end=\"url(#mermaid-svg_flowchart-v2-pointEnd)\"/><path d=\"M130.664,476L130.581,481.333C130.497,486.667,130.331,497.333,130.247,506.833C130.164,516.333,130.164,524.667,130.164,535C130.164,545.333,130.164,557.667,130.164,570C130.164,582.333,130.164,594.667,180.216,607.54C230.268,620.413,330.373,633.826,380.425,640.532L430.477,647.239\" id=\"L_Step3Label_ExtService_0\" class=\" edge-thickness-normal edge-pattern-solid edge-thickness-normal edge-pattern-solid flowchart-link\" style=\"\" marker-end=\"url(#mermaid-svg_flowchart-v2-pointEnd)\"/><path d=\"M767.902,200L767.902,204.167C767.902,208.333,767.902,216.667,767.902,225C767.902,233.333,767.902,241.667,767.902,250C767.902,258.333,767.902,266.667,803.56,277.405C839.217,288.144,910.532,301.289,946.19,307.861L981.848,314.433\" id=\"L_PSTN_VoiceAPI_0\" class=\" edge-thickness-normal edge-pattern-solid edge-thickness-normal edge-pattern-solid flowchart-link\" style=\"\" marker-end=\"url(#mermaid-svg_flowchart-v2-pointEnd)\"/><path d=\"M912.137,200L912.137,204.167C912.137,208.333,912.137,216.667,912.137,225C912.137,233.333,912.137,241.667,912.137,250C912.137,258.333,912.137,266.667,923.787,275.227C935.437,283.787,958.738,292.573,970.388,296.967L982.039,301.36\" id=\"L_SIP_VoiceAPI_0\" class=\" edge-thickness-normal edge-pattern-solid edge-thickness-normal edge-pattern-solid flowchart-link\" style=\"\" marker-end=\"url(#mermaid-svg_flowchart-v2-pointEnd)\"/><path d=\"M1071.941,200L1071.941,204.167C1071.941,208.333,1071.941,216.667,1071.941,225C1071.941,233.333,1071.941,241.667,1071.941,250C1071.941,258.333,1071.941,266.667,1070.445,274.386C1068.948,282.105,1065.954,289.209,1064.458,292.762L1062.961,296.314\" id=\"L_WhatsApp_VoiceAPI_0\" class=\" edge-thickness-normal edge-pattern-solid edge-thickness-normal edge-pattern-solid flowchart-link\" style=\"\" marker-end=\"url(#mermaid-svg_flowchart-v2-pointEnd)\"/><path d=\"M1281.691,200L1281.691,204.167C1281.691,208.333,1281.691,216.667,1281.691,225C1281.691,233.333,1281.691,241.667,1281.691,250C1281.691,258.333,1281.691,266.667,1254.44,276.95C1227.189,287.234,1172.687,299.468,1145.435,305.585L1118.184,311.702\" id=\"L_WebRTC_VoiceAPI_0\" class=\" edge-thickness-normal edge-pattern-solid edge-thickness-normal edge-pattern-solid flowchart-link\" style=\"\" marker-end=\"url(#mermaid-svg_flowchart-v2-pointEnd)\"/><path d=\"M985.781,346.28L967.608,351.733C949.435,357.187,913.089,368.093,894.915,377.713C876.742,387.333,876.742,395.667,876.742,403.333C876.742,411,876.742,418,876.742,421.5L876.742,425\" id=\"L_VoiceAPI_Studio_0\" class=\" edge-thickness-normal edge-pattern-solid edge-thickness-normal edge-pattern-solid flowchart-link\" style=\"\" marker-end=\"url(#mermaid-svg_flowchart-v2-pointEnd)\"/><path d=\"M1050.031,354L1050.031,358.167C1050.031,362.333,1050.031,370.667,1050.031,379C1050.031,387.333,1050.031,395.667,1050.031,403.333C1050.031,411,1050.031,418,1050.031,421.5L1050.031,425\" id=\"L_VoiceAPI_TwiML_0\" class=\" edge-thickness-normal edge-pattern-solid edge-thickness-normal edge-pattern-solid flowchart-link\" style=\"\" marker-end=\"url(#mermaid-svg_flowchart-v2-pointEnd)\"/><path d=\"M1114.281,345.031L1134.454,350.693C1154.628,356.354,1194.974,367.677,1215.147,377.505C1235.32,387.333,1235.32,395.667,1235.32,403.333C1235.32,411,1235.32,418,1235.32,421.5L1235.32,425\" id=\"L_VoiceAPI_Functions_0\" class=\" edge-thickness-normal edge-pattern-solid edge-thickness-normal edge-pattern-solid flowchart-link\" style=\"\" marker-end=\"url(#mermaid-svg_flowchart-v2-pointEnd)\"/><path d=\"M1114.281,335.369L1170.107,342.641C1225.932,349.913,1337.583,364.456,1393.409,375.895C1449.234,387.333,1449.234,395.667,1449.234,403.333C1449.234,411,1449.234,418,1449.234,421.5L1449.234,425\" id=\"L_VoiceAPI_Webhooks_0\" class=\" edge-thickness-normal edge-pattern-solid edge-thickness-normal edge-pattern-solid flowchart-link\" style=\"\" marker-end=\"url(#mermaid-svg_flowchart-v2-pointEnd)\"/><path d=\"M985.781,335.891L933.858,343.076C881.935,350.26,778.089,364.63,726.165,375.982C674.242,387.333,674.242,395.667,674.242,403.333C674.242,411,674.242,418,674.242,421.5L674.242,425\" id=\"L_VoiceAPI_ConvRelay_0\" class=\" edge-thickness-normal edge-pattern-solid edge-thickness-normal edge-pattern-solid flowchart-link\" style=\"\" marker-end=\"url(#mermaid-svg_flowchart-v2-pointEnd)\"/><path d=\"M642.595,483L637.712,487.167C632.828,491.333,623.06,499.667,618.177,508C613.293,516.333,613.293,524.667,613.293,535C613.293,545.333,613.293,557.667,613.293,570C613.293,582.333,613.293,594.667,606.263,604.68C599.232,614.693,585.171,622.387,578.141,626.233L571.11,630.08\" id=\"L_ConvRelay_ExtService_0\" class=\" edge-thickness-normal edge-pattern-dotted edge-thickness-normal edge-pattern-solid flowchart-link\" style=\"\" marker-end=\"url(#mermaid-svg_flowchart-v2-pointEnd)\"/><path d=\"M602.066,638.997L624.411,633.664C646.757,628.332,691.447,617.666,713.792,606.166C736.137,594.667,736.137,582.333,736.137,570C736.137,557.667,736.137,545.333,736.137,535C736.137,524.667,736.137,516.333,731.688,508.429C727.239,500.524,718.34,493.049,713.891,489.311L709.442,485.573\" id=\"L_ExtService_ConvRelay_0\" class=\" edge-thickness-normal edge-pattern-dotted edge-thickness-normal edge-pattern-solid flowchart-link\" style=\"\" marker-end=\"url(#mermaid-svg_flowchart-v2-pointEnd)\"/><path d=\"M434.441,677.774L409.721,683.312C385,688.85,335.559,699.925,310.838,709.629C286.117,719.333,286.117,727.667,286.117,735.333C286.117,743,286.117,750,286.117,753.5L286.117,757\" id=\"L_ExtService_GPT_0\" class=\" edge-thickness-normal edge-pattern-solid edge-thickness-normal edge-pattern-solid flowchart-link\" style=\"\" marker-end=\"url(#mermaid-svg_flowchart-v2-pointEnd)\"/><path d=\"M476.535,686L470.097,690.167C463.659,694.333,450.782,702.667,444.344,711C437.906,719.333,437.906,727.667,437.906,735.333C437.906,743,437.906,750,437.906,753.5L437.906,757\" id=\"L_ExtService_Gemini_0\" class=\" edge-thickness-normal edge-pattern-solid edge-thickness-normal edge-pattern-solid flowchart-link\" style=\"\" marker-end=\"url(#mermaid-svg_flowchart-v2-pointEnd)\"/><path d=\"M559.973,686L566.411,690.167C572.849,694.333,585.725,702.667,592.163,711C598.602,719.333,598.602,727.667,598.602,735.333C598.602,743,598.602,750,598.602,753.5L598.602,757\" id=\"L_ExtService_Claude_0\" class=\" edge-thickness-normal edge-pattern-solid edge-thickness-normal edge-pattern-solid flowchart-link\" style=\"\" marker-end=\"url(#mermaid-svg_flowchart-v2-pointEnd)\"/><path d=\"M602.066,676.222L630.274,682.019C658.482,687.815,714.897,699.407,743.105,709.37C771.313,719.333,771.313,727.667,771.313,735.333C771.313,743,771.313,750,771.313,753.5L771.313,757\" id=\"L_ExtService_DeepSeek_0\" class=\" edge-thickness-normal edge-pattern-solid edge-thickness-normal edge-pattern-solid flowchart-link\" style=\"\" marker-end=\"url(#mermaid-svg_flowchart-v2-pointEnd)\"/></g><g class=\"edgeLabels\"><g class=\"edgeLabel\"><g class=\"label\" transform=\"translate(0, 0)\"><foreignObject width=\"0\" height=\"0\"><div xmlns=\"http://www.w3.org/1999/xhtml\" class=\"labelBkg\" style=\"display: table-cell; white-space: nowrap; line-height: 1.5; max-width: 200px; text-align: center;\"><span class=\"edgeLabel \"></span></div></foreignObject></g></g><g class=\"edgeLabel\"><g class=\"label\" transform=\"translate(0, 0)\"><foreignObject width=\"0\" height=\"0\"><div xmlns=\"http://www.w3.org/1999/xhtml\" class=\"labelBkg\" style=\"display: table-cell; white-space: nowrap; line-height: 1.5; max-width: 200px; text-align: center;\"><span class=\"edgeLabel \"></span></div></foreignObject></g></g><g class=\"edgeLabel\"><g class=\"label\" transform=\"translate(0, 0)\"><foreignObject width=\"0\" height=\"0\"><div xmlns=\"http://www.w3.org/1999/xhtml\" class=\"labelBkg\" style=\"display: table-cell; white-space: nowrap; line-height: 1.5; max-width: 200px; text-align: center;\"><span class=\"edgeLabel \"></span></div></foreignObject></g></g><g class=\"edgeLabel\"><g class=\"label\" transform=\"translate(0, 0)\"><foreignObject width=\"0\" height=\"0\"><div xmlns=\"http://www.w3.org/1999/xhtml\" class=\"labelBkg\" style=\"display: table-cell; white-space: nowrap; line-height: 1.5; max-width: 200px; text-align: center;\"><span class=\"edgeLabel \"></span></div></foreignObject></g></g><g class=\"edgeLabel\"><g class=\"label\" transform=\"translate(0, 0)\"><foreignObject width=\"0\" height=\"0\"><div xmlns=\"http://www.w3.org/1999/xhtml\" class=\"labelBkg\" style=\"display: table-cell; white-space: nowrap; line-height: 1.5; max-width: 200px; text-align: center;\"><span class=\"edgeLabel \"></span></div></foreignObject></g></g><g class=\"edgeLabel\"><g class=\"label\" transform=\"translate(0, 0)\"><foreignObject width=\"0\" height=\"0\"><div xmlns=\"http://www.w3.org/1999/xhtml\" class=\"labelBkg\" style=\"display: table-cell; white-space: nowrap; line-height: 1.5; max-width: 200px; text-align: center;\"><span class=\"edgeLabel \"></span></div></foreignObject></g></g><g class=\"edgeLabel\"><g class=\"label\" transform=\"translate(0, 0)\"><foreignObject width=\"0\" height=\"0\"><div xmlns=\"http://www.w3.org/1999/xhtml\" class=\"labelBkg\" style=\"display: table-cell; white-space: nowrap; line-height: 1.5; max-width: 200px; text-align: center;\"><span class=\"edgeLabel \"></span></div></foreignObject></g></g><g class=\"edgeLabel\"><g class=\"label\" transform=\"translate(0, 0)\"><foreignObject width=\"0\" height=\"0\"><div xmlns=\"http://www.w3.org/1999/xhtml\" class=\"labelBkg\" style=\"display: table-cell; white-space: nowrap; line-height: 1.5; max-width: 200px; text-align: center;\"><span class=\"edgeLabel \"></span></div></foreignObject></g></g><g class=\"edgeLabel\"><g class=\"label\" transform=\"translate(0, 0)\"><foreignObject width=\"0\" height=\"0\"><div xmlns=\"http://www.w3.org/1999/xhtml\" class=\"labelBkg\" style=\"display: table-cell; white-space: nowrap; line-height: 1.5; max-width: 200px; text-align: center;\"><span class=\"edgeLabel \"></span></div></foreignObject></g></g><g class=\"edgeLabel\"><g class=\"label\" transform=\"translate(0, 0)\"><foreignObject width=\"0\" height=\"0\"><div xmlns=\"http://www.w3.org/1999/xhtml\" class=\"labelBkg\" style=\"display: table-cell; white-space: nowrap; line-height: 1.5; max-width: 200px; text-align: center;\"><span class=\"edgeLabel \"></span></div></foreignObject></g></g><g class=\"edgeLabel\"><g class=\"label\" transform=\"translate(0, 0)\"><foreignObject width=\"0\" height=\"0\"><div xmlns=\"http://www.w3.org/1999/xhtml\" class=\"labelBkg\" style=\"display: table-cell; white-space: nowrap; line-height: 1.5; max-width: 200px; text-align: center;\"><span class=\"edgeLabel \"></span></div></foreignObject></g></g><g class=\"edgeLabel\"><g class=\"label\" transform=\"translate(0, 0)\"><foreignObject width=\"0\" height=\"0\"><div xmlns=\"http://www.w3.org/1999/xhtml\" class=\"labelBkg\" style=\"display: table-cell; white-space: nowrap; line-height: 1.5; max-width: 200px; text-align: center;\"><span class=\"edgeLabel \"></span></div></foreignObject></g></g><g class=\"edgeLabel\" transform=\"translate(613.29296875, 570)\"><g class=\"label\" transform=\"translate(-48.5390625, -12)\"><foreignObject width=\"97.078125\" height=\"24\"><div xmlns=\"http://www.w3.org/1999/xhtml\" class=\"labelBkg\" style=\"display: table-cell; white-space: nowrap; line-height: 1.5; max-width: 200px; text-align: center;\"><span class=\"edgeLabel \"><p>STT + Events</p></span></div></foreignObject></g></g><g class=\"edgeLabel\" transform=\"translate(736.13671875, 570)\"><g class=\"label\" transform=\"translate(-53.359375, -12)\"><foreignObject width=\"106.71875\" height=\"24\"><div xmlns=\"http://www.w3.org/1999/xhtml\" class=\"labelBkg\" style=\"display: table-cell; white-space: nowrap; line-height: 1.5; max-width: 200px; text-align: center;\"><span class=\"edgeLabel \"><p>TTS Response</p></span></div></foreignObject></g></g><g class=\"edgeLabel\"><g class=\"label\" transform=\"translate(0, 0)\"><foreignObject width=\"0\" height=\"0\"><div xmlns=\"http://www.w3.org/1999/xhtml\" class=\"labelBkg\" style=\"display: table-cell; white-space: nowrap; line-height: 1.5; max-width: 200px; text-align: center;\"><span class=\"edgeLabel \"></span></div></foreignObject></g></g><g class=\"edgeLabel\"><g class=\"label\" transform=\"translate(0, 0)\"><foreignObject width=\"0\" height=\"0\"><div xmlns=\"http://www.w3.org/1999/xhtml\" class=\"labelBkg\" style=\"display: table-cell; white-space: nowrap; line-height: 1.5; max-width: 200px; text-align: center;\"><span class=\"edgeLabel \"></span></div></foreignObject></g></g><g class=\"edgeLabel\"><g class=\"label\" transform=\"translate(0, 0)\"><foreignObject width=\"0\" height=\"0\"><div xmlns=\"http://www.w3.org/1999/xhtml\" class=\"labelBkg\" style=\"display: table-cell; white-space: nowrap; line-height: 1.5; max-width: 200px; text-align: center;\"><span class=\"edgeLabel \"></span></div></foreignObject></g></g><g class=\"edgeLabel\"><g class=\"label\" transform=\"translate(0, 0)\"><foreignObject width=\"0\" height=\"0\"><div xmlns=\"http://www.w3.org/1999/xhtml\" class=\"labelBkg\" style=\"display: table-cell; white-space: nowrap; line-height: 1.5; max-width: 200px; text-align: center;\"><span class=\"edgeLabel \"></span></div></foreignObject></g></g></g><g class=\"nodes\"><g class=\"node default steplabel \" id=\"flowchart-Step1Label-0\" transform=\"translate(767.90234375, 39.5)\"><polygon points=\"-31.5,0 215,0 246.5,-63 0,-63\" class=\"label-container\" transform=\"translate(-107.5,31.5)\" style=\"fill:#1D1F2B !important;stroke:#333333 !important;stroke-width:1px !important\"/><g class=\"label\" style=\"color:#ffffff !important\" transform=\"translate(-100, -24)\"><rect/><foreignObject width=\"200\" height=\"48\"><div style=\"color: rgb(255, 255, 255) !important; display: table; white-space: break-spaces; line-height: 1.5; max-width: 200px; text-align: center; width: 200px;\" xmlns=\"http://www.w3.org/1999/xhtml\"><span style=\"color:#ffffff !important\" class=\"nodeLabel \"><p>Step 1: Inbound / Outbound Call</p></span></div></foreignObject></g></g><g class=\"node default steplabel \" id=\"flowchart-Step2Label-1\" transform=\"translate(327.328125, 173)\"><polygon points=\"-19.5,0 173.890625,0 193.390625,-39 0,-39\" class=\"label-container\" transform=\"translate(-86.9453125,19.5)\" style=\"fill:#1D1F2B !important;stroke:#333333 !important;stroke-width:1px !important\"/><g class=\"label\" style=\"color:#ffffff !important\" transform=\"translate(-79.4453125, -12)\"><rect/><foreignObject width=\"158.890625\" height=\"24\"><div style=\"color: rgb(255, 255, 255) !important; display: table-cell; white-space: nowrap; line-height: 1.5; max-width: 200px; text-align: center;\" xmlns=\"http://www.w3.org/1999/xhtml\"><span style=\"color:#ffffff !important\" class=\"nodeLabel \"><p>Step 2: Twilio Platform</p></span></div></foreignObject></g></g><g class=\"node default steplabel \" id=\"flowchart-Step3Label-2\" transform=\"translate(130.1640625, 456)\"><polygon points=\"-19.5,0 205.328125,0 224.828125,-39 0,-39\" class=\"label-container\" transform=\"translate(-102.6640625,19.5)\" style=\"fill:#1D1F2B !important;stroke:#333333 !important;stroke-width:1px !important\"/><g class=\"label\" style=\"color:#ffffff !important\" transform=\"translate(-95.1640625, -12)\"><rect/><foreignObject width=\"190.328125\" height=\"24\"><div style=\"color: rgb(255, 255, 255) !important; display: table-cell; white-space: nowrap; line-height: 1.5; max-width: 200px; text-align: center;\" xmlns=\"http://www.w3.org/1999/xhtml\"><span style=\"color:#ffffff !important\" class=\"nodeLabel \"><p>Step 3: External AI Service</p></span></div></foreignObject></g></g><g class=\"node default entrypoint \" id=\"flowchart-PSTN-4\" transform=\"translate(767.90234375, 173)\"><rect class=\"basic label-container\" style=\"fill:#0DC5FB !important;stroke:#0B3D91 !important;stroke-width:2px !important\" x=\"-51.3359375\" y=\"-27\" width=\"102.671875\" height=\"54\"/><g class=\"label\" style=\"color:#ffffff !important\" transform=\"translate(-21.3359375, -12)\"><rect/><foreignObject width=\"42.671875\" height=\"24\"><div style=\"color: rgb(255, 255, 255) !important; display: table-cell; white-space: nowrap; line-height: 1.5; max-width: 200px; text-align: center;\" xmlns=\"http://www.w3.org/1999/xhtml\"><span style=\"color:#ffffff !important\" class=\"nodeLabel \"><p>PSTN</p></span></div></foreignObject></g></g><g class=\"node default twilio \" id=\"flowchart-VoiceAPI-6\" transform=\"translate(1050.03125, 327)\"><rect class=\"basic label-container\" style=\"fill:#12284C !important;stroke:#661847 !important;stroke-width:2px !important\" x=\"-64.25\" y=\"-27\" width=\"128.5\" height=\"54\"/><g class=\"label\" style=\"color:#ffffff !important\" transform=\"translate(-34.25, -12)\"><rect/><foreignObject width=\"68.5\" height=\"24\"><div style=\"color: rgb(255, 255, 255) !important; display: table-cell; white-space: nowrap; line-height: 1.5; max-width: 200px; text-align: center;\" xmlns=\"http://www.w3.org/1999/xhtml\"><span style=\"color:#ffffff !important\" class=\"nodeLabel \"><p>Voice API</p></span></div></foreignObject></g></g><g class=\"node default backend \" id=\"flowchart-ExtService-8\" transform=\"translate(518.25390625, 659)\"><rect class=\"basic label-container\" style=\"fill:#4B0082 !important;stroke:#F22F46 !important;stroke-width:2px !important\" x=\"-83.8125\" y=\"-27\" width=\"167.625\" height=\"54\"/><g class=\"label\" style=\"color:#ffffff !important\" transform=\"translate(-53.8125, -12)\"><rect/><foreignObject width=\"107.625\" height=\"24\"><div style=\"color: rgb(255, 255, 255) !important; display: table-cell; white-space: nowrap; line-height: 1.5; max-width: 200px; text-align: center;\" xmlns=\"http://www.w3.org/1999/xhtml\"><span style=\"color:#ffffff !important\" class=\"nodeLabel \"><p>Relay Backend</p></span></div></foreignObject></g></g><g class=\"node default entrypoint \" id=\"flowchart-SIP-10\" transform=\"translate(912.13671875, 173)\"><rect class=\"basic label-container\" style=\"fill:#0DC5FB !important;stroke:#0B3D91 !important;stroke-width:2px !important\" x=\"-42.8984375\" y=\"-27\" width=\"85.796875\" height=\"54\"/><g class=\"label\" style=\"color:#ffffff !important\" transform=\"translate(-12.8984375, -12)\"><rect/><foreignObject width=\"25.796875\" height=\"24\"><div style=\"color: rgb(255, 255, 255) !important; display: table-cell; white-space: nowrap; line-height: 1.5; max-width: 200px; text-align: center;\" xmlns=\"http://www.w3.org/1999/xhtml\"><span style=\"color:#ffffff !important\" class=\"nodeLabel \"><p>SIP</p></span></div></foreignObject></g></g><g class=\"node default entrypoint \" id=\"flowchart-WhatsApp-11\" transform=\"translate(1071.94140625, 173)\"><rect class=\"basic label-container\" style=\"fill:#0DC5FB !important;stroke:#0B3D91 !important;stroke-width:2px !important\" x=\"-66.90625\" y=\"-27\" width=\"133.8125\" height=\"54\"/><g class=\"label\" style=\"color:#ffffff !important\" transform=\"translate(-36.90625, -12)\"><rect/><foreignObject width=\"73.8125\" height=\"24\"><div style=\"color: rgb(255, 255, 255) !important; display: table-cell; white-space: nowrap; line-height: 1.5; max-width: 200px; text-align: center;\" xmlns=\"http://www.w3.org/1999/xhtml\"><span style=\"color:#ffffff !important\" class=\"nodeLabel \"><p>WhatsApp</p></span></div></foreignObject></g></g><g class=\"node default entrypoint \" id=\"flowchart-WebRTC-12\" transform=\"translate(1281.69140625, 173)\"><rect class=\"basic label-container\" style=\"fill:#0DC5FB !important;stroke:#0B3D91 !important;stroke-width:2px !important\" x=\"-92.84375\" y=\"-27\" width=\"185.6875\" height=\"54\"/><g class=\"label\" style=\"color:#ffffff !important\" transform=\"translate(-62.84375, -12)\"><rect/><foreignObject width=\"125.6875\" height=\"24\"><div style=\"color: rgb(255, 255, 255) !important; display: table-cell; white-space: nowrap; line-height: 1.5; max-width: 200px; text-align: center;\" xmlns=\"http://www.w3.org/1999/xhtml\"><span style=\"color:#ffffff !important\" class=\"nodeLabel \"><p>WebRTC / In-App</p></span></div></foreignObject></g></g><g class=\"node default relay \" id=\"flowchart-ConvRelay-14\" transform=\"translate(674.2421875, 456)\"><rect class=\"basic label-container\" style=\"fill:#F22F46 !important;stroke:#0B3D91 !important;stroke-width:2px !important\" x=\"-99.8125\" y=\"-27\" width=\"199.625\" height=\"54\"/><g class=\"label\" style=\"color:#ffffff !important\" transform=\"translate(-69.8125, -12)\"><rect/><foreignObject width=\"139.625\" height=\"24\"><div style=\"color: rgb(255, 255, 255) !important; display: table-cell; white-space: nowrap; line-height: 1.5; max-width: 200px; text-align: center;\" xmlns=\"http://www.w3.org/1999/xhtml\"><span style=\"color:#ffffff !important\" class=\"nodeLabel \"><p>Conversation Relay</p></span></div></foreignObject></g></g><g class=\"node default twilio \" id=\"flowchart-Studio-15\" transform=\"translate(876.7421875, 456)\"><rect class=\"basic label-container\" style=\"fill:#12284C !important;stroke:#661847 !important;stroke-width:2px !important\" x=\"-52.6875\" y=\"-27\" width=\"105.375\" height=\"54\"/><g class=\"label\" style=\"color:#ffffff !important\" transform=\"translate(-22.6875, -12)\"><rect/><foreignObject width=\"45.375\" height=\"24\"><div style=\"color: rgb(255, 255, 255) !important; display: table-cell; white-space: nowrap; line-height: 1.5; max-width: 200px; text-align: center;\" xmlns=\"http://www.w3.org/1999/xhtml\"><span style=\"color:#ffffff !important\" class=\"nodeLabel \"><p>Studio</p></span></div></foreignObject></g></g><g class=\"node default twilio \" id=\"flowchart-TwiML-16\" transform=\"translate(1050.03125, 456)\"><rect class=\"basic label-container\" style=\"fill:#12284C !important;stroke:#661847 !important;stroke-width:2px !important\" x=\"-70.6015625\" y=\"-27\" width=\"141.203125\" height=\"54\"/><g class=\"label\" style=\"color:#ffffff !important\" transform=\"translate(-40.6015625, -12)\"><rect/><foreignObject width=\"81.203125\" height=\"24\"><div style=\"color: rgb(255, 255, 255) !important; display: table-cell; white-space: nowrap; line-height: 1.5; max-width: 200px; text-align: center;\" xmlns=\"http://www.w3.org/1999/xhtml\"><span style=\"color:#ffffff !important\" class=\"nodeLabel \"><p>TwiML Bins</p></span></div></foreignObject></g></g><g class=\"node default twilio \" id=\"flowchart-Functions-17\" transform=\"translate(1235.3203125, 456)\"><rect class=\"basic label-container\" style=\"fill:#12284C !important;stroke:#661847 !important;stroke-width:2px !important\" x=\"-64.6875\" y=\"-27\" width=\"129.375\" height=\"54\"/><g class=\"label\" style=\"color:#ffffff !important\" transform=\"translate(-34.6875, -12)\"><rect/><foreignObject width=\"69.375\" height=\"24\"><div style=\"color: rgb(255, 255, 255) !important; display: table-cell; white-space: nowrap; line-height: 1.5; max-width: 200px; text-align: center;\" xmlns=\"http://www.w3.org/1999/xhtml\"><span style=\"color:#ffffff !important\" class=\"nodeLabel \"><p>Functions</p></span></div></foreignObject></g></g><g class=\"node default twilio \" id=\"flowchart-Webhooks-18\" transform=\"translate(1449.234375, 456)\"><rect class=\"basic label-container\" style=\"fill:#12284C !important;stroke:#661847 !important;stroke-width:2px !important\" x=\"-99.2265625\" y=\"-27\" width=\"198.453125\" height=\"54\"/><g class=\"label\" style=\"color:#ffffff !important\" transform=\"translate(-69.2265625, -12)\"><rect/><foreignObject width=\"138.453125\" height=\"24\"><div style=\"color: rgb(255, 255, 255) !important; display: table-cell; white-space: nowrap; line-height: 1.5; max-width: 200px; text-align: center;\" xmlns=\"http://www.w3.org/1999/xhtml\"><span style=\"color:#ffffff !important\" class=\"nodeLabel \"><p>External Webhooks</p></span></div></foreignObject></g></g><g class=\"node default llm \" id=\"flowchart-GPT-20\" transform=\"translate(286.1171875, 788)\"><rect class=\"basic label-container\" style=\"fill:#ffffff !important;stroke:#4B0082 !important;stroke-width:2px !important\" x=\"-46.4453125\" y=\"-27\" width=\"92.890625\" height=\"54\"/><g class=\"label\" style=\"color:#4B0082 !important\" transform=\"translate(-16.4453125, -12)\"><rect/><foreignObject width=\"32.890625\" height=\"24\"><div style=\"color: rgb(75, 0, 130) !important; display: table-cell; white-space: nowrap; line-height: 1.5; max-width: 200px; text-align: center;\" xmlns=\"http://www.w3.org/1999/xhtml\"><span style=\"color:#4B0082 !important\" class=\"nodeLabel \"><p>GPT</p></span></div></foreignObject></g></g><g class=\"node default llm \" id=\"flowchart-Gemini-21\" transform=\"translate(437.90625, 788)\"><rect class=\"basic label-container\" style=\"fill:#ffffff !important;stroke:#4B0082 !important;stroke-width:2px !important\" x=\"-55.34375\" y=\"-27\" width=\"110.6875\" height=\"54\"/><g class=\"label\" style=\"color:#4B0082 !important\" transform=\"translate(-25.34375, -12)\"><rect/><foreignObject width=\"50.6875\" height=\"24\"><div style=\"color: rgb(75, 0, 130) !important; display: table-cell; white-space: nowrap; line-height: 1.5; max-width: 200px; text-align: center;\" xmlns=\"http://www.w3.org/1999/xhtml\"><span style=\"color:#4B0082 !important\" class=\"nodeLabel \"><p>Gemini</p></span></div></foreignObject></g></g><g class=\"node default llm \" id=\"flowchart-Claude-22\" transform=\"translate(598.6015625, 788)\"><rect class=\"basic label-container\" style=\"fill:#ffffff !important;stroke:#4B0082 !important;stroke-width:2px !important\" x=\"-55.3515625\" y=\"-27\" width=\"110.703125\" height=\"54\"/><g class=\"label\" style=\"color:#4B0082 !important\" transform=\"translate(-25.3515625, -12)\"><rect/><foreignObject width=\"50.703125\" height=\"24\"><div style=\"color: rgb(75, 0, 130) !important; display: table-cell; white-space: nowrap; line-height: 1.5; max-width: 200px; text-align: center;\" xmlns=\"http://www.w3.org/1999/xhtml\"><span style=\"color:#4B0082 !important\" class=\"nodeLabel \"><p>Claude</p></span></div></foreignObject></g></g><g class=\"node default llm \" id=\"flowchart-DeepSeek-23\" transform=\"translate(771.3125, 788)\"><rect class=\"basic label-container\" style=\"fill:#ffffff !important;stroke:#4B0082 !important;stroke-width:2px !important\" x=\"-67.359375\" y=\"-27\" width=\"134.71875\" height=\"54\"/><g class=\"label\" style=\"color:#4B0082 !important\" transform=\"translate(-37.359375, -12)\"><rect/><foreignObject width=\"74.71875\" height=\"24\"><div style=\"color: rgb(75, 0, 130) !important; display: table-cell; white-space: nowrap; line-height: 1.5; max-width: 200px; text-align: center;\" xmlns=\"http://www.w3.org/1999/xhtml\"><span style=\"color:#4B0082 !important\" class=\"nodeLabel \"><p>DeepSeek</p></span></div></foreignObject></g></g></g></g></g></svg>"
      ],
      "text/plain": [
       "<mermaid.__main__.Mermaid at 0x10a817250>"
      ]
     },
     "metadata": {},
     "output_type": "display_data"
    }
   ],
   "source": [
    "mermaid_string = \"\"\"\n",
    "%%{init: {\n",
    "  \"theme\": \"base\",\n",
    "  \"themeVariables\": {\n",
    "    \"background\": \"#0B0D17\",\n",
    "    \"primaryColor\": \"#12284C\",\n",
    "    \"primaryBorderColor\": \"#661847\",\n",
    "    \"primaryTextColor\": \"#FFFFFF\",\n",
    "    \"tertiaryColor\": \"#0DC5FB\",\n",
    "    \"tertiaryBorderColor\": \"#0B3D91\",\n",
    "    \"tertiaryTextColor\": \"#FFFFFF\",\n",
    "    \"noteBkgColor\": \"#4B0082\",\n",
    "    \"noteTextColor\": \"#FFFFFF\",\n",
    "    \"clusterBkg\": \"#0B0D17\",\n",
    "    \"clusterBorder\": \"#1D1F2B\"\n",
    "  },\n",
    "  \"flowchart\": {\n",
    "    \"useMaxWidth\": true,\n",
    "    \"htmlLabels\": true,\n",
    "    \"wrap\": true\n",
    "  }\n",
    "}}%%\n",
    "\n",
    "graph TD\n",
    "\n",
    "    %% Step Labels - placed left of clusters\n",
    "    Step1Label[/\"Step 1: Inbound / Outbound Call\"/]:::steplabel\n",
    "    Step2Label[/\"Step 2: Twilio Platform\"/]:::steplabel\n",
    "    Step3Label[/\"Step 3: External AI Service\"/]:::steplabel\n",
    "\n",
    "    Step1Label --> PSTN\n",
    "    Step2Label --> VoiceAPI\n",
    "    Step3Label --> ExtService\n",
    "\n",
    "    %% Step 1: Channels\n",
    "    subgraph A[\" \"]\n",
    "        PSTN[\"PSTN\"]\n",
    "        SIP[\"SIP\"]\n",
    "        WhatsApp[\"WhatsApp\"]\n",
    "        WebRTC[\"WebRTC / In-App\"]\n",
    "    end\n",
    "\n",
    "    %% Step 2: Twilio Core\n",
    "    subgraph B[\" \"]\n",
    "        VoiceAPI[\"Voice API\"]\n",
    "        subgraph Orchestration[\"Orchestration Layer\"]\n",
    "            ConvRelay[\"Conversation Relay\"]\n",
    "            Studio[\"Studio\"]\n",
    "            TwiML[\"TwiML Bins\"]\n",
    "            Functions[\"Functions\"]\n",
    "            Webhooks[\"External Webhooks\"]\n",
    "        end\n",
    "    end\n",
    "\n",
    "    %% Step 3: External AI\n",
    "    subgraph C[\" \"]\n",
    "        ExtService[\"Relay Backend\"]\n",
    "        subgraph LLMs[\"LLM Models\"]\n",
    "            GPT[\"GPT\"]\n",
    "            Gemini[\"Gemini\"]\n",
    "            Claude[\"Claude\"]\n",
    "            DeepSeek[\"DeepSeek\"]\n",
    "        end\n",
    "    end\n",
    "\n",
    "    %% Connections\n",
    "    PSTN --> VoiceAPI\n",
    "    SIP --> VoiceAPI\n",
    "    WhatsApp --> VoiceAPI\n",
    "    WebRTC --> VoiceAPI\n",
    "\n",
    "    VoiceAPI --> Studio\n",
    "    VoiceAPI --> TwiML\n",
    "    VoiceAPI --> Functions\n",
    "    VoiceAPI --> Webhooks\n",
    "    VoiceAPI --> ConvRelay\n",
    "\n",
    "    ConvRelay -.->|\"STT + Events\"| ExtService\n",
    "    ExtService -.->|\"TTS Response\"| ConvRelay\n",
    "\n",
    "    ExtService --> GPT\n",
    "    ExtService --> Gemini\n",
    "    ExtService --> Claude\n",
    "    ExtService --> DeepSeek\n",
    "\n",
    "    %% Styling\n",
    "    classDef entrypoint fill:#0DC5FB,stroke:#0B3D91,stroke-width:2px,color:#ffffff\n",
    "    classDef twilio fill:#12284C,stroke:#661847,stroke-width:2px,color:#ffffff\n",
    "    classDef relay fill:#F22F46,stroke:#0B3D91,stroke-width:2px,color:#ffffff\n",
    "    classDef backend fill:#4B0082,stroke:#F22F46,stroke-width:2px,color:#ffffff\n",
    "    classDef llm fill:#ffffff,stroke:#4B0082,stroke-width:2px,color:#4B0082\n",
    "    classDef steplabel fill:#1D1F2B,stroke:#333333,stroke-width:1px,color:#ffffff\n",
    "\n",
    "    class PSTN,SIP,WhatsApp,WebRTC entrypoint\n",
    "    class VoiceAPI,Studio,TwiML,Functions,Webhooks twilio\n",
    "    class ConvRelay relay\n",
    "    class ExtService backend\n",
    "    class GPT,Gemini,Claude,DeepSeek llm\n",
    "\"\"\"\n",
    "\n",
    "display(Mermaid(mermaid_string))\n"
   ]
  },
  {
   "cell_type": "markdown",
   "id": "4169a137",
   "metadata": {},
   "source": [
    "___"
   ]
  },
  {
   "cell_type": "markdown",
   "id": "9833ef87",
   "metadata": {
    "slideshow": {
     "slide_type": "slide"
    }
   },
   "source": [
    "## Twilio Voice API\n",
    "\n",
    "**Realizar uma chamada**"
   ]
  },
  {
   "cell_type": "code",
   "execution_count": 18,
   "id": "b7661ea3",
   "metadata": {
    "slideshow": {
     "slide_type": "fragment"
    }
   },
   "outputs": [
    {
     "data": {
      "text/html": [
       "\n",
       "        \n",
       "    <style>\n",
       "    @keyframes gradientFlow {\n",
       "        0% { background-position: 0% 50%; }\n",
       "        50% { background-position: 100% 50%; }\n",
       "        100% { background-position: 0% 50%; }\n",
       "    }\n",
       "    .twilio-flow {\n",
       "        font-family: 'Segoe UI', sans-serif;\n",
       "        font-size: 1.6em;\n",
       "        color: white;\n",
       "        font-weight: 600;\n",
       "        padding: 18px 24px;\n",
       "        border-radius: 12px;\n",
       "        text-align: center;\n",
       "        background: linear-gradient(-45deg, #0DC5FB, #661847, #4B0082, #F22F46);\n",
       "        background-size: 400% 400%;\n",
       "        animation: gradientFlow 6s ease infinite;\n",
       "        box-shadow: 0 0 20px rgba(0,0,0,0.3);\n",
       "        margin: 20px auto;\n",
       "        width: 70%;\n",
       "    }\n",
       "    .twilio-sid {\n",
       "        font-size: 0.95em;\n",
       "        margin-top: 10px;\n",
       "        color: #888;\n",
       "    }\n",
       "    </style>\n",
       "    \n",
       "        <div class=\"twilio-flow\">Call Successful!</div>\n",
       "        <div class=\"twilio-sid\">Call SID: <code>CAb931a4e66a9417a2d1f73bc759d0515e</code></div>\n",
       "        "
      ],
      "text/plain": [
       "<IPython.core.display.HTML object>"
      ]
     },
     "metadata": {},
     "output_type": "display_data"
    }
   ],
   "source": [
    "call = client.calls.create(\n",
    "    from_=\"+551150397615\",\n",
    "    to=\"+5511993387765\",\n",
    "    twiml=\"<Response> <Say> Ahoy! Signal São Paulo! </Say> </Response>\",\n",
    ")\n",
    "\n",
    "animate_call_flow_html(call.sid)\n"
   ]
  },
  {
   "cell_type": "markdown",
   "id": "421f34ed",
   "metadata": {
    "slideshow": {
     "slide_type": "slide"
    }
   },
   "source": [
    "## TwiML 101\n",
    "\n",
    "**Controle de Chamadas com a Twilio Markup Language**"
   ]
  },
  {
   "cell_type": "code",
   "execution_count": 15,
   "id": "543d82a0",
   "metadata": {
    "slideshow": {
     "slide_type": "fragment"
    }
   },
   "outputs": [
    {
     "data": {
      "text/html": [
       "<svg id=\"mermaid-svg\" width=\"100%\" xmlns=\"http://www.w3.org/2000/svg\" style=\"max-width: 679px;\" viewBox=\"-50 -10 679 671\" role=\"graphics-document document\" aria-roledescription=\"sequence\" xmlns:xlink=\"http://www.w3.org/1999/xlink\"><style xmlns=\"http://www.w3.org/1999/xhtml\">@import url(\"https://cdnjs.cloudflare.com/ajax/libs/font-awesome/6.7.2/css/all.min.css\");</style><g><rect x=\"429\" y=\"585\" fill=\"#eaeaea\" stroke=\"#666\" width=\"150\" height=\"65\" name=\"User\" rx=\"3\" ry=\"3\" class=\"actor actor-bottom\"/><text x=\"504\" y=\"617.5\" dominant-baseline=\"central\" alignment-baseline=\"central\" class=\"actor actor-box\" style=\"text-anchor: middle; font-size: 16px; font-weight: 400;\"><tspan x=\"504\" dy=\"0\">Usuário Final</tspan></text></g><g><rect x=\"229\" y=\"585\" fill=\"#eaeaea\" stroke=\"#666\" width=\"150\" height=\"65\" name=\"Twilio\" rx=\"3\" ry=\"3\" class=\"actor actor-bottom\"/><text x=\"304\" y=\"617.5\" dominant-baseline=\"central\" alignment-baseline=\"central\" class=\"actor actor-box\" style=\"text-anchor: middle; font-size: 16px; font-weight: 400;\"><tspan x=\"304\" dy=\"0\">Twilio Voice API</tspan></text></g><g><rect x=\"0\" y=\"585\" fill=\"#eaeaea\" stroke=\"#666\" width=\"150\" height=\"65\" name=\"App\" rx=\"3\" ry=\"3\" class=\"actor actor-bottom\"/><text x=\"75\" y=\"617.5\" dominant-baseline=\"central\" alignment-baseline=\"central\" class=\"actor actor-box\" style=\"text-anchor: middle; font-size: 16px; font-weight: 400;\"><tspan x=\"75\" dy=\"0\">Seu App</tspan></text></g><g><line id=\"actor2\" x1=\"504\" y1=\"65\" x2=\"504\" y2=\"585\" class=\"actor-line 200\" stroke-width=\"0.5px\" stroke=\"#999\" name=\"User\"/><g id=\"root-2\"><rect x=\"429\" y=\"0\" fill=\"#eaeaea\" stroke=\"#666\" width=\"150\" height=\"65\" name=\"User\" rx=\"3\" ry=\"3\" class=\"actor actor-top\"/><text x=\"504\" y=\"32.5\" dominant-baseline=\"central\" alignment-baseline=\"central\" class=\"actor actor-box\" style=\"text-anchor: middle; font-size: 16px; font-weight: 400;\"><tspan x=\"504\" dy=\"0\">Usuário Final</tspan></text></g></g><g><line id=\"actor1\" x1=\"304\" y1=\"65\" x2=\"304\" y2=\"585\" class=\"actor-line 200\" stroke-width=\"0.5px\" stroke=\"#999\" name=\"Twilio\"/><g id=\"root-1\"><rect x=\"229\" y=\"0\" fill=\"#eaeaea\" stroke=\"#666\" width=\"150\" height=\"65\" name=\"Twilio\" rx=\"3\" ry=\"3\" class=\"actor actor-top\"/><text x=\"304\" y=\"32.5\" dominant-baseline=\"central\" alignment-baseline=\"central\" class=\"actor actor-box\" style=\"text-anchor: middle; font-size: 16px; font-weight: 400;\"><tspan x=\"304\" dy=\"0\">Twilio Voice API</tspan></text></g></g><g><line id=\"actor0\" x1=\"75\" y1=\"65\" x2=\"75\" y2=\"585\" class=\"actor-line 200\" stroke-width=\"0.5px\" stroke=\"#999\" name=\"App\"/><g id=\"root-0\"><rect x=\"0\" y=\"0\" fill=\"#eaeaea\" stroke=\"#666\" width=\"150\" height=\"65\" name=\"App\" rx=\"3\" ry=\"3\" class=\"actor actor-top\"/><text x=\"75\" y=\"32.5\" dominant-baseline=\"central\" alignment-baseline=\"central\" class=\"actor actor-box\" style=\"text-anchor: middle; font-size: 16px; font-weight: 400;\"><tspan x=\"75\" dy=\"0\">Seu App</tspan></text></g></g><style>#mermaid-svg{font-family:\"trebuchet ms\",verdana,arial,sans-serif;font-size:16px;fill:#FFFFFF;}@keyframes edge-animation-frame{from{stroke-dashoffset:0;}}@keyframes dash{to{stroke-dashoffset:0;}}#mermaid-svg .edge-animation-slow{stroke-dasharray:9,5!important;stroke-dashoffset:900;animation:dash 50s linear infinite;stroke-linecap:round;}#mermaid-svg .edge-animation-fast{stroke-dasharray:9,5!important;stroke-dashoffset:900;animation:dash 20s linear infinite;stroke-linecap:round;}#mermaid-svg .error-icon{fill:#0DC5FB;}#mermaid-svg .error-text{fill:#FFFFFF;stroke:#FFFFFF;}#mermaid-svg .edge-thickness-normal{stroke-width:1px;}#mermaid-svg .edge-thickness-thick{stroke-width:3.5px;}#mermaid-svg .edge-pattern-solid{stroke-dasharray:0;}#mermaid-svg .edge-thickness-invisible{stroke-width:0;fill:none;}#mermaid-svg .edge-pattern-dashed{stroke-dasharray:3;}#mermaid-svg .edge-pattern-dotted{stroke-dasharray:2;}#mermaid-svg .marker{fill:#f4f2e8;stroke:#f4f2e8;}#mermaid-svg .marker.cross{stroke:#f4f2e8;}#mermaid-svg svg{font-family:\"trebuchet ms\",verdana,arial,sans-serif;font-size:16px;}#mermaid-svg p{margin:0;}#mermaid-svg .actor{stroke:#661847;fill:#12284C;}#mermaid-svg text.actor&gt;tspan{fill:#FFFFFF;stroke:none;}#mermaid-svg .actor-line{stroke:#661847;}#mermaid-svg .messageLine0{stroke-width:1.5;stroke-dasharray:none;stroke:#FFFFFF;}#mermaid-svg .messageLine1{stroke-width:1.5;stroke-dasharray:2,2;stroke:#FFFFFF;}#mermaid-svg #arrowhead path{fill:#FFFFFF;stroke:#FFFFFF;}#mermaid-svg .sequenceNumber{fill:#0b0d17;}#mermaid-svg #sequencenumber{fill:#FFFFFF;}#mermaid-svg #crosshead path{fill:#FFFFFF;stroke:#FFFFFF;}#mermaid-svg .messageText{fill:#FFFFFF;stroke:none;}#mermaid-svg .labelBox{stroke:#661847;fill:#12284C;}#mermaid-svg .labelText,#mermaid-svg .labelText&gt;tspan{fill:#FFFFFF;stroke:none;}#mermaid-svg .loopText,#mermaid-svg .loopText&gt;tspan{fill:#FFFFFF;stroke:none;}#mermaid-svg .loopLine{stroke-width:2px;stroke-dasharray:2,2;stroke:#661847;fill:#661847;}#mermaid-svg .note{stroke:hsl(274.6153846154, 60%, 15.4901960784%);fill:#4B0082;}#mermaid-svg .noteText,#mermaid-svg .noteText&gt;tspan{fill:#FFFFFF;stroke:none;}#mermaid-svg .activation0{fill:hsl(97.2413793103, 61.7021276596%, 18.431372549%);stroke:hsl(97.2413793103, 61.7021276596%, 8.431372549%);}#mermaid-svg .activation1{fill:hsl(97.2413793103, 61.7021276596%, 18.431372549%);stroke:hsl(97.2413793103, 61.7021276596%, 8.431372549%);}#mermaid-svg .activation2{fill:hsl(97.2413793103, 61.7021276596%, 18.431372549%);stroke:hsl(97.2413793103, 61.7021276596%, 8.431372549%);}#mermaid-svg .actorPopupMenu{position:absolute;}#mermaid-svg .actorPopupMenuPanel{position:absolute;fill:#12284C;box-shadow:0px 8px 16px 0px rgba(0,0,0,0.2);filter:drop-shadow(3px 5px 2px rgb(0 0 0 / 0.4));}#mermaid-svg .actor-man line{stroke:#661847;fill:#12284C;}#mermaid-svg .actor-man circle,#mermaid-svg line{stroke:#661847;fill:#12284C;stroke-width:2px;}#mermaid-svg :root{--mermaid-font-family:\"trebuchet ms\",verdana,arial,sans-serif;}</style><g/><defs><symbol id=\"computer\" width=\"24\" height=\"24\"><path transform=\"scale(.5)\" d=\"M2 2v13h20v-13h-20zm18 11h-16v-9h16v9zm-10.228 6l.466-1h3.524l.467 1h-4.457zm14.228 3h-24l2-6h2.104l-1.33 4h18.45l-1.297-4h2.073l2 6zm-5-10h-14v-7h14v7z\"/></symbol></defs><defs><symbol id=\"database\" fill-rule=\"evenodd\" clip-rule=\"evenodd\"><path transform=\"scale(.5)\" d=\"M12.258.001l.256.004.255.005.253.008.251.01.249.012.247.015.246.016.242.019.241.02.239.023.236.024.233.027.231.028.229.031.225.032.223.034.22.036.217.038.214.04.211.041.208.043.205.045.201.046.198.048.194.05.191.051.187.053.183.054.18.056.175.057.172.059.168.06.163.061.16.063.155.064.15.066.074.033.073.033.071.034.07.034.069.035.068.035.067.035.066.035.064.036.064.036.062.036.06.036.06.037.058.037.058.037.055.038.055.038.053.038.052.038.051.039.05.039.048.039.047.039.045.04.044.04.043.04.041.04.04.041.039.041.037.041.036.041.034.041.033.042.032.042.03.042.029.042.027.042.026.043.024.043.023.043.021.043.02.043.018.044.017.043.015.044.013.044.012.044.011.045.009.044.007.045.006.045.004.045.002.045.001.045v17l-.001.045-.002.045-.004.045-.006.045-.007.045-.009.044-.011.045-.012.044-.013.044-.015.044-.017.043-.018.044-.02.043-.021.043-.023.043-.024.043-.026.043-.027.042-.029.042-.03.042-.032.042-.033.042-.034.041-.036.041-.037.041-.039.041-.04.041-.041.04-.043.04-.044.04-.045.04-.047.039-.048.039-.05.039-.051.039-.052.038-.053.038-.055.038-.055.038-.058.037-.058.037-.06.037-.06.036-.062.036-.064.036-.064.036-.066.035-.067.035-.068.035-.069.035-.07.034-.071.034-.073.033-.074.033-.15.066-.155.064-.16.063-.163.061-.168.06-.172.059-.175.057-.18.056-.183.054-.187.053-.191.051-.194.05-.198.048-.201.046-.205.045-.208.043-.211.041-.214.04-.217.038-.22.036-.223.034-.225.032-.229.031-.231.028-.233.027-.236.024-.239.023-.241.02-.242.019-.246.016-.247.015-.249.012-.251.01-.253.008-.255.005-.256.004-.258.001-.258-.001-.256-.004-.255-.005-.253-.008-.251-.01-.249-.012-.247-.015-.245-.016-.243-.019-.241-.02-.238-.023-.236-.024-.234-.027-.231-.028-.228-.031-.226-.032-.223-.034-.22-.036-.217-.038-.214-.04-.211-.041-.208-.043-.204-.045-.201-.046-.198-.048-.195-.05-.19-.051-.187-.053-.184-.054-.179-.056-.176-.057-.172-.059-.167-.06-.164-.061-.159-.063-.155-.064-.151-.066-.074-.033-.072-.033-.072-.034-.07-.034-.069-.035-.068-.035-.067-.035-.066-.035-.064-.036-.063-.036-.062-.036-.061-.036-.06-.037-.058-.037-.057-.037-.056-.038-.055-.038-.053-.038-.052-.038-.051-.039-.049-.039-.049-.039-.046-.039-.046-.04-.044-.04-.043-.04-.041-.04-.04-.041-.039-.041-.037-.041-.036-.041-.034-.041-.033-.042-.032-.042-.03-.042-.029-.042-.027-.042-.026-.043-.024-.043-.023-.043-.021-.043-.02-.043-.018-.044-.017-.043-.015-.044-.013-.044-.012-.044-.011-.045-.009-.044-.007-.045-.006-.045-.004-.045-.002-.045-.001-.045v-17l.001-.045.002-.045.004-.045.006-.045.007-.045.009-.044.011-.045.012-.044.013-.044.015-.044.017-.043.018-.044.02-.043.021-.043.023-.043.024-.043.026-.043.027-.042.029-.042.03-.042.032-.042.033-.042.034-.041.036-.041.037-.041.039-.041.04-.041.041-.04.043-.04.044-.04.046-.04.046-.039.049-.039.049-.039.051-.039.052-.038.053-.038.055-.038.056-.038.057-.037.058-.037.06-.037.061-.036.062-.036.063-.036.064-.036.066-.035.067-.035.068-.035.069-.035.07-.034.072-.034.072-.033.074-.033.151-.066.155-.064.159-.063.164-.061.167-.06.172-.059.176-.057.179-.056.184-.054.187-.053.19-.051.195-.05.198-.048.201-.046.204-.045.208-.043.211-.041.214-.04.217-.038.22-.036.223-.034.226-.032.228-.031.231-.028.234-.027.236-.024.238-.023.241-.02.243-.019.245-.016.247-.015.249-.012.251-.01.253-.008.255-.005.256-.004.258-.001.258.001zm-9.258 20.499v.01l.001.021.003.021.004.022.005.021.006.022.007.022.009.023.01.022.011.023.012.023.013.023.015.023.016.024.017.023.018.024.019.024.021.024.022.025.023.024.024.025.052.049.056.05.061.051.066.051.07.051.075.051.079.052.084.052.088.052.092.052.097.052.102.051.105.052.11.052.114.051.119.051.123.051.127.05.131.05.135.05.139.048.144.049.147.047.152.047.155.047.16.045.163.045.167.043.171.043.176.041.178.041.183.039.187.039.19.037.194.035.197.035.202.033.204.031.209.03.212.029.216.027.219.025.222.024.226.021.23.02.233.018.236.016.24.015.243.012.246.01.249.008.253.005.256.004.259.001.26-.001.257-.004.254-.005.25-.008.247-.011.244-.012.241-.014.237-.016.233-.018.231-.021.226-.021.224-.024.22-.026.216-.027.212-.028.21-.031.205-.031.202-.034.198-.034.194-.036.191-.037.187-.039.183-.04.179-.04.175-.042.172-.043.168-.044.163-.045.16-.046.155-.046.152-.047.148-.048.143-.049.139-.049.136-.05.131-.05.126-.05.123-.051.118-.052.114-.051.11-.052.106-.052.101-.052.096-.052.092-.052.088-.053.083-.051.079-.052.074-.052.07-.051.065-.051.06-.051.056-.05.051-.05.023-.024.023-.025.021-.024.02-.024.019-.024.018-.024.017-.024.015-.023.014-.024.013-.023.012-.023.01-.023.01-.022.008-.022.006-.022.006-.022.004-.022.004-.021.001-.021.001-.021v-4.127l-.077.055-.08.053-.083.054-.085.053-.087.052-.09.052-.093.051-.095.05-.097.05-.1.049-.102.049-.105.048-.106.047-.109.047-.111.046-.114.045-.115.045-.118.044-.12.043-.122.042-.124.042-.126.041-.128.04-.13.04-.132.038-.134.038-.135.037-.138.037-.139.035-.142.035-.143.034-.144.033-.147.032-.148.031-.15.03-.151.03-.153.029-.154.027-.156.027-.158.026-.159.025-.161.024-.162.023-.163.022-.165.021-.166.02-.167.019-.169.018-.169.017-.171.016-.173.015-.173.014-.175.013-.175.012-.177.011-.178.01-.179.008-.179.008-.181.006-.182.005-.182.004-.184.003-.184.002h-.37l-.184-.002-.184-.003-.182-.004-.182-.005-.181-.006-.179-.008-.179-.008-.178-.01-.176-.011-.176-.012-.175-.013-.173-.014-.172-.015-.171-.016-.17-.017-.169-.018-.167-.019-.166-.02-.165-.021-.163-.022-.162-.023-.161-.024-.159-.025-.157-.026-.156-.027-.155-.027-.153-.029-.151-.03-.15-.03-.148-.031-.146-.032-.145-.033-.143-.034-.141-.035-.14-.035-.137-.037-.136-.037-.134-.038-.132-.038-.13-.04-.128-.04-.126-.041-.124-.042-.122-.042-.12-.044-.117-.043-.116-.045-.113-.045-.112-.046-.109-.047-.106-.047-.105-.048-.102-.049-.1-.049-.097-.05-.095-.05-.093-.052-.09-.051-.087-.052-.085-.053-.083-.054-.08-.054-.077-.054v4.127zm0-5.654v.011l.001.021.003.021.004.021.005.022.006.022.007.022.009.022.01.022.011.023.012.023.013.023.015.024.016.023.017.024.018.024.019.024.021.024.022.024.023.025.024.024.052.05.056.05.061.05.066.051.07.051.075.052.079.051.084.052.088.052.092.052.097.052.102.052.105.052.11.051.114.051.119.052.123.05.127.051.131.05.135.049.139.049.144.048.147.048.152.047.155.046.16.045.163.045.167.044.171.042.176.042.178.04.183.04.187.038.19.037.194.036.197.034.202.033.204.032.209.03.212.028.216.027.219.025.222.024.226.022.23.02.233.018.236.016.24.014.243.012.246.01.249.008.253.006.256.003.259.001.26-.001.257-.003.254-.006.25-.008.247-.01.244-.012.241-.015.237-.016.233-.018.231-.02.226-.022.224-.024.22-.025.216-.027.212-.029.21-.03.205-.032.202-.033.198-.035.194-.036.191-.037.187-.039.183-.039.179-.041.175-.042.172-.043.168-.044.163-.045.16-.045.155-.047.152-.047.148-.048.143-.048.139-.05.136-.049.131-.05.126-.051.123-.051.118-.051.114-.052.11-.052.106-.052.101-.052.096-.052.092-.052.088-.052.083-.052.079-.052.074-.051.07-.052.065-.051.06-.05.056-.051.051-.049.023-.025.023-.024.021-.025.02-.024.019-.024.018-.024.017-.024.015-.023.014-.023.013-.024.012-.022.01-.023.01-.023.008-.022.006-.022.006-.022.004-.021.004-.022.001-.021.001-.021v-4.139l-.077.054-.08.054-.083.054-.085.052-.087.053-.09.051-.093.051-.095.051-.097.05-.1.049-.102.049-.105.048-.106.047-.109.047-.111.046-.114.045-.115.044-.118.044-.12.044-.122.042-.124.042-.126.041-.128.04-.13.039-.132.039-.134.038-.135.037-.138.036-.139.036-.142.035-.143.033-.144.033-.147.033-.148.031-.15.03-.151.03-.153.028-.154.028-.156.027-.158.026-.159.025-.161.024-.162.023-.163.022-.165.021-.166.02-.167.019-.169.018-.169.017-.171.016-.173.015-.173.014-.175.013-.175.012-.177.011-.178.009-.179.009-.179.007-.181.007-.182.005-.182.004-.184.003-.184.002h-.37l-.184-.002-.184-.003-.182-.004-.182-.005-.181-.007-.179-.007-.179-.009-.178-.009-.176-.011-.176-.012-.175-.013-.173-.014-.172-.015-.171-.016-.17-.017-.169-.018-.167-.019-.166-.02-.165-.021-.163-.022-.162-.023-.161-.024-.159-.025-.157-.026-.156-.027-.155-.028-.153-.028-.151-.03-.15-.03-.148-.031-.146-.033-.145-.033-.143-.033-.141-.035-.14-.036-.137-.036-.136-.037-.134-.038-.132-.039-.13-.039-.128-.04-.126-.041-.124-.042-.122-.043-.12-.043-.117-.044-.116-.044-.113-.046-.112-.046-.109-.046-.106-.047-.105-.048-.102-.049-.1-.049-.097-.05-.095-.051-.093-.051-.09-.051-.087-.053-.085-.052-.083-.054-.08-.054-.077-.054v4.139zm0-5.666v.011l.001.02.003.022.004.021.005.022.006.021.007.022.009.023.01.022.011.023.012.023.013.023.015.023.016.024.017.024.018.023.019.024.021.025.022.024.023.024.024.025.052.05.056.05.061.05.066.051.07.051.075.052.079.051.084.052.088.052.092.052.097.052.102.052.105.051.11.052.114.051.119.051.123.051.127.05.131.05.135.05.139.049.144.048.147.048.152.047.155.046.16.045.163.045.167.043.171.043.176.042.178.04.183.04.187.038.19.037.194.036.197.034.202.033.204.032.209.03.212.028.216.027.219.025.222.024.226.021.23.02.233.018.236.017.24.014.243.012.246.01.249.008.253.006.256.003.259.001.26-.001.257-.003.254-.006.25-.008.247-.01.244-.013.241-.014.237-.016.233-.018.231-.02.226-.022.224-.024.22-.025.216-.027.212-.029.21-.03.205-.032.202-.033.198-.035.194-.036.191-.037.187-.039.183-.039.179-.041.175-.042.172-.043.168-.044.163-.045.16-.045.155-.047.152-.047.148-.048.143-.049.139-.049.136-.049.131-.051.126-.05.123-.051.118-.052.114-.051.11-.052.106-.052.101-.052.096-.052.092-.052.088-.052.083-.052.079-.052.074-.052.07-.051.065-.051.06-.051.056-.05.051-.049.023-.025.023-.025.021-.024.02-.024.019-.024.018-.024.017-.024.015-.023.014-.024.013-.023.012-.023.01-.022.01-.023.008-.022.006-.022.006-.022.004-.022.004-.021.001-.021.001-.021v-4.153l-.077.054-.08.054-.083.053-.085.053-.087.053-.09.051-.093.051-.095.051-.097.05-.1.049-.102.048-.105.048-.106.048-.109.046-.111.046-.114.046-.115.044-.118.044-.12.043-.122.043-.124.042-.126.041-.128.04-.13.039-.132.039-.134.038-.135.037-.138.036-.139.036-.142.034-.143.034-.144.033-.147.032-.148.032-.15.03-.151.03-.153.028-.154.028-.156.027-.158.026-.159.024-.161.024-.162.023-.163.023-.165.021-.166.02-.167.019-.169.018-.169.017-.171.016-.173.015-.173.014-.175.013-.175.012-.177.01-.178.01-.179.009-.179.007-.181.006-.182.006-.182.004-.184.003-.184.001-.185.001-.185-.001-.184-.001-.184-.003-.182-.004-.182-.006-.181-.006-.179-.007-.179-.009-.178-.01-.176-.01-.176-.012-.175-.013-.173-.014-.172-.015-.171-.016-.17-.017-.169-.018-.167-.019-.166-.02-.165-.021-.163-.023-.162-.023-.161-.024-.159-.024-.157-.026-.156-.027-.155-.028-.153-.028-.151-.03-.15-.03-.148-.032-.146-.032-.145-.033-.143-.034-.141-.034-.14-.036-.137-.036-.136-.037-.134-.038-.132-.039-.13-.039-.128-.041-.126-.041-.124-.041-.122-.043-.12-.043-.117-.044-.116-.044-.113-.046-.112-.046-.109-.046-.106-.048-.105-.048-.102-.048-.1-.05-.097-.049-.095-.051-.093-.051-.09-.052-.087-.052-.085-.053-.083-.053-.08-.054-.077-.054v4.153zm8.74-8.179l-.257.004-.254.005-.25.008-.247.011-.244.012-.241.014-.237.016-.233.018-.231.021-.226.022-.224.023-.22.026-.216.027-.212.028-.21.031-.205.032-.202.033-.198.034-.194.036-.191.038-.187.038-.183.04-.179.041-.175.042-.172.043-.168.043-.163.045-.16.046-.155.046-.152.048-.148.048-.143.048-.139.049-.136.05-.131.05-.126.051-.123.051-.118.051-.114.052-.11.052-.106.052-.101.052-.096.052-.092.052-.088.052-.083.052-.079.052-.074.051-.07.052-.065.051-.06.05-.056.05-.051.05-.023.025-.023.024-.021.024-.02.025-.019.024-.018.024-.017.023-.015.024-.014.023-.013.023-.012.023-.01.023-.01.022-.008.022-.006.023-.006.021-.004.022-.004.021-.001.021-.001.021.001.021.001.021.004.021.004.022.006.021.006.023.008.022.01.022.01.023.012.023.013.023.014.023.015.024.017.023.018.024.019.024.02.025.021.024.023.024.023.025.051.05.056.05.06.05.065.051.07.052.074.051.079.052.083.052.088.052.092.052.096.052.101.052.106.052.11.052.114.052.118.051.123.051.126.051.131.05.136.05.139.049.143.048.148.048.152.048.155.046.16.046.163.045.168.043.172.043.175.042.179.041.183.04.187.038.191.038.194.036.198.034.202.033.205.032.21.031.212.028.216.027.22.026.224.023.226.022.231.021.233.018.237.016.241.014.244.012.247.011.25.008.254.005.257.004.26.001.26-.001.257-.004.254-.005.25-.008.247-.011.244-.012.241-.014.237-.016.233-.018.231-.021.226-.022.224-.023.22-.026.216-.027.212-.028.21-.031.205-.032.202-.033.198-.034.194-.036.191-.038.187-.038.183-.04.179-.041.175-.042.172-.043.168-.043.163-.045.16-.046.155-.046.152-.048.148-.048.143-.048.139-.049.136-.05.131-.05.126-.051.123-.051.118-.051.114-.052.11-.052.106-.052.101-.052.096-.052.092-.052.088-.052.083-.052.079-.052.074-.051.07-.052.065-.051.06-.05.056-.05.051-.05.023-.025.023-.024.021-.024.02-.025.019-.024.018-.024.017-.023.015-.024.014-.023.013-.023.012-.023.01-.023.01-.022.008-.022.006-.023.006-.021.004-.022.004-.021.001-.021.001-.021-.001-.021-.001-.021-.004-.021-.004-.022-.006-.021-.006-.023-.008-.022-.01-.022-.01-.023-.012-.023-.013-.023-.014-.023-.015-.024-.017-.023-.018-.024-.019-.024-.02-.025-.021-.024-.023-.024-.023-.025-.051-.05-.056-.05-.06-.05-.065-.051-.07-.052-.074-.051-.079-.052-.083-.052-.088-.052-.092-.052-.096-.052-.101-.052-.106-.052-.11-.052-.114-.052-.118-.051-.123-.051-.126-.051-.131-.05-.136-.05-.139-.049-.143-.048-.148-.048-.152-.048-.155-.046-.16-.046-.163-.045-.168-.043-.172-.043-.175-.042-.179-.041-.183-.04-.187-.038-.191-.038-.194-.036-.198-.034-.202-.033-.205-.032-.21-.031-.212-.028-.216-.027-.22-.026-.224-.023-.226-.022-.231-.021-.233-.018-.237-.016-.241-.014-.244-.012-.247-.011-.25-.008-.254-.005-.257-.004-.26-.001-.26.001z\"/></symbol></defs><defs><symbol id=\"clock\" width=\"24\" height=\"24\"><path transform=\"scale(.5)\" d=\"M12 2c5.514 0 10 4.486 10 10s-4.486 10-10 10-10-4.486-10-10 4.486-10 10-10zm0-2c-6.627 0-12 5.373-12 12s5.373 12 12 12 12-5.373 12-12-5.373-12-12-12zm5.848 12.459c.202.038.202.333.001.372-1.907.361-6.045 1.111-6.547 1.111-.719 0-1.301-.582-1.301-1.301 0-.512.77-5.447 1.125-7.445.034-.192.312-.181.343.014l.985 6.238 5.394 1.011z\"/></symbol></defs><defs><marker id=\"arrowhead\" refX=\"7.9\" refY=\"5\" markerUnits=\"userSpaceOnUse\" markerWidth=\"12\" markerHeight=\"12\" orient=\"auto-start-reverse\"><path d=\"M -1 0 L 10 5 L 0 10 z\"/></marker></defs><defs><marker id=\"crosshead\" markerWidth=\"15\" markerHeight=\"8\" orient=\"auto\" refX=\"4\" refY=\"4.5\"><path fill=\"none\" stroke=\"#000000\" stroke-width=\"1pt\" d=\"M 1,2 L 6,7 M 6,2 L 1,7\" style=\"stroke-dasharray: 0, 0;\"/></marker></defs><defs><marker id=\"filled-head\" refX=\"15.5\" refY=\"7\" markerWidth=\"20\" markerHeight=\"28\" orient=\"auto\"><path d=\"M 18,7 L9,13 L14,7 L9,1 Z\"/></marker></defs><defs><marker id=\"sequencenumber\" refX=\"15\" refY=\"15\" markerWidth=\"60\" markerHeight=\"40\" orient=\"auto\"><circle cx=\"15\" cy=\"15\" r=\"6\"/></marker></defs><g><rect x=\"50\" y=\"75\" fill=\"#EDF2AE\" stroke=\"#666\" width=\"479\" height=\"37\" class=\"note\"/><text x=\"290\" y=\"80\" text-anchor=\"middle\" dominant-baseline=\"middle\" alignment-baseline=\"middle\" class=\"noteText\" dy=\"1em\" style=\"font-size: 16px; font-weight: 400;\"><tspan x=\"290\">Outbound Call</tspan></text></g><g><rect x=\"50\" y=\"346\" fill=\"#EDF2AE\" stroke=\"#666\" width=\"479\" height=\"37\" class=\"note\"/><text x=\"290\" y=\"351\" text-anchor=\"middle\" dominant-baseline=\"middle\" alignment-baseline=\"middle\" class=\"noteText\" dy=\"1em\" style=\"font-size: 16px; font-weight: 400;\"><tspan x=\"290\">Inbound Call</tspan></text></g><text x=\"188\" y=\"127\" text-anchor=\"middle\" dominant-baseline=\"middle\" alignment-baseline=\"middle\" class=\"messageText\" dy=\"1em\" style=\"font-size: 16px; font-weight: 400;\">Inicia chamada</text><line x1=\"76\" y1=\"156\" x2=\"300\" y2=\"156\" class=\"messageLine0\" stroke-width=\"2\" stroke=\"none\" marker-end=\"url(#arrowhead)\" style=\"fill: none;\"/><text x=\"403\" y=\"171\" text-anchor=\"middle\" dominant-baseline=\"middle\" alignment-baseline=\"middle\" class=\"messageText\" dy=\"1em\" style=\"font-size: 16px; font-weight: 400;\">Conecta chamada</text><line x1=\"305\" y1=\"200\" x2=\"500\" y2=\"200\" class=\"messageLine0\" stroke-width=\"2\" stroke=\"none\" marker-end=\"url(#arrowhead)\" style=\"fill: none;\"/><text x=\"191\" y=\"215\" text-anchor=\"middle\" dominant-baseline=\"middle\" alignment-baseline=\"middle\" class=\"messageText\" dy=\"1em\" style=\"font-size: 16px; font-weight: 400;\">Solicita TwiML</text><line x1=\"303\" y1=\"244\" x2=\"79\" y2=\"244\" class=\"messageLine0\" stroke-width=\"2\" stroke=\"none\" marker-end=\"url(#arrowhead)\" style=\"fill: none;\"/><text x=\"188\" y=\"259\" text-anchor=\"middle\" dominant-baseline=\"middle\" alignment-baseline=\"middle\" class=\"messageText\" dy=\"1em\" style=\"font-size: 16px; font-weight: 400;\">&lt;Say&gt;Mensagem&lt;/Say&gt;</text><line x1=\"76\" y1=\"290\" x2=\"300\" y2=\"290\" class=\"messageLine1\" stroke-width=\"2\" stroke=\"none\" marker-end=\"url(#arrowhead)\" style=\"stroke-dasharray: 3, 3; fill: none;\"/><text x=\"403\" y=\"305\" text-anchor=\"middle\" dominant-baseline=\"middle\" alignment-baseline=\"middle\" class=\"messageText\" dy=\"1em\" style=\"font-size: 16px; font-weight: 400;\">Vocaliza mensagem</text><line x1=\"305\" y1=\"336\" x2=\"500\" y2=\"336\" class=\"messageLine1\" stroke-width=\"2\" stroke=\"none\" marker-end=\"url(#arrowhead)\" style=\"stroke-dasharray: 3, 3; fill: none;\"/><text x=\"406\" y=\"398\" text-anchor=\"middle\" dominant-baseline=\"middle\" alignment-baseline=\"middle\" class=\"messageText\" dy=\"1em\" style=\"font-size: 16px; font-weight: 400;\">Liga para número</text><line x1=\"503\" y1=\"429\" x2=\"308\" y2=\"429\" class=\"messageLine0\" stroke-width=\"2\" stroke=\"none\" marker-end=\"url(#arrowhead)\" style=\"fill: none;\"/><text x=\"191\" y=\"444\" text-anchor=\"middle\" dominant-baseline=\"middle\" alignment-baseline=\"middle\" class=\"messageText\" dy=\"1em\" style=\"font-size: 16px; font-weight: 400;\">Solicita TwiML</text><line x1=\"303\" y1=\"473\" x2=\"79\" y2=\"473\" class=\"messageLine0\" stroke-width=\"2\" stroke=\"none\" marker-end=\"url(#arrowhead)\" style=\"fill: none;\"/><text x=\"188\" y=\"488\" text-anchor=\"middle\" dominant-baseline=\"middle\" alignment-baseline=\"middle\" class=\"messageText\" dy=\"1em\" style=\"font-size: 16px; font-weight: 400;\">&lt;Say&gt;Mensagem&lt;/Say&gt;</text><line x1=\"76\" y1=\"519\" x2=\"300\" y2=\"519\" class=\"messageLine1\" stroke-width=\"2\" stroke=\"none\" marker-end=\"url(#arrowhead)\" style=\"stroke-dasharray: 3, 3; fill: none;\"/><text x=\"403\" y=\"534\" text-anchor=\"middle\" dominant-baseline=\"middle\" alignment-baseline=\"middle\" class=\"messageText\" dy=\"1em\" style=\"font-size: 16px; font-weight: 400;\">Vocaliza mensagem</text><line x1=\"305\" y1=\"565\" x2=\"500\" y2=\"565\" class=\"messageLine1\" stroke-width=\"2\" stroke=\"none\" marker-end=\"url(#arrowhead)\" style=\"stroke-dasharray: 3, 3; fill: none;\"/></svg>"
      ],
      "text/plain": [
       "<mermaid.__main__.Mermaid at 0x10a817250>"
      ]
     },
     "metadata": {},
     "output_type": "display_data"
    }
   ],
   "source": [
    "from IPython.display import display\n",
    "from mermaid import Mermaid\n",
    "\n",
    "say_diagram = \"\"\"\n",
    "%%{init: {\n",
    "  \"theme\": \"base\",\n",
    "  \"themeVariables\": {\n",
    "    \"background\": \"#0B0D17\",\n",
    "    \"primaryColor\": \"#12284C\",\n",
    "    \"primaryBorderColor\": \"#661847\",\n",
    "    \"primaryTextColor\": \"#FFFFFF\",\n",
    "    \"tertiaryColor\": \"#0DC5FB\",\n",
    "    \"tertiaryBorderColor\": \"#0B3D91\",\n",
    "    \"tertiaryTextColor\": \"#FFFFFF\",\n",
    "    \"noteBkgColor\": \"#4B0082\",\n",
    "    \"noteTextColor\": \"#FFFFFF\",\n",
    "    \"clusterBkg\": \"#0B0D17\",\n",
    "    \"clusterBorder\": \"#1D1F2B\"\n",
    "  }\n",
    "}}%%\n",
    "\n",
    "sequenceDiagram\n",
    "    participant App as Seu App\n",
    "    participant Twilio as Twilio Voice API\n",
    "    participant User as Usuário Final\n",
    "\n",
    "    Note over App,User: Outbound Call\n",
    "    App->>Twilio: Inicia chamada\n",
    "    Twilio->>User: Conecta chamada\n",
    "    Twilio->>App: Solicita TwiML\n",
    "    App-->>Twilio: <Say>Mensagem</Say>\n",
    "    Twilio-->>User: Vocaliza mensagem\n",
    "\n",
    "    Note over User,App: Inbound Call\n",
    "    User->>Twilio: Liga para número\n",
    "    Twilio->>App: Solicita TwiML\n",
    "    App-->>Twilio: <Say>Mensagem</Say>\n",
    "    Twilio-->>User: Vocaliza mensagem\n",
    "\"\"\"\n",
    "\n",
    "display(Mermaid(say_diagram))\n"
   ]
  },
  {
   "cell_type": "markdown",
   "id": "c6b9f7e5",
   "metadata": {
    "slideshow": {
     "slide_type": "subslide"
    }
   },
   "source": [
    "#### TwiML `<Say>` \n",
    "Text to Speech (TTS)"
   ]
  },
  {
   "cell_type": "code",
   "execution_count": null,
   "id": "7e937e6d",
   "metadata": {
    "vscode": {
     "languageId": "xml"
    }
   },
   "outputs": [],
   "source": [
    "# SAY\n",
    "\n",
    "<Response>\n",
    "  <Say language=\"fr-FR\">Bonjour!</Say>\n",
    "</Response>"
   ]
  },
  {
   "cell_type": "code",
   "execution_count": 20,
   "id": "45b80d3b",
   "metadata": {
    "vscode": {
     "languageId": "xml"
    }
   },
   "outputs": [],
   "source": [
    "twiml_gather = \"\"\"\n",
    "    sequenceDiagram\n",
    "    participant App as Seu App\n",
    "    participant Twilio as Twilio Voice API\n",
    "    participant User as Usuário Final\n",
    "\n",
    "    Note over App,User: Outbound Call\n",
    "    App->>Twilio: Inicia chamada (API Call)\n",
    "    Twilio->>User: Conecta chamada\n",
    "    Twilio->>App: Solicita instruções TwiML\n",
    "    App-->>Twilio: <Gather>...</Gather>\n",
    "    Twilio-->>User: Reproduz prompt e aguarda resposta\n",
    "    User-->>Twilio: Responde (fala ou DTMF)\n",
    "    Twilio-->>App: Envia dados capturados (STT/DTMF)\n",
    "\n",
    "    Note over User,App: Inbound Call\n",
    "    User->>Twilio: Liga para seu número\n",
    "    Twilio->>App: Solicita instruções TwiML\n",
    "    App-->>Twilio: <Gather>...</Gather>\n",
    "    Twilio-->>User: Reproduz prompt e aguarda resposta\n",
    "    User-->>Twilio: Responde (fala ou DTMF)\n",
    "    Twilio-->>App: Envia dados capturados (STT/DTMF)\n",
    "\"\"\""
   ]
  },
  {
   "cell_type": "markdown",
   "id": "1caac3d9",
   "metadata": {
    "slideshow": {
     "slide_type": "subslide"
    }
   },
   "source": [
    "#### TwiML `<Gather>` \n",
    "\n",
    "** Real-time transcription (speech to text  or STT) and digits input (DTMF)"
   ]
  },
  {
   "cell_type": "code",
   "execution_count": null,
   "id": "309b439c",
   "metadata": {
    "vscode": {
     "languageId": "xml"
    }
   },
   "outputs": [],
   "source": [
    "# GATHER\n",
    "\n",
    "<Response>\n",
    "\n",
    "  <Gather input=\"speech dtmf\" finishOnKey=\"#\" timeout=\"5\">\n",
    "    <Say>\n",
    "      Please say something or press * to access the main menu\n",
    "    </Say>\n",
    "  </Gather>\n",
    "\n",
    "  <Say>We didn't receive any input. Goodbye!</Say>\n",
    "  \n",
    "</Response>"
   ]
  },
  {
   "cell_type": "code",
   "execution_count": 21,
   "id": "81c05704",
   "metadata": {
    "slideshow": {
     "slide_type": "subslide"
    },
    "vscode": {
     "languageId": "xml"
    }
   },
   "outputs": [
    {
     "data": {
      "text/html": [
       "<svg id=\"mermaid-svg\" width=\"100%\" xmlns=\"http://www.w3.org/2000/svg\" style=\"max-width: 739px;\" viewBox=\"-50 -10 739 851\" role=\"graphics-document document\" aria-roledescription=\"sequence\" xmlns:xlink=\"http://www.w3.org/1999/xlink\"><style xmlns=\"http://www.w3.org/1999/xhtml\">@import url(\"https://cdnjs.cloudflare.com/ajax/libs/font-awesome/6.7.2/css/all.min.css\");</style><g><rect x=\"489\" y=\"765\" fill=\"#eaeaea\" stroke=\"#666\" width=\"150\" height=\"65\" name=\"User\" rx=\"3\" ry=\"3\" class=\"actor actor-bottom\"/><text x=\"564\" y=\"797.5\" dominant-baseline=\"central\" alignment-baseline=\"central\" class=\"actor actor-box\" style=\"text-anchor: middle; font-size: 16px; font-weight: 400;\"><tspan x=\"564\" dy=\"0\">Usuário Final</tspan></text></g><g><rect x=\"235\" y=\"765\" fill=\"#eaeaea\" stroke=\"#666\" width=\"150\" height=\"65\" name=\"Twilio\" rx=\"3\" ry=\"3\" class=\"actor actor-bottom\"/><text x=\"310\" y=\"797.5\" dominant-baseline=\"central\" alignment-baseline=\"central\" class=\"actor actor-box\" style=\"text-anchor: middle; font-size: 16px; font-weight: 400;\"><tspan x=\"310\" dy=\"0\">Twilio Voice API</tspan></text></g><g><rect x=\"0\" y=\"765\" fill=\"#eaeaea\" stroke=\"#666\" width=\"150\" height=\"65\" name=\"App\" rx=\"3\" ry=\"3\" class=\"actor actor-bottom\"/><text x=\"75\" y=\"797.5\" dominant-baseline=\"central\" alignment-baseline=\"central\" class=\"actor actor-box\" style=\"text-anchor: middle; font-size: 16px; font-weight: 400;\"><tspan x=\"75\" dy=\"0\">Seu App</tspan></text></g><g><line id=\"actor2\" x1=\"564\" y1=\"65\" x2=\"564\" y2=\"765\" class=\"actor-line 200\" stroke-width=\"0.5px\" stroke=\"#999\" name=\"User\"/><g id=\"root-2\"><rect x=\"489\" y=\"0\" fill=\"#eaeaea\" stroke=\"#666\" width=\"150\" height=\"65\" name=\"User\" rx=\"3\" ry=\"3\" class=\"actor actor-top\"/><text x=\"564\" y=\"32.5\" dominant-baseline=\"central\" alignment-baseline=\"central\" class=\"actor actor-box\" style=\"text-anchor: middle; font-size: 16px; font-weight: 400;\"><tspan x=\"564\" dy=\"0\">Usuário Final</tspan></text></g></g><g><line id=\"actor1\" x1=\"310\" y1=\"65\" x2=\"310\" y2=\"765\" class=\"actor-line 200\" stroke-width=\"0.5px\" stroke=\"#999\" name=\"Twilio\"/><g id=\"root-1\"><rect x=\"235\" y=\"0\" fill=\"#eaeaea\" stroke=\"#666\" width=\"150\" height=\"65\" name=\"Twilio\" rx=\"3\" ry=\"3\" class=\"actor actor-top\"/><text x=\"310\" y=\"32.5\" dominant-baseline=\"central\" alignment-baseline=\"central\" class=\"actor actor-box\" style=\"text-anchor: middle; font-size: 16px; font-weight: 400;\"><tspan x=\"310\" dy=\"0\">Twilio Voice API</tspan></text></g></g><g><line id=\"actor0\" x1=\"75\" y1=\"65\" x2=\"75\" y2=\"765\" class=\"actor-line 200\" stroke-width=\"0.5px\" stroke=\"#999\" name=\"App\"/><g id=\"root-0\"><rect x=\"0\" y=\"0\" fill=\"#eaeaea\" stroke=\"#666\" width=\"150\" height=\"65\" name=\"App\" rx=\"3\" ry=\"3\" class=\"actor actor-top\"/><text x=\"75\" y=\"32.5\" dominant-baseline=\"central\" alignment-baseline=\"central\" class=\"actor actor-box\" style=\"text-anchor: middle; font-size: 16px; font-weight: 400;\"><tspan x=\"75\" dy=\"0\">Seu App</tspan></text></g></g><style>#mermaid-svg{font-family:\"trebuchet ms\",verdana,arial,sans-serif;font-size:16px;fill:#FFFFFF;}@keyframes edge-animation-frame{from{stroke-dashoffset:0;}}@keyframes dash{to{stroke-dashoffset:0;}}#mermaid-svg .edge-animation-slow{stroke-dasharray:9,5!important;stroke-dashoffset:900;animation:dash 50s linear infinite;stroke-linecap:round;}#mermaid-svg .edge-animation-fast{stroke-dasharray:9,5!important;stroke-dashoffset:900;animation:dash 20s linear infinite;stroke-linecap:round;}#mermaid-svg .error-icon{fill:#0DC5FB;}#mermaid-svg .error-text{fill:#FFFFFF;stroke:#FFFFFF;}#mermaid-svg .edge-thickness-normal{stroke-width:1px;}#mermaid-svg .edge-thickness-thick{stroke-width:3.5px;}#mermaid-svg .edge-pattern-solid{stroke-dasharray:0;}#mermaid-svg .edge-thickness-invisible{stroke-width:0;fill:none;}#mermaid-svg .edge-pattern-dashed{stroke-dasharray:3;}#mermaid-svg .edge-pattern-dotted{stroke-dasharray:2;}#mermaid-svg .marker{fill:#f4f2e8;stroke:#f4f2e8;}#mermaid-svg .marker.cross{stroke:#f4f2e8;}#mermaid-svg svg{font-family:\"trebuchet ms\",verdana,arial,sans-serif;font-size:16px;}#mermaid-svg p{margin:0;}#mermaid-svg .actor{stroke:#661847;fill:#12284C;}#mermaid-svg text.actor&gt;tspan{fill:#FFFFFF;stroke:none;}#mermaid-svg .actor-line{stroke:#661847;}#mermaid-svg .messageLine0{stroke-width:1.5;stroke-dasharray:none;stroke:#FFFFFF;}#mermaid-svg .messageLine1{stroke-width:1.5;stroke-dasharray:2,2;stroke:#FFFFFF;}#mermaid-svg #arrowhead path{fill:#FFFFFF;stroke:#FFFFFF;}#mermaid-svg .sequenceNumber{fill:#0b0d17;}#mermaid-svg #sequencenumber{fill:#FFFFFF;}#mermaid-svg #crosshead path{fill:#FFFFFF;stroke:#FFFFFF;}#mermaid-svg .messageText{fill:#FFFFFF;stroke:none;}#mermaid-svg .labelBox{stroke:#661847;fill:#12284C;}#mermaid-svg .labelText,#mermaid-svg .labelText&gt;tspan{fill:#FFFFFF;stroke:none;}#mermaid-svg .loopText,#mermaid-svg .loopText&gt;tspan{fill:#FFFFFF;stroke:none;}#mermaid-svg .loopLine{stroke-width:2px;stroke-dasharray:2,2;stroke:#661847;fill:#661847;}#mermaid-svg .note{stroke:hsl(274.6153846154, 60%, 15.4901960784%);fill:#4B0082;}#mermaid-svg .noteText,#mermaid-svg .noteText&gt;tspan{fill:#FFFFFF;stroke:none;}#mermaid-svg .activation0{fill:hsl(97.2413793103, 61.7021276596%, 18.431372549%);stroke:hsl(97.2413793103, 61.7021276596%, 8.431372549%);}#mermaid-svg .activation1{fill:hsl(97.2413793103, 61.7021276596%, 18.431372549%);stroke:hsl(97.2413793103, 61.7021276596%, 8.431372549%);}#mermaid-svg .activation2{fill:hsl(97.2413793103, 61.7021276596%, 18.431372549%);stroke:hsl(97.2413793103, 61.7021276596%, 8.431372549%);}#mermaid-svg .actorPopupMenu{position:absolute;}#mermaid-svg .actorPopupMenuPanel{position:absolute;fill:#12284C;box-shadow:0px 8px 16px 0px rgba(0,0,0,0.2);filter:drop-shadow(3px 5px 2px rgb(0 0 0 / 0.4));}#mermaid-svg .actor-man line{stroke:#661847;fill:#12284C;}#mermaid-svg .actor-man circle,#mermaid-svg line{stroke:#661847;fill:#12284C;stroke-width:2px;}#mermaid-svg :root{--mermaid-font-family:\"trebuchet ms\",verdana,arial,sans-serif;}</style><g/><defs><symbol id=\"computer\" width=\"24\" height=\"24\"><path transform=\"scale(.5)\" d=\"M2 2v13h20v-13h-20zm18 11h-16v-9h16v9zm-10.228 6l.466-1h3.524l.467 1h-4.457zm14.228 3h-24l2-6h2.104l-1.33 4h18.45l-1.297-4h2.073l2 6zm-5-10h-14v-7h14v7z\"/></symbol></defs><defs><symbol id=\"database\" fill-rule=\"evenodd\" clip-rule=\"evenodd\"><path transform=\"scale(.5)\" d=\"M12.258.001l.256.004.255.005.253.008.251.01.249.012.247.015.246.016.242.019.241.02.239.023.236.024.233.027.231.028.229.031.225.032.223.034.22.036.217.038.214.04.211.041.208.043.205.045.201.046.198.048.194.05.191.051.187.053.183.054.18.056.175.057.172.059.168.06.163.061.16.063.155.064.15.066.074.033.073.033.071.034.07.034.069.035.068.035.067.035.066.035.064.036.064.036.062.036.06.036.06.037.058.037.058.037.055.038.055.038.053.038.052.038.051.039.05.039.048.039.047.039.045.04.044.04.043.04.041.04.04.041.039.041.037.041.036.041.034.041.033.042.032.042.03.042.029.042.027.042.026.043.024.043.023.043.021.043.02.043.018.044.017.043.015.044.013.044.012.044.011.045.009.044.007.045.006.045.004.045.002.045.001.045v17l-.001.045-.002.045-.004.045-.006.045-.007.045-.009.044-.011.045-.012.044-.013.044-.015.044-.017.043-.018.044-.02.043-.021.043-.023.043-.024.043-.026.043-.027.042-.029.042-.03.042-.032.042-.033.042-.034.041-.036.041-.037.041-.039.041-.04.041-.041.04-.043.04-.044.04-.045.04-.047.039-.048.039-.05.039-.051.039-.052.038-.053.038-.055.038-.055.038-.058.037-.058.037-.06.037-.06.036-.062.036-.064.036-.064.036-.066.035-.067.035-.068.035-.069.035-.07.034-.071.034-.073.033-.074.033-.15.066-.155.064-.16.063-.163.061-.168.06-.172.059-.175.057-.18.056-.183.054-.187.053-.191.051-.194.05-.198.048-.201.046-.205.045-.208.043-.211.041-.214.04-.217.038-.22.036-.223.034-.225.032-.229.031-.231.028-.233.027-.236.024-.239.023-.241.02-.242.019-.246.016-.247.015-.249.012-.251.01-.253.008-.255.005-.256.004-.258.001-.258-.001-.256-.004-.255-.005-.253-.008-.251-.01-.249-.012-.247-.015-.245-.016-.243-.019-.241-.02-.238-.023-.236-.024-.234-.027-.231-.028-.228-.031-.226-.032-.223-.034-.22-.036-.217-.038-.214-.04-.211-.041-.208-.043-.204-.045-.201-.046-.198-.048-.195-.05-.19-.051-.187-.053-.184-.054-.179-.056-.176-.057-.172-.059-.167-.06-.164-.061-.159-.063-.155-.064-.151-.066-.074-.033-.072-.033-.072-.034-.07-.034-.069-.035-.068-.035-.067-.035-.066-.035-.064-.036-.063-.036-.062-.036-.061-.036-.06-.037-.058-.037-.057-.037-.056-.038-.055-.038-.053-.038-.052-.038-.051-.039-.049-.039-.049-.039-.046-.039-.046-.04-.044-.04-.043-.04-.041-.04-.04-.041-.039-.041-.037-.041-.036-.041-.034-.041-.033-.042-.032-.042-.03-.042-.029-.042-.027-.042-.026-.043-.024-.043-.023-.043-.021-.043-.02-.043-.018-.044-.017-.043-.015-.044-.013-.044-.012-.044-.011-.045-.009-.044-.007-.045-.006-.045-.004-.045-.002-.045-.001-.045v-17l.001-.045.002-.045.004-.045.006-.045.007-.045.009-.044.011-.045.012-.044.013-.044.015-.044.017-.043.018-.044.02-.043.021-.043.023-.043.024-.043.026-.043.027-.042.029-.042.03-.042.032-.042.033-.042.034-.041.036-.041.037-.041.039-.041.04-.041.041-.04.043-.04.044-.04.046-.04.046-.039.049-.039.049-.039.051-.039.052-.038.053-.038.055-.038.056-.038.057-.037.058-.037.06-.037.061-.036.062-.036.063-.036.064-.036.066-.035.067-.035.068-.035.069-.035.07-.034.072-.034.072-.033.074-.033.151-.066.155-.064.159-.063.164-.061.167-.06.172-.059.176-.057.179-.056.184-.054.187-.053.19-.051.195-.05.198-.048.201-.046.204-.045.208-.043.211-.041.214-.04.217-.038.22-.036.223-.034.226-.032.228-.031.231-.028.234-.027.236-.024.238-.023.241-.02.243-.019.245-.016.247-.015.249-.012.251-.01.253-.008.255-.005.256-.004.258-.001.258.001zm-9.258 20.499v.01l.001.021.003.021.004.022.005.021.006.022.007.022.009.023.01.022.011.023.012.023.013.023.015.023.016.024.017.023.018.024.019.024.021.024.022.025.023.024.024.025.052.049.056.05.061.051.066.051.07.051.075.051.079.052.084.052.088.052.092.052.097.052.102.051.105.052.11.052.114.051.119.051.123.051.127.05.131.05.135.05.139.048.144.049.147.047.152.047.155.047.16.045.163.045.167.043.171.043.176.041.178.041.183.039.187.039.19.037.194.035.197.035.202.033.204.031.209.03.212.029.216.027.219.025.222.024.226.021.23.02.233.018.236.016.24.015.243.012.246.01.249.008.253.005.256.004.259.001.26-.001.257-.004.254-.005.25-.008.247-.011.244-.012.241-.014.237-.016.233-.018.231-.021.226-.021.224-.024.22-.026.216-.027.212-.028.21-.031.205-.031.202-.034.198-.034.194-.036.191-.037.187-.039.183-.04.179-.04.175-.042.172-.043.168-.044.163-.045.16-.046.155-.046.152-.047.148-.048.143-.049.139-.049.136-.05.131-.05.126-.05.123-.051.118-.052.114-.051.11-.052.106-.052.101-.052.096-.052.092-.052.088-.053.083-.051.079-.052.074-.052.07-.051.065-.051.06-.051.056-.05.051-.05.023-.024.023-.025.021-.024.02-.024.019-.024.018-.024.017-.024.015-.023.014-.024.013-.023.012-.023.01-.023.01-.022.008-.022.006-.022.006-.022.004-.022.004-.021.001-.021.001-.021v-4.127l-.077.055-.08.053-.083.054-.085.053-.087.052-.09.052-.093.051-.095.05-.097.05-.1.049-.102.049-.105.048-.106.047-.109.047-.111.046-.114.045-.115.045-.118.044-.12.043-.122.042-.124.042-.126.041-.128.04-.13.04-.132.038-.134.038-.135.037-.138.037-.139.035-.142.035-.143.034-.144.033-.147.032-.148.031-.15.03-.151.03-.153.029-.154.027-.156.027-.158.026-.159.025-.161.024-.162.023-.163.022-.165.021-.166.02-.167.019-.169.018-.169.017-.171.016-.173.015-.173.014-.175.013-.175.012-.177.011-.178.01-.179.008-.179.008-.181.006-.182.005-.182.004-.184.003-.184.002h-.37l-.184-.002-.184-.003-.182-.004-.182-.005-.181-.006-.179-.008-.179-.008-.178-.01-.176-.011-.176-.012-.175-.013-.173-.014-.172-.015-.171-.016-.17-.017-.169-.018-.167-.019-.166-.02-.165-.021-.163-.022-.162-.023-.161-.024-.159-.025-.157-.026-.156-.027-.155-.027-.153-.029-.151-.03-.15-.03-.148-.031-.146-.032-.145-.033-.143-.034-.141-.035-.14-.035-.137-.037-.136-.037-.134-.038-.132-.038-.13-.04-.128-.04-.126-.041-.124-.042-.122-.042-.12-.044-.117-.043-.116-.045-.113-.045-.112-.046-.109-.047-.106-.047-.105-.048-.102-.049-.1-.049-.097-.05-.095-.05-.093-.052-.09-.051-.087-.052-.085-.053-.083-.054-.08-.054-.077-.054v4.127zm0-5.654v.011l.001.021.003.021.004.021.005.022.006.022.007.022.009.022.01.022.011.023.012.023.013.023.015.024.016.023.017.024.018.024.019.024.021.024.022.024.023.025.024.024.052.05.056.05.061.05.066.051.07.051.075.052.079.051.084.052.088.052.092.052.097.052.102.052.105.052.11.051.114.051.119.052.123.05.127.051.131.05.135.049.139.049.144.048.147.048.152.047.155.046.16.045.163.045.167.044.171.042.176.042.178.04.183.04.187.038.19.037.194.036.197.034.202.033.204.032.209.03.212.028.216.027.219.025.222.024.226.022.23.02.233.018.236.016.24.014.243.012.246.01.249.008.253.006.256.003.259.001.26-.001.257-.003.254-.006.25-.008.247-.01.244-.012.241-.015.237-.016.233-.018.231-.02.226-.022.224-.024.22-.025.216-.027.212-.029.21-.03.205-.032.202-.033.198-.035.194-.036.191-.037.187-.039.183-.039.179-.041.175-.042.172-.043.168-.044.163-.045.16-.045.155-.047.152-.047.148-.048.143-.048.139-.05.136-.049.131-.05.126-.051.123-.051.118-.051.114-.052.11-.052.106-.052.101-.052.096-.052.092-.052.088-.052.083-.052.079-.052.074-.051.07-.052.065-.051.06-.05.056-.051.051-.049.023-.025.023-.024.021-.025.02-.024.019-.024.018-.024.017-.024.015-.023.014-.023.013-.024.012-.022.01-.023.01-.023.008-.022.006-.022.006-.022.004-.021.004-.022.001-.021.001-.021v-4.139l-.077.054-.08.054-.083.054-.085.052-.087.053-.09.051-.093.051-.095.051-.097.05-.1.049-.102.049-.105.048-.106.047-.109.047-.111.046-.114.045-.115.044-.118.044-.12.044-.122.042-.124.042-.126.041-.128.04-.13.039-.132.039-.134.038-.135.037-.138.036-.139.036-.142.035-.143.033-.144.033-.147.033-.148.031-.15.03-.151.03-.153.028-.154.028-.156.027-.158.026-.159.025-.161.024-.162.023-.163.022-.165.021-.166.02-.167.019-.169.018-.169.017-.171.016-.173.015-.173.014-.175.013-.175.012-.177.011-.178.009-.179.009-.179.007-.181.007-.182.005-.182.004-.184.003-.184.002h-.37l-.184-.002-.184-.003-.182-.004-.182-.005-.181-.007-.179-.007-.179-.009-.178-.009-.176-.011-.176-.012-.175-.013-.173-.014-.172-.015-.171-.016-.17-.017-.169-.018-.167-.019-.166-.02-.165-.021-.163-.022-.162-.023-.161-.024-.159-.025-.157-.026-.156-.027-.155-.028-.153-.028-.151-.03-.15-.03-.148-.031-.146-.033-.145-.033-.143-.033-.141-.035-.14-.036-.137-.036-.136-.037-.134-.038-.132-.039-.13-.039-.128-.04-.126-.041-.124-.042-.122-.043-.12-.043-.117-.044-.116-.044-.113-.046-.112-.046-.109-.046-.106-.047-.105-.048-.102-.049-.1-.049-.097-.05-.095-.051-.093-.051-.09-.051-.087-.053-.085-.052-.083-.054-.08-.054-.077-.054v4.139zm0-5.666v.011l.001.02.003.022.004.021.005.022.006.021.007.022.009.023.01.022.011.023.012.023.013.023.015.023.016.024.017.024.018.023.019.024.021.025.022.024.023.024.024.025.052.05.056.05.061.05.066.051.07.051.075.052.079.051.084.052.088.052.092.052.097.052.102.052.105.051.11.052.114.051.119.051.123.051.127.05.131.05.135.05.139.049.144.048.147.048.152.047.155.046.16.045.163.045.167.043.171.043.176.042.178.04.183.04.187.038.19.037.194.036.197.034.202.033.204.032.209.03.212.028.216.027.219.025.222.024.226.021.23.02.233.018.236.017.24.014.243.012.246.01.249.008.253.006.256.003.259.001.26-.001.257-.003.254-.006.25-.008.247-.01.244-.013.241-.014.237-.016.233-.018.231-.02.226-.022.224-.024.22-.025.216-.027.212-.029.21-.03.205-.032.202-.033.198-.035.194-.036.191-.037.187-.039.183-.039.179-.041.175-.042.172-.043.168-.044.163-.045.16-.045.155-.047.152-.047.148-.048.143-.049.139-.049.136-.049.131-.051.126-.05.123-.051.118-.052.114-.051.11-.052.106-.052.101-.052.096-.052.092-.052.088-.052.083-.052.079-.052.074-.052.07-.051.065-.051.06-.051.056-.05.051-.049.023-.025.023-.025.021-.024.02-.024.019-.024.018-.024.017-.024.015-.023.014-.024.013-.023.012-.023.01-.022.01-.023.008-.022.006-.022.006-.022.004-.022.004-.021.001-.021.001-.021v-4.153l-.077.054-.08.054-.083.053-.085.053-.087.053-.09.051-.093.051-.095.051-.097.05-.1.049-.102.048-.105.048-.106.048-.109.046-.111.046-.114.046-.115.044-.118.044-.12.043-.122.043-.124.042-.126.041-.128.04-.13.039-.132.039-.134.038-.135.037-.138.036-.139.036-.142.034-.143.034-.144.033-.147.032-.148.032-.15.03-.151.03-.153.028-.154.028-.156.027-.158.026-.159.024-.161.024-.162.023-.163.023-.165.021-.166.02-.167.019-.169.018-.169.017-.171.016-.173.015-.173.014-.175.013-.175.012-.177.01-.178.01-.179.009-.179.007-.181.006-.182.006-.182.004-.184.003-.184.001-.185.001-.185-.001-.184-.001-.184-.003-.182-.004-.182-.006-.181-.006-.179-.007-.179-.009-.178-.01-.176-.01-.176-.012-.175-.013-.173-.014-.172-.015-.171-.016-.17-.017-.169-.018-.167-.019-.166-.02-.165-.021-.163-.023-.162-.023-.161-.024-.159-.024-.157-.026-.156-.027-.155-.028-.153-.028-.151-.03-.15-.03-.148-.032-.146-.032-.145-.033-.143-.034-.141-.034-.14-.036-.137-.036-.136-.037-.134-.038-.132-.039-.13-.039-.128-.041-.126-.041-.124-.041-.122-.043-.12-.043-.117-.044-.116-.044-.113-.046-.112-.046-.109-.046-.106-.048-.105-.048-.102-.048-.1-.05-.097-.049-.095-.051-.093-.051-.09-.052-.087-.052-.085-.053-.083-.053-.08-.054-.077-.054v4.153zm8.74-8.179l-.257.004-.254.005-.25.008-.247.011-.244.012-.241.014-.237.016-.233.018-.231.021-.226.022-.224.023-.22.026-.216.027-.212.028-.21.031-.205.032-.202.033-.198.034-.194.036-.191.038-.187.038-.183.04-.179.041-.175.042-.172.043-.168.043-.163.045-.16.046-.155.046-.152.048-.148.048-.143.048-.139.049-.136.05-.131.05-.126.051-.123.051-.118.051-.114.052-.11.052-.106.052-.101.052-.096.052-.092.052-.088.052-.083.052-.079.052-.074.051-.07.052-.065.051-.06.05-.056.05-.051.05-.023.025-.023.024-.021.024-.02.025-.019.024-.018.024-.017.023-.015.024-.014.023-.013.023-.012.023-.01.023-.01.022-.008.022-.006.023-.006.021-.004.022-.004.021-.001.021-.001.021.001.021.001.021.004.021.004.022.006.021.006.023.008.022.01.022.01.023.012.023.013.023.014.023.015.024.017.023.018.024.019.024.02.025.021.024.023.024.023.025.051.05.056.05.06.05.065.051.07.052.074.051.079.052.083.052.088.052.092.052.096.052.101.052.106.052.11.052.114.052.118.051.123.051.126.051.131.05.136.05.139.049.143.048.148.048.152.048.155.046.16.046.163.045.168.043.172.043.175.042.179.041.183.04.187.038.191.038.194.036.198.034.202.033.205.032.21.031.212.028.216.027.22.026.224.023.226.022.231.021.233.018.237.016.241.014.244.012.247.011.25.008.254.005.257.004.26.001.26-.001.257-.004.254-.005.25-.008.247-.011.244-.012.241-.014.237-.016.233-.018.231-.021.226-.022.224-.023.22-.026.216-.027.212-.028.21-.031.205-.032.202-.033.198-.034.194-.036.191-.038.187-.038.183-.04.179-.041.175-.042.172-.043.168-.043.163-.045.16-.046.155-.046.152-.048.148-.048.143-.048.139-.049.136-.05.131-.05.126-.051.123-.051.118-.051.114-.052.11-.052.106-.052.101-.052.096-.052.092-.052.088-.052.083-.052.079-.052.074-.051.07-.052.065-.051.06-.05.056-.05.051-.05.023-.025.023-.024.021-.024.02-.025.019-.024.018-.024.017-.023.015-.024.014-.023.013-.023.012-.023.01-.023.01-.022.008-.022.006-.023.006-.021.004-.022.004-.021.001-.021.001-.021-.001-.021-.001-.021-.004-.021-.004-.022-.006-.021-.006-.023-.008-.022-.01-.022-.01-.023-.012-.023-.013-.023-.014-.023-.015-.024-.017-.023-.018-.024-.019-.024-.02-.025-.021-.024-.023-.024-.023-.025-.051-.05-.056-.05-.06-.05-.065-.051-.07-.052-.074-.051-.079-.052-.083-.052-.088-.052-.092-.052-.096-.052-.101-.052-.106-.052-.11-.052-.114-.052-.118-.051-.123-.051-.126-.051-.131-.05-.136-.05-.139-.049-.143-.048-.148-.048-.152-.048-.155-.046-.16-.046-.163-.045-.168-.043-.172-.043-.175-.042-.179-.041-.183-.04-.187-.038-.191-.038-.194-.036-.198-.034-.202-.033-.205-.032-.21-.031-.212-.028-.216-.027-.22-.026-.224-.023-.226-.022-.231-.021-.233-.018-.237-.016-.241-.014-.244-.012-.247-.011-.25-.008-.254-.005-.257-.004-.26-.001-.26.001z\"/></symbol></defs><defs><symbol id=\"clock\" width=\"24\" height=\"24\"><path transform=\"scale(.5)\" d=\"M12 2c5.514 0 10 4.486 10 10s-4.486 10-10 10-10-4.486-10-10 4.486-10 10-10zm0-2c-6.627 0-12 5.373-12 12s5.373 12 12 12 12-5.373 12-12-5.373-12-12-12zm5.848 12.459c.202.038.202.333.001.372-1.907.361-6.045 1.111-6.547 1.111-.719 0-1.301-.582-1.301-1.301 0-.512.77-5.447 1.125-7.445.034-.192.312-.181.343.014l.985 6.238 5.394 1.011z\"/></symbol></defs><defs><marker id=\"arrowhead\" refX=\"7.9\" refY=\"5\" markerUnits=\"userSpaceOnUse\" markerWidth=\"12\" markerHeight=\"12\" orient=\"auto-start-reverse\"><path d=\"M -1 0 L 10 5 L 0 10 z\"/></marker></defs><defs><marker id=\"crosshead\" markerWidth=\"15\" markerHeight=\"8\" orient=\"auto\" refX=\"4\" refY=\"4.5\"><path fill=\"none\" stroke=\"#000000\" stroke-width=\"1pt\" d=\"M 1,2 L 6,7 M 6,2 L 1,7\" style=\"stroke-dasharray: 0, 0;\"/></marker></defs><defs><marker id=\"filled-head\" refX=\"15.5\" refY=\"7\" markerWidth=\"20\" markerHeight=\"28\" orient=\"auto\"><path d=\"M 18,7 L9,13 L14,7 L9,1 Z\"/></marker></defs><defs><marker id=\"sequencenumber\" refX=\"15\" refY=\"15\" markerWidth=\"60\" markerHeight=\"40\" orient=\"auto\"><circle cx=\"15\" cy=\"15\" r=\"6\"/></marker></defs><g><rect x=\"50\" y=\"75\" fill=\"#EDF2AE\" stroke=\"#666\" width=\"539\" height=\"37\" class=\"note\"/><text x=\"320\" y=\"80\" text-anchor=\"middle\" dominant-baseline=\"middle\" alignment-baseline=\"middle\" class=\"noteText\" dy=\"1em\" style=\"font-size: 16px; font-weight: 400;\"><tspan x=\"320\">Outbound Call</tspan></text></g><g><rect x=\"50\" y=\"436\" fill=\"#EDF2AE\" stroke=\"#666\" width=\"539\" height=\"37\" class=\"note\"/><text x=\"320\" y=\"441\" text-anchor=\"middle\" dominant-baseline=\"middle\" alignment-baseline=\"middle\" class=\"noteText\" dy=\"1em\" style=\"font-size: 16px; font-weight: 400;\"><tspan x=\"320\">Inbound Call</tspan></text></g><text x=\"191\" y=\"127\" text-anchor=\"middle\" dominant-baseline=\"middle\" alignment-baseline=\"middle\" class=\"messageText\" dy=\"1em\" style=\"font-size: 16px; font-weight: 400;\">Inicia chamada</text><line x1=\"76\" y1=\"156\" x2=\"306\" y2=\"156\" class=\"messageLine0\" stroke-width=\"2\" stroke=\"none\" marker-end=\"url(#arrowhead)\" style=\"fill: none;\"/><text x=\"436\" y=\"171\" text-anchor=\"middle\" dominant-baseline=\"middle\" alignment-baseline=\"middle\" class=\"messageText\" dy=\"1em\" style=\"font-size: 16px; font-weight: 400;\">Conecta chamada</text><line x1=\"311\" y1=\"200\" x2=\"560\" y2=\"200\" class=\"messageLine0\" stroke-width=\"2\" stroke=\"none\" marker-end=\"url(#arrowhead)\" style=\"fill: none;\"/><text x=\"194\" y=\"215\" text-anchor=\"middle\" dominant-baseline=\"middle\" alignment-baseline=\"middle\" class=\"messageText\" dy=\"1em\" style=\"font-size: 16px; font-weight: 400;\">Solicita TwiML</text><line x1=\"309\" y1=\"244\" x2=\"79\" y2=\"244\" class=\"messageLine0\" stroke-width=\"2\" stroke=\"none\" marker-end=\"url(#arrowhead)\" style=\"fill: none;\"/><text x=\"191\" y=\"259\" text-anchor=\"middle\" dominant-baseline=\"middle\" alignment-baseline=\"middle\" class=\"messageText\" dy=\"1em\" style=\"font-size: 16px; font-weight: 400;\">&lt;Gather&gt;...&lt;/Gather&gt;</text><line x1=\"76\" y1=\"288\" x2=\"306\" y2=\"288\" class=\"messageLine1\" stroke-width=\"2\" stroke=\"none\" marker-end=\"url(#arrowhead)\" style=\"stroke-dasharray: 3, 3; fill: none;\"/><text x=\"436\" y=\"303\" text-anchor=\"middle\" dominant-baseline=\"middle\" alignment-baseline=\"middle\" class=\"messageText\" dy=\"1em\" style=\"font-size: 16px; font-weight: 400;\">Lê prompt e aguarda entrada</text><line x1=\"311\" y1=\"334\" x2=\"560\" y2=\"334\" class=\"messageLine1\" stroke-width=\"2\" stroke=\"none\" marker-end=\"url(#arrowhead)\" style=\"stroke-dasharray: 3, 3; fill: none;\"/><text x=\"439\" y=\"349\" text-anchor=\"middle\" dominant-baseline=\"middle\" alignment-baseline=\"middle\" class=\"messageText\" dy=\"1em\" style=\"font-size: 16px; font-weight: 400;\">Responde (fala ou DTMF)</text><line x1=\"563\" y1=\"380\" x2=\"314\" y2=\"380\" class=\"messageLine1\" stroke-width=\"2\" stroke=\"none\" marker-end=\"url(#arrowhead)\" style=\"stroke-dasharray: 3, 3; fill: none;\"/><text x=\"194\" y=\"395\" text-anchor=\"middle\" dominant-baseline=\"middle\" alignment-baseline=\"middle\" class=\"messageText\" dy=\"1em\" style=\"font-size: 16px; font-weight: 400;\">Retorna dados capturados</text><line x1=\"309\" y1=\"426\" x2=\"79\" y2=\"426\" class=\"messageLine1\" stroke-width=\"2\" stroke=\"none\" marker-end=\"url(#arrowhead)\" style=\"stroke-dasharray: 3, 3; fill: none;\"/><text x=\"439\" y=\"488\" text-anchor=\"middle\" dominant-baseline=\"middle\" alignment-baseline=\"middle\" class=\"messageText\" dy=\"1em\" style=\"font-size: 16px; font-weight: 400;\">Liga para número</text><line x1=\"563\" y1=\"519\" x2=\"314\" y2=\"519\" class=\"messageLine0\" stroke-width=\"2\" stroke=\"none\" marker-end=\"url(#arrowhead)\" style=\"fill: none;\"/><text x=\"194\" y=\"534\" text-anchor=\"middle\" dominant-baseline=\"middle\" alignment-baseline=\"middle\" class=\"messageText\" dy=\"1em\" style=\"font-size: 16px; font-weight: 400;\">Solicita TwiML</text><line x1=\"309\" y1=\"563\" x2=\"79\" y2=\"563\" class=\"messageLine0\" stroke-width=\"2\" stroke=\"none\" marker-end=\"url(#arrowhead)\" style=\"fill: none;\"/><text x=\"191\" y=\"578\" text-anchor=\"middle\" dominant-baseline=\"middle\" alignment-baseline=\"middle\" class=\"messageText\" dy=\"1em\" style=\"font-size: 16px; font-weight: 400;\">&lt;Gather&gt;...&lt;/Gather&gt;</text><line x1=\"76\" y1=\"607\" x2=\"306\" y2=\"607\" class=\"messageLine1\" stroke-width=\"2\" stroke=\"none\" marker-end=\"url(#arrowhead)\" style=\"stroke-dasharray: 3, 3; fill: none;\"/><text x=\"436\" y=\"622\" text-anchor=\"middle\" dominant-baseline=\"middle\" alignment-baseline=\"middle\" class=\"messageText\" dy=\"1em\" style=\"font-size: 16px; font-weight: 400;\">Lê prompt e aguarda entrada</text><line x1=\"311\" y1=\"653\" x2=\"560\" y2=\"653\" class=\"messageLine1\" stroke-width=\"2\" stroke=\"none\" marker-end=\"url(#arrowhead)\" style=\"stroke-dasharray: 3, 3; fill: none;\"/><text x=\"439\" y=\"668\" text-anchor=\"middle\" dominant-baseline=\"middle\" alignment-baseline=\"middle\" class=\"messageText\" dy=\"1em\" style=\"font-size: 16px; font-weight: 400;\">Responde (fala ou DTMF)</text><line x1=\"563\" y1=\"699\" x2=\"314\" y2=\"699\" class=\"messageLine1\" stroke-width=\"2\" stroke=\"none\" marker-end=\"url(#arrowhead)\" style=\"stroke-dasharray: 3, 3; fill: none;\"/><text x=\"194\" y=\"714\" text-anchor=\"middle\" dominant-baseline=\"middle\" alignment-baseline=\"middle\" class=\"messageText\" dy=\"1em\" style=\"font-size: 16px; font-weight: 400;\">Retorna dados capturados</text><line x1=\"309\" y1=\"745\" x2=\"79\" y2=\"745\" class=\"messageLine1\" stroke-width=\"2\" stroke=\"none\" marker-end=\"url(#arrowhead)\" style=\"stroke-dasharray: 3, 3; fill: none;\"/></svg>"
      ],
      "text/plain": [
       "<mermaid.__main__.Mermaid at 0x10a824510>"
      ]
     },
     "metadata": {},
     "output_type": "display_data"
    }
   ],
   "source": [
    "gather_diagram = \"\"\"\n",
    "%%{init: {\n",
    "  \"theme\": \"base\",\n",
    "  \"themeVariables\": {\n",
    "    \"background\": \"#0B0D17\",\n",
    "    \"primaryColor\": \"#12284C\",\n",
    "    \"primaryBorderColor\": \"#661847\",\n",
    "    \"primaryTextColor\": \"#FFFFFF\",\n",
    "    \"tertiaryColor\": \"#0DC5FB\",\n",
    "    \"tertiaryBorderColor\": \"#0B3D91\",\n",
    "    \"tertiaryTextColor\": \"#FFFFFF\",\n",
    "    \"noteBkgColor\": \"#4B0082\",\n",
    "    \"noteTextColor\": \"#FFFFFF\",\n",
    "    \"clusterBkg\": \"#0B0D17\",\n",
    "    \"clusterBorder\": \"#1D1F2B\"\n",
    "  }\n",
    "}}%%\n",
    "\n",
    "sequenceDiagram\n",
    "    participant App as Seu App\n",
    "    participant Twilio as Twilio Voice API\n",
    "    participant User as Usuário Final\n",
    "\n",
    "    Note over App,User: Outbound Call\n",
    "    App->>Twilio: Inicia chamada\n",
    "    Twilio->>User: Conecta chamada\n",
    "    Twilio->>App: Solicita TwiML\n",
    "    App-->>Twilio: <Gather>...</Gather>\n",
    "    Twilio-->>User: Lê prompt e aguarda entrada\n",
    "    User-->>Twilio: Responde (fala ou DTMF)\n",
    "    Twilio-->>App: Retorna dados capturados\n",
    "\n",
    "    Note over User,App: Inbound Call\n",
    "    User->>Twilio: Liga para número\n",
    "    Twilio->>App: Solicita TwiML\n",
    "    App-->>Twilio: <Gather>...</Gather>\n",
    "    Twilio-->>User: Lê prompt e aguarda entrada\n",
    "    User-->>Twilio: Responde (fala ou DTMF)\n",
    "    Twilio-->>App: Retorna dados capturados\n",
    "\"\"\"\n",
    "\n",
    "display(Mermaid(gather_diagram))\n"
   ]
  },
  {
   "cell_type": "markdown",
   "id": "c1c717d8",
   "metadata": {
    "slideshow": {
     "slide_type": "slide"
    }
   },
   "source": [
    "#### Usando TwiML em Python com a lib da Twilio "
   ]
  },
  {
   "cell_type": "markdown",
   "id": "08b7bae1",
   "metadata": {
    "slideshow": {
     "slide_type": "fragment"
    }
   },
   "source": [
    "**`<Say>` = response.`say`**"
   ]
  },
  {
   "cell_type": "code",
   "execution_count": 146,
   "id": "a2601bb6",
   "metadata": {},
   "outputs": [
    {
     "data": {
      "text/html": [
       "\n",
       "    \n",
       "    <style>\n",
       "    .twilio-xml-box {\n",
       "        background: #0B0D17;\n",
       "        border: 1px solid #661847;\n",
       "        padding: 20px;\n",
       "        border-radius: 12px;\n",
       "        font-family: 'Courier New', monospace;\n",
       "        font-size: 0.95em;\n",
       "        color: #FFFFFF;\n",
       "        white-space: pre-wrap;\n",
       "        line-height: 1.5;\n",
       "        box-shadow: 0 0 12px rgba(242, 47, 70, 0.4);\n",
       "        margin: 20px auto;\n",
       "        width: 90%;\n",
       "    }\n",
       "    .twilio-xml-box span.tag {\n",
       "        color: #F22F46;\n",
       "    }\n",
       "    .twilio-xml-box span.attr {\n",
       "        color: #0DC5FB;\n",
       "    }\n",
       "    </style>\n",
       "    \n",
       "    <div class=\"twilio-xml-box\">&lt;Response&gt;\n",
       "  &lt;Say language=\"fr-FR\" text=\"Bonjour!\"/&gt;\n",
       "&lt;/Response&gt;\n",
       "</div>\n",
       "    "
      ],
      "text/plain": [
       "<IPython.core.display.HTML object>"
      ]
     },
     "metadata": {},
     "output_type": "display_data"
    },
    {
     "data": {
      "text/plain": [
       "'<Response>\\n  <Say language=\"fr-FR\" text=\"Bonjour!\"/>\\n</Response>'"
      ]
     },
     "execution_count": 146,
     "metadata": {},
     "output_type": "execute_result"
    }
   ],
   "source": [
    "## SAY usando a biblioteca Twilio\n",
    "\n",
    "from twilio.twiml.voice_response import VoiceResponse\n",
    "\n",
    "response = VoiceResponse()\n",
    "\n",
    "response.say(\n",
    "    language=\"fr-FR\", \n",
    "    text=\"Bonjour!\"\n",
    "    )\n",
    "\n",
    "pretty_print_twiml(response)"
   ]
  },
  {
   "cell_type": "markdown",
   "id": "550acf40",
   "metadata": {
    "slideshow": {
     "slide_type": "subslide"
    }
   },
   "source": [
    "**`<Gather>`= response.`gather`**"
   ]
  },
  {
   "cell_type": "code",
   "execution_count": 147,
   "id": "4c78b0df",
   "metadata": {},
   "outputs": [
    {
     "data": {
      "text/html": [
       "\n",
       "    \n",
       "    <style>\n",
       "    .twilio-xml-box {\n",
       "        background: #0B0D17;\n",
       "        border: 1px solid #661847;\n",
       "        padding: 20px;\n",
       "        border-radius: 12px;\n",
       "        font-family: 'Courier New', monospace;\n",
       "        font-size: 0.95em;\n",
       "        color: #FFFFFF;\n",
       "        white-space: pre-wrap;\n",
       "        line-height: 1.5;\n",
       "        box-shadow: 0 0 12px rgba(242, 47, 70, 0.4);\n",
       "        margin: 20px auto;\n",
       "        width: 90%;\n",
       "    }\n",
       "    .twilio-xml-box span.tag {\n",
       "        color: #F22F46;\n",
       "    }\n",
       "    .twilio-xml-box span.attr {\n",
       "        color: #0DC5FB;\n",
       "    }\n",
       "    </style>\n",
       "    \n",
       "    <div class=\"twilio-xml-box\">&lt;Response&gt;\n",
       "  &lt;Gather action=\"/process_gather.php\" method=\"GET\"&gt;\n",
       "    &lt;Say&gt;Please enter your account number,\n",
       "followed by the pound sign&lt;/Say&gt;\n",
       "  &lt;/Gather&gt;\n",
       "  &lt;Say&gt;We didn't receive any input. Goodbye!&lt;/Say&gt;\n",
       "&lt;/Response&gt;\n",
       "</div>\n",
       "    "
      ],
      "text/plain": [
       "<IPython.core.display.HTML object>"
      ]
     },
     "metadata": {},
     "output_type": "display_data"
    },
    {
     "data": {
      "text/plain": [
       "'<Response>\\n  <Gather action=\"/process_gather.php\" method=\"GET\">\\n    <Say>Please enter your account number,\\nfollowed by the pound sign</Say>\\n  </Gather>\\n  <Say>We didn\\'t receive any input. Goodbye!</Say>\\n</Response>'"
      ]
     },
     "execution_count": 147,
     "metadata": {},
     "output_type": "execute_result"
    }
   ],
   "source": [
    "# GATHER usando a biblioteca Twilio\n",
    "\n",
    "from twilio.twiml.voice_response import Gather, VoiceResponse, Say\n",
    "\n",
    "response = VoiceResponse()\n",
    "gather = Gather(action='/process_gather.php', method='GET')\n",
    "\n",
    "gather.say('Please enter your account number,\\nfollowed by the pound sign')\n",
    "response.append(gather)\n",
    "\n",
    "response.say('We didn\\'t receive any input. Goodbye!')\n",
    "\n",
    "import xml.dom.minidom\n",
    "\n",
    "pretty_print_twiml(response)"
   ]
  },
  {
   "cell_type": "markdown",
   "id": "4c33e946",
   "metadata": {
    "slideshow": {
     "slide_type": "slide"
    }
   },
   "source": [
    "### Realizando uma chamada com TwiML Say e Gather"
   ]
  },
  {
   "cell_type": "code",
   "execution_count": 89,
   "id": "5eeff77e",
   "metadata": {
    "slideshow": {
     "slide_type": "fragment"
    }
   },
   "outputs": [
    {
     "data": {
      "text/html": [
       "\n",
       "    \n",
       "    <style>\n",
       "    .twilio-xml-box {\n",
       "        background: #0B0D17;\n",
       "        border: 1px solid #661847;\n",
       "        padding: 20px;\n",
       "        border-radius: 12px;\n",
       "        font-family: 'Courier New', monospace;\n",
       "        font-size: 0.95em;\n",
       "        color: #FFFFFF;\n",
       "        white-space: pre-wrap;\n",
       "        line-height: 1.5;\n",
       "        box-shadow: 0 0 12px rgba(242, 47, 70, 0.4);\n",
       "        margin: 20px auto;\n",
       "        width: 90%;\n",
       "    }\n",
       "    .twilio-xml-box span.tag {\n",
       "        color: #F22F46;\n",
       "    }\n",
       "    .twilio-xml-box span.attr {\n",
       "        color: #0DC5FB;\n",
       "    }\n",
       "    </style>\n",
       "    \n",
       "    <div class=\"twilio-xml-box\">&lt;Response&gt;\n",
       "  &lt;Gather action=\"/handle_input\" input=\"speech dtmf\" method=\"POST\" timeout=\"5\"&gt;\n",
       "    &lt;Say&gt;Por favor, me fale como posso ajudar você hoje. Ou digite um número qualquer seguido de cerquilha.&lt;/Say&gt;\n",
       "  &lt;/Gather&gt;\n",
       "  &lt;Say&gt;Poxa! Não recebemos nenhuma resposta. Tchau tchau!&lt;/Say&gt;\n",
       "&lt;/Response&gt;\n",
       "</div>\n",
       "    "
      ],
      "text/plain": [
       "<IPython.core.display.HTML object>"
      ]
     },
     "metadata": {},
     "output_type": "display_data"
    },
    {
     "name": "stdout",
     "output_type": "stream",
     "text": [
      "CA9413c5dc152465703d545a099d93d1e1\n"
     ]
    }
   ],
   "source": [
    "# Fazendo uma chamada usando SAY e GATHER\n",
    "from twilio.twiml.voice_response import VoiceResponse, Gather\n",
    "\n",
    "response = VoiceResponse()\n",
    "\n",
    "# Gather DTMF or speech\n",
    "gather = Gather(input=\"speech dtmf\", timeout=5, action=\"/handle_input\", method=\"POST\") #TO DO: Add route to handle input\n",
    "gather.say(\"Por favor, me fale como posso ajudar você hoje. Ou digite um número qualquer seguido de cerquilha.\")\n",
    "response.append(gather)\n",
    "\n",
    "# TO DO: Add route to handle input in server\n",
    "\n",
    "# Fallback if no input\n",
    "response.say(\"Poxa! Não recebemos nenhuma resposta. Tchau tchau!\")\n",
    "\n",
    "pretty_print_twiml(str(response))  # optional: view generated XML\n",
    "\n",
    "# Make the call\n",
    "call = client.calls.create(\n",
    "    from_=\"+551150397615\",\n",
    "    to=\"+5511968432422\",\n",
    "    twiml=str(response)\n",
    ")\n",
    "\n",
    "print(call.sid)\n"
   ]
  },
  {
   "cell_type": "markdown",
   "id": "3942e096",
   "metadata": {},
   "source": [
    "___"
   ]
  },
  {
   "cell_type": "markdown",
   "id": "67586a0b",
   "metadata": {
    "slideshow": {
     "slide_type": "slide"
    }
   },
   "source": [
    "## Twilio Conversation Relay"
   ]
  },
  {
   "cell_type": "markdown",
   "id": "511eec8b",
   "metadata": {
    "slideshow": {
     "slide_type": "fragment"
    }
   },
   "source": [
    "### Conectando chamadas com o TwiML `<Connect>`"
   ]
  },
  {
   "cell_type": "code",
   "execution_count": null,
   "id": "0e55f4be",
   "metadata": {
    "slideshow": {
     "slide_type": "fragment"
    },
    "vscode": {
     "languageId": "xml"
    }
   },
   "outputs": [],
   "source": [
    "<?xml version=\"1.0\" encoding=\"UTF-8\"?>\n",
    "\n",
    "<Response>\n",
    "\n",
    "  <Connect action=\"https://my-https-server.com/connect_action\">\n",
    "    <ConversationRelay url=\"wss://my-https-websocket-server.com/websocket\" welcomeGreeting=\"Hi! Ask me anything!\" />\n",
    "  </Connect>\n",
    "\n",
    "</Response>"
   ]
  },
  {
   "cell_type": "code",
   "execution_count": 35,
   "id": "1648519f",
   "metadata": {
    "slideshow": {
     "slide_type": "subslide"
    }
   },
   "outputs": [
    {
     "data": {
      "text/html": [
       "<svg id=\"mermaid-svg\" width=\"100%\" xmlns=\"http://www.w3.org/2000/svg\" class=\"flowchart\" style=\"max-width: 1308.1328125px;\" viewBox=\"0 0 1308.1328125 574\" role=\"graphics-document document\" aria-roledescription=\"flowchart-v2\" xmlns:xlink=\"http://www.w3.org/1999/xlink\"><style xmlns=\"http://www.w3.org/1999/xhtml\">@import url(\"https://cdnjs.cloudflare.com/ajax/libs/font-awesome/6.7.2/css/all.min.css\");</style><style>#mermaid-svg{font-family:\"trebuchet ms\",verdana,arial,sans-serif;font-size:16px;fill:#FFFFFF;}@keyframes edge-animation-frame{from{stroke-dashoffset:0;}}@keyframes dash{to{stroke-dashoffset:0;}}#mermaid-svg .edge-animation-slow{stroke-dasharray:9,5!important;stroke-dashoffset:900;animation:dash 50s linear infinite;stroke-linecap:round;}#mermaid-svg .edge-animation-fast{stroke-dasharray:9,5!important;stroke-dashoffset:900;animation:dash 20s linear infinite;stroke-linecap:round;}#mermaid-svg .error-icon{fill:#0DC5FB;}#mermaid-svg .error-text{fill:#FFFFFF;stroke:#FFFFFF;}#mermaid-svg .edge-thickness-normal{stroke-width:1px;}#mermaid-svg .edge-thickness-thick{stroke-width:3.5px;}#mermaid-svg .edge-pattern-solid{stroke-dasharray:0;}#mermaid-svg .edge-thickness-invisible{stroke-width:0;fill:none;}#mermaid-svg .edge-pattern-dashed{stroke-dasharray:3;}#mermaid-svg .edge-pattern-dotted{stroke-dasharray:2;}#mermaid-svg .marker{fill:#f4f2e8;stroke:#f4f2e8;}#mermaid-svg .marker.cross{stroke:#f4f2e8;}#mermaid-svg svg{font-family:\"trebuchet ms\",verdana,arial,sans-serif;font-size:16px;}#mermaid-svg p{margin:0;}#mermaid-svg .label{font-family:\"trebuchet ms\",verdana,arial,sans-serif;color:#FFFFFF;}#mermaid-svg .cluster-label text{fill:#FFFFFF;}#mermaid-svg .cluster-label span{color:#FFFFFF;}#mermaid-svg .cluster-label span p{background-color:transparent;}#mermaid-svg .label text,#mermaid-svg span{fill:#FFFFFF;color:#FFFFFF;}#mermaid-svg .node rect,#mermaid-svg .node circle,#mermaid-svg .node ellipse,#mermaid-svg .node polygon,#mermaid-svg .node path{fill:#12284C;stroke:#661847;stroke-width:1px;}#mermaid-svg .rough-node .label text,#mermaid-svg .node .label text,#mermaid-svg .image-shape .label,#mermaid-svg .icon-shape .label{text-anchor:middle;}#mermaid-svg .node .katex path{fill:#000;stroke:#000;stroke-width:1px;}#mermaid-svg .rough-node .label,#mermaid-svg .node .label,#mermaid-svg .image-shape .label,#mermaid-svg .icon-shape .label{text-align:center;}#mermaid-svg .node.clickable{cursor:pointer;}#mermaid-svg .root .anchor path{fill:#f4f2e8!important;stroke-width:0;stroke:#f4f2e8;}#mermaid-svg .arrowheadPath{fill:#f4f2e8;}#mermaid-svg .edgePath .path{stroke:#f4f2e8;stroke-width:2.0px;}#mermaid-svg .flowchart-link{stroke:#f4f2e8;fill:none;}#mermaid-svg .edgeLabel{background-color:hsl(97.2413793103, 61.7021276596%, 18.431372549%);text-align:center;}#mermaid-svg .edgeLabel p{background-color:hsl(97.2413793103, 61.7021276596%, 18.431372549%);}#mermaid-svg .edgeLabel rect{opacity:0.5;background-color:hsl(97.2413793103, 61.7021276596%, 18.431372549%);fill:hsl(97.2413793103, 61.7021276596%, 18.431372549%);}#mermaid-svg .labelBkg{background-color:rgba(40, 75.9999999999, 18, 0.5);}#mermaid-svg .cluster rect{fill:#0B0D17;stroke:#1D1F2B;stroke-width:1px;}#mermaid-svg .cluster text{fill:#FFFFFF;}#mermaid-svg .cluster span{color:#FFFFFF;}#mermaid-svg div.mermaidTooltip{position:absolute;text-align:center;max-width:200px;padding:2px;font-family:\"trebuchet ms\",verdana,arial,sans-serif;font-size:12px;background:#0DC5FB;border:1px solid #0B3D91;border-radius:2px;pointer-events:none;z-index:100;}#mermaid-svg .flowchartTitleText{text-anchor:middle;font-size:18px;fill:#FFFFFF;}#mermaid-svg rect.text{fill:none;stroke-width:0;}#mermaid-svg .icon-shape,#mermaid-svg .image-shape{background-color:hsl(97.2413793103, 61.7021276596%, 18.431372549%);text-align:center;}#mermaid-svg .icon-shape p,#mermaid-svg .image-shape p{background-color:hsl(97.2413793103, 61.7021276596%, 18.431372549%);padding:2px;}#mermaid-svg .icon-shape rect,#mermaid-svg .image-shape rect{opacity:0.5;background-color:hsl(97.2413793103, 61.7021276596%, 18.431372549%);fill:hsl(97.2413793103, 61.7021276596%, 18.431372549%);}#mermaid-svg :root{--mermaid-font-family:\"trebuchet ms\",verdana,arial,sans-serif;}#mermaid-svg .voice&gt;*{fill:#0DC5FB!important;stroke:#0B3D91!important;stroke-width:3px!important;color:#ffffff!important;}#mermaid-svg .voice span{fill:#0DC5FB!important;stroke:#0B3D91!important;stroke-width:3px!important;color:#ffffff!important;}#mermaid-svg .voice tspan{fill:#ffffff!important;}#mermaid-svg .relay&gt;*{fill:#F22F46!important;stroke:#0B3D91!important;stroke-width:3px!important;color:#ffffff!important;}#mermaid-svg .relay span{fill:#F22F46!important;stroke:#0B3D91!important;stroke-width:3px!important;color:#ffffff!important;}#mermaid-svg .relay tspan{fill:#ffffff!important;}#mermaid-svg .backend&gt;*{fill:#4B0082!important;stroke:#F22F46!important;stroke-width:3px!important;color:#ffffff!important;}#mermaid-svg .backend span{fill:#4B0082!important;stroke:#F22F46!important;stroke-width:3px!important;color:#ffffff!important;}#mermaid-svg .backend tspan{fill:#ffffff!important;}#mermaid-svg .ai&gt;*{fill:#661847!important;stroke:#F22F46!important;stroke-width:2px!important;color:#ffffff!important;}#mermaid-svg .ai span{fill:#661847!important;stroke:#F22F46!important;stroke-width:2px!important;color:#ffffff!important;}#mermaid-svg .ai tspan{fill:#ffffff!important;}#mermaid-svg .llm&gt;*{fill:#ffffff!important;stroke:#4B0082!important;stroke-width:2px!important;color:#4B0082!important;}#mermaid-svg .llm span{fill:#ffffff!important;stroke:#4B0082!important;stroke-width:2px!important;color:#4B0082!important;}#mermaid-svg .llm tspan{fill:#4B0082!important;}</style><g><marker id=\"mermaid-svg_flowchart-v2-pointEnd\" class=\"marker flowchart-v2\" viewBox=\"0 0 10 10\" refX=\"5\" refY=\"5\" markerUnits=\"userSpaceOnUse\" markerWidth=\"8\" markerHeight=\"8\" orient=\"auto\"><path d=\"M 0 0 L 10 5 L 0 10 z\" class=\"arrowMarkerPath\" style=\"stroke-width: 1; stroke-dasharray: 1, 0;\"/></marker><marker id=\"mermaid-svg_flowchart-v2-pointStart\" class=\"marker flowchart-v2\" viewBox=\"0 0 10 10\" refX=\"4.5\" refY=\"5\" markerUnits=\"userSpaceOnUse\" markerWidth=\"8\" markerHeight=\"8\" orient=\"auto\"><path d=\"M 0 5 L 10 10 L 10 0 z\" class=\"arrowMarkerPath\" style=\"stroke-width: 1; stroke-dasharray: 1, 0;\"/></marker><marker id=\"mermaid-svg_flowchart-v2-circleEnd\" class=\"marker flowchart-v2\" viewBox=\"0 0 10 10\" refX=\"11\" refY=\"5\" markerUnits=\"userSpaceOnUse\" markerWidth=\"11\" markerHeight=\"11\" orient=\"auto\"><circle cx=\"5\" cy=\"5\" r=\"5\" class=\"arrowMarkerPath\" style=\"stroke-width: 1; stroke-dasharray: 1, 0;\"/></marker><marker id=\"mermaid-svg_flowchart-v2-circleStart\" class=\"marker flowchart-v2\" viewBox=\"0 0 10 10\" refX=\"-1\" refY=\"5\" markerUnits=\"userSpaceOnUse\" markerWidth=\"11\" markerHeight=\"11\" orient=\"auto\"><circle cx=\"5\" cy=\"5\" r=\"5\" class=\"arrowMarkerPath\" style=\"stroke-width: 1; stroke-dasharray: 1, 0;\"/></marker><marker id=\"mermaid-svg_flowchart-v2-crossEnd\" class=\"marker cross flowchart-v2\" viewBox=\"0 0 11 11\" refX=\"12\" refY=\"5.2\" markerUnits=\"userSpaceOnUse\" markerWidth=\"11\" markerHeight=\"11\" orient=\"auto\"><path d=\"M 1,1 l 9,9 M 10,1 l -9,9\" class=\"arrowMarkerPath\" style=\"stroke-width: 2; stroke-dasharray: 1, 0;\"/></marker><marker id=\"mermaid-svg_flowchart-v2-crossStart\" class=\"marker cross flowchart-v2\" viewBox=\"0 0 11 11\" refX=\"-1\" refY=\"5.2\" markerUnits=\"userSpaceOnUse\" markerWidth=\"11\" markerHeight=\"11\" orient=\"auto\"><path d=\"M 1,1 l 9,9 M 10,1 l -9,9\" class=\"arrowMarkerPath\" style=\"stroke-width: 2; stroke-dasharray: 1, 0;\"/></marker><g class=\"root\"><g class=\"clusters\"/><g class=\"edgePaths\"><path d=\"M604.136,86L597.534,94.167C590.932,102.333,577.728,118.667,578.314,134.513C578.901,150.36,593.279,165.72,600.468,173.4L607.657,181.08\" id=\"L_VoiceCall_ConvRelay_0\" class=\" edge-thickness-normal edge-pattern-solid edge-thickness-normal edge-pattern-solid flowchart-link\" style=\"\" marker-end=\"url(#mermaid-svg_flowchart-v2-pointEnd)\"/><path d=\"M610.403,238L604.633,244.167C598.863,250.333,587.324,262.667,586.001,274.476C584.677,286.286,593.569,297.572,598.015,303.215L602.461,308.858\" id=\"L_ConvRelay_ExtServer_0\" class=\" edge-thickness-normal edge-pattern-solid edge-thickness-normal edge-pattern-solid flowchart-link\" style=\"\" marker-end=\"url(#mermaid-svg_flowchart-v2-pointEnd)\"/><path d=\"M529.336,366.033L457.466,376.194C385.596,386.355,241.857,406.678,170.84,424.343C99.823,442.009,101.528,457.017,102.381,464.521L103.234,472.026\" id=\"L_ExtServer_RAG_0\" class=\" edge-thickness-normal edge-pattern-dotted edge-thickness-normal edge-pattern-solid flowchart-link\" style=\"\" marker-end=\"url(#mermaid-svg_flowchart-v2-pointEnd)\"/><path d=\"M529.336,371.184L480.33,380.487C431.324,389.789,333.313,408.395,291.302,423.441C249.292,438.487,263.284,449.975,270.279,455.718L277.275,461.462\" id=\"L_ExtServer_MCP_0\" class=\" edge-thickness-normal edge-pattern-dotted edge-thickness-normal edge-pattern-solid flowchart-link\" style=\"\" marker-end=\"url(#mermaid-svg_flowchart-v2-pointEnd)\"/><path d=\"M548.688,390L534.935,396.167C521.182,402.333,493.677,414.667,486.148,430.44C478.619,446.214,491.067,465.429,497.29,475.036L503.514,484.643\" id=\"L_ExtServer_GPT_0\" class=\" edge-thickness-normal edge-pattern-solid edge-thickness-normal edge-pattern-solid flowchart-link\" style=\"\" marker-end=\"url(#mermaid-svg_flowchart-v2-pointEnd)\"/><path d=\"M664.525,390L669.089,396.167C673.652,402.333,682.779,414.667,693.481,430.438C704.184,446.21,716.461,465.42,722.6,475.025L728.738,484.63\" id=\"L_ExtServer_Gemini_0\" class=\" edge-thickness-normal edge-pattern-solid edge-thickness-normal edge-pattern-solid flowchart-link\" style=\"\" marker-end=\"url(#mermaid-svg_flowchart-v2-pointEnd)\"/><path d=\"M741.992,379.736L771.139,387.614C800.286,395.491,858.581,411.245,893.867,428.728C929.152,446.21,941.43,465.42,947.568,475.025L953.707,484.63\" id=\"L_ExtServer_Claude_0\" class=\" edge-thickness-normal edge-pattern-solid edge-thickness-normal edge-pattern-solid flowchart-link\" style=\"\" marker-end=\"url(#mermaid-svg_flowchart-v2-pointEnd)\"/><path d=\"M741.992,366.965L808.634,376.97C875.276,386.976,1008.56,406.988,1081.34,426.599C1154.121,446.21,1166.398,465.42,1172.537,475.025L1178.676,484.63\" id=\"L_ExtServer_DeepSeek_0\" class=\" edge-thickness-normal edge-pattern-solid edge-thickness-normal edge-pattern-solid flowchart-link\" style=\"\" marker-end=\"url(#mermaid-svg_flowchart-v2-pointEnd)\"/><path d=\"M540.436,488L546.933,477.833C553.431,467.667,566.427,447.333,577.091,431.536C587.756,415.738,596.09,404.477,600.257,398.846L604.424,393.215\" id=\"L_GPT_ExtServer_0\" class=\" edge-thickness-normal edge-pattern-solid edge-thickness-normal edge-pattern-solid flowchart-link\" style=\"\" marker-end=\"url(#mermaid-svg_flowchart-v2-pointEnd)\"/><path d=\"M765.405,488L771.902,477.833C778.4,467.667,791.395,447.333,784.81,431.274C778.225,415.214,752.06,403.429,738.977,397.536L725.895,391.643\" id=\"L_Gemini_ExtServer_0\" class=\" edge-thickness-normal edge-pattern-solid edge-thickness-normal edge-pattern-solid flowchart-link\" style=\"\" marker-end=\"url(#mermaid-svg_flowchart-v2-pointEnd)\"/><path d=\"M990.373,488L996.871,477.833C1003.369,467.667,1016.364,447.333,975.622,428.047C934.879,408.761,840.4,390.523,793.16,381.403L745.92,372.284\" id=\"L_Claude_ExtServer_0\" class=\" edge-thickness-normal edge-pattern-solid edge-thickness-normal edge-pattern-solid flowchart-link\" style=\"\" marker-end=\"url(#mermaid-svg_flowchart-v2-pointEnd)\"/><path d=\"M1215.342,488L1221.84,477.833C1228.337,467.667,1241.333,447.333,1163.103,426.758C1084.873,406.183,915.418,385.366,830.69,374.958L745.962,364.55\" id=\"L_DeepSeek_ExtServer_0\" class=\" edge-thickness-normal edge-pattern-solid edge-thickness-normal edge-pattern-solid flowchart-link\" style=\"\" marker-end=\"url(#mermaid-svg_flowchart-v2-pointEnd)\"/><path d=\"M155.619,476L165.566,467.833C175.513,459.667,195.407,443.333,257.037,425.823C318.667,408.312,422.033,389.624,473.717,380.279L525.4,370.935\" id=\"L_RAG_ExtServer_0\" class=\" edge-thickness-normal edge-pattern-dotted edge-thickness-normal edge-pattern-solid flowchart-link\" style=\"\" marker-end=\"url(#mermaid-svg_flowchart-v2-pointEnd)\"/><path d=\"M375.523,464L379.518,457.833C383.513,451.667,391.502,439.333,416.503,426.407C441.504,413.481,483.516,399.961,504.522,393.201L525.528,386.442\" id=\"L_MCP_ExtServer_0\" class=\" edge-thickness-normal edge-pattern-dotted edge-thickness-normal edge-pattern-solid flowchart-link\" style=\"\" marker-end=\"url(#mermaid-svg_flowchart-v2-pointEnd)\"/><path d=\"M666.391,312L671.25,305.833C676.109,299.667,685.826,287.333,685.37,275.487C684.915,263.64,674.287,252.281,668.972,246.601L663.658,240.921\" id=\"L_ExtServer_ConvRelay_0\" class=\" edge-thickness-normal edge-pattern-solid edge-thickness-normal edge-pattern-solid flowchart-link\" style=\"\" marker-end=\"url(#mermaid-svg_flowchart-v2-pointEnd)\"/><path d=\"M660.938,184L668.582,175.833C676.227,167.667,691.516,151.333,692.977,135.518C694.439,119.704,682.073,104.407,675.89,96.759L669.707,89.111\" id=\"L_ConvRelay_VoiceCall_0\" class=\" edge-thickness-normal edge-pattern-solid edge-thickness-normal edge-pattern-solid flowchart-link\" style=\"\" marker-end=\"url(#mermaid-svg_flowchart-v2-pointEnd)\"/></g><g class=\"edgeLabels\"><g class=\"edgeLabel\" transform=\"translate(564.5234375, 135)\"><g class=\"label\" transform=\"translate(-64.03125, -12)\"><foreignObject width=\"128.0625\" height=\"24\"><div xmlns=\"http://www.w3.org/1999/xhtml\" class=\"labelBkg\" style=\"display: table-cell; white-space: nowrap; line-height: 1.5; max-width: 200px; text-align: center;\"><span class=\"edgeLabel \"><p>Customer Speech</p></span></div></foreignObject></g></g><g class=\"edgeLabel\" transform=\"translate(575.78515625, 275)\"><g class=\"label\" transform=\"translate(-45.9453125, -12)\"><foreignObject width=\"91.890625\" height=\"24\"><div xmlns=\"http://www.w3.org/1999/xhtml\" class=\"labelBkg\" style=\"display: table-cell; white-space: nowrap; line-height: 1.5; max-width: 200px; text-align: center;\"><span class=\"edgeLabel \"><p>STT | Events</p></span></div></foreignObject></g></g><g class=\"edgeLabel\"><g class=\"label\" transform=\"translate(0, 0)\"><foreignObject width=\"0\" height=\"0\"><div xmlns=\"http://www.w3.org/1999/xhtml\" class=\"labelBkg\" style=\"display: table-cell; white-space: nowrap; line-height: 1.5; max-width: 200px; text-align: center;\"><span class=\"edgeLabel \"></span></div></foreignObject></g></g><g class=\"edgeLabel\"><g class=\"label\" transform=\"translate(0, 0)\"><foreignObject width=\"0\" height=\"0\"><div xmlns=\"http://www.w3.org/1999/xhtml\" class=\"labelBkg\" style=\"display: table-cell; white-space: nowrap; line-height: 1.5; max-width: 200px; text-align: center;\"><span class=\"edgeLabel \"></span></div></foreignObject></g></g><g class=\"edgeLabel\" transform=\"translate(466.171875, 427)\"><g class=\"label\" transform=\"translate(-46.6796875, -12)\"><foreignObject width=\"93.359375\" height=\"24\"><div xmlns=\"http://www.w3.org/1999/xhtml\" class=\"labelBkg\" style=\"display: table-cell; white-space: nowrap; line-height: 1.5; max-width: 200px; text-align: center;\"><span class=\"edgeLabel \"><p>Text Prompts</p></span></div></foreignObject></g></g><g class=\"edgeLabel\" transform=\"translate(691.90625, 427)\"><g class=\"label\" transform=\"translate(-46.6796875, -12)\"><foreignObject width=\"93.359375\" height=\"24\"><div xmlns=\"http://www.w3.org/1999/xhtml\" class=\"labelBkg\" style=\"display: table-cell; white-space: nowrap; line-height: 1.5; max-width: 200px; text-align: center;\"><span class=\"edgeLabel \"><p>Text Prompts</p></span></div></foreignObject></g></g><g class=\"edgeLabel\" transform=\"translate(916.875, 427)\"><g class=\"label\" transform=\"translate(-46.6796875, -12)\"><foreignObject width=\"93.359375\" height=\"24\"><div xmlns=\"http://www.w3.org/1999/xhtml\" class=\"labelBkg\" style=\"display: table-cell; white-space: nowrap; line-height: 1.5; max-width: 200px; text-align: center;\"><span class=\"edgeLabel \"><p>Text Prompts</p></span></div></foreignObject></g></g><g class=\"edgeLabel\" transform=\"translate(1141.84375, 427)\"><g class=\"label\" transform=\"translate(-46.6796875, -12)\"><foreignObject width=\"93.359375\" height=\"24\"><div xmlns=\"http://www.w3.org/1999/xhtml\" class=\"labelBkg\" style=\"display: table-cell; white-space: nowrap; line-height: 1.5; max-width: 200px; text-align: center;\"><span class=\"edgeLabel \"><p>Text Prompts</p></span></div></foreignObject></g></g><g class=\"edgeLabel\" transform=\"translate(579.421875, 427)\"><g class=\"label\" transform=\"translate(-45.8046875, -12)\"><foreignObject width=\"91.609375\" height=\"24\"><div xmlns=\"http://www.w3.org/1999/xhtml\" class=\"labelBkg\" style=\"display: table-cell; white-space: nowrap; line-height: 1.5; max-width: 200px; text-align: center;\"><span class=\"edgeLabel \"><p>AI Response</p></span></div></foreignObject></g></g><g class=\"edgeLabel\" transform=\"translate(804.390625, 427)\"><g class=\"label\" transform=\"translate(-45.8046875, -12)\"><foreignObject width=\"91.609375\" height=\"24\"><div xmlns=\"http://www.w3.org/1999/xhtml\" class=\"labelBkg\" style=\"display: table-cell; white-space: nowrap; line-height: 1.5; max-width: 200px; text-align: center;\"><span class=\"edgeLabel \"><p>AI Response</p></span></div></foreignObject></g></g><g class=\"edgeLabel\" transform=\"translate(1029.359375, 427)\"><g class=\"label\" transform=\"translate(-45.8046875, -12)\"><foreignObject width=\"91.609375\" height=\"24\"><div xmlns=\"http://www.w3.org/1999/xhtml\" class=\"labelBkg\" style=\"display: table-cell; white-space: nowrap; line-height: 1.5; max-width: 200px; text-align: center;\"><span class=\"edgeLabel \"><p>AI Response</p></span></div></foreignObject></g></g><g class=\"edgeLabel\" transform=\"translate(1254.328125, 427)\"><g class=\"label\" transform=\"translate(-45.8046875, -12)\"><foreignObject width=\"91.609375\" height=\"24\"><div xmlns=\"http://www.w3.org/1999/xhtml\" class=\"labelBkg\" style=\"display: table-cell; white-space: nowrap; line-height: 1.5; max-width: 200px; text-align: center;\"><span class=\"edgeLabel \"><p>AI Response</p></span></div></foreignObject></g></g><g class=\"edgeLabel\"><g class=\"label\" transform=\"translate(0, 0)\"><foreignObject width=\"0\" height=\"0\"><div xmlns=\"http://www.w3.org/1999/xhtml\" class=\"labelBkg\" style=\"display: table-cell; white-space: nowrap; line-height: 1.5; max-width: 200px; text-align: center;\"><span class=\"edgeLabel \"></span></div></foreignObject></g></g><g class=\"edgeLabel\"><g class=\"label\" transform=\"translate(0, 0)\"><foreignObject width=\"0\" height=\"0\"><div xmlns=\"http://www.w3.org/1999/xhtml\" class=\"labelBkg\" style=\"display: table-cell; white-space: nowrap; line-height: 1.5; max-width: 200px; text-align: center;\"><span class=\"edgeLabel \"></span></div></foreignObject></g></g><g class=\"edgeLabel\" transform=\"translate(695.54296875, 275)\"><g class=\"label\" transform=\"translate(-53.8125, -12)\"><foreignObject width=\"107.625\" height=\"24\"><div xmlns=\"http://www.w3.org/1999/xhtml\" class=\"labelBkg\" style=\"display: table-cell; white-space: nowrap; line-height: 1.5; max-width: 200px; text-align: center;\"><span class=\"edgeLabel \"><p>LLM Response</p></span></div></foreignObject></g></g><g class=\"edgeLabel\" transform=\"translate(706.8046875, 135)\"><g class=\"label\" transform=\"translate(-58.25, -24)\"><foreignObject width=\"116.5\" height=\"48\"><div xmlns=\"http://www.w3.org/1999/xhtml\" class=\"labelBkg\" style=\"display: table-cell; white-space: nowrap; line-height: 1.5; max-width: 200px; text-align: center;\"><span class=\"edgeLabel \"><p>TTS<br />(Text to Speech)</p></span></div></foreignObject></g></g></g><g class=\"nodes\"><g class=\"node default voice \" id=\"flowchart-VoiceCall-0\" transform=\"translate(635.6640625, 47)\"><rect class=\"basic label-container\" style=\"fill:#0DC5FB !important;stroke:#0B3D91 !important;stroke-width:3px !important\" x=\"-101.609375\" y=\"-39\" width=\"203.21875\" height=\"78\"/><g class=\"label\" style=\"color:#ffffff !important\" transform=\"translate(-71.609375, -24)\"><rect/><foreignObject width=\"143.21875\" height=\"48\"><div style=\"color: rgb(255, 255, 255) !important; display: table-cell; white-space: nowrap; line-height: 1.5; max-width: 200px; text-align: center;\" xmlns=\"http://www.w3.org/1999/xhtml\"><span style=\"color:#ffffff !important\" class=\"nodeLabel \"><p>Voice Call<br />(Inbound/Outbound)</p></span></div></foreignObject></g></g><g class=\"node default ai \" id=\"flowchart-RAG-1\" transform=\"translate(108.1171875, 515)\"><rect class=\"basic label-container\" style=\"fill:#661847 !important;stroke:#F22F46 !important;stroke-width:2px !important\" x=\"-100.1171875\" y=\"-39\" width=\"200.234375\" height=\"78\"/><g class=\"label\" style=\"color:#ffffff !important\" transform=\"translate(-70.1171875, -24)\"><rect/><foreignObject width=\"140.234375\" height=\"48\"><div style=\"color: rgb(255, 255, 255) !important; display: table-cell; white-space: nowrap; line-height: 1.5; max-width: 200px; text-align: center;\" xmlns=\"http://www.w3.org/1999/xhtml\"><span style=\"color:#ffffff !important\" class=\"nodeLabel \"><p>RAG<br />(Tools | Knowledge)</p></span></div></foreignObject></g></g><g class=\"node default ai \" id=\"flowchart-MCP-2\" transform=\"translate(342.484375, 515)\"><rect class=\"basic label-container\" style=\"fill:#661847 !important;stroke:#F22F46 !important;stroke-width:2px !important\" x=\"-84.25\" y=\"-51\" width=\"168.5\" height=\"102\"/><g class=\"label\" style=\"color:#ffffff !important\" transform=\"translate(-54.25, -36)\"><rect/><foreignObject width=\"108.5\" height=\"72\"><div style=\"color: rgb(255, 255, 255) !important; display: table-cell; white-space: nowrap; line-height: 1.5; max-width: 200px; text-align: center;\" xmlns=\"http://www.w3.org/1999/xhtml\"><span style=\"color:#ffffff !important\" class=\"nodeLabel \"><p>MCP<br />(Model Context<br />Protocol)</p></span></div></foreignObject></g></g><g class=\"node default relay \" id=\"flowchart-ConvRelay-3\" transform=\"translate(635.6640625, 211)\"><rect class=\"basic label-container\" style=\"fill:#F22F46 !important;stroke:#0B3D91 !important;stroke-width:3px !important\" x=\"-99.8125\" y=\"-27\" width=\"199.625\" height=\"54\"/><g class=\"label\" style=\"color:#ffffff !important\" transform=\"translate(-69.8125, -12)\"><rect/><foreignObject width=\"139.625\" height=\"24\"><div style=\"color: rgb(255, 255, 255) !important; display: table-cell; white-space: nowrap; line-height: 1.5; max-width: 200px; text-align: center;\" xmlns=\"http://www.w3.org/1999/xhtml\"><span style=\"color:#ffffff !important\" class=\"nodeLabel \"><p>Conversation Relay</p></span></div></foreignObject></g></g><g class=\"node default llm \" id=\"flowchart-GPT-4\" transform=\"translate(523.1796875, 515)\"><rect class=\"basic label-container\" style=\"fill:#ffffff !important;stroke:#4B0082 !important;stroke-width:2px !important\" x=\"-46.4453125\" y=\"-27\" width=\"92.890625\" height=\"54\"/><g class=\"label\" style=\"color:#4B0082 !important\" transform=\"translate(-16.4453125, -12)\"><rect/><foreignObject width=\"32.890625\" height=\"24\"><div style=\"color: rgb(75, 0, 130) !important; display: table-cell; white-space: nowrap; line-height: 1.5; max-width: 200px; text-align: center;\" xmlns=\"http://www.w3.org/1999/xhtml\"><span style=\"color:#4B0082 !important\" class=\"nodeLabel \"><p>GPT</p></span></div></foreignObject></g></g><g class=\"node default llm \" id=\"flowchart-Gemini-5\" transform=\"translate(748.1484375, 515)\"><rect class=\"basic label-container\" style=\"fill:#ffffff !important;stroke:#4B0082 !important;stroke-width:2px !important\" x=\"-55.34375\" y=\"-27\" width=\"110.6875\" height=\"54\"/><g class=\"label\" style=\"color:#4B0082 !important\" transform=\"translate(-25.34375, -12)\"><rect/><foreignObject width=\"50.6875\" height=\"24\"><div style=\"color: rgb(75, 0, 130) !important; display: table-cell; white-space: nowrap; line-height: 1.5; max-width: 200px; text-align: center;\" xmlns=\"http://www.w3.org/1999/xhtml\"><span style=\"color:#4B0082 !important\" class=\"nodeLabel \"><p>Gemini</p></span></div></foreignObject></g></g><g class=\"node default llm \" id=\"flowchart-Claude-6\" transform=\"translate(973.1171875, 515)\"><rect class=\"basic label-container\" style=\"fill:#ffffff !important;stroke:#4B0082 !important;stroke-width:2px !important\" x=\"-55.3515625\" y=\"-27\" width=\"110.703125\" height=\"54\"/><g class=\"label\" style=\"color:#4B0082 !important\" transform=\"translate(-25.3515625, -12)\"><rect/><foreignObject width=\"50.703125\" height=\"24\"><div style=\"color: rgb(75, 0, 130) !important; display: table-cell; white-space: nowrap; line-height: 1.5; max-width: 200px; text-align: center;\" xmlns=\"http://www.w3.org/1999/xhtml\"><span style=\"color:#4B0082 !important\" class=\"nodeLabel \"><p>Claude</p></span></div></foreignObject></g></g><g class=\"node default llm \" id=\"flowchart-DeepSeek-7\" transform=\"translate(1198.0859375, 515)\"><rect class=\"basic label-container\" style=\"fill:#ffffff !important;stroke:#4B0082 !important;stroke-width:2px !important\" x=\"-67.359375\" y=\"-27\" width=\"134.71875\" height=\"54\"/><g class=\"label\" style=\"color:#4B0082 !important\" transform=\"translate(-37.359375, -12)\"><rect/><foreignObject width=\"74.71875\" height=\"24\"><div style=\"color: rgb(75, 0, 130) !important; display: table-cell; white-space: nowrap; line-height: 1.5; max-width: 200px; text-align: center;\" xmlns=\"http://www.w3.org/1999/xhtml\"><span style=\"color:#4B0082 !important\" class=\"nodeLabel \"><p>DeepSeek</p></span></div></foreignObject></g></g><g class=\"node default backend \" id=\"flowchart-ExtServer-8\" transform=\"translate(635.6640625, 351)\"><rect class=\"basic label-container\" style=\"fill:#4B0082 !important;stroke:#F22F46 !important;stroke-width:3px !important\" x=\"-106.328125\" y=\"-39\" width=\"212.65625\" height=\"78\"/><g class=\"label\" style=\"color:#ffffff !important\" transform=\"translate(-76.328125, -24)\"><rect/><foreignObject width=\"152.65625\" height=\"48\"><div style=\"color: rgb(255, 255, 255) !important; display: table-cell; white-space: nowrap; line-height: 1.5; max-width: 200px; text-align: center;\" xmlns=\"http://www.w3.org/1999/xhtml\"><span style=\"color:#ffffff !important\" class=\"nodeLabel \"><p>External Server<br />(WebSocket Handler)</p></span></div></foreignObject></g></g></g></g></g></svg>"
      ],
      "text/plain": [
       "<mermaid.__main__.Mermaid at 0x112bfe470>"
      ]
     },
     "metadata": {},
     "output_type": "display_data"
    }
   ],
   "source": [
    "from IPython.display import display\n",
    "from mermaid import Mermaid\n",
    "\n",
    "mermaid_string = \"\"\"\n",
    "%%{init: {\n",
    "    \"theme\": \"base\",\n",
    "    \"themeVariables\": {\n",
    "        \"background\": \"#0B0D17\",\n",
    "        \"primaryColor\": \"#12284C\",\n",
    "        \"primaryBorderColor\": \"#661847\",\n",
    "        \"primaryTextColor\": \"#FFFFFF\",\n",
    "        \"tertiaryColor\": \"#0DC5FB\",\n",
    "        \"tertiaryBorderColor\": \"#0B3D91\",\n",
    "        \"tertiaryTextColor\": \"#FFFFFF\",\n",
    "        \"noteBkgColor\": \"#4B0082\",\n",
    "        \"noteTextColor\": \"#FFFFFF\",\n",
    "        \"clusterBkg\": \"#0B0D17\",\n",
    "        \"clusterBorder\": \"#1D1F2B\"\n",
    "    },\n",
    "    \"flowchart\": {\n",
    "        \"useMaxWidth\": true,\n",
    "        \"htmlLabels\": true,\n",
    "        \"wrap\": true\n",
    "    }\n",
    "}}%%\n",
    "\n",
    "graph TD\n",
    "\n",
    "        %% Voice Call at top\n",
    "        VoiceCall[\"Voice Call<br/>(Inbound/Outbound)\"]:::voice\n",
    "\n",
    "        %% AI Components on the left\n",
    "        RAG[\"RAG<br/>(Tools | Knowledge)\"]:::ai\n",
    "        MCP[\"MCP<br/>(Model Context<br/>Protocol)\"]:::ai\n",
    "\n",
    "        %% Conversation Relay in center\n",
    "        ConvRelay[\"Conversation Relay\"]:::relay\n",
    "\n",
    "        %% LLM Models on the right\n",
    "        GPT[\"GPT\"]:::llm\n",
    "        Gemini[\"Gemini\"]:::llm\n",
    "        Claude[\"Claude\"]:::llm\n",
    "        DeepSeek[\"DeepSeek\"]:::llm\n",
    "\n",
    "        %% External Server at bottom\n",
    "        ExtServer[\"External Server<br/>(WebSocket Handler)\"]:::backend\n",
    "\n",
    "        %% Vertical main flow\n",
    "        VoiceCall -->|\"Customer Speech\"| ConvRelay\n",
    "        ConvRelay -->|\"STT | Events\"| ExtServer\n",
    "\n",
    "        %% Horizontal connections to AI components\n",
    "        ExtServer -.-> RAG\n",
    "        ExtServer -.-> MCP\n",
    "        \n",
    "        %% Connections to LLM models\n",
    "        ExtServer -->|\"Text Prompts\"| GPT\n",
    "        ExtServer -->|\"Text Prompts\"| Gemini\n",
    "        ExtServer -->|\"Text Prompts\"| Claude\n",
    "        ExtServer -->|\"Text Prompts\"| DeepSeek\n",
    "\n",
    "        %% Return flow\n",
    "        GPT -->|\"AI Response\"| ExtServer\n",
    "        Gemini -->|\"AI Response\"| ExtServer\n",
    "        Claude -->|\"AI Response\"| ExtServer\n",
    "        DeepSeek -->|\"AI Response\"| ExtServer\n",
    "\n",
    "        RAG -.-> ExtServer\n",
    "        MCP -.-> ExtServer\n",
    "\n",
    "        ExtServer -->|\"LLM Response\"| ConvRelay\n",
    "        ConvRelay -->|\"TTS<br/>(Text to Speech)\"| VoiceCall\n",
    "\n",
    "        %% Styling\n",
    "        classDef voice fill:#0DC5FB,stroke:#0B3D91,stroke-width:3px,color:#ffffff\n",
    "        classDef relay fill:#F22F46,stroke:#0B3D91,stroke-width:3px,color:#ffffff\n",
    "        classDef backend fill:#4B0082,stroke:#F22F46,stroke-width:3px,color:#ffffff\n",
    "        classDef ai fill:#661847,stroke:#F22F46,stroke-width:2px,color:#ffffff\n",
    "        classDef llm fill:#ffffff,stroke:#4B0082,stroke-width:2px,color:#4B0082\n",
    "\"\"\"\n",
    "\n",
    "display(Mermaid(mermaid_string))"
   ]
  },
  {
   "cell_type": "code",
   "execution_count": 114,
   "id": "dddf8ceb",
   "metadata": {
    "slideshow": {
     "slide_type": "subslide"
    }
   },
   "outputs": [
    {
     "data": {
      "text/html": [
       "<svg id=\"mermaid-svg\" width=\"100%\" xmlns=\"http://www.w3.org/2000/svg\" style=\"max-width: 1686.5px;\" viewBox=\"-50 -10 1686.5 535\" role=\"graphics-document document\" aria-roledescription=\"sequence\" xmlns:xlink=\"http://www.w3.org/1999/xlink\"><style xmlns=\"http://www.w3.org/1999/xhtml\">@import url(\"https://cdnjs.cloudflare.com/ajax/libs/font-awesome/6.7.2/css/all.min.css\");</style><g><rect x=\"1306.5\" y=\"449\" fill=\"#eaeaea\" stroke=\"#666\" width=\"280\" height=\"65\" name=\"LLM\" rx=\"3\" ry=\"3\" class=\"actor actor-bottom\"/><text x=\"1446.5\" y=\"481.5\" dominant-baseline=\"central\" alignment-baseline=\"central\" class=\"actor actor-box\" style=\"text-anchor: middle; font-size: 16px; font-weight: 400;\"><tspan x=\"1446.5\" dy=\"0\">LLM (GPT, Gemini, Claude, DeepSeek)</tspan></text></g><g><rect x=\"1033.5\" y=\"449\" fill=\"#eaeaea\" stroke=\"#666\" width=\"223\" height=\"65\" name=\"MCP\" rx=\"3\" ry=\"3\" class=\"actor actor-bottom\"/><text x=\"1145\" y=\"481.5\" dominant-baseline=\"central\" alignment-baseline=\"central\" class=\"actor actor-box\" style=\"text-anchor: middle; font-size: 16px; font-weight: 400;\"><tspan x=\"1145\" dy=\"0\">MCP (Model Context Protocol)</tspan></text></g><g><rect x=\"722.5\" y=\"449\" fill=\"#eaeaea\" stroke=\"#666\" width=\"261\" height=\"65\" name=\"RAG\" rx=\"3\" ry=\"3\" class=\"actor actor-bottom\"/><text x=\"853\" y=\"481.5\" dominant-baseline=\"central\" alignment-baseline=\"central\" class=\"actor actor-box\" style=\"text-anchor: middle; font-size: 16px; font-weight: 400;\"><tspan x=\"853\" dy=\"0\">RAG (Ferramentas &amp; Conhecimento)</tspan></text></g><g><rect x=\"480\" y=\"449\" fill=\"#eaeaea\" stroke=\"#666\" width=\"150\" height=\"65\" name=\"Server\" rx=\"3\" ry=\"3\" class=\"actor actor-bottom\"/><text x=\"555\" y=\"481.5\" dominant-baseline=\"central\" alignment-baseline=\"central\" class=\"actor actor-box\" style=\"text-anchor: middle; font-size: 16px; font-weight: 400;\"><tspan x=\"555\" dy=\"0\">External Server</tspan></text></g><g><rect x=\"203\" y=\"449\" fill=\"#eaeaea\" stroke=\"#666\" width=\"150\" height=\"65\" name=\"Relay\" rx=\"3\" ry=\"3\" class=\"actor actor-bottom\"/><text x=\"278\" y=\"481.5\" dominant-baseline=\"central\" alignment-baseline=\"central\" class=\"actor actor-box\" style=\"text-anchor: middle; font-size: 16px; font-weight: 400;\"><tspan x=\"278\" dy=\"0\">Conversation Relay</tspan></text></g><g><rect x=\"0\" y=\"449\" fill=\"#eaeaea\" stroke=\"#666\" width=\"152\" height=\"65\" name=\"User\" rx=\"3\" ry=\"3\" class=\"actor actor-bottom\"/><text x=\"76\" y=\"481.5\" dominant-baseline=\"central\" alignment-baseline=\"central\" class=\"actor actor-box\" style=\"text-anchor: middle; font-size: 16px; font-weight: 400;\"><tspan x=\"76\" dy=\"0\">Voice Call (Usuário)</tspan></text></g><g><line id=\"actor5\" x1=\"1446.5\" y1=\"65\" x2=\"1446.5\" y2=\"449\" class=\"actor-line 200\" stroke-width=\"0.5px\" stroke=\"#999\" name=\"LLM\"/><g id=\"root-5\"><rect x=\"1306.5\" y=\"0\" fill=\"#eaeaea\" stroke=\"#666\" width=\"280\" height=\"65\" name=\"LLM\" rx=\"3\" ry=\"3\" class=\"actor actor-top\"/><text x=\"1446.5\" y=\"32.5\" dominant-baseline=\"central\" alignment-baseline=\"central\" class=\"actor actor-box\" style=\"text-anchor: middle; font-size: 16px; font-weight: 400;\"><tspan x=\"1446.5\" dy=\"0\">LLM (GPT, Gemini, Claude, DeepSeek)</tspan></text></g></g><g><line id=\"actor4\" x1=\"1145\" y1=\"65\" x2=\"1145\" y2=\"449\" class=\"actor-line 200\" stroke-width=\"0.5px\" stroke=\"#999\" name=\"MCP\"/><g id=\"root-4\"><rect x=\"1033.5\" y=\"0\" fill=\"#eaeaea\" stroke=\"#666\" width=\"223\" height=\"65\" name=\"MCP\" rx=\"3\" ry=\"3\" class=\"actor actor-top\"/><text x=\"1145\" y=\"32.5\" dominant-baseline=\"central\" alignment-baseline=\"central\" class=\"actor actor-box\" style=\"text-anchor: middle; font-size: 16px; font-weight: 400;\"><tspan x=\"1145\" dy=\"0\">MCP (Model Context Protocol)</tspan></text></g></g><g><line id=\"actor3\" x1=\"853\" y1=\"65\" x2=\"853\" y2=\"449\" class=\"actor-line 200\" stroke-width=\"0.5px\" stroke=\"#999\" name=\"RAG\"/><g id=\"root-3\"><rect x=\"722.5\" y=\"0\" fill=\"#eaeaea\" stroke=\"#666\" width=\"261\" height=\"65\" name=\"RAG\" rx=\"3\" ry=\"3\" class=\"actor actor-top\"/><text x=\"853\" y=\"32.5\" dominant-baseline=\"central\" alignment-baseline=\"central\" class=\"actor actor-box\" style=\"text-anchor: middle; font-size: 16px; font-weight: 400;\"><tspan x=\"853\" dy=\"0\">RAG (Ferramentas &amp; Conhecimento)</tspan></text></g></g><g><line id=\"actor2\" x1=\"555\" y1=\"65\" x2=\"555\" y2=\"449\" class=\"actor-line 200\" stroke-width=\"0.5px\" stroke=\"#999\" name=\"Server\"/><g id=\"root-2\"><rect x=\"480\" y=\"0\" fill=\"#eaeaea\" stroke=\"#666\" width=\"150\" height=\"65\" name=\"Server\" rx=\"3\" ry=\"3\" class=\"actor actor-top\"/><text x=\"555\" y=\"32.5\" dominant-baseline=\"central\" alignment-baseline=\"central\" class=\"actor actor-box\" style=\"text-anchor: middle; font-size: 16px; font-weight: 400;\"><tspan x=\"555\" dy=\"0\">External Server</tspan></text></g></g><g><line id=\"actor1\" x1=\"278\" y1=\"65\" x2=\"278\" y2=\"449\" class=\"actor-line 200\" stroke-width=\"0.5px\" stroke=\"#999\" name=\"Relay\"/><g id=\"root-1\"><rect x=\"203\" y=\"0\" fill=\"#eaeaea\" stroke=\"#666\" width=\"150\" height=\"65\" name=\"Relay\" rx=\"3\" ry=\"3\" class=\"actor actor-top\"/><text x=\"278\" y=\"32.5\" dominant-baseline=\"central\" alignment-baseline=\"central\" class=\"actor actor-box\" style=\"text-anchor: middle; font-size: 16px; font-weight: 400;\"><tspan x=\"278\" dy=\"0\">Conversation Relay</tspan></text></g></g><g><line id=\"actor0\" x1=\"76\" y1=\"65\" x2=\"76\" y2=\"449\" class=\"actor-line 200\" stroke-width=\"0.5px\" stroke=\"#999\" name=\"User\"/><g id=\"root-0\"><rect x=\"0\" y=\"0\" fill=\"#eaeaea\" stroke=\"#666\" width=\"152\" height=\"65\" name=\"User\" rx=\"3\" ry=\"3\" class=\"actor actor-top\"/><text x=\"76\" y=\"32.5\" dominant-baseline=\"central\" alignment-baseline=\"central\" class=\"actor actor-box\" style=\"text-anchor: middle; font-size: 16px; font-weight: 400;\"><tspan x=\"76\" dy=\"0\">Voice Call (Usuário)</tspan></text></g></g><style>#mermaid-svg{font-family:\"trebuchet ms\",verdana,arial,sans-serif;font-size:16px;fill:#FFFFFF;}@keyframes edge-animation-frame{from{stroke-dashoffset:0;}}@keyframes dash{to{stroke-dashoffset:0;}}#mermaid-svg .edge-animation-slow{stroke-dasharray:9,5!important;stroke-dashoffset:900;animation:dash 50s linear infinite;stroke-linecap:round;}#mermaid-svg .edge-animation-fast{stroke-dasharray:9,5!important;stroke-dashoffset:900;animation:dash 20s linear infinite;stroke-linecap:round;}#mermaid-svg .error-icon{fill:#0DC5FB;}#mermaid-svg .error-text{fill:#FFFFFF;stroke:#FFFFFF;}#mermaid-svg .edge-thickness-normal{stroke-width:1px;}#mermaid-svg .edge-thickness-thick{stroke-width:3.5px;}#mermaid-svg .edge-pattern-solid{stroke-dasharray:0;}#mermaid-svg .edge-thickness-invisible{stroke-width:0;fill:none;}#mermaid-svg .edge-pattern-dashed{stroke-dasharray:3;}#mermaid-svg .edge-pattern-dotted{stroke-dasharray:2;}#mermaid-svg .marker{fill:#f4f2e8;stroke:#f4f2e8;}#mermaid-svg .marker.cross{stroke:#f4f2e8;}#mermaid-svg svg{font-family:\"trebuchet ms\",verdana,arial,sans-serif;font-size:16px;}#mermaid-svg p{margin:0;}#mermaid-svg .actor{stroke:#661847;fill:#12284C;}#mermaid-svg text.actor&gt;tspan{fill:#FFFFFF;stroke:none;}#mermaid-svg .actor-line{stroke:#661847;}#mermaid-svg .messageLine0{stroke-width:1.5;stroke-dasharray:none;stroke:#FFFFFF;}#mermaid-svg .messageLine1{stroke-width:1.5;stroke-dasharray:2,2;stroke:#FFFFFF;}#mermaid-svg #arrowhead path{fill:#FFFFFF;stroke:#FFFFFF;}#mermaid-svg .sequenceNumber{fill:#0b0d17;}#mermaid-svg #sequencenumber{fill:#FFFFFF;}#mermaid-svg #crosshead path{fill:#FFFFFF;stroke:#FFFFFF;}#mermaid-svg .messageText{fill:#FFFFFF;stroke:none;}#mermaid-svg .labelBox{stroke:#661847;fill:#12284C;}#mermaid-svg .labelText,#mermaid-svg .labelText&gt;tspan{fill:#FFFFFF;stroke:none;}#mermaid-svg .loopText,#mermaid-svg .loopText&gt;tspan{fill:#FFFFFF;stroke:none;}#mermaid-svg .loopLine{stroke-width:2px;stroke-dasharray:2,2;stroke:#661847;fill:#661847;}#mermaid-svg .note{stroke:hsl(274.6153846154, 60%, 15.4901960784%);fill:#4B0082;}#mermaid-svg .noteText,#mermaid-svg .noteText&gt;tspan{fill:#FFFFFF;stroke:none;}#mermaid-svg .activation0{fill:hsl(97.2413793103, 61.7021276596%, 18.431372549%);stroke:hsl(97.2413793103, 61.7021276596%, 8.431372549%);}#mermaid-svg .activation1{fill:hsl(97.2413793103, 61.7021276596%, 18.431372549%);stroke:hsl(97.2413793103, 61.7021276596%, 8.431372549%);}#mermaid-svg .activation2{fill:hsl(97.2413793103, 61.7021276596%, 18.431372549%);stroke:hsl(97.2413793103, 61.7021276596%, 8.431372549%);}#mermaid-svg .actorPopupMenu{position:absolute;}#mermaid-svg .actorPopupMenuPanel{position:absolute;fill:#12284C;box-shadow:0px 8px 16px 0px rgba(0,0,0,0.2);filter:drop-shadow(3px 5px 2px rgb(0 0 0 / 0.4));}#mermaid-svg .actor-man line{stroke:#661847;fill:#12284C;}#mermaid-svg .actor-man circle,#mermaid-svg line{stroke:#661847;fill:#12284C;stroke-width:2px;}#mermaid-svg :root{--mermaid-font-family:\"trebuchet ms\",verdana,arial,sans-serif;}</style><g/><defs><symbol id=\"computer\" width=\"24\" height=\"24\"><path transform=\"scale(.5)\" d=\"M2 2v13h20v-13h-20zm18 11h-16v-9h16v9zm-10.228 6l.466-1h3.524l.467 1h-4.457zm14.228 3h-24l2-6h2.104l-1.33 4h18.45l-1.297-4h2.073l2 6zm-5-10h-14v-7h14v7z\"/></symbol></defs><defs><symbol id=\"database\" fill-rule=\"evenodd\" clip-rule=\"evenodd\"><path transform=\"scale(.5)\" d=\"M12.258.001l.256.004.255.005.253.008.251.01.249.012.247.015.246.016.242.019.241.02.239.023.236.024.233.027.231.028.229.031.225.032.223.034.22.036.217.038.214.04.211.041.208.043.205.045.201.046.198.048.194.05.191.051.187.053.183.054.18.056.175.057.172.059.168.06.163.061.16.063.155.064.15.066.074.033.073.033.071.034.07.034.069.035.068.035.067.035.066.035.064.036.064.036.062.036.06.036.06.037.058.037.058.037.055.038.055.038.053.038.052.038.051.039.05.039.048.039.047.039.045.04.044.04.043.04.041.04.04.041.039.041.037.041.036.041.034.041.033.042.032.042.03.042.029.042.027.042.026.043.024.043.023.043.021.043.02.043.018.044.017.043.015.044.013.044.012.044.011.045.009.044.007.045.006.045.004.045.002.045.001.045v17l-.001.045-.002.045-.004.045-.006.045-.007.045-.009.044-.011.045-.012.044-.013.044-.015.044-.017.043-.018.044-.02.043-.021.043-.023.043-.024.043-.026.043-.027.042-.029.042-.03.042-.032.042-.033.042-.034.041-.036.041-.037.041-.039.041-.04.041-.041.04-.043.04-.044.04-.045.04-.047.039-.048.039-.05.039-.051.039-.052.038-.053.038-.055.038-.055.038-.058.037-.058.037-.06.037-.06.036-.062.036-.064.036-.064.036-.066.035-.067.035-.068.035-.069.035-.07.034-.071.034-.073.033-.074.033-.15.066-.155.064-.16.063-.163.061-.168.06-.172.059-.175.057-.18.056-.183.054-.187.053-.191.051-.194.05-.198.048-.201.046-.205.045-.208.043-.211.041-.214.04-.217.038-.22.036-.223.034-.225.032-.229.031-.231.028-.233.027-.236.024-.239.023-.241.02-.242.019-.246.016-.247.015-.249.012-.251.01-.253.008-.255.005-.256.004-.258.001-.258-.001-.256-.004-.255-.005-.253-.008-.251-.01-.249-.012-.247-.015-.245-.016-.243-.019-.241-.02-.238-.023-.236-.024-.234-.027-.231-.028-.228-.031-.226-.032-.223-.034-.22-.036-.217-.038-.214-.04-.211-.041-.208-.043-.204-.045-.201-.046-.198-.048-.195-.05-.19-.051-.187-.053-.184-.054-.179-.056-.176-.057-.172-.059-.167-.06-.164-.061-.159-.063-.155-.064-.151-.066-.074-.033-.072-.033-.072-.034-.07-.034-.069-.035-.068-.035-.067-.035-.066-.035-.064-.036-.063-.036-.062-.036-.061-.036-.06-.037-.058-.037-.057-.037-.056-.038-.055-.038-.053-.038-.052-.038-.051-.039-.049-.039-.049-.039-.046-.039-.046-.04-.044-.04-.043-.04-.041-.04-.04-.041-.039-.041-.037-.041-.036-.041-.034-.041-.033-.042-.032-.042-.03-.042-.029-.042-.027-.042-.026-.043-.024-.043-.023-.043-.021-.043-.02-.043-.018-.044-.017-.043-.015-.044-.013-.044-.012-.044-.011-.045-.009-.044-.007-.045-.006-.045-.004-.045-.002-.045-.001-.045v-17l.001-.045.002-.045.004-.045.006-.045.007-.045.009-.044.011-.045.012-.044.013-.044.015-.044.017-.043.018-.044.02-.043.021-.043.023-.043.024-.043.026-.043.027-.042.029-.042.03-.042.032-.042.033-.042.034-.041.036-.041.037-.041.039-.041.04-.041.041-.04.043-.04.044-.04.046-.04.046-.039.049-.039.049-.039.051-.039.052-.038.053-.038.055-.038.056-.038.057-.037.058-.037.06-.037.061-.036.062-.036.063-.036.064-.036.066-.035.067-.035.068-.035.069-.035.07-.034.072-.034.072-.033.074-.033.151-.066.155-.064.159-.063.164-.061.167-.06.172-.059.176-.057.179-.056.184-.054.187-.053.19-.051.195-.05.198-.048.201-.046.204-.045.208-.043.211-.041.214-.04.217-.038.22-.036.223-.034.226-.032.228-.031.231-.028.234-.027.236-.024.238-.023.241-.02.243-.019.245-.016.247-.015.249-.012.251-.01.253-.008.255-.005.256-.004.258-.001.258.001zm-9.258 20.499v.01l.001.021.003.021.004.022.005.021.006.022.007.022.009.023.01.022.011.023.012.023.013.023.015.023.016.024.017.023.018.024.019.024.021.024.022.025.023.024.024.025.052.049.056.05.061.051.066.051.07.051.075.051.079.052.084.052.088.052.092.052.097.052.102.051.105.052.11.052.114.051.119.051.123.051.127.05.131.05.135.05.139.048.144.049.147.047.152.047.155.047.16.045.163.045.167.043.171.043.176.041.178.041.183.039.187.039.19.037.194.035.197.035.202.033.204.031.209.03.212.029.216.027.219.025.222.024.226.021.23.02.233.018.236.016.24.015.243.012.246.01.249.008.253.005.256.004.259.001.26-.001.257-.004.254-.005.25-.008.247-.011.244-.012.241-.014.237-.016.233-.018.231-.021.226-.021.224-.024.22-.026.216-.027.212-.028.21-.031.205-.031.202-.034.198-.034.194-.036.191-.037.187-.039.183-.04.179-.04.175-.042.172-.043.168-.044.163-.045.16-.046.155-.046.152-.047.148-.048.143-.049.139-.049.136-.05.131-.05.126-.05.123-.051.118-.052.114-.051.11-.052.106-.052.101-.052.096-.052.092-.052.088-.053.083-.051.079-.052.074-.052.07-.051.065-.051.06-.051.056-.05.051-.05.023-.024.023-.025.021-.024.02-.024.019-.024.018-.024.017-.024.015-.023.014-.024.013-.023.012-.023.01-.023.01-.022.008-.022.006-.022.006-.022.004-.022.004-.021.001-.021.001-.021v-4.127l-.077.055-.08.053-.083.054-.085.053-.087.052-.09.052-.093.051-.095.05-.097.05-.1.049-.102.049-.105.048-.106.047-.109.047-.111.046-.114.045-.115.045-.118.044-.12.043-.122.042-.124.042-.126.041-.128.04-.13.04-.132.038-.134.038-.135.037-.138.037-.139.035-.142.035-.143.034-.144.033-.147.032-.148.031-.15.03-.151.03-.153.029-.154.027-.156.027-.158.026-.159.025-.161.024-.162.023-.163.022-.165.021-.166.02-.167.019-.169.018-.169.017-.171.016-.173.015-.173.014-.175.013-.175.012-.177.011-.178.01-.179.008-.179.008-.181.006-.182.005-.182.004-.184.003-.184.002h-.37l-.184-.002-.184-.003-.182-.004-.182-.005-.181-.006-.179-.008-.179-.008-.178-.01-.176-.011-.176-.012-.175-.013-.173-.014-.172-.015-.171-.016-.17-.017-.169-.018-.167-.019-.166-.02-.165-.021-.163-.022-.162-.023-.161-.024-.159-.025-.157-.026-.156-.027-.155-.027-.153-.029-.151-.03-.15-.03-.148-.031-.146-.032-.145-.033-.143-.034-.141-.035-.14-.035-.137-.037-.136-.037-.134-.038-.132-.038-.13-.04-.128-.04-.126-.041-.124-.042-.122-.042-.12-.044-.117-.043-.116-.045-.113-.045-.112-.046-.109-.047-.106-.047-.105-.048-.102-.049-.1-.049-.097-.05-.095-.05-.093-.052-.09-.051-.087-.052-.085-.053-.083-.054-.08-.054-.077-.054v4.127zm0-5.654v.011l.001.021.003.021.004.021.005.022.006.022.007.022.009.022.01.022.011.023.012.023.013.023.015.024.016.023.017.024.018.024.019.024.021.024.022.024.023.025.024.024.052.05.056.05.061.05.066.051.07.051.075.052.079.051.084.052.088.052.092.052.097.052.102.052.105.052.11.051.114.051.119.052.123.05.127.051.131.05.135.049.139.049.144.048.147.048.152.047.155.046.16.045.163.045.167.044.171.042.176.042.178.04.183.04.187.038.19.037.194.036.197.034.202.033.204.032.209.03.212.028.216.027.219.025.222.024.226.022.23.02.233.018.236.016.24.014.243.012.246.01.249.008.253.006.256.003.259.001.26-.001.257-.003.254-.006.25-.008.247-.01.244-.012.241-.015.237-.016.233-.018.231-.02.226-.022.224-.024.22-.025.216-.027.212-.029.21-.03.205-.032.202-.033.198-.035.194-.036.191-.037.187-.039.183-.039.179-.041.175-.042.172-.043.168-.044.163-.045.16-.045.155-.047.152-.047.148-.048.143-.048.139-.05.136-.049.131-.05.126-.051.123-.051.118-.051.114-.052.11-.052.106-.052.101-.052.096-.052.092-.052.088-.052.083-.052.079-.052.074-.051.07-.052.065-.051.06-.05.056-.051.051-.049.023-.025.023-.024.021-.025.02-.024.019-.024.018-.024.017-.024.015-.023.014-.023.013-.024.012-.022.01-.023.01-.023.008-.022.006-.022.006-.022.004-.021.004-.022.001-.021.001-.021v-4.139l-.077.054-.08.054-.083.054-.085.052-.087.053-.09.051-.093.051-.095.051-.097.05-.1.049-.102.049-.105.048-.106.047-.109.047-.111.046-.114.045-.115.044-.118.044-.12.044-.122.042-.124.042-.126.041-.128.04-.13.039-.132.039-.134.038-.135.037-.138.036-.139.036-.142.035-.143.033-.144.033-.147.033-.148.031-.15.03-.151.03-.153.028-.154.028-.156.027-.158.026-.159.025-.161.024-.162.023-.163.022-.165.021-.166.02-.167.019-.169.018-.169.017-.171.016-.173.015-.173.014-.175.013-.175.012-.177.011-.178.009-.179.009-.179.007-.181.007-.182.005-.182.004-.184.003-.184.002h-.37l-.184-.002-.184-.003-.182-.004-.182-.005-.181-.007-.179-.007-.179-.009-.178-.009-.176-.011-.176-.012-.175-.013-.173-.014-.172-.015-.171-.016-.17-.017-.169-.018-.167-.019-.166-.02-.165-.021-.163-.022-.162-.023-.161-.024-.159-.025-.157-.026-.156-.027-.155-.028-.153-.028-.151-.03-.15-.03-.148-.031-.146-.033-.145-.033-.143-.033-.141-.035-.14-.036-.137-.036-.136-.037-.134-.038-.132-.039-.13-.039-.128-.04-.126-.041-.124-.042-.122-.043-.12-.043-.117-.044-.116-.044-.113-.046-.112-.046-.109-.046-.106-.047-.105-.048-.102-.049-.1-.049-.097-.05-.095-.051-.093-.051-.09-.051-.087-.053-.085-.052-.083-.054-.08-.054-.077-.054v4.139zm0-5.666v.011l.001.02.003.022.004.021.005.022.006.021.007.022.009.023.01.022.011.023.012.023.013.023.015.023.016.024.017.024.018.023.019.024.021.025.022.024.023.024.024.025.052.05.056.05.061.05.066.051.07.051.075.052.079.051.084.052.088.052.092.052.097.052.102.052.105.051.11.052.114.051.119.051.123.051.127.05.131.05.135.05.139.049.144.048.147.048.152.047.155.046.16.045.163.045.167.043.171.043.176.042.178.04.183.04.187.038.19.037.194.036.197.034.202.033.204.032.209.03.212.028.216.027.219.025.222.024.226.021.23.02.233.018.236.017.24.014.243.012.246.01.249.008.253.006.256.003.259.001.26-.001.257-.003.254-.006.25-.008.247-.01.244-.013.241-.014.237-.016.233-.018.231-.02.226-.022.224-.024.22-.025.216-.027.212-.029.21-.03.205-.032.202-.033.198-.035.194-.036.191-.037.187-.039.183-.039.179-.041.175-.042.172-.043.168-.044.163-.045.16-.045.155-.047.152-.047.148-.048.143-.049.139-.049.136-.049.131-.051.126-.05.123-.051.118-.052.114-.051.11-.052.106-.052.101-.052.096-.052.092-.052.088-.052.083-.052.079-.052.074-.052.07-.051.065-.051.06-.051.056-.05.051-.049.023-.025.023-.025.021-.024.02-.024.019-.024.018-.024.017-.024.015-.023.014-.024.013-.023.012-.023.01-.022.01-.023.008-.022.006-.022.006-.022.004-.022.004-.021.001-.021.001-.021v-4.153l-.077.054-.08.054-.083.053-.085.053-.087.053-.09.051-.093.051-.095.051-.097.05-.1.049-.102.048-.105.048-.106.048-.109.046-.111.046-.114.046-.115.044-.118.044-.12.043-.122.043-.124.042-.126.041-.128.04-.13.039-.132.039-.134.038-.135.037-.138.036-.139.036-.142.034-.143.034-.144.033-.147.032-.148.032-.15.03-.151.03-.153.028-.154.028-.156.027-.158.026-.159.024-.161.024-.162.023-.163.023-.165.021-.166.02-.167.019-.169.018-.169.017-.171.016-.173.015-.173.014-.175.013-.175.012-.177.01-.178.01-.179.009-.179.007-.181.006-.182.006-.182.004-.184.003-.184.001-.185.001-.185-.001-.184-.001-.184-.003-.182-.004-.182-.006-.181-.006-.179-.007-.179-.009-.178-.01-.176-.01-.176-.012-.175-.013-.173-.014-.172-.015-.171-.016-.17-.017-.169-.018-.167-.019-.166-.02-.165-.021-.163-.023-.162-.023-.161-.024-.159-.024-.157-.026-.156-.027-.155-.028-.153-.028-.151-.03-.15-.03-.148-.032-.146-.032-.145-.033-.143-.034-.141-.034-.14-.036-.137-.036-.136-.037-.134-.038-.132-.039-.13-.039-.128-.041-.126-.041-.124-.041-.122-.043-.12-.043-.117-.044-.116-.044-.113-.046-.112-.046-.109-.046-.106-.048-.105-.048-.102-.048-.1-.05-.097-.049-.095-.051-.093-.051-.09-.052-.087-.052-.085-.053-.083-.053-.08-.054-.077-.054v4.153zm8.74-8.179l-.257.004-.254.005-.25.008-.247.011-.244.012-.241.014-.237.016-.233.018-.231.021-.226.022-.224.023-.22.026-.216.027-.212.028-.21.031-.205.032-.202.033-.198.034-.194.036-.191.038-.187.038-.183.04-.179.041-.175.042-.172.043-.168.043-.163.045-.16.046-.155.046-.152.048-.148.048-.143.048-.139.049-.136.05-.131.05-.126.051-.123.051-.118.051-.114.052-.11.052-.106.052-.101.052-.096.052-.092.052-.088.052-.083.052-.079.052-.074.051-.07.052-.065.051-.06.05-.056.05-.051.05-.023.025-.023.024-.021.024-.02.025-.019.024-.018.024-.017.023-.015.024-.014.023-.013.023-.012.023-.01.023-.01.022-.008.022-.006.023-.006.021-.004.022-.004.021-.001.021-.001.021.001.021.001.021.004.021.004.022.006.021.006.023.008.022.01.022.01.023.012.023.013.023.014.023.015.024.017.023.018.024.019.024.02.025.021.024.023.024.023.025.051.05.056.05.06.05.065.051.07.052.074.051.079.052.083.052.088.052.092.052.096.052.101.052.106.052.11.052.114.052.118.051.123.051.126.051.131.05.136.05.139.049.143.048.148.048.152.048.155.046.16.046.163.045.168.043.172.043.175.042.179.041.183.04.187.038.191.038.194.036.198.034.202.033.205.032.21.031.212.028.216.027.22.026.224.023.226.022.231.021.233.018.237.016.241.014.244.012.247.011.25.008.254.005.257.004.26.001.26-.001.257-.004.254-.005.25-.008.247-.011.244-.012.241-.014.237-.016.233-.018.231-.021.226-.022.224-.023.22-.026.216-.027.212-.028.21-.031.205-.032.202-.033.198-.034.194-.036.191-.038.187-.038.183-.04.179-.041.175-.042.172-.043.168-.043.163-.045.16-.046.155-.046.152-.048.148-.048.143-.048.139-.049.136-.05.131-.05.126-.051.123-.051.118-.051.114-.052.11-.052.106-.052.101-.052.096-.052.092-.052.088-.052.083-.052.079-.052.074-.051.07-.052.065-.051.06-.05.056-.05.051-.05.023-.025.023-.024.021-.024.02-.025.019-.024.018-.024.017-.023.015-.024.014-.023.013-.023.012-.023.01-.023.01-.022.008-.022.006-.023.006-.021.004-.022.004-.021.001-.021.001-.021-.001-.021-.001-.021-.004-.021-.004-.022-.006-.021-.006-.023-.008-.022-.01-.022-.01-.023-.012-.023-.013-.023-.014-.023-.015-.024-.017-.023-.018-.024-.019-.024-.02-.025-.021-.024-.023-.024-.023-.025-.051-.05-.056-.05-.06-.05-.065-.051-.07-.052-.074-.051-.079-.052-.083-.052-.088-.052-.092-.052-.096-.052-.101-.052-.106-.052-.11-.052-.114-.052-.118-.051-.123-.051-.126-.051-.131-.05-.136-.05-.139-.049-.143-.048-.148-.048-.152-.048-.155-.046-.16-.046-.163-.045-.168-.043-.172-.043-.175-.042-.179-.041-.183-.04-.187-.038-.191-.038-.194-.036-.198-.034-.202-.033-.205-.032-.21-.031-.212-.028-.216-.027-.22-.026-.224-.023-.226-.022-.231-.021-.233-.018-.237-.016-.241-.014-.244-.012-.247-.011-.25-.008-.254-.005-.257-.004-.26-.001-.26.001z\"/></symbol></defs><defs><symbol id=\"clock\" width=\"24\" height=\"24\"><path transform=\"scale(.5)\" d=\"M12 2c5.514 0 10 4.486 10 10s-4.486 10-10 10-10-4.486-10-10 4.486-10 10-10zm0-2c-6.627 0-12 5.373-12 12s5.373 12 12 12 12-5.373 12-12-5.373-12-12-12zm5.848 12.459c.202.038.202.333.001.372-1.907.361-6.045 1.111-6.547 1.111-.719 0-1.301-.582-1.301-1.301 0-.512.77-5.447 1.125-7.445.034-.192.312-.181.343.014l.985 6.238 5.394 1.011z\"/></symbol></defs><defs><marker id=\"arrowhead\" refX=\"7.9\" refY=\"5\" markerUnits=\"userSpaceOnUse\" markerWidth=\"12\" markerHeight=\"12\" orient=\"auto-start-reverse\"><path d=\"M -1 0 L 10 5 L 0 10 z\"/></marker></defs><defs><marker id=\"crosshead\" markerWidth=\"15\" markerHeight=\"8\" orient=\"auto\" refX=\"4\" refY=\"4.5\"><path fill=\"none\" stroke=\"#000000\" stroke-width=\"1pt\" d=\"M 1,2 L 6,7 M 6,2 L 1,7\" style=\"stroke-dasharray: 0, 0;\"/></marker></defs><defs><marker id=\"filled-head\" refX=\"15.5\" refY=\"7\" markerWidth=\"20\" markerHeight=\"28\" orient=\"auto\"><path d=\"M 18,7 L9,13 L14,7 L9,1 Z\"/></marker></defs><defs><marker id=\"sequencenumber\" refX=\"15\" refY=\"15\" markerWidth=\"60\" markerHeight=\"40\" orient=\"auto\"><circle cx=\"15\" cy=\"15\" r=\"6\"/></marker></defs><text x=\"176\" y=\"80\" text-anchor=\"middle\" dominant-baseline=\"middle\" alignment-baseline=\"middle\" class=\"messageText\" dy=\"1em\" style=\"font-size: 16px; font-weight: 400;\">Fala do cliente (voz)</text><line x1=\"77\" y1=\"111\" x2=\"274\" y2=\"111\" class=\"messageLine0\" stroke-width=\"2\" stroke=\"none\" marker-end=\"url(#arrowhead)\" style=\"fill: none;\"/><text x=\"415\" y=\"126\" text-anchor=\"middle\" dominant-baseline=\"middle\" alignment-baseline=\"middle\" class=\"messageText\" dy=\"1em\" style=\"font-size: 16px; font-weight: 400;\">STT + Eventos (via WebSocket)</text><line x1=\"279\" y1=\"157\" x2=\"551\" y2=\"157\" class=\"messageLine0\" stroke-width=\"2\" stroke=\"none\" marker-end=\"url(#arrowhead)\" style=\"fill: none;\"/><text x=\"703\" y=\"172\" text-anchor=\"middle\" dominant-baseline=\"middle\" alignment-baseline=\"middle\" class=\"messageText\" dy=\"1em\" style=\"font-size: 16px; font-weight: 400;\">Busca Ferramentas / Conhecimento</text><line x1=\"556\" y1=\"201\" x2=\"849\" y2=\"201\" class=\"messageLine1\" stroke-width=\"2\" stroke=\"none\" marker-end=\"url(#arrowhead)\" style=\"stroke-dasharray: 3, 3; fill: none;\"/><text x=\"849\" y=\"216\" text-anchor=\"middle\" dominant-baseline=\"middle\" alignment-baseline=\"middle\" class=\"messageText\" dy=\"1em\" style=\"font-size: 16px; font-weight: 400;\">Ajusta contexto</text><line x1=\"556\" y1=\"247\" x2=\"1141\" y2=\"247\" class=\"messageLine1\" stroke-width=\"2\" stroke=\"none\" marker-end=\"url(#arrowhead)\" style=\"stroke-dasharray: 3, 3; fill: none;\"/><text x=\"999\" y=\"262\" text-anchor=\"middle\" dominant-baseline=\"middle\" alignment-baseline=\"middle\" class=\"messageText\" dy=\"1em\" style=\"font-size: 16px; font-weight: 400;\">Prompt com texto</text><line x1=\"556\" y1=\"293\" x2=\"1442.5\" y2=\"293\" class=\"messageLine0\" stroke-width=\"2\" stroke=\"none\" marker-end=\"url(#arrowhead)\" style=\"fill: none;\"/><text x=\"1002\" y=\"308\" text-anchor=\"middle\" dominant-baseline=\"middle\" alignment-baseline=\"middle\" class=\"messageText\" dy=\"1em\" style=\"font-size: 16px; font-weight: 400;\">Resposta da IA</text><line x1=\"1445.5\" y1=\"339\" x2=\"559\" y2=\"339\" class=\"messageLine1\" stroke-width=\"2\" stroke=\"none\" marker-end=\"url(#arrowhead)\" style=\"stroke-dasharray: 3, 3; fill: none;\"/><text x=\"418\" y=\"354\" text-anchor=\"middle\" dominant-baseline=\"middle\" alignment-baseline=\"middle\" class=\"messageText\" dy=\"1em\" style=\"font-size: 16px; font-weight: 400;\">Texto final da IA</text><line x1=\"554\" y1=\"383\" x2=\"282\" y2=\"383\" class=\"messageLine0\" stroke-width=\"2\" stroke=\"none\" marker-end=\"url(#arrowhead)\" style=\"fill: none;\"/><text x=\"179\" y=\"398\" text-anchor=\"middle\" dominant-baseline=\"middle\" alignment-baseline=\"middle\" class=\"messageText\" dy=\"1em\" style=\"font-size: 16px; font-weight: 400;\">Resposta (via TTS)</text><line x1=\"277\" y1=\"429\" x2=\"80\" y2=\"429\" class=\"messageLine0\" stroke-width=\"2\" stroke=\"none\" marker-end=\"url(#arrowhead)\" style=\"fill: none;\"/></svg>"
      ],
      "text/plain": [
       "<mermaid.__main__.Mermaid at 0x1051317f0>"
      ]
     },
     "metadata": {},
     "output_type": "display_data"
    }
   ],
   "source": [
    "sequence_mermaid_simplified = \"\"\"\n",
    "%%{init: {\n",
    "  \"theme\": \"base\",\n",
    "  \"themeVariables\": {\n",
    "    \"background\": \"#0B0D17\",\n",
    "    \"primaryColor\": \"#12284C\",\n",
    "    \"primaryBorderColor\": \"#661847\",\n",
    "    \"primaryTextColor\": \"#FFFFFF\",\n",
    "    \"tertiaryColor\": \"#0DC5FB\",\n",
    "    \"tertiaryBorderColor\": \"#0B3D91\",\n",
    "    \"tertiaryTextColor\": \"#FFFFFF\",\n",
    "    \"noteBkgColor\": \"#4B0082\",\n",
    "    \"noteTextColor\": \"#FFFFFF\",\n",
    "    \"clusterBkg\": \"#0B0D17\",\n",
    "    \"clusterBorder\": \"#1D1F2B\"\n",
    "  },\n",
    "  \"sequence\": {\n",
    "    \"actorFontSize\": \"30px\",\n",
    "    \"noteFontSize\": \"20px\",\n",
    "    \"messageFontSize\": \"16px\"\n",
    "  }\n",
    "}}%%\n",
    "\n",
    "sequenceDiagram\n",
    "    participant User as Voice Call (Usuário)\n",
    "    participant Relay as Conversation Relay\n",
    "    participant Server as External Server\n",
    "    participant RAG as RAG (Ferramentas & Conhecimento)\n",
    "    participant MCP as MCP (Model Context Protocol)\n",
    "    participant LLM as LLM (GPT, Gemini, Claude, DeepSeek)\n",
    "\n",
    "    User->>Relay: Fala do cliente (voz)\n",
    "    Relay->>Server: STT + Eventos (via WebSocket)\n",
    "\n",
    "    Server-->>RAG: Busca Ferramentas / Conhecimento\n",
    "    Server-->>MCP: Ajusta contexto\n",
    "\n",
    "    Server->>LLM: Prompt com texto\n",
    "    LLM-->>Server: Resposta da IA\n",
    "\n",
    "    Server->>Relay: Texto final da IA\n",
    "    Relay->>User: Resposta (via TTS)\n",
    "\"\"\"\n",
    "\n",
    "display(Mermaid(sequence_mermaid_simplified))\n"
   ]
  },
  {
   "cell_type": "markdown",
   "id": "028048d3",
   "metadata": {},
   "source": [
    "___"
   ]
  },
  {
   "cell_type": "markdown",
   "id": "5fe472fb",
   "metadata": {
    "slideshow": {
     "slide_type": "slide"
    }
   },
   "source": [
    "### Conversation Relay usando a biblioteca da Twilio para Python"
   ]
  },
  {
   "cell_type": "code",
   "execution_count": 26,
   "id": "ac66c624",
   "metadata": {
    "slideshow": {
     "slide_type": "fragment"
    }
   },
   "outputs": [
    {
     "data": {
      "text/html": [
       "\n",
       "    \n",
       "    <style>\n",
       "    .twilio-xml-box {\n",
       "        background: #0B0D17;\n",
       "        border: 1px solid #661847;\n",
       "        padding: 20px;\n",
       "        border-radius: 12px;\n",
       "        font-family: 'Courier New', monospace;\n",
       "        font-size: 0.95em;\n",
       "        color: #FFFFFF;\n",
       "        white-space: pre-wrap;\n",
       "        line-height: 1.5;\n",
       "        box-shadow: 0 0 12px rgba(242, 47, 70, 0.4);\n",
       "        margin: 20px auto;\n",
       "        width: 90%;\n",
       "    }\n",
       "    .twilio-xml-box span.tag {\n",
       "        color: #F22F46;\n",
       "    }\n",
       "    .twilio-xml-box span.attr {\n",
       "        color: #0DC5FB;\n",
       "    }\n",
       "    </style>\n",
       "    \n",
       "    <div class=\"twilio-xml-box\">&lt;Response&gt;\n",
       "  &lt;Connect&gt;\n",
       "    &lt;ConversationRelay url=\"wss://my-websocket-server.com/websocket\"&gt;\n",
       "      &lt;Language code=\"pt-BR\" speechModel=\"telephony\" transcriptionProvider=\"google\" ttsProvider=\"ElevenLabs\" voice=\"UgBBYS2sOqTuMpoF3BR0\"/&gt;\n",
       "    &lt;/ConversationRelay&gt;\n",
       "  &lt;/Connect&gt;\n",
       "&lt;/Response&gt;\n",
       "</div>\n",
       "    "
      ],
      "text/plain": [
       "<IPython.core.display.HTML object>"
      ]
     },
     "metadata": {},
     "output_type": "display_data"
    },
    {
     "data": {
      "text/plain": [
       "'<Response>\\n  <Connect>\\n    <ConversationRelay url=\"wss://my-websocket-server.com/websocket\">\\n      <Language code=\"pt-BR\" speechModel=\"telephony\" transcriptionProvider=\"google\" ttsProvider=\"ElevenLabs\" voice=\"UgBBYS2sOqTuMpoF3BR0\"/>\\n    </ConversationRelay>\\n  </Connect>\\n</Response>'"
      ]
     },
     "execution_count": 26,
     "metadata": {},
     "output_type": "execute_result"
    }
   ],
   "source": [
    "from twilio.twiml.voice_response import Connect, ConversationRelay, Language, VoiceResponse\n",
    "\n",
    "response = VoiceResponse()\n",
    "connect = Connect()\n",
    "\n",
    "conversationrelay = ConversationRelay(\n",
    "    url='wss://my-websocket-server.com/websocket') # External Server integrated to the LLMs\n",
    "\n",
    "conversationrelay.language(\n",
    "    code='pt-BR',\n",
    "    tts_provider='ElevenLabs', # Text to Speech provider\n",
    "    voice='UgBBYS2sOqTuMpoF3BR0', # Voice ID from tts_provider ElevenLabs\n",
    "    transcription_provider='google', \n",
    "    speech_model='telephony')\n",
    "\n",
    "connect.append(conversationrelay)\n",
    "\n",
    "response.append(connect)\n",
    "\n",
    "pretty_print_twiml(response)"
   ]
  },
  {
   "cell_type": "markdown",
   "id": "b7f95387",
   "metadata": {},
   "source": [
    "___"
   ]
  },
  {
   "cell_type": "markdown",
   "id": "5baae771",
   "metadata": {
    "slideshow": {
     "slide_type": "slide"
    }
   },
   "source": [
    "## _Quem sabe faz ao vivis_"
   ]
  },
  {
   "cell_type": "markdown",
   "id": "28e856f4",
   "metadata": {
    "slideshow": {
     "slide_type": "fragment"
    }
   },
   "source": [
    "### Fazendo chamadas com `<ConversationRelay>`"
   ]
  },
  {
   "cell_type": "code",
   "execution_count": 29,
   "id": "e1cb9c78",
   "metadata": {
    "slideshow": {
     "slide_type": "fragment"
    }
   },
   "outputs": [],
   "source": [
    "from twilio.twiml.voice_response import VoiceResponse, Connect, ConversationRelay\n",
    "\n",
    "# Get your ngrok domain from .env file\n",
    "ngrok_domain = os.getenv('NGROK_DOMAIN', 'your-custom-domain.ngrok-free.app')\n",
    "\n",
    "# Create TwiML with Conversation Relay\n",
    "response = VoiceResponse()\n",
    "connect = Connect()"
   ]
  },
  {
   "cell_type": "code",
   "execution_count": 30,
   "id": "a645a04f",
   "metadata": {},
   "outputs": [
    {
     "name": "stdout",
     "output_type": "stream",
     "text": [
      "Call SID: CAbf9c9f85e225e9a2eb37ae39180d7181\n",
      "WebSocket URL: wss://owlbank.ngrok.io\n"
     ]
    },
    {
     "data": {
      "text/html": [
       "\n",
       "    \n",
       "    <style>\n",
       "    .twilio-xml-box {\n",
       "        background: #0B0D17;\n",
       "        border: 1px solid #661847;\n",
       "        padding: 20px;\n",
       "        border-radius: 12px;\n",
       "        font-family: 'Courier New', monospace;\n",
       "        font-size: 0.95em;\n",
       "        color: #FFFFFF;\n",
       "        white-space: pre-wrap;\n",
       "        line-height: 1.5;\n",
       "        box-shadow: 0 0 12px rgba(242, 47, 70, 0.4);\n",
       "        margin: 20px auto;\n",
       "        width: 90%;\n",
       "    }\n",
       "    .twilio-xml-box span.tag {\n",
       "        color: #F22F46;\n",
       "    }\n",
       "    .twilio-xml-box span.attr {\n",
       "        color: #0DC5FB;\n",
       "    }\n",
       "    </style>\n",
       "    \n",
       "    <div class=\"twilio-xml-box\">&lt;Response&gt;\n",
       "  &lt;Connect&gt;\n",
       "    &lt;ConversationRelay language=\"pt-BR\" speechModel=\"nova-2-general\" transcriptionProvider=\"Deepgram\" ttsProvider=\"ElevenLabs\" url=\"wss://owlbank.ngrok.io/websocket\" voice=\"7u8qsX4HQsSHJ0f8xsQZ\" welcomeGreeting=\"Olá! Eu sou o assistente virtual do Sígnal São Paulo. Que evento lindo, hein? Como posso ajudar você hoje?\"/&gt;\n",
       "  &lt;/Connect&gt;\n",
       "&lt;/Response&gt;\n",
       "</div>\n",
       "    "
      ],
      "text/plain": [
       "<IPython.core.display.HTML object>"
      ]
     },
     "metadata": {},
     "output_type": "display_data"
    },
    {
     "data": {
      "text/plain": [
       "'<Response>\\n  <Connect>\\n    <ConversationRelay language=\"pt-BR\" speechModel=\"nova-2-general\" transcriptionProvider=\"Deepgram\" ttsProvider=\"ElevenLabs\" url=\"wss://owlbank.ngrok.io/websocket\" voice=\"7u8qsX4HQsSHJ0f8xsQZ\" welcomeGreeting=\"Olá! Eu sou o assistente virtual do Sígnal São Paulo. Que evento lindo, hein? Como posso ajudar você hoje?\"/>\\n  </Connect>\\n</Response>'"
      ]
     },
     "execution_count": 30,
     "metadata": {},
     "output_type": "execute_result"
    }
   ],
   "source": [
    "\n",
    "# Olli, seu assistente virtual, está pronto para ajudar!\n",
    "\n",
    "# Create ConversationRelay pointing to your WebSocket server\n",
    "conversation_relay = ConversationRelay(\n",
    "    \n",
    "    url=f'wss://{ngrok_domain}/websocket',\n",
    "\n",
    "    welcome_greeting=\"Olá! Eu sou o assistente virtual do Sígnal São Paulo. Que evento lindo, hein? Como posso ajudar você hoje?\",\n",
    "    \n",
    "    # Idioma da saudação e default da conversa\n",
    "    language='pt-BR',\n",
    "\n",
    "    # Motor de vocalização e voz\n",
    "    tts_provider='ElevenLabs',\n",
    "    voice='7u8qsX4HQsSHJ0f8xsQZ',\n",
    "\n",
    "    # Motor de transcrição e modelo\n",
    "    transcription_provider='Deepgram',\n",
    "    speech_model='nova-2-general',\n",
    "    \n",
    ")\n",
    "\n",
    "connect.append(conversation_relay)\n",
    "response.append(connect)\n",
    "\n",
    "# Make the call with Conversation Relay\n",
    "call = client.calls.create(\n",
    "    from_=\"+551150397615\",\n",
    "    to=\"+5511993387765\",        # customer profile (Amanda)\n",
    "    twiml=str(response)\n",
    ")\n",
    "\n",
    "print(f\"Call SID: {call.sid}\")\n",
    "print(f\"WebSocket URL: wss://{ngrok_domain}\")\n",
    "pretty_print_twiml(response)\n",
    "\n",
    "# open terminal for tts, stt events ;)"
   ]
  },
  {
   "cell_type": "markdown",
   "id": "4e6632de",
   "metadata": {
    "slideshow": {
     "slide_type": "slide"
    }
   },
   "source": [
    "## Aprimorando a experiência com `attributes` \n",
    "\n",
    "**Vamos melhorar isso um pouco?**"
   ]
  },
  {
   "cell_type": "code",
   "execution_count": 144,
   "id": "f98a2f88",
   "metadata": {
    "slideshow": {
     "slide_type": "fragment"
    }
   },
   "outputs": [
    {
     "ename": "TwilioRestException",
     "evalue": "HTTP 400 error: Unable to create record: Twiml size cannot be more than: 4000",
     "output_type": "error",
     "traceback": [
      "\u001b[31m---------------------------------------------------------------------------\u001b[39m",
      "\u001b[31mTwilioRestException\u001b[39m                       Traceback (most recent call last)",
      "\u001b[36mCell\u001b[39m\u001b[36m \u001b[39m\u001b[32mIn[144]\u001b[39m\u001b[32m, line 46\u001b[39m\n\u001b[32m     43\u001b[39m response.append(connect)\n\u001b[32m     45\u001b[39m \u001b[38;5;66;03m# Make the call with Conversation Relay\u001b[39;00m\n\u001b[32m---> \u001b[39m\u001b[32m46\u001b[39m call = \u001b[43mclient\u001b[49m\u001b[43m.\u001b[49m\u001b[43mcalls\u001b[49m\u001b[43m.\u001b[49m\u001b[43mcreate\u001b[49m\u001b[43m(\u001b[49m\n\u001b[32m     47\u001b[39m \u001b[43m    \u001b[49m\u001b[43mfrom_\u001b[49m\u001b[43m=\u001b[49m\u001b[33;43m\"\u001b[39;49m\u001b[33;43m+551150397615\u001b[39;49m\u001b[33;43m\"\u001b[39;49m\u001b[43m,\u001b[49m\n\u001b[32m     48\u001b[39m \u001b[43m    \u001b[49m\u001b[43mto\u001b[49m\u001b[43m=\u001b[49m\u001b[33;43m\"\u001b[39;49m\u001b[33;43m+5511968432422\u001b[39;49m\u001b[33;43m\"\u001b[39;49m\u001b[43m,\u001b[49m\n\u001b[32m     49\u001b[39m \u001b[43m    \u001b[49m\u001b[43mtwiml\u001b[49m\u001b[43m=\u001b[49m\u001b[38;5;28;43mstr\u001b[39;49m\u001b[43m(\u001b[49m\u001b[43mresponse\u001b[49m\u001b[43m)\u001b[49m\n\u001b[32m     50\u001b[39m \u001b[43m)\u001b[49m\n\u001b[32m     52\u001b[39m \u001b[38;5;28mprint\u001b[39m(\u001b[33mf\u001b[39m\u001b[33m\"\u001b[39m\u001b[33mCall SID: \u001b[39m\u001b[38;5;132;01m{\u001b[39;00mcall.sid\u001b[38;5;132;01m}\u001b[39;00m\u001b[33m\"\u001b[39m)\n\u001b[32m     53\u001b[39m \u001b[38;5;28mprint\u001b[39m(\u001b[33mf\u001b[39m\u001b[33m\"\u001b[39m\u001b[33mWebSocket URL: wss://\u001b[39m\u001b[38;5;132;01m{\u001b[39;00mngrok_domain\u001b[38;5;132;01m}\u001b[39;00m\u001b[33m\"\u001b[39m)\n",
      "\u001b[36mFile \u001b[39m\u001b[32m~/Twilio/CX MAS/Voice/.venv/lib/python3.13/site-packages/twilio/rest/api/v2010/account/call/__init__.py:852\u001b[39m, in \u001b[36mCallList.create\u001b[39m\u001b[34m(self, to, from_, method, fallback_url, fallback_method, status_callback, status_callback_event, status_callback_method, send_digits, timeout, record, recording_channels, recording_status_callback, recording_status_callback_method, sip_auth_username, sip_auth_password, machine_detection, machine_detection_timeout, recording_status_callback_event, trim, caller_id, machine_detection_speech_threshold, machine_detection_speech_end_threshold, machine_detection_silence_timeout, async_amd, async_amd_status_callback, async_amd_status_callback_method, byoc, call_reason, call_token, recording_track, time_limit, url, twiml, application_sid)\u001b[39m\n\u001b[32m    848\u001b[39m headers[\u001b[33m\"\u001b[39m\u001b[33mContent-Type\u001b[39m\u001b[33m\"\u001b[39m] = \u001b[33m\"\u001b[39m\u001b[33mapplication/x-www-form-urlencoded\u001b[39m\u001b[33m\"\u001b[39m\n\u001b[32m    850\u001b[39m headers[\u001b[33m\"\u001b[39m\u001b[33mAccept\u001b[39m\u001b[33m\"\u001b[39m] = \u001b[33m\"\u001b[39m\u001b[33mapplication/json\u001b[39m\u001b[33m\"\u001b[39m\n\u001b[32m--> \u001b[39m\u001b[32m852\u001b[39m payload = \u001b[38;5;28;43mself\u001b[39;49m\u001b[43m.\u001b[49m\u001b[43m_version\u001b[49m\u001b[43m.\u001b[49m\u001b[43mcreate\u001b[49m\u001b[43m(\u001b[49m\n\u001b[32m    853\u001b[39m \u001b[43m    \u001b[49m\u001b[43mmethod\u001b[49m\u001b[43m=\u001b[49m\u001b[33;43m\"\u001b[39;49m\u001b[33;43mPOST\u001b[39;49m\u001b[33;43m\"\u001b[39;49m\u001b[43m,\u001b[49m\u001b[43m \u001b[49m\u001b[43muri\u001b[49m\u001b[43m=\u001b[49m\u001b[38;5;28;43mself\u001b[39;49m\u001b[43m.\u001b[49m\u001b[43m_uri\u001b[49m\u001b[43m,\u001b[49m\u001b[43m \u001b[49m\u001b[43mdata\u001b[49m\u001b[43m=\u001b[49m\u001b[43mdata\u001b[49m\u001b[43m,\u001b[49m\u001b[43m \u001b[49m\u001b[43mheaders\u001b[49m\u001b[43m=\u001b[49m\u001b[43mheaders\u001b[49m\n\u001b[32m    854\u001b[39m \u001b[43m\u001b[49m\u001b[43m)\u001b[49m\n\u001b[32m    856\u001b[39m \u001b[38;5;28;01mreturn\u001b[39;00m CallInstance(\n\u001b[32m    857\u001b[39m     \u001b[38;5;28mself\u001b[39m._version, payload, account_sid=\u001b[38;5;28mself\u001b[39m._solution[\u001b[33m\"\u001b[39m\u001b[33maccount_sid\u001b[39m\u001b[33m\"\u001b[39m]\n\u001b[32m    858\u001b[39m )\n",
      "\u001b[36mFile \u001b[39m\u001b[32m~/Twilio/CX MAS/Voice/.venv/lib/python3.13/site-packages/twilio/base/version.py:463\u001b[39m, in \u001b[36mVersion.create\u001b[39m\u001b[34m(self, method, uri, params, data, headers, auth, timeout, allow_redirects)\u001b[39m\n\u001b[32m    450\u001b[39m \u001b[38;5;250m\u001b[39m\u001b[33;03m\"\"\"\u001b[39;00m\n\u001b[32m    451\u001b[39m \u001b[33;03mCreate a resource instance.\u001b[39;00m\n\u001b[32m    452\u001b[39m \u001b[33;03m\"\"\"\u001b[39;00m\n\u001b[32m    453\u001b[39m response = \u001b[38;5;28mself\u001b[39m.request(\n\u001b[32m    454\u001b[39m     method,\n\u001b[32m    455\u001b[39m     uri,\n\u001b[32m   (...)\u001b[39m\u001b[32m    461\u001b[39m     allow_redirects=allow_redirects,\n\u001b[32m    462\u001b[39m )\n\u001b[32m--> \u001b[39m\u001b[32m463\u001b[39m \u001b[38;5;28;01mreturn\u001b[39;00m \u001b[38;5;28;43mself\u001b[39;49m\u001b[43m.\u001b[49m\u001b[43m_parse_create\u001b[49m\u001b[43m(\u001b[49m\u001b[43mmethod\u001b[49m\u001b[43m,\u001b[49m\u001b[43m \u001b[49m\u001b[43muri\u001b[49m\u001b[43m,\u001b[49m\u001b[43m \u001b[49m\u001b[43mresponse\u001b[49m\u001b[43m)\u001b[49m\n",
      "\u001b[36mFile \u001b[39m\u001b[32m~/Twilio/CX MAS/Voice/.venv/lib/python3.13/site-packages/twilio/base/version.py:435\u001b[39m, in \u001b[36mVersion._parse_create\u001b[39m\u001b[34m(self, method, uri, response)\u001b[39m\n\u001b[32m    431\u001b[39m \u001b[38;5;250m\u001b[39m\u001b[33;03m\"\"\"\u001b[39;00m\n\u001b[32m    432\u001b[39m \u001b[33;03mParse create response JSON\u001b[39;00m\n\u001b[32m    433\u001b[39m \u001b[33;03m\"\"\"\u001b[39;00m\n\u001b[32m    434\u001b[39m \u001b[38;5;28;01mif\u001b[39;00m response.status_code < \u001b[32m200\u001b[39m \u001b[38;5;129;01mor\u001b[39;00m response.status_code >= \u001b[32m300\u001b[39m:\n\u001b[32m--> \u001b[39m\u001b[32m435\u001b[39m     \u001b[38;5;28;01mraise\u001b[39;00m \u001b[38;5;28mself\u001b[39m.exception(method, uri, response, \u001b[33m\"\u001b[39m\u001b[33mUnable to create record\u001b[39m\u001b[33m\"\u001b[39m)\n\u001b[32m    437\u001b[39m \u001b[38;5;28;01mreturn\u001b[39;00m json.loads(response.text)\n",
      "\u001b[31mTwilioRestException\u001b[39m: HTTP 400 error: Unable to create record: Twiml size cannot be more than: 4000"
     ]
    }
   ],
   "source": [
    "# Aprimorando as chamadas feitas com Conversation Relay\n",
    "\n",
    "conversation_relay = ConversationRelay(\n",
    "    url=f'wss://{ngrok_domain}/websocket',\n",
    "\n",
    "\n",
    "    welcome_greeting=\"Olá! Eu sou o assistente virtual do Sígnal São Paulo. Que evento lindo, hein? Como posso ajudar você hoje?\",\n",
    "    welcomeGreetingInterruptible=True,  # Permitir que o usuário interrompa a saudação\n",
    "\n",
    "\n",
    "    language='pt-BR',    \n",
    "    transcription_provider='Deepgram',\n",
    "    speech_model='nova-2-general',    \n",
    "    tts_provider='ElevenLabs',\n",
    "    voice='7u8qsX4HQsSHJ0f8xsQZ',\n",
    "\n",
    "    # Configurações adicionais para aprimorar a experiência do usuário\n",
    "    interruptible=True,  # Permitir que o usuário interrompa o assistente\n",
    "\n",
    "    dtmfDetection=True,  # Habilitar detecção de DTMF (dígitos)\n",
    "\n",
    "    reportInputDuringAgentSpeech=True,  # Reportar entradas do usuário durante o discurso do agente\n",
    "\n",
    "    preemptible=True,  # Permitir que novos tokens do assistente interrompam o TTS em andamento\n",
    "\n",
    "    hints='Twilio, Conversation Relay, Signal São Paulo, Owl Bank', # Sugestões para melhorar a precisão do reconhecimento de fala\n",
    "\n",
    "    debug='debugging, speaker-events, tokens-played', # opções de depuração, eventos de debug, fala e tokens tocados\n",
    "\n",
    "    elevenlabsTextNormalization='on', # Normalização de texto para ElevenLabs TTS\n",
    ")\n",
    "\n",
    "# Adicionando o idioma e o modelo de fala\n",
    "conversation_relay.language(\n",
    "    code='pt-BR',\n",
    "    tts_provider='ElevenLabs',\n",
    "    voice='7u8qsX4HQsSHJ0f8xsQZ',\n",
    "    transcription_provider='Deepgram',\n",
    "    speech_model='nova-2-general'\n",
    ")\n",
    "\n",
    "connect.append(conversation_relay)\n",
    "response.append(connect)\n",
    "\n",
    "# Make the call with Conversation Relay\n",
    "call = client.calls.create(\n",
    "    from_=\"+551150397615\",\n",
    "    to=\"+5511968432422\",\n",
    "    twiml=str(response)\n",
    ")\n",
    "\n",
    "print(f\"Call SID: {call.sid}\")\n",
    "print(f\"WebSocket URL: wss://{ngrok_domain}\")\n",
    "pretty_print_twiml(response)"
   ]
  },
  {
   "cell_type": "markdown",
   "id": "1b3cfb33",
   "metadata": {
    "slideshow": {
     "slide_type": "slide"
    }
   },
   "source": [
    "## Como Escalar com Conversation Relay?"
   ]
  },
  {
   "cell_type": "markdown",
   "id": "9de9dbb4",
   "metadata": {
    "slideshow": {
     "slide_type": "fragment"
    }
   },
   "source": [
    "### `<Language>` \n",
    "\n",
    "Nativamente Multi-Idiomas, Flexibilidade de Modelos para TTS e STT"
   ]
  },
  {
   "cell_type": "code",
   "execution_count": 31,
   "id": "8dc46044",
   "metadata": {
    "slideshow": {
     "slide_type": "fragment"
    }
   },
   "outputs": [],
   "source": [
    "from twilio.twiml.voice_response import VoiceResponse, Connect, ConversationRelay\n",
    "\n",
    "# Get your ngrok domain from .env file\n",
    "ngrok_domain = os.getenv('NGROK_DOMAIN', 'your-custom-domain.ngrok-free.app')\n",
    "\n",
    "# Create TwiML with Conversation Relay\n",
    "response = VoiceResponse()\n",
    "connect = Connect()"
   ]
  },
  {
   "cell_type": "code",
   "execution_count": 32,
   "id": "2896612e",
   "metadata": {},
   "outputs": [
    {
     "name": "stdout",
     "output_type": "stream",
     "text": [
      "Call SID: CA94b6a07ce78137a855bb7ae2ec198f19\n",
      "WebSocket URL: wss://owlbank.ngrok.io\n"
     ]
    },
    {
     "data": {
      "text/html": [
       "\n",
       "    \n",
       "    <style>\n",
       "    .twilio-xml-box {\n",
       "        background: #0B0D17;\n",
       "        border: 1px solid #661847;\n",
       "        padding: 20px;\n",
       "        border-radius: 12px;\n",
       "        font-family: 'Courier New', monospace;\n",
       "        font-size: 0.95em;\n",
       "        color: #FFFFFF;\n",
       "        white-space: pre-wrap;\n",
       "        line-height: 1.5;\n",
       "        box-shadow: 0 0 12px rgba(242, 47, 70, 0.4);\n",
       "        margin: 20px auto;\n",
       "        width: 90%;\n",
       "    }\n",
       "    .twilio-xml-box span.tag {\n",
       "        color: #F22F46;\n",
       "    }\n",
       "    .twilio-xml-box span.attr {\n",
       "        color: #0DC5FB;\n",
       "    }\n",
       "    </style>\n",
       "    \n",
       "    <div class=\"twilio-xml-box\">&lt;Response&gt;\n",
       "  &lt;Connect&gt;\n",
       "    &lt;ConversationRelay debug=\"debugging, speaker-events, tokens-played\" dtmfDetection=\"true\" elevenlabsTextNormalization=\"on\" hints=\"Twilio, Conversation Relay, Signal São Paulo, Owl Bank\" interruptible=\"true\" language=\"pt-BR\" preemptible=\"true\" reportInputDuringAgentSpeech=\"true\" url=\"wss://owlbank.ngrok.io/websocket\" welcomeGreeting=\"Oi de novo! Aqui é a assistente virtual do Sígnal São Paulo. Como posso te ajudar?\" welcomeGreetingInterruptible=\"true\"&gt;\n",
       "      &lt;Language code=\"pt-BR\" customParameter=\"change_to_pt-BR\" speechModel=\"nova-2-general\" transcriptionProvider=\"Deepgram\" ttsProvider=\"ElevenLabs\" voice=\"OB6x7EbXYlhG4DDTB1XU\"/&gt;\n",
       "      &lt;Language code=\"es-US\" customParameter=\"change_to_es-US\" speechModel=\"nova-2-general\" transcriptionProvider=\"Deepgram\" ttsProvider=\"ElevenLabs\" voice=\"OB6x7EbXYlhG4DDTB1XU\"/&gt;\n",
       "      &lt;Language code=\"en-US\" customParameter=\"change_to_en-US\" speechModel=\"nova-2-general\" transcriptionProvider=\"Deepgram\" ttsProvider=\"ElevenLabs\" voice=\"OB6x7EbXYlhG4DDTB1XU\"/&gt;\n",
       "    &lt;/ConversationRelay&gt;\n",
       "  &lt;/Connect&gt;\n",
       "&lt;/Response&gt;\n",
       "</div>\n",
       "    "
      ],
      "text/plain": [
       "<IPython.core.display.HTML object>"
      ]
     },
     "metadata": {},
     "output_type": "display_data"
    },
    {
     "data": {
      "text/plain": [
       "'<Response>\\n  <Connect>\\n    <ConversationRelay debug=\"debugging, speaker-events, tokens-played\" dtmfDetection=\"true\" elevenlabsTextNormalization=\"on\" hints=\"Twilio, Conversation Relay, Signal São Paulo, Owl Bank\" interruptible=\"true\" language=\"pt-BR\" preemptible=\"true\" reportInputDuringAgentSpeech=\"true\" url=\"wss://owlbank.ngrok.io/websocket\" welcomeGreeting=\"Oi de novo! Aqui é a assistente virtual do Sígnal São Paulo. Como posso te ajudar?\" welcomeGreetingInterruptible=\"true\">\\n      <Language code=\"pt-BR\" customParameter=\"change_to_pt-BR\" speechModel=\"nova-2-general\" transcriptionProvider=\"Deepgram\" ttsProvider=\"ElevenLabs\" voice=\"OB6x7EbXYlhG4DDTB1XU\"/>\\n      <Language code=\"es-US\" customParameter=\"change_to_es-US\" speechModel=\"nova-2-general\" transcriptionProvider=\"Deepgram\" ttsProvider=\"ElevenLabs\" voice=\"OB6x7EbXYlhG4DDTB1XU\"/>\\n      <Language code=\"en-US\" customParameter=\"change_to_en-US\" speechModel=\"nova-2-general\" transcriptionProvider=\"Deepgram\" ttsProvider=\"ElevenLabs\" voice=\"OB6x7EbXYlhG4DDTB1XU\"/>\\n    </ConversationRelay>\\n  </Connect>\\n</Response>'"
      ]
     },
     "execution_count": 32,
     "metadata": {},
     "output_type": "execute_result"
    }
   ],
   "source": [
    "# Suporte nativo a múltiplos idiomas\n",
    "\n",
    "conversation_relay = ConversationRelay(\n",
    "    url=f'wss://{ngrok_domain}/websocket',\n",
    "    welcome_greeting=\"Oi de novo! Aqui é a assistente virtual do Sígnal São Paulo. Como posso te ajudar?\",\n",
    "    welcomeGreetingInterruptible=True,  # Permitir que o usuário interrompa a saudação\n",
    "    language='pt-BR',\n",
    "    debug='debugging, speaker-events, tokens-played', # opções de depuração\n",
    "    interruptible=True,  # Permitir que o usuário interrompa o assistente\n",
    "    dtmfDetection=True,  # Habilitar detecção de DTMF (dígitos)\n",
    "    reportInputDuringAgentSpeech=True,  # Relatar entradas do usuário durante o discurso do agente\n",
    "    preemptible=True,  # Permitir que novos tokens do assistente interrompam o TTS em andamento\n",
    "    hints='Twilio, Conversation Relay, Signal São Paulo, Owl Bank',\n",
    "    elevenlabsTextNormalization='on',\n",
    ")\n",
    "\n",
    "# Configurar idioma e modelo de fala para português do Brasil\n",
    "conversation_relay.language(\n",
    "    code='pt-BR',\n",
    "    tts_provider='ElevenLabs',\n",
    "    voice='OB6x7EbXYlhG4DDTB1XU',\n",
    "    transcription_provider='Deepgram',\n",
    "    speech_model='nova-2-general',\n",
    "    customParameter='change_to_pt-BR'\n",
    ")\n",
    "\n",
    "# Configurar idioma e modelo de fala para espanhol dos EUA\n",
    "conversation_relay.language(\n",
    "    code='es-US',\n",
    "    tts_provider='ElevenLabs',\n",
    "    voice='OB6x7EbXYlhG4DDTB1XU',\n",
    "    transcription_provider='Deepgram',\n",
    "    speech_model='nova-2-general',\n",
    "    customParameter='change_to_es-US'\n",
    ")\n",
    "\n",
    "# Configurar idioma e modelo de fala para inglês dos EUA\n",
    "conversation_relay.language(\n",
    "    code='en-US',\n",
    "    tts_provider='ElevenLabs',\n",
    "    voice='OB6x7EbXYlhG4DDTB1XU',\n",
    "    transcription_provider='Deepgram',\n",
    "    speech_model='nova-2-general',\n",
    "    customParameter=\"change_to_en-US\"\n",
    ")\n",
    "\n",
    "connect.append(conversation_relay)\n",
    "response.append(connect)\n",
    "\n",
    "# Make the call with Conversation Relay\n",
    "call = client.calls.create(\n",
    "    from_=\"+551150397615\",\n",
    "    to=\"+5511968432422\",\n",
    "    twiml=str(response)\n",
    ")\n",
    "\n",
    "print(f\"Call SID: {call.sid}\")\n",
    "print(f\"WebSocket URL: wss://{ngrok_domain}\")\n",
    "pretty_print_twiml(response)"
   ]
  },
  {
   "cell_type": "markdown",
   "id": "cc9283fe",
   "metadata": {
    "slideshow": {
     "slide_type": "slide"
    }
   },
   "source": [
    "### Engajamento de Clientes Multi-Agente\n",
    "\n",
    "**Aprimorando a experiência com agentes especialistas**"
   ]
  },
  {
   "cell_type": "code",
   "execution_count": 7,
   "id": "dbc93372",
   "metadata": {},
   "outputs": [
    {
     "name": "stdout",
     "output_type": "stream",
     "text": [
      "WhatsApp message sent!\n",
      "Message SID: MMb05c05bc94217c96bd1527835dd95ae4\n",
      "Status: queued\n"
     ]
    }
   ],
   "source": [
    "# Send WhatsApp Template via Twilio Content API\n",
    "\n",
    "# Create a WhatsApp message using a pre-approved template\n",
    "message = client.messages.create(\n",
    "    content_sid='HX24e21284bd73e331c9a031d2614717d3',  # Your Content Template SID\n",
    "    from_='whatsapp:+5516957820017',  # Your Twilio WhatsApp number\n",
    "    to='whatsapp:+5511993387765',   # Recipient's WhatsApp number (Mariana profile)\n",
    "    content_variables=json.dumps({'1': 'Mariana','2': 'a'}),\n",
    ")\n",
    "\n",
    "print(f\"WhatsApp message sent!\")\n",
    "print(f\"Message SID: {message.sid}\")\n",
    "print(f\"Status: {message.status}\")"
   ]
  },
  {
   "cell_type": "markdown",
   "id": "ec47e4ca",
   "metadata": {
    "slideshow": {
     "slide_type": "slide"
    }
   },
   "source": [
    "### Observabiidade com Conversational Intelligence"
   ]
  },
  {
   "cell_type": "code",
   "execution_count": 148,
   "id": "0f38fa58",
   "metadata": {
    "slideshow": {
     "slide_type": "fragment"
    }
   },
   "outputs": [
    {
     "name": "stdout",
     "output_type": "stream",
     "text": [
      "Call SID: CAbd4a4461805069e466a2e463bb48aa11\n",
      "WebSocket URL: wss://owlbank.ngrok.io\n"
     ]
    },
    {
     "data": {
      "text/html": [
       "\n",
       "    \n",
       "    <style>\n",
       "    .twilio-xml-box {\n",
       "        background: #0B0D17;\n",
       "        border: 1px solid #661847;\n",
       "        padding: 20px;\n",
       "        border-radius: 12px;\n",
       "        font-family: 'Courier New', monospace;\n",
       "        font-size: 0.95em;\n",
       "        color: #FFFFFF;\n",
       "        white-space: pre-wrap;\n",
       "        line-height: 1.5;\n",
       "        box-shadow: 0 0 12px rgba(242, 47, 70, 0.4);\n",
       "        margin: 20px auto;\n",
       "        width: 90%;\n",
       "    }\n",
       "    .twilio-xml-box span.tag {\n",
       "        color: #F22F46;\n",
       "    }\n",
       "    .twilio-xml-box span.attr {\n",
       "        color: #0DC5FB;\n",
       "    }\n",
       "    </style>\n",
       "    \n",
       "    <div class=\"twilio-xml-box\">&lt;Response&gt;\n",
       "  &lt;Connect&gt;\n",
       "    &lt;ConversationRelay debug=\"debugging, speaker-events, tokens-played\" dtmfDetection=\"true\" elevenlabsTextNormalization=\"on\" hints=\"Twilio, Conversation Relay, Signal São Paulo, Owl Bank\" intelligenceService=\"GAde9c513fd3914897cac25df18f3203b7\" interruptible=\"true\" language=\"pt-BR\" preemptible=\"true\" reportInputDuringAgentSpeech=\"true\" speechModel=\"nova-2-general\" transcriptionProvider=\"Deepgram\" ttsProvider=\"ElevenLabs\" url=\"wss://owlbank.ngrok.io/websocket\" voice=\"eQnBc1norhy4xHHbr9Ip\" welcomeGreeting=\"Tarde! Assistente virtual do Signal São Paulo na área. Como posso te ajudar, chefia?\" welcomeGreetingInterruptible=\"true\"&gt;\n",
       "      &lt;Language code=\"pt-BR\" speechModel=\"nova-2-general\" transcriptionProvider=\"Deepgram\" ttsProvider=\"ElevenLabs\" voice=\"7u8qsX4HQsSHJ0f8xsQZ\"/&gt;\n",
       "    &lt;/ConversationRelay&gt;\n",
       "  &lt;/Connect&gt;\n",
       "&lt;/Response&gt;\n",
       "</div>\n",
       "    "
      ],
      "text/plain": [
       "<IPython.core.display.HTML object>"
      ]
     },
     "metadata": {},
     "output_type": "display_data"
    },
    {
     "data": {
      "text/plain": [
       "'<Response>\\n  <Connect>\\n    <ConversationRelay debug=\"debugging, speaker-events, tokens-played\" dtmfDetection=\"true\" elevenlabsTextNormalization=\"on\" hints=\"Twilio, Conversation Relay, Signal São Paulo, Owl Bank\" intelligenceService=\"GAde9c513fd3914897cac25df18f3203b7\" interruptible=\"true\" language=\"pt-BR\" preemptible=\"true\" reportInputDuringAgentSpeech=\"true\" speechModel=\"nova-2-general\" transcriptionProvider=\"Deepgram\" ttsProvider=\"ElevenLabs\" url=\"wss://owlbank.ngrok.io/websocket\" voice=\"eQnBc1norhy4xHHbr9Ip\" welcomeGreeting=\"Tarde! Assistente virtual do Signal São Paulo na área. Como posso te ajudar, chefia?\" welcomeGreetingInterruptible=\"true\">\\n      <Language code=\"pt-BR\" speechModel=\"nova-2-general\" transcriptionProvider=\"Deepgram\" ttsProvider=\"ElevenLabs\" voice=\"7u8qsX4HQsSHJ0f8xsQZ\"/>\\n    </ConversationRelay>\\n  </Connect>\\n</Response>'"
      ]
     },
     "execution_count": 148,
     "metadata": {},
     "output_type": "execute_result"
    }
   ],
   "source": [
    "# Aprimorando as chamadas feitas com Conversation Relay\n",
    "\n",
    "from twilio.twiml.voice_response import VoiceResponse, Connect, ConversationRelay\n",
    "\n",
    "# Get your ngrok domain from .env file\n",
    "ngrok_domain = os.getenv('NGROK_DOMAIN', 'your-custom-domain.ngrok-free.app')\n",
    "\n",
    "# Create TwiML with Conversation Relay\n",
    "response = VoiceResponse()\n",
    "connect = Connect()\n",
    "\n",
    "# Create ConversationRelay pointing to your WebSocket server\n",
    "conversation_relay = ConversationRelay(\n",
    "    url=f'wss://{ngrok_domain}/websocket',\n",
    "    welcome_greeting=\"Tarde! Assistente virtual do Signal São Paulo na área. Como posso te ajudar, chefia?\",\n",
    "    welcomeGreetingInterruptible=True,  # Allow user to interrupt the welcome greeting\n",
    "    language='pt-BR',\n",
    "    transcription_provider='Deepgram',\n",
    "    speech_model='nova-2-general',\n",
    "    tts_provider='ElevenLabs',\n",
    "    voice='eQnBc1norhy4xHHbr9Ip',\n",
    "    interruptible=True,  # Allow user to interrupt the assistant\n",
    "    dtmfDetection=True,  # Enable DTMF detection\n",
    "    reportInputDuringAgentSpeech=True,  # Report input during agent speech\n",
    "    preemptible=True,  # Allow the assistant to preempt the user\n",
    "    hints='Twilio, Conversation Relay, Signal São Paulo, Owl Bank',\n",
    "    debug='debugging, speaker-events, tokens-played', # debbugging options\n",
    "    elevenlabsTextNormalization='on',\n",
    "    intelligenceService='GAde9c513fd3914897cac25df18f3203b7'\n",
    ")\n",
    "\n",
    "# Configure language settings for Brazilian Portuguese\n",
    "conversation_relay.language(\n",
    "    code='pt-BR',\n",
    "    tts_provider='ElevenLabs',\n",
    "    voice='7u8qsX4HQsSHJ0f8xsQZ',\n",
    "    transcription_provider='Deepgram',\n",
    "    speech_model='nova-2-general'\n",
    ")\n",
    "\n",
    "connect.append(conversation_relay)\n",
    "response.append(connect)\n",
    "\n",
    "# Make the call with Conversation Relay\n",
    "call = client.calls.create(\n",
    "    from_=\"+551150397615\",\n",
    "    to=\"+5511968432422\",\n",
    "    twiml=str(response)\n",
    ")\n",
    "\n",
    "print(f\"Call SID: {call.sid}\")\n",
    "print(f\"WebSocket URL: wss://{ngrok_domain}\")\n",
    "pretty_print_twiml(response)"
   ]
  },
  {
   "cell_type": "markdown",
   "id": "b42ee8cd",
   "metadata": {
    "slideshow": {
     "slide_type": "slide"
    }
   },
   "source": [
    "### Verificando os resultados com Conversational Intelligence"
   ]
  },
  {
   "cell_type": "code",
   "execution_count": null,
   "id": "21abd50e",
   "metadata": {
    "slideshow": {
     "slide_type": "fragment"
    }
   },
   "outputs": [],
   "source": [
    "# List Transcripts Incrementally\n",
    "from datetime import datetime\n",
    "\n",
    "# Initialize or use existing last_update_date\n",
    "if 'last_update_date' not in globals():\n",
    "    # First run - get transcripts from last 24 hours to avoid missing recent ones\n",
    "    from datetime import timedelta\n",
    "    last_update_date = datetime.now() - timedelta(days=1)\n",
    "\n",
    "last_update_time = last_update_date.strftime('%Y-%m-%dT%H:%M:%SZ')\n",
    "print(f\"Fetching transcripts after: {last_update_time}\")\n",
    "\n",
    "transcripts = client.intelligence.v2.transcripts.list(\n",
    "    limit=100,\n",
    "    after_date_created=last_update_time,\n",
    "    after_start_time=last_update_time,\n",
    ")\n",
    "\n",
    "print(f\"Found {len(transcripts)} new transcripts:\\n\")\n",
    "\n",
    "for record in transcripts:\n",
    "    for key, value in vars(record).items():\n",
    "        print(f\"{key}: {value}\")\n",
    "    print(\"\\n---\\n\")\n",
    "\n",
    "# Update the timestamp for next run\n",
    "last_update_date = datetime.now()\n",
    "print(f\"Updated last_update_date to: {last_update_date}\")"
   ]
  },
  {
   "cell_type": "code",
   "execution_count": null,
   "id": "330a7973",
   "metadata": {
    "slideshow": {
     "slide_type": "subslide"
    }
   },
   "outputs": [],
   "source": [
    "# List Operator Results for all Transcripts found incrementally\n",
    "print(f\"Getting operator results for {len(transcripts)} transcripts...\\n\")\n",
    "\n",
    "for transcript_record in transcripts:\n",
    "    print(f\"TRANSCRIPT: {transcript_record.sid}\")\n",
    "    print(\"=\" * 80)\n",
    "    \n",
    "    try:\n",
    "        operator_results = client.intelligence.v2.transcripts(\n",
    "            transcript_record.sid\n",
    "        ).operator_results.list(limit=100)\n",
    "        \n",
    "        print(f\"Found {len(operator_results)} operator results:\\n\")\n",
    "\n",
    "        for i, record in enumerate(operator_results, 1):\n",
    "            print(f\"OPERATOR RESULT #{i}\")\n",
    "            print(\"=\" * 60)\n",
    "            print(f\"Name: {record.name}\")\n",
    "            print(f\"Type: {record.operator_type}\")\n",
    "            print(f\"Operator SID: {record.operator_sid}\")\n",
    "            \n",
    "            # Handle different result types\n",
    "            if record.operator_type == 'text-generation' and record.text_generation_results:\n",
    "                print(f\"\\nText Generation Result:\")\n",
    "                print(\"-\" * 30)\n",
    "                result_text = record.text_generation_results.get('result', 'No result available')\n",
    "                print(f\"{result_text}\")\n",
    "                \n",
    "            elif record.operator_type == 'extract' and record.extract_results:\n",
    "                print(f\"\\nExtraction Results:\")\n",
    "                print(\"-\" * 30)\n",
    "                for entity_type, entities in record.extract_results.items():\n",
    "                    print(f\"  {entity_type}: {entities}\")\n",
    "                \n",
    "                if record.extract_match:\n",
    "                    print(f\"\\nMatch Found: {record.extract_match}\")\n",
    "                    print(f\"Match Probability: {record.match_probability}\")\n",
    "                    \n",
    "                if record.utterance_results:\n",
    "                    print(f\"\\nUtterance Analysis:\")\n",
    "                    for j, utterance in enumerate(record.utterance_results):\n",
    "                        print(f\"  Utterance {j+1} (Index {utterance['utterance_index']}):\")\n",
    "                        print(f\"    Match Probability: {utterance['match_probability']}\")\n",
    "                        labeled_text = \"\"\n",
    "                        for part in utterance['utterance_parts']:\n",
    "                            if part['label']:\n",
    "                                labeled_text += f\"[{part['label']}: {part['text']}]\"\n",
    "                            else:\n",
    "                                labeled_text += part['text']\n",
    "                        print(f\"    Text: {labeled_text}\")\n",
    "                \n",
    "            elif record.operator_type == 'conversation-classify':\n",
    "                print(f\"\\nClassification Result:\")\n",
    "                print(\"-\" * 30)\n",
    "                print(f\"Predicted Label: {record.predicted_label}\")\n",
    "                print(f\"Predicted Probability: {record.predicted_probability}\")\n",
    "                \n",
    "                if record.label_probabilities:\n",
    "                    print(f\"All Label Probabilities:\")\n",
    "                    for label, prob in record.label_probabilities.items():\n",
    "                        print(f\"  {label}: {prob}\")\n",
    "            \n",
    "            print(f\"\\nTranscript SID: {record.transcript_sid}\")\n",
    "            print(f\"URL: {record.url}\")\n",
    "            print(\"=\" * 60)\n",
    "            print()\n",
    "            \n",
    "    except Exception as e:\n",
    "        print(f\"Error fetching operator results for transcript {transcript_record.sid}: {e}\")\n",
    "    \n",
    "    print(\"=\" * 80)\n",
    "    print()"
   ]
  },
  {
   "cell_type": "code",
   "execution_count": null,
   "id": "b6abc4d1",
   "metadata": {},
   "outputs": [],
   "source": [
    "from IPython.display import display\n",
    "\n",
    "mermaid_text = \"\"\"\n",
    "%%{init: {\n",
    "  \"theme\": \"base\",\n",
    "  \"themeVariables\": {\n",
    "    \"background\": \"#0B0D17\",\n",
    "    \"primaryColor\": \"#12284C\",\n",
    "    \"primaryBorderColor\": \"#661847\",\n",
    "    \"primaryTextColor\": \"#FFFFFF\",\n",
    "    \"tertiaryColor\": \"#0DC5FB\",\n",
    "    \"tertiaryBorderColor\": \"#0B3D91\",\n",
    "    \"tertiaryTextColor\": \"#FFFFFF\",\n",
    "    \"noteBkgColor\": \"#4B0082\",\n",
    "    \"noteTextColor\": \"#FFFFFF\",\n",
    "    \"sequence\": {\n",
    "      \"actorFontSize\": \"14px\",\n",
    "      \"messageFontSize\": \"13px\"\n",
    "    }\n",
    "  }\n",
    "}}%%\n",
    "\n",
    "sequenceDiagram\n",
    "    participant User\n",
    "    participant Conversations (Text)\n",
    "    participant External Service\n",
    "    participant LLMs / AI Agents\n",
    "    participant RAG / MCP\n",
    "\n",
    "    Note over User: Starts a text conversation\n",
    "\n",
    "    User->>Conversations (Text): Send message\n",
    "    Conversations (Text)->>External Service: Webhook (incoming message)\n",
    "    External Service->>RAG / MCP: Retrieve context\n",
    "    External Service->>LLMs / AI Agents: Prompt with message + context\n",
    "    LLMs / AI Agents-->>External Service: Response (text)\n",
    "    External Service->>Conversations (Text): Send reply via REST API/SDK\n",
    "    Conversations (Text)->>User: Deliver response\n",
    "\"\"\"\n",
    "\n",
    "display(Mermaid(mermaid_text))\n"
   ]
  },
  {
   "cell_type": "code",
   "execution_count": 123,
   "id": "d64f3cc2",
   "metadata": {},
   "outputs": [
    {
     "data": {
      "text/html": [
       "<svg id=\"mermaid-svg\" width=\"100%\" xmlns=\"http://www.w3.org/2000/svg\" style=\"max-width: 1208px;\" viewBox=\"-64.5 -10 1208 538\" role=\"graphics-document document\" aria-roledescription=\"sequence\" xmlns:xlink=\"http://www.w3.org/1999/xlink\"><style xmlns=\"http://www.w3.org/1999/xhtml\">@import url(\"https://cdnjs.cloudflare.com/ajax/libs/font-awesome/6.7.2/css/all.min.css\");</style><g><rect x=\"943.5\" y=\"452\" fill=\"#eaeaea\" stroke=\"#666\" width=\"150\" height=\"65\" name=\"RAG / MCP\" rx=\"3\" ry=\"3\" class=\"actor actor-bottom\"/><text x=\"1018.5\" y=\"484.5\" dominant-baseline=\"central\" alignment-baseline=\"central\" class=\"actor actor-box\" style=\"text-anchor: middle; font-size: 16px; font-weight: 400;\"><tspan x=\"1018.5\" dy=\"0\">RAG / MCP</tspan></text></g><g><rect x=\"743.5\" y=\"452\" fill=\"#eaeaea\" stroke=\"#666\" width=\"150\" height=\"65\" name=\"LLMs / AI Agents\" rx=\"3\" ry=\"3\" class=\"actor actor-bottom\"/><text x=\"818.5\" y=\"484.5\" dominant-baseline=\"central\" alignment-baseline=\"central\" class=\"actor actor-box\" style=\"text-anchor: middle; font-size: 16px; font-weight: 400;\"><tspan x=\"818.5\" dy=\"0\">LLMs / AI Agents</tspan></text></g><g><rect x=\"469.5\" y=\"452\" fill=\"#eaeaea\" stroke=\"#666\" width=\"150\" height=\"65\" name=\"External Service\" rx=\"3\" ry=\"3\" class=\"actor actor-bottom\"/><text x=\"544.5\" y=\"484.5\" dominant-baseline=\"central\" alignment-baseline=\"central\" class=\"actor actor-box\" style=\"text-anchor: middle; font-size: 16px; font-weight: 400;\"><tspan x=\"544.5\" dy=\"0\">External Service</tspan></text></g><g><rect x=\"200\" y=\"452\" fill=\"#eaeaea\" stroke=\"#666\" width=\"197\" height=\"65\" name=\"Conversation Relay (Voice)\" rx=\"3\" ry=\"3\" class=\"actor actor-bottom\"/><text x=\"298.5\" y=\"484.5\" dominant-baseline=\"central\" alignment-baseline=\"central\" class=\"actor actor-box\" style=\"text-anchor: middle; font-size: 16px; font-weight: 400;\"><tspan x=\"298.5\" dy=\"0\">Conversation Relay (Voice)</tspan></text></g><g><rect x=\"0\" y=\"452\" fill=\"#eaeaea\" stroke=\"#666\" width=\"150\" height=\"65\" name=\"User\" rx=\"3\" ry=\"3\" class=\"actor actor-bottom\"/><text x=\"75\" y=\"484.5\" dominant-baseline=\"central\" alignment-baseline=\"central\" class=\"actor actor-box\" style=\"text-anchor: middle; font-size: 16px; font-weight: 400;\"><tspan x=\"75\" dy=\"0\">User</tspan></text></g><g><line id=\"actor4\" x1=\"1018.5\" y1=\"65\" x2=\"1018.5\" y2=\"452\" class=\"actor-line 200\" stroke-width=\"0.5px\" stroke=\"#999\" name=\"RAG / MCP\"/><g id=\"root-4\"><rect x=\"943.5\" y=\"0\" fill=\"#eaeaea\" stroke=\"#666\" width=\"150\" height=\"65\" name=\"RAG / MCP\" rx=\"3\" ry=\"3\" class=\"actor actor-top\"/><text x=\"1018.5\" y=\"32.5\" dominant-baseline=\"central\" alignment-baseline=\"central\" class=\"actor actor-box\" style=\"text-anchor: middle; font-size: 16px; font-weight: 400;\"><tspan x=\"1018.5\" dy=\"0\">RAG / MCP</tspan></text></g></g><g><line id=\"actor3\" x1=\"818.5\" y1=\"65\" x2=\"818.5\" y2=\"452\" class=\"actor-line 200\" stroke-width=\"0.5px\" stroke=\"#999\" name=\"LLMs / AI Agents\"/><g id=\"root-3\"><rect x=\"743.5\" y=\"0\" fill=\"#eaeaea\" stroke=\"#666\" width=\"150\" height=\"65\" name=\"LLMs / AI Agents\" rx=\"3\" ry=\"3\" class=\"actor actor-top\"/><text x=\"818.5\" y=\"32.5\" dominant-baseline=\"central\" alignment-baseline=\"central\" class=\"actor actor-box\" style=\"text-anchor: middle; font-size: 16px; font-weight: 400;\"><tspan x=\"818.5\" dy=\"0\">LLMs / AI Agents</tspan></text></g></g><g><line id=\"actor2\" x1=\"544.5\" y1=\"65\" x2=\"544.5\" y2=\"452\" class=\"actor-line 200\" stroke-width=\"0.5px\" stroke=\"#999\" name=\"External Service\"/><g id=\"root-2\"><rect x=\"469.5\" y=\"0\" fill=\"#eaeaea\" stroke=\"#666\" width=\"150\" height=\"65\" name=\"External Service\" rx=\"3\" ry=\"3\" class=\"actor actor-top\"/><text x=\"544.5\" y=\"32.5\" dominant-baseline=\"central\" alignment-baseline=\"central\" class=\"actor actor-box\" style=\"text-anchor: middle; font-size: 16px; font-weight: 400;\"><tspan x=\"544.5\" dy=\"0\">External Service</tspan></text></g></g><g><line id=\"actor1\" x1=\"298.5\" y1=\"65\" x2=\"298.5\" y2=\"452\" class=\"actor-line 200\" stroke-width=\"0.5px\" stroke=\"#999\" name=\"Conversation Relay (Voice)\"/><g id=\"root-1\"><rect x=\"200\" y=\"0\" fill=\"#eaeaea\" stroke=\"#666\" width=\"197\" height=\"65\" name=\"Conversation Relay (Voice)\" rx=\"3\" ry=\"3\" class=\"actor actor-top\"/><text x=\"298.5\" y=\"32.5\" dominant-baseline=\"central\" alignment-baseline=\"central\" class=\"actor actor-box\" style=\"text-anchor: middle; font-size: 16px; font-weight: 400;\"><tspan x=\"298.5\" dy=\"0\">Conversation Relay (Voice)</tspan></text></g></g><g><line id=\"actor0\" x1=\"75\" y1=\"65\" x2=\"75\" y2=\"452\" class=\"actor-line 200\" stroke-width=\"0.5px\" stroke=\"#999\" name=\"User\"/><g id=\"root-0\"><rect x=\"0\" y=\"0\" fill=\"#eaeaea\" stroke=\"#666\" width=\"150\" height=\"65\" name=\"User\" rx=\"3\" ry=\"3\" class=\"actor actor-top\"/><text x=\"75\" y=\"32.5\" dominant-baseline=\"central\" alignment-baseline=\"central\" class=\"actor actor-box\" style=\"text-anchor: middle; font-size: 16px; font-weight: 400;\"><tspan x=\"75\" dy=\"0\">User</tspan></text></g></g><style>#mermaid-svg{font-family:\"trebuchet ms\",verdana,arial,sans-serif;font-size:16px;fill:#FFFFFF;}@keyframes edge-animation-frame{from{stroke-dashoffset:0;}}@keyframes dash{to{stroke-dashoffset:0;}}#mermaid-svg .edge-animation-slow{stroke-dasharray:9,5!important;stroke-dashoffset:900;animation:dash 50s linear infinite;stroke-linecap:round;}#mermaid-svg .edge-animation-fast{stroke-dasharray:9,5!important;stroke-dashoffset:900;animation:dash 20s linear infinite;stroke-linecap:round;}#mermaid-svg .error-icon{fill:#0DC5FB;}#mermaid-svg .error-text{fill:#FFFFFF;stroke:#FFFFFF;}#mermaid-svg .edge-thickness-normal{stroke-width:1px;}#mermaid-svg .edge-thickness-thick{stroke-width:3.5px;}#mermaid-svg .edge-pattern-solid{stroke-dasharray:0;}#mermaid-svg .edge-thickness-invisible{stroke-width:0;fill:none;}#mermaid-svg .edge-pattern-dashed{stroke-dasharray:3;}#mermaid-svg .edge-pattern-dotted{stroke-dasharray:2;}#mermaid-svg .marker{fill:#f4f2e8;stroke:#f4f2e8;}#mermaid-svg .marker.cross{stroke:#f4f2e8;}#mermaid-svg svg{font-family:\"trebuchet ms\",verdana,arial,sans-serif;font-size:16px;}#mermaid-svg p{margin:0;}#mermaid-svg .actor{stroke:#661847;fill:#12284C;}#mermaid-svg text.actor&gt;tspan{fill:#FFFFFF;stroke:none;}#mermaid-svg .actor-line{stroke:#661847;}#mermaid-svg .messageLine0{stroke-width:1.5;stroke-dasharray:none;stroke:#FFFFFF;}#mermaid-svg .messageLine1{stroke-width:1.5;stroke-dasharray:2,2;stroke:#FFFFFF;}#mermaid-svg #arrowhead path{fill:#FFFFFF;stroke:#FFFFFF;}#mermaid-svg .sequenceNumber{fill:#0b0d17;}#mermaid-svg #sequencenumber{fill:#FFFFFF;}#mermaid-svg #crosshead path{fill:#FFFFFF;stroke:#FFFFFF;}#mermaid-svg .messageText{fill:#FFFFFF;stroke:none;}#mermaid-svg .labelBox{stroke:#661847;fill:#12284C;}#mermaid-svg .labelText,#mermaid-svg .labelText&gt;tspan{fill:#FFFFFF;stroke:none;}#mermaid-svg .loopText,#mermaid-svg .loopText&gt;tspan{fill:#FFFFFF;stroke:none;}#mermaid-svg .loopLine{stroke-width:2px;stroke-dasharray:2,2;stroke:#661847;fill:#661847;}#mermaid-svg .note{stroke:hsl(274.6153846154, 60%, 15.4901960784%);fill:#4B0082;}#mermaid-svg .noteText,#mermaid-svg .noteText&gt;tspan{fill:#FFFFFF;stroke:none;}#mermaid-svg .activation0{fill:hsl(97.2413793103, 61.7021276596%, 18.431372549%);stroke:hsl(97.2413793103, 61.7021276596%, 8.431372549%);}#mermaid-svg .activation1{fill:hsl(97.2413793103, 61.7021276596%, 18.431372549%);stroke:hsl(97.2413793103, 61.7021276596%, 8.431372549%);}#mermaid-svg .activation2{fill:hsl(97.2413793103, 61.7021276596%, 18.431372549%);stroke:hsl(97.2413793103, 61.7021276596%, 8.431372549%);}#mermaid-svg .actorPopupMenu{position:absolute;}#mermaid-svg .actorPopupMenuPanel{position:absolute;fill:#12284C;box-shadow:0px 8px 16px 0px rgba(0,0,0,0.2);filter:drop-shadow(3px 5px 2px rgb(0 0 0 / 0.4));}#mermaid-svg .actor-man line{stroke:#661847;fill:#12284C;}#mermaid-svg .actor-man circle,#mermaid-svg line{stroke:#661847;fill:#12284C;stroke-width:2px;}#mermaid-svg :root{--mermaid-font-family:\"trebuchet ms\",verdana,arial,sans-serif;}</style><g/><defs><symbol id=\"computer\" width=\"24\" height=\"24\"><path transform=\"scale(.5)\" d=\"M2 2v13h20v-13h-20zm18 11h-16v-9h16v9zm-10.228 6l.466-1h3.524l.467 1h-4.457zm14.228 3h-24l2-6h2.104l-1.33 4h18.45l-1.297-4h2.073l2 6zm-5-10h-14v-7h14v7z\"/></symbol></defs><defs><symbol id=\"database\" fill-rule=\"evenodd\" clip-rule=\"evenodd\"><path transform=\"scale(.5)\" d=\"M12.258.001l.256.004.255.005.253.008.251.01.249.012.247.015.246.016.242.019.241.02.239.023.236.024.233.027.231.028.229.031.225.032.223.034.22.036.217.038.214.04.211.041.208.043.205.045.201.046.198.048.194.05.191.051.187.053.183.054.18.056.175.057.172.059.168.06.163.061.16.063.155.064.15.066.074.033.073.033.071.034.07.034.069.035.068.035.067.035.066.035.064.036.064.036.062.036.06.036.06.037.058.037.058.037.055.038.055.038.053.038.052.038.051.039.05.039.048.039.047.039.045.04.044.04.043.04.041.04.04.041.039.041.037.041.036.041.034.041.033.042.032.042.03.042.029.042.027.042.026.043.024.043.023.043.021.043.02.043.018.044.017.043.015.044.013.044.012.044.011.045.009.044.007.045.006.045.004.045.002.045.001.045v17l-.001.045-.002.045-.004.045-.006.045-.007.045-.009.044-.011.045-.012.044-.013.044-.015.044-.017.043-.018.044-.02.043-.021.043-.023.043-.024.043-.026.043-.027.042-.029.042-.03.042-.032.042-.033.042-.034.041-.036.041-.037.041-.039.041-.04.041-.041.04-.043.04-.044.04-.045.04-.047.039-.048.039-.05.039-.051.039-.052.038-.053.038-.055.038-.055.038-.058.037-.058.037-.06.037-.06.036-.062.036-.064.036-.064.036-.066.035-.067.035-.068.035-.069.035-.07.034-.071.034-.073.033-.074.033-.15.066-.155.064-.16.063-.163.061-.168.06-.172.059-.175.057-.18.056-.183.054-.187.053-.191.051-.194.05-.198.048-.201.046-.205.045-.208.043-.211.041-.214.04-.217.038-.22.036-.223.034-.225.032-.229.031-.231.028-.233.027-.236.024-.239.023-.241.02-.242.019-.246.016-.247.015-.249.012-.251.01-.253.008-.255.005-.256.004-.258.001-.258-.001-.256-.004-.255-.005-.253-.008-.251-.01-.249-.012-.247-.015-.245-.016-.243-.019-.241-.02-.238-.023-.236-.024-.234-.027-.231-.028-.228-.031-.226-.032-.223-.034-.22-.036-.217-.038-.214-.04-.211-.041-.208-.043-.204-.045-.201-.046-.198-.048-.195-.05-.19-.051-.187-.053-.184-.054-.179-.056-.176-.057-.172-.059-.167-.06-.164-.061-.159-.063-.155-.064-.151-.066-.074-.033-.072-.033-.072-.034-.07-.034-.069-.035-.068-.035-.067-.035-.066-.035-.064-.036-.063-.036-.062-.036-.061-.036-.06-.037-.058-.037-.057-.037-.056-.038-.055-.038-.053-.038-.052-.038-.051-.039-.049-.039-.049-.039-.046-.039-.046-.04-.044-.04-.043-.04-.041-.04-.04-.041-.039-.041-.037-.041-.036-.041-.034-.041-.033-.042-.032-.042-.03-.042-.029-.042-.027-.042-.026-.043-.024-.043-.023-.043-.021-.043-.02-.043-.018-.044-.017-.043-.015-.044-.013-.044-.012-.044-.011-.045-.009-.044-.007-.045-.006-.045-.004-.045-.002-.045-.001-.045v-17l.001-.045.002-.045.004-.045.006-.045.007-.045.009-.044.011-.045.012-.044.013-.044.015-.044.017-.043.018-.044.02-.043.021-.043.023-.043.024-.043.026-.043.027-.042.029-.042.03-.042.032-.042.033-.042.034-.041.036-.041.037-.041.039-.041.04-.041.041-.04.043-.04.044-.04.046-.04.046-.039.049-.039.049-.039.051-.039.052-.038.053-.038.055-.038.056-.038.057-.037.058-.037.06-.037.061-.036.062-.036.063-.036.064-.036.066-.035.067-.035.068-.035.069-.035.07-.034.072-.034.072-.033.074-.033.151-.066.155-.064.159-.063.164-.061.167-.06.172-.059.176-.057.179-.056.184-.054.187-.053.19-.051.195-.05.198-.048.201-.046.204-.045.208-.043.211-.041.214-.04.217-.038.22-.036.223-.034.226-.032.228-.031.231-.028.234-.027.236-.024.238-.023.241-.02.243-.019.245-.016.247-.015.249-.012.251-.01.253-.008.255-.005.256-.004.258-.001.258.001zm-9.258 20.499v.01l.001.021.003.021.004.022.005.021.006.022.007.022.009.023.01.022.011.023.012.023.013.023.015.023.016.024.017.023.018.024.019.024.021.024.022.025.023.024.024.025.052.049.056.05.061.051.066.051.07.051.075.051.079.052.084.052.088.052.092.052.097.052.102.051.105.052.11.052.114.051.119.051.123.051.127.05.131.05.135.05.139.048.144.049.147.047.152.047.155.047.16.045.163.045.167.043.171.043.176.041.178.041.183.039.187.039.19.037.194.035.197.035.202.033.204.031.209.03.212.029.216.027.219.025.222.024.226.021.23.02.233.018.236.016.24.015.243.012.246.01.249.008.253.005.256.004.259.001.26-.001.257-.004.254-.005.25-.008.247-.011.244-.012.241-.014.237-.016.233-.018.231-.021.226-.021.224-.024.22-.026.216-.027.212-.028.21-.031.205-.031.202-.034.198-.034.194-.036.191-.037.187-.039.183-.04.179-.04.175-.042.172-.043.168-.044.163-.045.16-.046.155-.046.152-.047.148-.048.143-.049.139-.049.136-.05.131-.05.126-.05.123-.051.118-.052.114-.051.11-.052.106-.052.101-.052.096-.052.092-.052.088-.053.083-.051.079-.052.074-.052.07-.051.065-.051.06-.051.056-.05.051-.05.023-.024.023-.025.021-.024.02-.024.019-.024.018-.024.017-.024.015-.023.014-.024.013-.023.012-.023.01-.023.01-.022.008-.022.006-.022.006-.022.004-.022.004-.021.001-.021.001-.021v-4.127l-.077.055-.08.053-.083.054-.085.053-.087.052-.09.052-.093.051-.095.05-.097.05-.1.049-.102.049-.105.048-.106.047-.109.047-.111.046-.114.045-.115.045-.118.044-.12.043-.122.042-.124.042-.126.041-.128.04-.13.04-.132.038-.134.038-.135.037-.138.037-.139.035-.142.035-.143.034-.144.033-.147.032-.148.031-.15.03-.151.03-.153.029-.154.027-.156.027-.158.026-.159.025-.161.024-.162.023-.163.022-.165.021-.166.02-.167.019-.169.018-.169.017-.171.016-.173.015-.173.014-.175.013-.175.012-.177.011-.178.01-.179.008-.179.008-.181.006-.182.005-.182.004-.184.003-.184.002h-.37l-.184-.002-.184-.003-.182-.004-.182-.005-.181-.006-.179-.008-.179-.008-.178-.01-.176-.011-.176-.012-.175-.013-.173-.014-.172-.015-.171-.016-.17-.017-.169-.018-.167-.019-.166-.02-.165-.021-.163-.022-.162-.023-.161-.024-.159-.025-.157-.026-.156-.027-.155-.027-.153-.029-.151-.03-.15-.03-.148-.031-.146-.032-.145-.033-.143-.034-.141-.035-.14-.035-.137-.037-.136-.037-.134-.038-.132-.038-.13-.04-.128-.04-.126-.041-.124-.042-.122-.042-.12-.044-.117-.043-.116-.045-.113-.045-.112-.046-.109-.047-.106-.047-.105-.048-.102-.049-.1-.049-.097-.05-.095-.05-.093-.052-.09-.051-.087-.052-.085-.053-.083-.054-.08-.054-.077-.054v4.127zm0-5.654v.011l.001.021.003.021.004.021.005.022.006.022.007.022.009.022.01.022.011.023.012.023.013.023.015.024.016.023.017.024.018.024.019.024.021.024.022.024.023.025.024.024.052.05.056.05.061.05.066.051.07.051.075.052.079.051.084.052.088.052.092.052.097.052.102.052.105.052.11.051.114.051.119.052.123.05.127.051.131.05.135.049.139.049.144.048.147.048.152.047.155.046.16.045.163.045.167.044.171.042.176.042.178.04.183.04.187.038.19.037.194.036.197.034.202.033.204.032.209.03.212.028.216.027.219.025.222.024.226.022.23.02.233.018.236.016.24.014.243.012.246.01.249.008.253.006.256.003.259.001.26-.001.257-.003.254-.006.25-.008.247-.01.244-.012.241-.015.237-.016.233-.018.231-.02.226-.022.224-.024.22-.025.216-.027.212-.029.21-.03.205-.032.202-.033.198-.035.194-.036.191-.037.187-.039.183-.039.179-.041.175-.042.172-.043.168-.044.163-.045.16-.045.155-.047.152-.047.148-.048.143-.048.139-.05.136-.049.131-.05.126-.051.123-.051.118-.051.114-.052.11-.052.106-.052.101-.052.096-.052.092-.052.088-.052.083-.052.079-.052.074-.051.07-.052.065-.051.06-.05.056-.051.051-.049.023-.025.023-.024.021-.025.02-.024.019-.024.018-.024.017-.024.015-.023.014-.023.013-.024.012-.022.01-.023.01-.023.008-.022.006-.022.006-.022.004-.021.004-.022.001-.021.001-.021v-4.139l-.077.054-.08.054-.083.054-.085.052-.087.053-.09.051-.093.051-.095.051-.097.05-.1.049-.102.049-.105.048-.106.047-.109.047-.111.046-.114.045-.115.044-.118.044-.12.044-.122.042-.124.042-.126.041-.128.04-.13.039-.132.039-.134.038-.135.037-.138.036-.139.036-.142.035-.143.033-.144.033-.147.033-.148.031-.15.03-.151.03-.153.028-.154.028-.156.027-.158.026-.159.025-.161.024-.162.023-.163.022-.165.021-.166.02-.167.019-.169.018-.169.017-.171.016-.173.015-.173.014-.175.013-.175.012-.177.011-.178.009-.179.009-.179.007-.181.007-.182.005-.182.004-.184.003-.184.002h-.37l-.184-.002-.184-.003-.182-.004-.182-.005-.181-.007-.179-.007-.179-.009-.178-.009-.176-.011-.176-.012-.175-.013-.173-.014-.172-.015-.171-.016-.17-.017-.169-.018-.167-.019-.166-.02-.165-.021-.163-.022-.162-.023-.161-.024-.159-.025-.157-.026-.156-.027-.155-.028-.153-.028-.151-.03-.15-.03-.148-.031-.146-.033-.145-.033-.143-.033-.141-.035-.14-.036-.137-.036-.136-.037-.134-.038-.132-.039-.13-.039-.128-.04-.126-.041-.124-.042-.122-.043-.12-.043-.117-.044-.116-.044-.113-.046-.112-.046-.109-.046-.106-.047-.105-.048-.102-.049-.1-.049-.097-.05-.095-.051-.093-.051-.09-.051-.087-.053-.085-.052-.083-.054-.08-.054-.077-.054v4.139zm0-5.666v.011l.001.02.003.022.004.021.005.022.006.021.007.022.009.023.01.022.011.023.012.023.013.023.015.023.016.024.017.024.018.023.019.024.021.025.022.024.023.024.024.025.052.05.056.05.061.05.066.051.07.051.075.052.079.051.084.052.088.052.092.052.097.052.102.052.105.051.11.052.114.051.119.051.123.051.127.05.131.05.135.05.139.049.144.048.147.048.152.047.155.046.16.045.163.045.167.043.171.043.176.042.178.04.183.04.187.038.19.037.194.036.197.034.202.033.204.032.209.03.212.028.216.027.219.025.222.024.226.021.23.02.233.018.236.017.24.014.243.012.246.01.249.008.253.006.256.003.259.001.26-.001.257-.003.254-.006.25-.008.247-.01.244-.013.241-.014.237-.016.233-.018.231-.02.226-.022.224-.024.22-.025.216-.027.212-.029.21-.03.205-.032.202-.033.198-.035.194-.036.191-.037.187-.039.183-.039.179-.041.175-.042.172-.043.168-.044.163-.045.16-.045.155-.047.152-.047.148-.048.143-.049.139-.049.136-.049.131-.051.126-.05.123-.051.118-.052.114-.051.11-.052.106-.052.101-.052.096-.052.092-.052.088-.052.083-.052.079-.052.074-.052.07-.051.065-.051.06-.051.056-.05.051-.049.023-.025.023-.025.021-.024.02-.024.019-.024.018-.024.017-.024.015-.023.014-.024.013-.023.012-.023.01-.022.01-.023.008-.022.006-.022.006-.022.004-.022.004-.021.001-.021.001-.021v-4.153l-.077.054-.08.054-.083.053-.085.053-.087.053-.09.051-.093.051-.095.051-.097.05-.1.049-.102.048-.105.048-.106.048-.109.046-.111.046-.114.046-.115.044-.118.044-.12.043-.122.043-.124.042-.126.041-.128.04-.13.039-.132.039-.134.038-.135.037-.138.036-.139.036-.142.034-.143.034-.144.033-.147.032-.148.032-.15.03-.151.03-.153.028-.154.028-.156.027-.158.026-.159.024-.161.024-.162.023-.163.023-.165.021-.166.02-.167.019-.169.018-.169.017-.171.016-.173.015-.173.014-.175.013-.175.012-.177.01-.178.01-.179.009-.179.007-.181.006-.182.006-.182.004-.184.003-.184.001-.185.001-.185-.001-.184-.001-.184-.003-.182-.004-.182-.006-.181-.006-.179-.007-.179-.009-.178-.01-.176-.01-.176-.012-.175-.013-.173-.014-.172-.015-.171-.016-.17-.017-.169-.018-.167-.019-.166-.02-.165-.021-.163-.023-.162-.023-.161-.024-.159-.024-.157-.026-.156-.027-.155-.028-.153-.028-.151-.03-.15-.03-.148-.032-.146-.032-.145-.033-.143-.034-.141-.034-.14-.036-.137-.036-.136-.037-.134-.038-.132-.039-.13-.039-.128-.041-.126-.041-.124-.041-.122-.043-.12-.043-.117-.044-.116-.044-.113-.046-.112-.046-.109-.046-.106-.048-.105-.048-.102-.048-.1-.05-.097-.049-.095-.051-.093-.051-.09-.052-.087-.052-.085-.053-.083-.053-.08-.054-.077-.054v4.153zm8.74-8.179l-.257.004-.254.005-.25.008-.247.011-.244.012-.241.014-.237.016-.233.018-.231.021-.226.022-.224.023-.22.026-.216.027-.212.028-.21.031-.205.032-.202.033-.198.034-.194.036-.191.038-.187.038-.183.04-.179.041-.175.042-.172.043-.168.043-.163.045-.16.046-.155.046-.152.048-.148.048-.143.048-.139.049-.136.05-.131.05-.126.051-.123.051-.118.051-.114.052-.11.052-.106.052-.101.052-.096.052-.092.052-.088.052-.083.052-.079.052-.074.051-.07.052-.065.051-.06.05-.056.05-.051.05-.023.025-.023.024-.021.024-.02.025-.019.024-.018.024-.017.023-.015.024-.014.023-.013.023-.012.023-.01.023-.01.022-.008.022-.006.023-.006.021-.004.022-.004.021-.001.021-.001.021.001.021.001.021.004.021.004.022.006.021.006.023.008.022.01.022.01.023.012.023.013.023.014.023.015.024.017.023.018.024.019.024.02.025.021.024.023.024.023.025.051.05.056.05.06.05.065.051.07.052.074.051.079.052.083.052.088.052.092.052.096.052.101.052.106.052.11.052.114.052.118.051.123.051.126.051.131.05.136.05.139.049.143.048.148.048.152.048.155.046.16.046.163.045.168.043.172.043.175.042.179.041.183.04.187.038.191.038.194.036.198.034.202.033.205.032.21.031.212.028.216.027.22.026.224.023.226.022.231.021.233.018.237.016.241.014.244.012.247.011.25.008.254.005.257.004.26.001.26-.001.257-.004.254-.005.25-.008.247-.011.244-.012.241-.014.237-.016.233-.018.231-.021.226-.022.224-.023.22-.026.216-.027.212-.028.21-.031.205-.032.202-.033.198-.034.194-.036.191-.038.187-.038.183-.04.179-.041.175-.042.172-.043.168-.043.163-.045.16-.046.155-.046.152-.048.148-.048.143-.048.139-.049.136-.05.131-.05.126-.051.123-.051.118-.051.114-.052.11-.052.106-.052.101-.052.096-.052.092-.052.088-.052.083-.052.079-.052.074-.051.07-.052.065-.051.06-.05.056-.05.051-.05.023-.025.023-.024.021-.024.02-.025.019-.024.018-.024.017-.023.015-.024.014-.023.013-.023.012-.023.01-.023.01-.022.008-.022.006-.023.006-.021.004-.022.004-.021.001-.021.001-.021-.001-.021-.001-.021-.004-.021-.004-.022-.006-.021-.006-.023-.008-.022-.01-.022-.01-.023-.012-.023-.013-.023-.014-.023-.015-.024-.017-.023-.018-.024-.019-.024-.02-.025-.021-.024-.023-.024-.023-.025-.051-.05-.056-.05-.06-.05-.065-.051-.07-.052-.074-.051-.079-.052-.083-.052-.088-.052-.092-.052-.096-.052-.101-.052-.106-.052-.11-.052-.114-.052-.118-.051-.123-.051-.126-.051-.131-.05-.136-.05-.139-.049-.143-.048-.148-.048-.152-.048-.155-.046-.16-.046-.163-.045-.168-.043-.172-.043-.175-.042-.179-.041-.183-.04-.187-.038-.191-.038-.194-.036-.198-.034-.202-.033-.205-.032-.21-.031-.212-.028-.216-.027-.22-.026-.224-.023-.226-.022-.231-.021-.233-.018-.237-.016-.241-.014-.244-.012-.247-.011-.25-.008-.254-.005-.257-.004-.26-.001-.26.001z\"/></symbol></defs><defs><symbol id=\"clock\" width=\"24\" height=\"24\"><path transform=\"scale(.5)\" d=\"M12 2c5.514 0 10 4.486 10 10s-4.486 10-10 10-10-4.486-10-10 4.486-10 10-10zm0-2c-6.627 0-12 5.373-12 12s5.373 12 12 12 12-5.373 12-12-5.373-12-12-12zm5.848 12.459c.202.038.202.333.001.372-1.907.361-6.045 1.111-6.547 1.111-.719 0-1.301-.582-1.301-1.301 0-.512.77-5.447 1.125-7.445.034-.192.312-.181.343.014l.985 6.238 5.394 1.011z\"/></symbol></defs><defs><marker id=\"arrowhead\" refX=\"7.9\" refY=\"5\" markerUnits=\"userSpaceOnUse\" markerWidth=\"12\" markerHeight=\"12\" orient=\"auto-start-reverse\"><path d=\"M -1 0 L 10 5 L 0 10 z\"/></marker></defs><defs><marker id=\"crosshead\" markerWidth=\"15\" markerHeight=\"8\" orient=\"auto\" refX=\"4\" refY=\"4.5\"><path fill=\"none\" stroke=\"#000000\" stroke-width=\"1pt\" d=\"M 1,2 L 6,7 M 6,2 L 1,7\" style=\"stroke-dasharray: 0, 0;\"/></marker></defs><defs><marker id=\"filled-head\" refX=\"15.5\" refY=\"7\" markerWidth=\"20\" markerHeight=\"28\" orient=\"auto\"><path d=\"M 18,7 L9,13 L14,7 L9,1 Z\"/></marker></defs><defs><marker id=\"sequencenumber\" refX=\"15\" refY=\"15\" markerWidth=\"60\" markerHeight=\"40\" orient=\"auto\"><circle cx=\"15\" cy=\"15\" r=\"6\"/></marker></defs><g><rect x=\"-14.5\" y=\"75\" fill=\"#EDF2AE\" stroke=\"#666\" width=\"179\" height=\"37\" class=\"note\"/><text x=\"75\" y=\"80\" text-anchor=\"middle\" dominant-baseline=\"middle\" alignment-baseline=\"middle\" class=\"noteText\" dy=\"1em\" style=\"font-size: 16px; font-weight: 400;\"><tspan x=\"75\">Starts a voice interaction</tspan></text></g><text x=\"185\" y=\"127\" text-anchor=\"middle\" dominant-baseline=\"middle\" alignment-baseline=\"middle\" class=\"messageText\" dy=\"1em\" style=\"font-size: 16px; font-weight: 400;\">Speak during call</text><line x1=\"76\" y1=\"158\" x2=\"294.5\" y2=\"158\" class=\"messageLine0\" stroke-width=\"2\" stroke=\"none\" marker-end=\"url(#arrowhead)\" style=\"fill: none;\"/><text x=\"420\" y=\"173\" text-anchor=\"middle\" dominant-baseline=\"middle\" alignment-baseline=\"middle\" class=\"messageText\" dy=\"1em\" style=\"font-size: 16px; font-weight: 400;\">WebSocket (STT + debug)</text><line x1=\"299.5\" y1=\"204\" x2=\"540.5\" y2=\"204\" class=\"messageLine0\" stroke-width=\"2\" stroke=\"none\" marker-end=\"url(#arrowhead)\" style=\"fill: none;\"/><text x=\"780\" y=\"219\" text-anchor=\"middle\" dominant-baseline=\"middle\" alignment-baseline=\"middle\" class=\"messageText\" dy=\"1em\" style=\"font-size: 16px; font-weight: 400;\">Retrieve context</text><line x1=\"545.5\" y1=\"248\" x2=\"1014.5\" y2=\"248\" class=\"messageLine0\" stroke-width=\"2\" stroke=\"none\" marker-end=\"url(#arrowhead)\" style=\"fill: none;\"/><text x=\"680\" y=\"263\" text-anchor=\"middle\" dominant-baseline=\"middle\" alignment-baseline=\"middle\" class=\"messageText\" dy=\"1em\" style=\"font-size: 16px; font-weight: 400;\">Prompt with STT text + context</text><line x1=\"545.5\" y1=\"294\" x2=\"814.5\" y2=\"294\" class=\"messageLine0\" stroke-width=\"2\" stroke=\"none\" marker-end=\"url(#arrowhead)\" style=\"fill: none;\"/><text x=\"683\" y=\"309\" text-anchor=\"middle\" dominant-baseline=\"middle\" alignment-baseline=\"middle\" class=\"messageText\" dy=\"1em\" style=\"font-size: 16px; font-weight: 400;\">Token stream (text)</text><line x1=\"817.5\" y1=\"340\" x2=\"548.5\" y2=\"340\" class=\"messageLine1\" stroke-width=\"2\" stroke=\"none\" marker-end=\"url(#arrowhead)\" style=\"stroke-dasharray: 3, 3; fill: none;\"/><text x=\"423\" y=\"355\" text-anchor=\"middle\" dominant-baseline=\"middle\" alignment-baseline=\"middle\" class=\"messageText\" dy=\"1em\" style=\"font-size: 16px; font-weight: 400;\">WebSocket (TTS payloads)</text><line x1=\"543.5\" y1=\"386\" x2=\"302.5\" y2=\"386\" class=\"messageLine0\" stroke-width=\"2\" stroke=\"none\" marker-end=\"url(#arrowhead)\" style=\"fill: none;\"/><text x=\"188\" y=\"401\" text-anchor=\"middle\" dominant-baseline=\"middle\" alignment-baseline=\"middle\" class=\"messageText\" dy=\"1em\" style=\"font-size: 16px; font-weight: 400;\">Speak response (TTS)</text><line x1=\"297.5\" y1=\"432\" x2=\"79\" y2=\"432\" class=\"messageLine0\" stroke-width=\"2\" stroke=\"none\" marker-end=\"url(#arrowhead)\" style=\"fill: none;\"/></svg>"
      ],
      "text/plain": [
       "<mermaid.__main__.Mermaid at 0x1056ed1d0>"
      ]
     },
     "metadata": {},
     "output_type": "display_data"
    }
   ],
   "source": [
    "from IPython.display import display\n",
    "\n",
    "mermaid_voice = \"\"\"\n",
    "%%{init: {\n",
    "  \"theme\": \"base\",\n",
    "  \"themeVariables\": {\n",
    "    \"background\": \"#0B0D17\",\n",
    "    \"primaryColor\": \"#12284C\",\n",
    "    \"primaryBorderColor\": \"#661847\",\n",
    "    \"primaryTextColor\": \"#FFFFFF\",\n",
    "    \"tertiaryColor\": \"#0DC5FB\",\n",
    "    \"tertiaryBorderColor\": \"#0B3D91\",\n",
    "    \"tertiaryTextColor\": \"#FFFFFF\",\n",
    "    \"noteBkgColor\": \"#4B0082\",\n",
    "    \"noteTextColor\": \"#FFFFFF\",\n",
    "    \"sequence\": {\n",
    "      \"actorFontSize\": \"14px\",\n",
    "      \"messageFontSize\": \"13px\"\n",
    "    }\n",
    "  }\n",
    "}}%%\n",
    "\n",
    "sequenceDiagram\n",
    "    participant User\n",
    "    participant Conversation Relay (Voice)\n",
    "    participant External Service\n",
    "    participant LLMs / AI Agents\n",
    "    participant RAG / MCP\n",
    "\n",
    "    Note over User: Starts a voice interaction\n",
    "\n",
    "    User->>Conversation Relay (Voice): Speak during call\n",
    "    Conversation Relay (Voice)->>External Service: WebSocket (STT + debug)\n",
    "    External Service->>RAG / MCP: Retrieve context\n",
    "    External Service->>LLMs / AI Agents: Prompt with STT text + context\n",
    "    LLMs / AI Agents-->>External Service: Token stream (text)\n",
    "    External Service->>Conversation Relay (Voice): WebSocket (TTS payloads)\n",
    "    Conversation Relay (Voice)->>User: Speak response (TTS)\n",
    "\"\"\"\n",
    "\n",
    "display(Mermaid(mermaid_voice))\n"
   ]
  },
  {
   "cell_type": "code",
   "execution_count": null,
   "id": "332babf1",
   "metadata": {},
   "outputs": [],
   "source": [
    "from IPython.display import display\n",
    "\n",
    "mermaid_combined = \"\"\"\n",
    "%%{init: {\n",
    "  \"theme\": \"base\",\n",
    "  \"themeVariables\": {\n",
    "    \"background\": \"#0B0D17\",\n",
    "    \"primaryColor\": \"#12284C\",\n",
    "    \"primaryBorderColor\": \"#661847\",\n",
    "    \"primaryTextColor\": \"#FFFFFF\",\n",
    "    \"tertiaryColor\": \"#0DC5FB\",\n",
    "    \"tertiaryBorderColor\": \"#0B3D91\",\n",
    "    \"tertiaryTextColor\": \"#FFFFFF\",\n",
    "    \"noteBkgColor\": \"#4B0082\",\n",
    "    \"noteTextColor\": \"#FFFFFF\",\n",
    "    \"clusterBkg\": \"#0B0D17\",\n",
    "    \"clusterBorder\": \"#1D1F2B\"\n",
    "  },\n",
    "  \"flowchart\": {\n",
    "    \"useMaxWidth\": true,\n",
    "    \"htmlLabels\": true,\n",
    "    \"wrap\": true\n",
    "  }\n",
    "}}%%\n",
    "\n",
    "graph TD\n",
    "\n",
    "    subgraph EntryPoint[\"User\"]\n",
    "      UserText[\"User (Text)\"]:::user\n",
    "      UserVoice[\"User (Voice)\"]:::user\n",
    "    end\n",
    "\n",
    "    subgraph Messaging\n",
    "      Conversations[\"Conversations (Text)\"]:::infra\n",
    "      ConvRelay[\"Conversation Relay (Voice)\"]:::infra\n",
    "    end\n",
    "\n",
    "    subgraph Server[\"External Service\"]\n",
    "      Ext[\"Webhook + WS Handler\"]:::server\n",
    "    end\n",
    "\n",
    "    subgraph Intelligence[\"AI & Context Layer\"]\n",
    "      RAG[\"RAG / MCP\"]:::ai\n",
    "      LLMs[\"LLMs / AI Agents\"]:::ai\n",
    "    end\n",
    "\n",
    "    %% TEXT FLOW\n",
    "    UserText -->|Send Message| Conversations\n",
    "    Conversations -->|Webhook| Ext\n",
    "    Ext --> RAG\n",
    "    Ext -->|Prompt| LLMs\n",
    "    LLMs -->|Response| Ext\n",
    "    Ext -->|SDK/API| Conversations\n",
    "    Conversations -->|Reply| UserText\n",
    "\n",
    "    %% VOICE FLOW\n",
    "    UserVoice -->|Speech| ConvRelay\n",
    "    ConvRelay -->|STT + Events| Ext\n",
    "    Ext --> RAG\n",
    "    Ext -->|Prompt| LLMs\n",
    "    LLMs -->|Token Stream| Ext\n",
    "    Ext -->|TTS Payload| ConvRelay\n",
    "    ConvRelay -->|Speech| UserVoice\n",
    "\n",
    "    %% Styles\n",
    "    classDef user fill:#0DC5FB,stroke:#0B3D91,stroke-width:3px,color:#ffffff\n",
    "    classDef infra fill:#F22F46,stroke:#0B3D91,stroke-width:3px,color:#ffffff\n",
    "    classDef server fill:#4B0082,stroke:#F22F46,stroke-width:3px,color:#ffffff\n",
    "    classDef ai fill:#661847,stroke:#F22F46,stroke-width:2px,color:#ffffff\n",
    "\"\"\"\n",
    "\n",
    "display(Mermaid(mermaid_combined))\n"
   ]
  },
  {
   "cell_type": "markdown",
   "id": "ff6b5619",
   "metadata": {
    "slideshow": {
     "slide_type": "slide"
    }
   },
   "source": [
    "## Wrap-Up"
   ]
  },
  {
   "cell_type": "markdown",
   "id": "a3f1d68e",
   "metadata": {},
   "source": [
    "**Melhores Práticas para Escalar o\n",
    "<br>\n",
    "Engajamento de Clientes Multi-Agentes \n",
    "<br>\n",
    "com Conversation Relay**\n",
    "\n",
    "&emsp; &#9658; Orquestração Omnicanal\n",
    "<br>\n",
    "&emsp; &#9658; Personalização em Tempo Real\n",
    "<br>\n",
    "&emsp; &#9658; Especialização de Agentes e Recursos\n",
    "<br>\n",
    "&emsp; &#9658; Governança e Observabilidade"
   ]
  },
  {
   "cell_type": "markdown",
   "id": "fa65acf7",
   "metadata": {},
   "source": [
    "#### Next Session:\n",
    "\n",
    "**Conversas em escala: <br>\n",
    "A nova era do engajamento pelo WhatsApp**"
   ]
  },
  {
   "cell_type": "code",
   "execution_count": 79,
   "id": "9396358f",
   "metadata": {
    "slideshow": {
     "slide_type": "fragment"
    }
   },
   "outputs": [
    {
     "data": {
      "text/html": [
       "\n",
       "<style>\n",
       "@keyframes gradient {\n",
       "    0% { background-position: 0% 50%; }\n",
       "    50% { background-position: 100% 50%; }\n",
       "    100% { background-position: 0% 50%; }\n",
       "}\n",
       ".welcome-box {\n",
       "    font-family: 'Segoe UI', sans-serif;\n",
       "    font-size: 2em;\n",
       "    font-weight: bold;\n",
       "    color: white;\n",
       "    padding: 30px;\n",
       "    text-align: center;\n",
       "    border-radius: 16px;\n",
       "    background: linear-gradient(-45deg, #0DC5FB, #661847, #4B0082, #F22F46);\n",
       "    background-size: 400% 400%;\n",
       "    animation: gradient 8s ease infinite;\n",
       "    box-shadow: 0 0 20px rgba(0,0,0,0.4);\n",
       "    margin: 40px auto;\n",
       "    width: 70%;\n",
       "}\n",
       "</style>\n",
       "<div class='welcome-box'>TWILIO SIGNAL SÃO PAULO 2025</div>"
      ],
      "text/plain": [
       "<IPython.core.display.HTML object>"
      ]
     },
     "metadata": {},
     "output_type": "display_data"
    }
   ],
   "source": [
    "import time\n",
    "from IPython.display import display, clear_output, HTML\n",
    "\n",
    "# Messages to cycle through\n",
    "messages = [\n",
    "    \"Thank you!\",\n",
    "    \"¡Gracias!\",\n",
    "    \"Obrigado!\"\n",
    "]\n",
    "\n",
    "# Final message\n",
    "final_message = \"TWILIO SIGNAL SÃO PAULO 2025\"\n",
    "\n",
    "# Shared CSS for animated gradient box\n",
    "style = \"\"\"\n",
    "<style>\n",
    "@keyframes gradient {\n",
    "    0% { background-position: 0% 50%; }\n",
    "    50% { background-position: 100% 50%; }\n",
    "    100% { background-position: 0% 50%; }\n",
    "}\n",
    ".welcome-box {\n",
    "    font-family: 'Segoe UI', sans-serif;\n",
    "    font-size: 2em;\n",
    "    font-weight: bold;\n",
    "    color: white;\n",
    "    padding: 30px;\n",
    "    text-align: center;\n",
    "    border-radius: 16px;\n",
    "    background: linear-gradient(-45deg, #0DC5FB, #661847, #4B0082, #F22F46);\n",
    "    background-size: 400% 400%;\n",
    "    animation: gradient 8s ease infinite;\n",
    "    box-shadow: 0 0 20px rgba(0,0,0,0.4);\n",
    "    margin: 40px auto;\n",
    "    width: 70%;\n",
    "}\n",
    "</style>\n",
    "\"\"\"\n",
    "\n",
    "# Animation loop\n",
    "for _ in range(2):  # Number of cycles\n",
    "    for msg in messages:\n",
    "        clear_output(wait=True)\n",
    "        html = f\"{style}<div class='welcome-box'>{msg}</div>\"\n",
    "        display(HTML(html))\n",
    "        time.sleep(1.5)\n",
    "\n",
    "# Final SIGNAL banner\n",
    "clear_output(wait=True)\n",
    "html = f\"{style}<div class='welcome-box'>{final_message}</div>\"\n",
    "display(HTML(html))\n"
   ]
  }
 ],
 "metadata": {
  "kernelspec": {
   "display_name": ".venv",
   "language": "python",
   "name": "python3"
  },
  "language_info": {
   "codemirror_mode": {
    "name": "ipython",
    "version": 3
   },
   "file_extension": ".py",
   "mimetype": "text/x-python",
   "name": "python",
   "nbconvert_exporter": "python",
   "pygments_lexer": "ipython3",
   "version": "3.13.5"
  }
 },
 "nbformat": 4,
 "nbformat_minor": 5
}
