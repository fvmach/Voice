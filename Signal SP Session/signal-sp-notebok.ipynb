{
 "cells": [
  {
   "cell_type": "markdown",
   "id": "8e90e904",
   "metadata": {
    "slideshow": {
     "slide_type": "skip"
    }
   },
   "source": [
    "### Setup"
   ]
  },
  {
   "cell_type": "markdown",
   "id": "d7f5870e",
   "metadata": {},
   "source": [
    "#### Install"
   ]
  },
  {
   "cell_type": "code",
   "execution_count": null,
   "id": "dc0b96b9",
   "metadata": {},
   "outputs": [],
   "source": [
    "%pip install twilio python-dotenv matplotlib numpy diagrams graphviz mermaid-py --quiet"
   ]
  },
  {
   "cell_type": "markdown",
   "id": "4e7183b1",
   "metadata": {},
   "source": [
    "#### Init Client"
   ]
  },
  {
   "cell_type": "markdown",
   "id": "ee05db78",
   "metadata": {},
   "source": [
    "##### Functions"
   ]
  },
  {
   "cell_type": "code",
   "execution_count": null,
   "id": "3b49a173",
   "metadata": {},
   "outputs": [],
   "source": [
    "import os\n",
    "from twilio.rest import Client\n",
    "from matplotlib.patches import FancyBboxPatch, ConnectionPatch\n",
    "import numpy as np\n",
    "\n",
    "import matplotlib.pyplot as plt\n",
    "import matplotlib.patches as patches\n",
    "\n",
    "import IPython\n",
    "import json\n",
    "\n",
    "from mermaid import Mermaid\n",
    "from IPython.display import display\n",
    "\n",
    "# Find your Account SID and Auth Token at twilio.com/console\n",
    "# and set the environment variables. See http://twil.io/secure\n",
    "account_sid = os.environ[\"TWILIO_ACCOUNT_SID\"]\n",
    "auth_token = os.environ[\"TWILIO_AUTH_TOKEN\"]\n",
    "client = Client(account_sid, auth_token)\n"
   ]
  },
  {
   "cell_type": "code",
   "execution_count": null,
   "id": "1331a3f9",
   "metadata": {},
   "outputs": [],
   "source": [
    "from IPython.display import display, HTML\n",
    "import xml.dom.minidom\n",
    "\n",
    "def pretty_print_twiml(twiml_response):\n",
    "    \"\"\"\n",
    "    Takes a TwiML VoiceResponse object and renders it in a Twilio-branded pretty HTML box.\n",
    "    \n",
    "    Args:\n",
    "        twiml_response: A twilio.twiml.voice_response.VoiceResponse object\n",
    "    \n",
    "    Returns:\n",
    "        str: Pretty formatted XML string (also displayed in a styled box)\n",
    "    \"\"\"\n",
    "    # Convert TwiML response to pretty XML\n",
    "    xml_string = str(twiml_response)\n",
    "    pretty_xml = xml.dom.minidom.parseString(xml_string).toprettyxml(indent=\"  \")\n",
    "    pretty_xml = '\\n'.join(pretty_xml.split('\\n')[1:])  # Remove XML declaration\n",
    "\n",
    "    # Escape HTML special characters\n",
    "    escaped_xml = pretty_xml.replace(\"&\", \"&amp;\").replace(\"<\", \"&lt;\").replace(\">\", \"&gt;\")\n",
    "\n",
    "    # Twilio-style display box\n",
    "    style = \"\"\"\n",
    "    <style>\n",
    "    .twilio-xml-box {\n",
    "        background: #0B0D17;\n",
    "        border: 1px solid #661847;\n",
    "        padding: 20px;\n",
    "        border-radius: 12px;\n",
    "        font-family: 'Courier New', monospace;\n",
    "        font-size: 0.95em;\n",
    "        color: #FFFFFF;\n",
    "        white-space: pre-wrap;\n",
    "        line-height: 1.5;\n",
    "        box-shadow: 0 0 12px rgba(242, 47, 70, 0.4);\n",
    "        margin: 20px auto;\n",
    "        width: 90%;\n",
    "    }\n",
    "    .twilio-xml-box span.tag {\n",
    "        color: #F22F46;\n",
    "    }\n",
    "    .twilio-xml-box span.attr {\n",
    "        color: #0DC5FB;\n",
    "    }\n",
    "    </style>\n",
    "    \"\"\"\n",
    "\n",
    "    html_output = f\"\"\"\n",
    "    {style}\n",
    "    <div class=\"twilio-xml-box\">{escaped_xml}</div>\n",
    "    \"\"\"\n",
    "\n",
    "    display(HTML(html_output))\n",
    "    return pretty_xml.strip()\n"
   ]
  },
  {
   "cell_type": "code",
   "execution_count": null,
   "id": "1b79a801",
   "metadata": {},
   "outputs": [],
   "source": [
    "import time\n",
    "from IPython.display import display, clear_output, HTML\n",
    "\n",
    "def animate_call_flow_html(sid=None, delay=1.5):\n",
    "    steps = [\n",
    "        \"Connecting Call\",\n",
    "        \"AI Agent connected\",\n",
    "        \"Text to Speech initiated\",\n",
    "        \"Call Ended\"\n",
    "    ]\n",
    "\n",
    "    style = \"\"\"\n",
    "    <style>\n",
    "    @keyframes gradientFlow {\n",
    "        0% { background-position: 0% 50%; }\n",
    "        50% { background-position: 100% 50%; }\n",
    "        100% { background-position: 0% 50%; }\n",
    "    }\n",
    "    .twilio-flow {\n",
    "        font-family: 'Segoe UI', sans-serif;\n",
    "        font-size: 1.6em;\n",
    "        color: white;\n",
    "        font-weight: 600;\n",
    "        padding: 18px 24px;\n",
    "        border-radius: 12px;\n",
    "        text-align: center;\n",
    "        background: linear-gradient(-45deg, #0DC5FB, #661847, #4B0082, #F22F46);\n",
    "        background-size: 400% 400%;\n",
    "        animation: gradientFlow 6s ease infinite;\n",
    "        box-shadow: 0 0 20px rgba(0,0,0,0.3);\n",
    "        margin: 20px auto;\n",
    "        width: 70%;\n",
    "    }\n",
    "    .twilio-sid {\n",
    "        font-size: 0.95em;\n",
    "        margin-top: 10px;\n",
    "        color: #888;\n",
    "    }\n",
    "    </style>\n",
    "    \"\"\"\n",
    "\n",
    "    flow = \"\"\n",
    "    for step in steps:\n",
    "        flow += f\"{step} ➝ \"\n",
    "        clear_output(wait=True)\n",
    "        html = f\"\"\"\n",
    "        {style}\n",
    "        <div class=\"twilio-flow\">{flow.strip(' ➝ ')}</div>\n",
    "        \"\"\"\n",
    "        display(HTML(html))\n",
    "        time.sleep(delay)\n",
    "\n",
    "    if sid:\n",
    "        final = f\"\"\"\n",
    "        {style}\n",
    "        <div class=\"twilio-flow\">Call Successful!</div>\n",
    "        <div class=\"twilio-sid\">Call SID: <code>{sid}</code></div>\n",
    "        \"\"\"\n",
    "        clear_output(wait=True)\n",
    "        display(HTML(final))\n"
   ]
  },
  {
   "cell_type": "code",
   "execution_count": null,
   "id": "25fd5a29",
   "metadata": {},
   "outputs": [],
   "source": [
    "from IPython.display import display, HTML\n",
    "\n",
    "def pretty_print_operator_results(transcripts):\n",
    "    from html import escape\n",
    "\n",
    "    style = \"\"\"\n",
    "    <style>\n",
    "    .twilio-box {\n",
    "        background: #0B0D17;\n",
    "        border: 1px solid #661847;\n",
    "        border-radius: 12px;\n",
    "        color: #ffffff;\n",
    "        font-family: 'Segoe UI', sans-serif;\n",
    "        padding: 20px;\n",
    "        margin: 20px auto;\n",
    "        width: 95%;\n",
    "        box-shadow: 0 0 20px rgba(242, 47, 70, 0.2);\n",
    "    }\n",
    "    .twilio-header {\n",
    "        font-size: 1.1em;\n",
    "        font-weight: bold;\n",
    "        margin-bottom: 12px;\n",
    "        color: #F22F46;\n",
    "    }\n",
    "    .twilio-sub {\n",
    "        color: #0DC5FB;\n",
    "        font-size: 0.9em;\n",
    "        margin-bottom: 10px;\n",
    "    }\n",
    "    .twilio-block {\n",
    "        background: #12284C;\n",
    "        padding: 16px;\n",
    "        border-radius: 8px;\n",
    "        margin-bottom: 20px;\n",
    "        border-left: 4px solid #4B0082;\n",
    "        font-size: 0.9em;\n",
    "    }\n",
    "    .twilio-key {\n",
    "        font-weight: bold;\n",
    "        color: #FFFFFF;\n",
    "    }\n",
    "    .twilio-value {\n",
    "        color: #BBBBBB;\n",
    "    }\n",
    "    .twilio-divider {\n",
    "        margin: 16px 0;\n",
    "        border-top: 1px solid #333;\n",
    "    }\n",
    "    </style>\n",
    "    \"\"\"\n",
    "\n",
    "    html = f\"\"\"\n",
    "    {style}\n",
    "    <div class=\"twilio-box\">\n",
    "        <div class=\"twilio-header\">Twilio Intelligence Operator Results</div>\n",
    "        <div class=\"twilio-sub\">Getting operator results for {len(transcripts)} transcripts.</div>\n",
    "    \"\"\"\n",
    "\n",
    "    for transcript in transcripts:\n",
    "        html += f\"\"\"<div class=\"twilio-block\">\n",
    "        <div class=\"twilio-key\">Transcript SID:</div>\n",
    "        <div class=\"twilio-value\">{escape(transcript.sid)}</div>\n",
    "        \"\"\"\n",
    "\n",
    "        try:\n",
    "            operator_results = client.intelligence.v2.transcripts(\n",
    "                transcript.sid\n",
    "            ).operator_results.list(limit=100)\n",
    "\n",
    "            html += f\"\"\"<div class=\"twilio-sub\">Found {len(operator_results)} operator results.</div>\"\"\"\n",
    "\n",
    "            for i, record in enumerate(operator_results, 1):\n",
    "                html += f\"\"\"<div class=\"twilio-divider\"></div>\n",
    "                <div class=\"twilio-key\">Operator #{i}</div>\n",
    "                <div class=\"twilio-value\">Name: {record.name}</div>\n",
    "                <div class=\"twilio-value\">Type: {record.operator_type}</div>\n",
    "                <div class=\"twilio-value\">Operator SID: {record.operator_sid}</div>\n",
    "                \"\"\"\n",
    "\n",
    "                if record.operator_type == 'text-generation' and record.text_generation_results:\n",
    "                    result_text = record.text_generation_results.get('result', 'No result available')\n",
    "                    html += f\"\"\"<div class=\"twilio-key\" style=\"margin-top: 10px;\">Text Generation Result:</div>\n",
    "                                <div class=\"twilio-value\">{escape(result_text)}</div>\"\"\"\n",
    "\n",
    "                elif record.operator_type == 'extract' and record.extract_results:\n",
    "                    html += \"<div class='twilio-key' style='margin-top: 10px;'>Extraction Results:</div>\"\n",
    "                    for entity_type, entities in record.extract_results.items():\n",
    "                        html += f\"<div class='twilio-value'>{entity_type}: {entities}</div>\"\n",
    "\n",
    "                    if record.extract_match:\n",
    "                        html += f\"<div class='twilio-value'>Match Found: {record.extract_match}</div>\"\n",
    "                        html += f\"<div class='twilio-value'>Match Probability: {record.match_probability}</div>\"\n",
    "\n",
    "                    if record.utterance_results:\n",
    "                        html += \"<div class='twilio-key' style='margin-top: 10px;'>Utterance Analysis:</div>\"\n",
    "                        for j, utterance in enumerate(record.utterance_results):\n",
    "                            html += f\"<div class='twilio-sub'>Utterance {j+1} (Index {utterance['utterance_index']}):</div>\"\n",
    "                            html += f\"<div class='twilio-value'>Match Probability: {utterance['match_probability']}</div>\"\n",
    "                            labeled_text = \"\"\n",
    "                            for part in utterance['utterance_parts']:\n",
    "                                label = part.get('label')\n",
    "                                text = part['text']\n",
    "                                labeled_text += f\"[{label}: {text}]\" if label else text\n",
    "                            html += f\"<div class='twilio-value'>Text: {escape(labeled_text)}</div>\"\n",
    "\n",
    "                elif record.operator_type == 'conversation-classify':\n",
    "                    html += \"<div class='twilio-key' style='margin-top: 10px;'>Classification Result:</div>\"\n",
    "                    html += f\"<div class='twilio-value'>Predicted Label: {record.predicted_label}</div>\"\n",
    "                    html += f\"<div class='twilio-value'>Predicted Probability: {record.predicted_probability}</div>\"\n",
    "\n",
    "                    if record.label_probabilities:\n",
    "                        html += \"<div class='twilio-key'>All Label Probabilities:</div>\"\n",
    "                        for label, prob in record.label_probabilities.items():\n",
    "                            html += f\"<div class='twilio-value'>{label}: {prob}</div>\"\n",
    "\n",
    "                html += f\"<div class='twilio-value' style='margin-top: 10px;'>Transcript SID: {record.transcript_sid}</div>\"\n",
    "                html += f\"<div class='twilio-value'>URL: <a style='color:#0DC5FB;' href='{record.url}' target='_blank'>{record.url}</a></div>\"\n",
    "\n",
    "            html += \"</div>\"  # End transcript block\n",
    "\n",
    "        except Exception as e:\n",
    "            html += f\"<div class='twilio-value'>Error fetching operator results: {escape(str(e))}</div></div>\"\n",
    "\n",
    "    html += \"</div>\"  # twilio-box\n",
    "\n",
    "    display(HTML(html))\n"
   ]
  },
  {
   "cell_type": "code",
   "execution_count": null,
   "id": "209ea31d",
   "metadata": {},
   "outputs": [],
   "source": [
    "from datetime import datetime, timedelta\n",
    "from IPython.display import display, HTML\n",
    "\n",
    "# Twilio SIGNAL-style CSS block (no emojis)\n",
    "style = \"\"\"\n",
    "<style>\n",
    ".twilio-box {\n",
    "    background: #0B0D17;\n",
    "    border: 1px solid #661847;\n",
    "    border-radius: 12px;\n",
    "    color: #ffffff;\n",
    "    font-family: 'Segoe UI', sans-serif;\n",
    "    padding: 20px;\n",
    "    margin: 20px auto;\n",
    "    width: 95%;\n",
    "    box-shadow: 0 0 20px rgba(242, 47, 70, 0.2);\n",
    "}\n",
    ".twilio-header {\n",
    "    font-size: 1.1em;\n",
    "    font-weight: bold;\n",
    "    margin-bottom: 10px;\n",
    "    color: #F22F46;\n",
    "}\n",
    ".twilio-sub {\n",
    "    color: #0DC5FB;\n",
    "    font-size: 0.9em;\n",
    "    margin-bottom: 8px;\n",
    "}\n",
    ".twilio-record {\n",
    "    background: #12284C;\n",
    "    padding: 12px;\n",
    "    border-radius: 8px;\n",
    "    margin-bottom: 10px;\n",
    "    border-left: 4px solid #4B0082;\n",
    "    font-size: 0.9em;\n",
    "}\n",
    ".twilio-key {\n",
    "    font-weight: bold;\n",
    "    color: #FFFFFF;\n",
    "}\n",
    ".twilio-value {\n",
    "    color: #BBBBBB;\n",
    "}\n",
    "</style>\n",
    "\"\"\"\n",
    "\n",
    "# Initialize last_update_date\n",
    "if 'last_update_date' not in globals():\n",
    "    last_update_date = datetime.now() - timedelta(days=1)\n",
    "\n",
    "last_update_time = last_update_date.strftime('%Y-%m-%dT%H:%M:%SZ')\n",
    "\n",
    "# Fetch transcripts\n",
    "transcripts = client.intelligence.v2.transcripts.list(\n",
    "    limit=100,\n",
    "    after_date_created=last_update_time,\n",
    "    after_start_time=last_update_time,\n",
    ")\n",
    "\n",
    "# Build HTML output\n",
    "html = f\"\"\"\n",
    "{style}\n",
    "<div class=\"twilio-box\">\n",
    "  <div class=\"twilio-header\">Twilio Conversational Intelligence</div>\n",
    "  <div class=\"twilio-sub\">Fetching transcripts after: <code>{last_update_time}</code></div>\n",
    "  <div class=\"twilio-sub\">Found <strong>{len(transcripts)}</strong> new transcripts:</div>\n",
    "\"\"\"\n",
    "\n",
    "for record in transcripts:\n",
    "    html += '<div class=\"twilio-record\">'\n",
    "    for key, value in vars(record).items():\n",
    "        html += f\"<div><span class='twilio-key'>{key}:</span> <span class='twilio-value'>{value}</span></div>\"\n",
    "    html += '</div>'\n",
    "\n",
    "# Update the timestamp for next run\n",
    "last_update_date = datetime.now()\n",
    "html += f\"\"\"\n",
    "  <div class=\"twilio-sub\">Updated last_update_date to: <code>{last_update_date.strftime('%Y-%m-%d %H:%M:%S')}</code></div>\n",
    "</div>\n",
    "\"\"\"\n",
    "\n",
    "# Display in notebook\n",
    "display(HTML(html))\n"
   ]
  },
  {
   "cell_type": "markdown",
   "id": "b90761b5",
   "metadata": {},
   "source": [
    "#\n",
    "___"
   ]
  },
  {
   "cell_type": "markdown",
   "id": "912ab2cd",
   "metadata": {},
   "source": [
    "# Twilio Brasil - Signal São Paulo 2025\n",
    "\n"
   ]
  },
  {
   "cell_type": "markdown",
   "id": "eded9e32",
   "metadata": {},
   "source": [
    "___"
   ]
  },
  {
   "cell_type": "code",
   "execution_count": null,
   "id": "72a10119",
   "metadata": {
    "slideshow": {
     "slide_type": "fragment"
    }
   },
   "outputs": [],
   "source": [
    "import time\n",
    "from IPython.display import display, clear_output, HTML\n",
    "\n",
    "# Messages to cycle through\n",
    "messages = [\n",
    "    \"Welcome, Builders!\",\n",
    "    \"Bienvenidos, Creadores!\",\n",
    "    \"Bem-vindos, Criadores!\",\n",
    "    \"Bienvenidas, Creadoras!\",\n",
    "    \"Bem-vindas, Criadoras!\"\n",
    "]\n",
    "\n",
    "# Final message\n",
    "final_message = \"TWILIO SIGNAL SÃO PAULO 2025\"\n",
    "\n",
    "# Shared CSS for animated gradient box\n",
    "style = \"\"\"\n",
    "<style>\n",
    "@keyframes gradient {\n",
    "    0% { background-position: 0% 50%; }\n",
    "    50% { background-position: 100% 50%; }\n",
    "    100% { background-position: 0% 50%; }\n",
    "}\n",
    ".welcome-box {\n",
    "    font-family: 'Segoe UI', sans-serif;\n",
    "    font-size: 2em;\n",
    "    font-weight: bold;\n",
    "    color: white;\n",
    "    padding: 30px;\n",
    "    text-align: center;\n",
    "    border-radius: 16px;\n",
    "    background: linear-gradient(-45deg, #0DC5FB, #661847, #4B0082, #F22F46);\n",
    "    background-size: 400% 400%;\n",
    "    animation: gradient 8s ease infinite;\n",
    "    box-shadow: 0 0 20px rgba(0,0,0,0.4);\n",
    "    margin: 40px auto;\n",
    "    width: 70%;\n",
    "}\n",
    "</style>\n",
    "\"\"\"\n",
    "\n",
    "# Animation loop\n",
    "for _ in range(2):  # Number of cycles\n",
    "    for msg in messages:\n",
    "        clear_output(wait=True)\n",
    "        html = f\"{style}<div class='welcome-box'>{msg}</div>\"\n",
    "        display(HTML(html))\n",
    "        time.sleep(1.5)\n",
    "\n",
    "# Final SIGNAL banner\n",
    "clear_output(wait=True)\n",
    "html = f\"{style}<div class='welcome-box'>{final_message}</div>\"\n",
    "display(HTML(html))\n"
   ]
  },
  {
   "cell_type": "markdown",
   "id": "9ed10713",
   "metadata": {},
   "source": [
    "___"
   ]
  },
  {
   "cell_type": "markdown",
   "id": "8cc88b83",
   "metadata": {
    "slideshow": {
     "slide_type": "slide"
    }
   },
   "source": [
    "### Melhores Práticas para Escalar o <br>Engajamento de Clientes Multi-Agente <br>com Conversation Relay"
   ]
  },
  {
   "cell_type": "markdown",
   "id": "6954c463",
   "metadata": {
    "slideshow": {
     "slide_type": "fragment"
    }
   },
   "source": [
    "**Content**\n",
    "\n",
    "\n",
    "1. **[Voice API]()**  *Orquestração de voz*\n",
    "\n",
    "2. **[TwiML]()**  *Controles de chamada avançados*\n",
    "\n",
    "3. **[Connect]()**   *ConversationRelay*\n",
    "\n",
    "4. **[Conversational Intelligence]()**   *Observabilidade nativa*"
   ]
  },
  {
   "cell_type": "markdown",
   "id": "5ee60144",
   "metadata": {},
   "source": [
    "___"
   ]
  },
  {
   "cell_type": "markdown",
   "id": "64b7e62a",
   "metadata": {
    "slideshow": {
     "slide_type": "fragment"
    },
    "vscode": {
     "languageId": "html"
    }
   },
   "source": [
    "<style>\n",
    ".fvm-table-card {\n",
    "  background-color: #0B0D17;\n",
    "  color: #ffffff;\n",
    "  border: 1px solid #661847;\n",
    "  border-radius: 16px;\n",
    "  padding: 16px;\n",
    "  font-family: 'Segoe UI', sans-serif;\n",
    "  box-shadow: 0 0 20px rgba(242, 47, 70, 0.15);\n",
    "  margin: 30px auto;\n",
    "  max-width: 520px;\n",
    "  overflow: hidden;\n",
    "}\n",
    "\n",
    ".fvm-table-card table {\n",
    "  width: 100%;\n",
    "  border-collapse: collapse;\n",
    "  border: 0px;\n",
    "}\n",
    "\n",
    ".fvm-table-card td {\n",
    "  vertical-align: middle;\n",
    "  padding: 6px 12px;\n",
    "    border: 0px;\n",
    "\n",
    "}\n",
    "\n",
    ".fvm-table-card .photo {\n",
    "  width: 90px;\n",
    "  padding-right: 16px;\n",
    "    border: 0px;\n",
    "\n",
    "}\n",
    "\n",
    ".fvm-table-card .photo img {\n",
    "  width: 84px;\n",
    "  height: 84px;\n",
    "  border-radius: 50%;\n",
    "  border: 2px solid #F22F46;\n",
    "  object-fit: cover;\n",
    "  display: block;\n",
    "}\n",
    "\n",
    ".fvm-table-card .name {\n",
    "  font-size: 1.2rem;\n",
    "  font-weight: 600;\n",
    "  color: #F22F46;\n",
    "}\n",
    "\n",
    ".fvm-table-card .position {\n",
    "  color: #0DC5FB;\n",
    "  font-size: 1rem;\n",
    "  font-weight: 500;\n",
    "}\n",
    "\n",
    ".fvm-table-card .company {\n",
    "  color: #0DC5FB;\n",
    "  font-size: 0.95rem;\n",
    "}\n",
    "</style>\n",
    "\n",
    "<div class=\"fvm-table-card\">\n",
    "  <table>\n",
    "    <tr>\n",
    "      <td class=\"photo\" rowspan=\"3\">\n",
    "        <img src=\"https://assets.swoogo.com/uploads/medium/5396236-683722fd8921b.jpeg\" alt=\"Fernando Vieira Machado\">\n",
    "      </td>\n",
    "      <td class=\"name\">Fernando Vieira Machado</td>\n",
    "    </tr>\n",
    "    <tr>\n",
    "      <td class=\"position\">Arquiteto de Soluções</td>\n",
    "    </tr>\n",
    "    <tr>\n",
    "      <td class=\"company\">Twilio</td>\n",
    "    </tr>\n",
    "    <tr>\n",
    "      <td></td>\n",
    "    </tr>\n",
    "  </table>\n",
    "</div>\n"
   ]
  },
  {
   "cell_type": "markdown",
   "id": "9737880b",
   "metadata": {},
   "source": [
    "___"
   ]
  },
  {
   "cell_type": "markdown",
   "id": "e5df1f2b",
   "metadata": {
    "slideshow": {
     "slide_type": "slide"
    }
   },
   "source": [
    "## Architectural Overview"
   ]
  },
  {
   "cell_type": "code",
   "execution_count": null,
   "id": "5eeb37ce",
   "metadata": {
    "slideshow": {
     "slide_type": "fragment"
    }
   },
   "outputs": [],
   "source": [
    "mermaid_string = \"\"\"\n",
    "%%{init: {\n",
    "  \"theme\": \"base\",\n",
    "  \"themeVariables\": {\n",
    "    \"background\": \"#0B0D17\",\n",
    "    \"primaryColor\": \"#12284C\",\n",
    "    \"primaryBorderColor\": \"#661847\",\n",
    "    \"primaryTextColor\": \"#FFFFFF\",\n",
    "    \"tertiaryColor\": \"#0DC5FB\",\n",
    "    \"tertiaryBorderColor\": \"#0B3D91\",\n",
    "    \"tertiaryTextColor\": \"#FFFFFF\",\n",
    "    \"noteBkgColor\": \"#4B0082\",\n",
    "    \"noteTextColor\": \"#FFFFFF\",\n",
    "    \"clusterBkg\": \"#0B0D17\",\n",
    "    \"clusterBorder\": \"#1D1F2B\"\n",
    "  },\n",
    "  \"flowchart\": {\n",
    "    \"useMaxWidth\": true,\n",
    "    \"htmlLabels\": true,\n",
    "    \"wrap\": true\n",
    "  }\n",
    "}}%%\n",
    "\n",
    "graph TD\n",
    "\n",
    "    %% Step Labels - placed left of clusters\n",
    "    Step1Label[/\"Step 1: Inbound / Outbound Call\"/]:::steplabel\n",
    "    Step2Label[/\"Step 2: Twilio Platform\"/]:::steplabel\n",
    "    Step3Label[/\"Step 3: External AI Service\"/]:::steplabel\n",
    "\n",
    "    Step1Label --> PSTN\n",
    "    Step2Label --> VoiceAPI\n",
    "    Step3Label --> ExtService\n",
    "\n",
    "    %% Step 1: Channels\n",
    "    subgraph A[\" \"]\n",
    "        PSTN[\"PSTN\"]\n",
    "        SIP[\"SIP\"]\n",
    "        WhatsApp[\"WhatsApp\"]\n",
    "        WebRTC[\"WebRTC / In-App\"]\n",
    "    end\n",
    "\n",
    "    %% Step 2: Twilio Core\n",
    "    subgraph B[\" \"]\n",
    "        VoiceAPI[\"Voice API\"]\n",
    "        subgraph Orchestration[\"Orchestration Layer\"]\n",
    "            ConvRelay[\"Conversation Relay\"]\n",
    "            Studio[\"Studio\"]\n",
    "            TwiML[\"TwiML Bins\"]\n",
    "            Functions[\"Functions\"]\n",
    "            Webhooks[\"External Webhooks\"]\n",
    "        end\n",
    "    end\n",
    "\n",
    "    %% Step 3: External AI\n",
    "    subgraph C[\" \"]\n",
    "        ExtService[\"Relay Backend\"]\n",
    "        subgraph LLMs[\"LLM Models\"]\n",
    "            GPT[\"GPT\"]\n",
    "            Gemini[\"Gemini\"]\n",
    "            Claude[\"Claude\"]\n",
    "            DeepSeek[\"DeepSeek\"]\n",
    "        end\n",
    "    end\n",
    "\n",
    "    %% Connections\n",
    "    PSTN --> VoiceAPI\n",
    "    SIP --> VoiceAPI\n",
    "    WhatsApp --> VoiceAPI\n",
    "    WebRTC --> VoiceAPI\n",
    "\n",
    "    VoiceAPI --> Studio\n",
    "    VoiceAPI --> TwiML\n",
    "    VoiceAPI --> Functions\n",
    "    VoiceAPI --> Webhooks\n",
    "    VoiceAPI --> ConvRelay\n",
    "\n",
    "    ConvRelay -.->|\"STT + Events\"| ExtService\n",
    "    ExtService -.->|\"TTS Response\"| ConvRelay\n",
    "\n",
    "    ExtService --> GPT\n",
    "    ExtService --> Gemini\n",
    "    ExtService --> Claude\n",
    "    ExtService --> DeepSeek\n",
    "\n",
    "    %% Styling\n",
    "    classDef entrypoint fill:#0DC5FB,stroke:#0B3D91,stroke-width:2px,color:#ffffff\n",
    "    classDef twilio fill:#12284C,stroke:#661847,stroke-width:2px,color:#ffffff\n",
    "    classDef relay fill:#F22F46,stroke:#0B3D91,stroke-width:2px,color:#ffffff\n",
    "    classDef backend fill:#4B0082,stroke:#F22F46,stroke-width:2px,color:#ffffff\n",
    "    classDef llm fill:#ffffff,stroke:#4B0082,stroke-width:2px,color:#4B0082\n",
    "    classDef steplabel fill:#1D1F2B,stroke:#333333,stroke-width:1px,color:#ffffff\n",
    "\n",
    "    class PSTN,SIP,WhatsApp,WebRTC entrypoint\n",
    "    class VoiceAPI,Studio,TwiML,Functions,Webhooks twilio\n",
    "    class ConvRelay relay\n",
    "    class ExtService backend\n",
    "    class GPT,Gemini,Claude,DeepSeek llm\n",
    "\"\"\"\n",
    "\n",
    "display(Mermaid(mermaid_string))\n"
   ]
  },
  {
   "cell_type": "markdown",
   "id": "4169a137",
   "metadata": {},
   "source": [
    "___"
   ]
  },
  {
   "cell_type": "markdown",
   "id": "9833ef87",
   "metadata": {
    "slideshow": {
     "slide_type": "slide"
    }
   },
   "source": [
    "## Twilio Voice API\n",
    "\n",
    "**Realizar uma chamada**"
   ]
  },
  {
   "cell_type": "code",
   "execution_count": null,
   "id": "b7661ea3",
   "metadata": {
    "slideshow": {
     "slide_type": "fragment"
    }
   },
   "outputs": [],
   "source": [
    "call = client.calls.create(\n",
    "    from_=\"+551150398717\",\n",
    "    to=\"+5511993387765\",\n",
    "    twiml=\"<Response> <Say> Ahoy! Signal São Paulo! </Say> </Response>\",\n",
    ")\n",
    "\n",
    "animate_call_flow_html(call.sid)\n"
   ]
  },
  {
   "cell_type": "markdown",
   "id": "421f34ed",
   "metadata": {
    "slideshow": {
     "slide_type": "slide"
    }
   },
   "source": [
    "## TwiML 101\n",
    "\n",
    "**Controle de Chamadas com a Twilio Markup Language**"
   ]
  },
  {
   "cell_type": "code",
   "execution_count": null,
   "id": "543d82a0",
   "metadata": {
    "slideshow": {
     "slide_type": "fragment"
    }
   },
   "outputs": [],
   "source": [
    "from IPython.display import display\n",
    "from mermaid import Mermaid\n",
    "\n",
    "say_diagram = \"\"\"\n",
    "%%{init: {\n",
    "  \"theme\": \"base\",\n",
    "  \"themeVariables\": {\n",
    "    \"background\": \"#0B0D17\",\n",
    "    \"primaryColor\": \"#12284C\",\n",
    "    \"primaryBorderColor\": \"#661847\",\n",
    "    \"primaryTextColor\": \"#FFFFFF\",\n",
    "    \"tertiaryColor\": \"#0DC5FB\",\n",
    "    \"tertiaryBorderColor\": \"#0B3D91\",\n",
    "    \"tertiaryTextColor\": \"#FFFFFF\",\n",
    "    \"noteBkgColor\": \"#4B0082\",\n",
    "    \"noteTextColor\": \"#FFFFFF\",\n",
    "    \"clusterBkg\": \"#0B0D17\",\n",
    "    \"clusterBorder\": \"#1D1F2B\"\n",
    "  }\n",
    "}}%%\n",
    "\n",
    "sequenceDiagram\n",
    "    participant App as Seu App\n",
    "    participant Twilio as Twilio Voice API\n",
    "    participant User as Usuário Final\n",
    "\n",
    "    Note over App,User: Outbound Call\n",
    "    App->>Twilio: Inicia chamada\n",
    "    Twilio->>User: Conecta chamada\n",
    "    Twilio->>App: Solicita TwiML\n",
    "    App-->>Twilio: <Say>Mensagem</Say>\n",
    "    Twilio-->>User: Vocaliza mensagem\n",
    "\n",
    "    Note over User,App: Inbound Call\n",
    "    User->>Twilio: Liga para número\n",
    "    Twilio->>App: Solicita TwiML\n",
    "    App-->>Twilio: <Say>Mensagem</Say>\n",
    "    Twilio-->>User: Vocaliza mensagem\n",
    "\"\"\"\n",
    "\n",
    "display(Mermaid(say_diagram))\n"
   ]
  },
  {
   "cell_type": "markdown",
   "id": "c6b9f7e5",
   "metadata": {
    "slideshow": {
     "slide_type": "subslide"
    }
   },
   "source": [
    "#### TwiML `<Say>` \n",
    "Text to Speech (TTS)"
   ]
  },
  {
   "cell_type": "code",
   "execution_count": null,
   "id": "7e937e6d",
   "metadata": {
    "vscode": {
     "languageId": "xml"
    }
   },
   "outputs": [],
   "source": [
    "# SAY\n",
    "\n",
    "<Response>\n",
    "  <Say language=\"fr-FR\">Bonjour!</Say>\n",
    "</Response>"
   ]
  },
  {
   "cell_type": "code",
   "execution_count": null,
   "id": "45b80d3b",
   "metadata": {
    "vscode": {
     "languageId": "xml"
    }
   },
   "outputs": [],
   "source": [
    "twiml_gather = \"\"\"\n",
    "    sequenceDiagram\n",
    "    participant App as Seu App\n",
    "    participant Twilio as Twilio Voice API\n",
    "    participant User as Usuário Final\n",
    "\n",
    "    Note over App,User: Outbound Call\n",
    "    App->>Twilio: Inicia chamada (API Call)\n",
    "    Twilio->>User: Conecta chamada\n",
    "    Twilio->>App: Solicita instruções TwiML\n",
    "    App-->>Twilio: <Gather>...</Gather>\n",
    "    Twilio-->>User: Reproduz prompt e aguarda resposta\n",
    "    User-->>Twilio: Responde (fala ou DTMF)\n",
    "    Twilio-->>App: Envia dados capturados (STT/DTMF)\n",
    "\n",
    "    Note over User,App: Inbound Call\n",
    "    User->>Twilio: Liga para seu número\n",
    "    Twilio->>App: Solicita instruções TwiML\n",
    "    App-->>Twilio: <Gather>...</Gather>\n",
    "    Twilio-->>User: Reproduz prompt e aguarda resposta\n",
    "    User-->>Twilio: Responde (fala ou DTMF)\n",
    "    Twilio-->>App: Envia dados capturados (STT/DTMF)\n",
    "\"\"\""
   ]
  },
  {
   "cell_type": "markdown",
   "id": "1caac3d9",
   "metadata": {
    "slideshow": {
     "slide_type": "subslide"
    }
   },
   "source": [
    "#### TwiML `<Gather>` \n",
    "\n",
    "** Real-time transcription (speech to text  or STT) and digits input (DTMF)"
   ]
  },
  {
   "cell_type": "code",
   "execution_count": null,
   "id": "309b439c",
   "metadata": {
    "vscode": {
     "languageId": "xml"
    }
   },
   "outputs": [],
   "source": [
    "# GATHER\n",
    "\n",
    "<Response>\n",
    "\n",
    "  <Gather input=\"speech dtmf\" finishOnKey=\"#\" timeout=\"5\">\n",
    "    <Say>\n",
    "      Please say something or press * to access the main menu\n",
    "    </Say>\n",
    "  </Gather>\n",
    "\n",
    "  <Say>We didn't receive any input. Goodbye!</Say>\n",
    "  \n",
    "</Response>"
   ]
  },
  {
   "cell_type": "code",
   "execution_count": null,
   "id": "81c05704",
   "metadata": {
    "slideshow": {
     "slide_type": "subslide"
    },
    "vscode": {
     "languageId": "xml"
    }
   },
   "outputs": [],
   "source": [
    "gather_diagram = \"\"\"\n",
    "%%{init: {\n",
    "  \"theme\": \"base\",\n",
    "  \"themeVariables\": {\n",
    "    \"background\": \"#0B0D17\",\n",
    "    \"primaryColor\": \"#12284C\",\n",
    "    \"primaryBorderColor\": \"#661847\",\n",
    "    \"primaryTextColor\": \"#FFFFFF\",\n",
    "    \"tertiaryColor\": \"#0DC5FB\",\n",
    "    \"tertiaryBorderColor\": \"#0B3D91\",\n",
    "    \"tertiaryTextColor\": \"#FFFFFF\",\n",
    "    \"noteBkgColor\": \"#4B0082\",\n",
    "    \"noteTextColor\": \"#FFFFFF\",\n",
    "    \"clusterBkg\": \"#0B0D17\",\n",
    "    \"clusterBorder\": \"#1D1F2B\"\n",
    "  }\n",
    "}}%%\n",
    "\n",
    "sequenceDiagram\n",
    "    participant App as Seu App\n",
    "    participant Twilio as Twilio Voice API\n",
    "    participant User as Usuário Final\n",
    "\n",
    "    Note over App,User: Outbound Call\n",
    "    App->>Twilio: Inicia chamada\n",
    "    Twilio->>User: Conecta chamada\n",
    "    Twilio->>App: Solicita TwiML\n",
    "    App-->>Twilio: <Gather>...</Gather>\n",
    "    Twilio-->>User: Lê prompt e aguarda entrada\n",
    "    User-->>Twilio: Responde (fala ou DTMF)\n",
    "    Twilio-->>App: Retorna dados capturados\n",
    "\n",
    "    Note over User,App: Inbound Call\n",
    "    User->>Twilio: Liga para número\n",
    "    Twilio->>App: Solicita TwiML\n",
    "    App-->>Twilio: <Gather>...</Gather>\n",
    "    Twilio-->>User: Lê prompt e aguarda entrada\n",
    "    User-->>Twilio: Responde (fala ou DTMF)\n",
    "    Twilio-->>App: Retorna dados capturados\n",
    "\"\"\"\n",
    "\n",
    "display(Mermaid(gather_diagram))\n"
   ]
  },
  {
   "cell_type": "markdown",
   "id": "c1c717d8",
   "metadata": {
    "slideshow": {
     "slide_type": "slide"
    }
   },
   "source": [
    "#### Usando TwiML em Python com a lib da Twilio "
   ]
  },
  {
   "cell_type": "markdown",
   "id": "08b7bae1",
   "metadata": {
    "slideshow": {
     "slide_type": "fragment"
    }
   },
   "source": [
    "**`<Say>` = response.`say`**"
   ]
  },
  {
   "cell_type": "code",
   "execution_count": null,
   "id": "a2601bb6",
   "metadata": {},
   "outputs": [],
   "source": [
    "## SAY usando a biblioteca Twilio\n",
    "\n",
    "from twilio.twiml.voice_response import VoiceResponse\n",
    "\n",
    "response = VoiceResponse()\n",
    "\n",
    "response.say(\n",
    "    language=\"fr-FR\", \n",
    "    text=\"Bonjour!\"\n",
    "    )\n",
    "\n",
    "pretty_print_twiml(response)"
   ]
  },
  {
   "cell_type": "markdown",
   "id": "550acf40",
   "metadata": {
    "slideshow": {
     "slide_type": "subslide"
    }
   },
   "source": [
    "**`<Gather>`= response.`gather`**"
   ]
  },
  {
   "cell_type": "code",
   "execution_count": null,
   "id": "4c78b0df",
   "metadata": {},
   "outputs": [],
   "source": [
    "# GATHER usando a biblioteca Twilio\n",
    "\n",
    "from twilio.twiml.voice_response import Gather, VoiceResponse, Say\n",
    "\n",
    "response = VoiceResponse()\n",
    "gather = Gather(action='/process_gather.php', method='GET')\n",
    "\n",
    "gather.say('Please enter your account number,\\nfollowed by the pound sign')\n",
    "response.append(gather)\n",
    "\n",
    "response.say('We didn\\'t receive any input. Goodbye!')\n",
    "\n",
    "import xml.dom.minidom\n",
    "\n",
    "pretty_print_twiml(response)"
   ]
  },
  {
   "cell_type": "markdown",
   "id": "4c33e946",
   "metadata": {
    "slideshow": {
     "slide_type": "slide"
    }
   },
   "source": [
    "### Realizando uma chamada com TwiML Say e Gather"
   ]
  },
  {
   "cell_type": "code",
   "execution_count": null,
   "id": "5eeff77e",
   "metadata": {
    "slideshow": {
     "slide_type": "fragment"
    }
   },
   "outputs": [],
   "source": [
    "# Fazendo uma chamada usando SAY e GATHER\n",
    "from twilio.twiml.voice_response import VoiceResponse, Gather\n",
    "\n",
    "response = VoiceResponse()\n",
    "\n",
    "# Gather DTMF or speech\n",
    "gather = Gather(input=\"speech dtmf\", timeout=5, action=\"/handle_input\", method=\"POST\") #TO DO: Add route to handle input\n",
    "gather.say(\"Por favor, me fale como posso ajudar você hoje. Ou digite um número qualquer seguido de cerquilha.\")\n",
    "response.append(gather)\n",
    "\n",
    "# TO DO: Add route to handle input in server\n",
    "\n",
    "# Fallback if no input\n",
    "response.say(\"Poxa! Não recebemos nenhuma resposta. Tchau tchau!\")\n",
    "\n",
    "pretty_print_twiml(str(response))  # optional: view generated XML\n",
    "\n",
    "# Make the call\n",
    "call = client.calls.create(\n",
    "    from_=\"+551150397615\",\n",
    "    to=\"+5511968432422\",\n",
    "    twiml=str(response)\n",
    ")\n",
    "\n",
    "print(call.sid)\n"
   ]
  },
  {
   "cell_type": "markdown",
   "id": "3942e096",
   "metadata": {},
   "source": [
    "___"
   ]
  },
  {
   "cell_type": "markdown",
   "id": "67586a0b",
   "metadata": {
    "slideshow": {
     "slide_type": "slide"
    }
   },
   "source": [
    "## Twilio Conversation Relay"
   ]
  },
  {
   "cell_type": "markdown",
   "id": "511eec8b",
   "metadata": {
    "slideshow": {
     "slide_type": "fragment"
    }
   },
   "source": [
    "### Conectando chamadas com o TwiML `<Connect>`"
   ]
  },
  {
   "cell_type": "code",
   "execution_count": null,
   "id": "0e55f4be",
   "metadata": {
    "slideshow": {
     "slide_type": "fragment"
    },
    "vscode": {
     "languageId": "xml"
    }
   },
   "outputs": [],
   "source": [
    "<?xml version=\"1.0\" encoding=\"UTF-8\"?>\n",
    "\n",
    "<Response>\n",
    "\n",
    "  <Connect action=\"https://my-https-server.com/connect_action\">\n",
    "    <ConversationRelay url=\"wss://my-https-websocket-server.com/websocket\" welcomeGreeting=\"Hi! Ask me anything!\" />\n",
    "  </Connect>\n",
    "\n",
    "</Response>"
   ]
  },
  {
   "cell_type": "code",
   "execution_count": null,
   "id": "1648519f",
   "metadata": {
    "slideshow": {
     "slide_type": "subslide"
    }
   },
   "outputs": [],
   "source": [
    "from IPython.display import display\n",
    "from mermaid import Mermaid\n",
    "\n",
    "mermaid_string = \"\"\"\n",
    "%%{init: {\n",
    "    \"theme\": \"base\",\n",
    "    \"themeVariables\": {\n",
    "        \"background\": \"#0B0D17\",\n",
    "        \"primaryColor\": \"#12284C\",\n",
    "        \"primaryBorderColor\": \"#661847\",\n",
    "        \"primaryTextColor\": \"#FFFFFF\",\n",
    "        \"tertiaryColor\": \"#0DC5FB\",\n",
    "        \"tertiaryBorderColor\": \"#0B3D91\",\n",
    "        \"tertiaryTextColor\": \"#FFFFFF\",\n",
    "        \"noteBkgColor\": \"#4B0082\",\n",
    "        \"noteTextColor\": \"#FFFFFF\",\n",
    "        \"clusterBkg\": \"#0B0D17\",\n",
    "        \"clusterBorder\": \"#1D1F2B\"\n",
    "    },\n",
    "    \"flowchart\": {\n",
    "        \"useMaxWidth\": true,\n",
    "        \"htmlLabels\": true,\n",
    "        \"wrap\": true\n",
    "    }\n",
    "}}%%\n",
    "\n",
    "graph TD\n",
    "\n",
    "        %% Voice Call at top\n",
    "        VoiceCall[\"Voice Call<br/>(Inbound/Outbound)\"]:::voice\n",
    "\n",
    "        %% AI Components on the left\n",
    "        RAG[\"RAG<br/>(Tools | Knowledge)\"]:::ai\n",
    "        MCP[\"MCP<br/>(Model Context<br/>Protocol)\"]:::ai\n",
    "\n",
    "        %% Conversation Relay in center\n",
    "        ConvRelay[\"Conversation Relay\"]:::relay\n",
    "\n",
    "        %% LLM Models on the right\n",
    "        GPT[\"GPT\"]:::llm\n",
    "        Gemini[\"Gemini\"]:::llm\n",
    "        Claude[\"Claude\"]:::llm\n",
    "        DeepSeek[\"DeepSeek\"]:::llm\n",
    "\n",
    "        %% External Server at bottom\n",
    "        ExtServer[\"External Server<br/>(WebSocket Handler)\"]:::backend\n",
    "\n",
    "        %% Vertical main flow\n",
    "        VoiceCall -->|\"Customer Speech\"| ConvRelay\n",
    "        ConvRelay -->|\"STT | Events\"| ExtServer\n",
    "\n",
    "        %% Horizontal connections to AI components\n",
    "        ExtServer -.-> RAG\n",
    "        ExtServer -.-> MCP\n",
    "        \n",
    "        %% Connections to LLM models\n",
    "        ExtServer -->|\"Text Prompts\"| GPT\n",
    "        ExtServer -->|\"Text Prompts\"| Gemini\n",
    "        ExtServer -->|\"Text Prompts\"| Claude\n",
    "        ExtServer -->|\"Text Prompts\"| DeepSeek\n",
    "\n",
    "        %% Return flow\n",
    "        GPT -->|\"AI Response\"| ExtServer\n",
    "        Gemini -->|\"AI Response\"| ExtServer\n",
    "        Claude -->|\"AI Response\"| ExtServer\n",
    "        DeepSeek -->|\"AI Response\"| ExtServer\n",
    "\n",
    "        RAG -.-> ExtServer\n",
    "        MCP -.-> ExtServer\n",
    "\n",
    "        ExtServer -->|\"LLM Response\"| ConvRelay\n",
    "        ConvRelay -->|\"TTS<br/>(Text to Speech)\"| VoiceCall\n",
    "\n",
    "        %% Styling\n",
    "        classDef voice fill:#0DC5FB,stroke:#0B3D91,stroke-width:3px,color:#ffffff\n",
    "        classDef relay fill:#F22F46,stroke:#0B3D91,stroke-width:3px,color:#ffffff\n",
    "        classDef backend fill:#4B0082,stroke:#F22F46,stroke-width:3px,color:#ffffff\n",
    "        classDef ai fill:#661847,stroke:#F22F46,stroke-width:2px,color:#ffffff\n",
    "        classDef llm fill:#ffffff,stroke:#4B0082,stroke-width:2px,color:#4B0082\n",
    "\"\"\"\n",
    "\n",
    "display(Mermaid(mermaid_string))"
   ]
  },
  {
   "cell_type": "code",
   "execution_count": null,
   "id": "dddf8ceb",
   "metadata": {
    "slideshow": {
     "slide_type": "subslide"
    }
   },
   "outputs": [],
   "source": [
    "sequence_mermaid_simplified = \"\"\"\n",
    "%%{init: {\n",
    "  \"theme\": \"base\",\n",
    "  \"themeVariables\": {\n",
    "    \"background\": \"#0B0D17\",\n",
    "    \"primaryColor\": \"#12284C\",\n",
    "    \"primaryBorderColor\": \"#661847\",\n",
    "    \"primaryTextColor\": \"#FFFFFF\",\n",
    "    \"tertiaryColor\": \"#0DC5FB\",\n",
    "    \"tertiaryBorderColor\": \"#0B3D91\",\n",
    "    \"tertiaryTextColor\": \"#FFFFFF\",\n",
    "    \"noteBkgColor\": \"#4B0082\",\n",
    "    \"noteTextColor\": \"#FFFFFF\",\n",
    "    \"clusterBkg\": \"#0B0D17\",\n",
    "    \"clusterBorder\": \"#1D1F2B\"\n",
    "  },\n",
    "  \"sequence\": {\n",
    "    \"actorFontSize\": \"30px\",\n",
    "    \"noteFontSize\": \"20px\",\n",
    "    \"messageFontSize\": \"16px\"\n",
    "  }\n",
    "}}%%\n",
    "\n",
    "sequenceDiagram\n",
    "    participant User as Voice Call (Usuário)\n",
    "    participant Relay as Conversation Relay\n",
    "    participant Server as External Server\n",
    "    participant RAG as RAG (Ferramentas & Conhecimento)\n",
    "    participant MCP as MCP (Model Context Protocol)\n",
    "    participant LLM as LLM (GPT, Gemini, Claude, DeepSeek)\n",
    "\n",
    "    User->>Relay: Fala do cliente (voz)\n",
    "    Relay->>Server: STT + Eventos (via WebSocket)\n",
    "\n",
    "    Server-->>RAG: Busca Ferramentas / Conhecimento\n",
    "    Server-->>MCP: Ajusta contexto\n",
    "\n",
    "    Server->>LLM: Prompt com texto\n",
    "    LLM-->>Server: Resposta da IA\n",
    "\n",
    "    Server->>Relay: Texto final da IA\n",
    "    Relay->>User: Resposta (via TTS)\n",
    "\"\"\"\n",
    "\n",
    "display(Mermaid(sequence_mermaid_simplified))\n"
   ]
  },
  {
   "cell_type": "markdown",
   "id": "028048d3",
   "metadata": {},
   "source": [
    "___"
   ]
  },
  {
   "cell_type": "markdown",
   "id": "5fe472fb",
   "metadata": {
    "slideshow": {
     "slide_type": "slide"
    }
   },
   "source": [
    "### Conversation Relay usando a biblioteca da Twilio para Python"
   ]
  },
  {
   "cell_type": "code",
   "execution_count": null,
   "id": "ac66c624",
   "metadata": {
    "slideshow": {
     "slide_type": "fragment"
    }
   },
   "outputs": [],
   "source": [
    "from twilio.twiml.voice_response import Connect, ConversationRelay, Language, VoiceResponse\n",
    "\n",
    "response = VoiceResponse()\n",
    "connect = Connect()\n",
    "\n",
    "conversationrelay = ConversationRelay(\n",
    "    url='wss://my-websocket-server.com/websocket') # External Server integrated to the LLMs\n",
    "\n",
    "conversationrelay.language(\n",
    "    code='pt-BR',\n",
    "    tts_provider='ElevenLabs', # Text to Speech provider\n",
    "    voice='UgBBYS2sOqTuMpoF3BR0', # Voice ID from tts_provider ElevenLabs\n",
    "    transcription_provider='google', \n",
    "    speech_model='telephony')\n",
    "\n",
    "connect.append(conversationrelay)\n",
    "\n",
    "response.append(connect)\n",
    "\n",
    "pretty_print_twiml(response)"
   ]
  },
  {
   "cell_type": "markdown",
   "id": "b7f95387",
   "metadata": {},
   "source": [
    "___"
   ]
  },
  {
   "cell_type": "markdown",
   "id": "5baae771",
   "metadata": {
    "slideshow": {
     "slide_type": "slide"
    }
   },
   "source": [
    "## _Quem sabe faz ao vivis_"
   ]
  },
  {
   "cell_type": "markdown",
   "id": "28e856f4",
   "metadata": {
    "slideshow": {
     "slide_type": "fragment"
    }
   },
   "source": [
    "### Fazendo chamadas com `<ConversationRelay>`"
   ]
  },
  {
   "cell_type": "code",
   "execution_count": null,
   "id": "e1cb9c78",
   "metadata": {
    "slideshow": {
     "slide_type": "fragment"
    }
   },
   "outputs": [],
   "source": [
    "from twilio.twiml.voice_response import VoiceResponse, Connect, ConversationRelay\n",
    "\n",
    "# Get your ngrok domain from .env file\n",
    "ngrok_domain = os.getenv('NGROK_DOMAIN', 'your-custom-domain.ngrok-free.app')\n",
    "\n",
    "# Create TwiML with Conversation Relay\n",
    "response = VoiceResponse()\n",
    "connect = Connect()"
   ]
  },
  {
   "cell_type": "code",
   "execution_count": null,
   "id": "a645a04f",
   "metadata": {},
   "outputs": [],
   "source": [
    "\n",
    "# Olli, seu assistente virtual, está pronto para ajudar!\n",
    "\n",
    "# Create ConversationRelay pointing to your WebSocket server\n",
    "conversation_relay = ConversationRelay(\n",
    "    \n",
    "    url=f'wss://{ngrok_domain}/websocket',\n",
    "\n",
    "    welcome_greeting=\"Olá! Eu sou o assistente virtual do Sígnal São Paulo. Que evento lindo, hein? Como posso ajudar você hoje?\",\n",
    "    \n",
    "    # Idioma da saudação e default da conversa\n",
    "    language='pt-BR',\n",
    "\n",
    "    # Motor de vocalização e voz\n",
    "    tts_provider='ElevenLabs',\n",
    "    voice='7u8qsX4HQsSHJ0f8xsQZ',\n",
    "\n",
    "    # Motor de transcrição e modelo\n",
    "    transcription_provider='Deepgram',\n",
    "    speech_model='nova-2-general',\n",
    "    \n",
    ")\n",
    "\n",
    "connect.append(conversation_relay)\n",
    "response.append(connect)\n",
    "\n",
    "# Make the call with Conversation Relay\n",
    "call = client.calls.create(\n",
    "    from_=\"+551150398717\",\n",
    "    to=\"+5511993387765\",        # customer profile (Amanda)\n",
    "    twiml=str(response)\n",
    ")\n",
    "\n",
    "print(f\"Call SID: {call.sid}\")\n",
    "print(f\"WebSocket URL: wss://{ngrok_domain}\")\n",
    "pretty_print_twiml(response)\n",
    "\n",
    "# open terminal for tts, stt events ;)"
   ]
  },
  {
   "cell_type": "markdown",
   "id": "4e6632de",
   "metadata": {
    "slideshow": {
     "slide_type": "slide"
    }
   },
   "source": [
    "## Aprimorando a experiência com `attributes` \n",
    "\n",
    "**Vamos melhorar isso um pouco?**"
   ]
  },
  {
   "cell_type": "code",
   "execution_count": null,
   "id": "f98a2f88",
   "metadata": {
    "slideshow": {
     "slide_type": "fragment"
    }
   },
   "outputs": [],
   "source": [
    "# Aprimorando as chamadas feitas com Conversation Relay\n",
    "\n",
    "conversation_relay = ConversationRelay(\n",
    "    url=f'wss://{ngrok_domain}/websocket',\n",
    "\n",
    "\n",
    "    welcome_greeting=\"Olá! Eu sou o assistente virtual do Sígnal São Paulo. Que evento lindo, hein? Como posso ajudar você hoje?\",\n",
    "    welcomeGreetingInterruptible=True,  # Permitir que o usuário interrompa a saudação\n",
    "\n",
    "\n",
    "    language='es-AR',    \n",
    "    transcription_provider='Deepgram',\n",
    "    speech_model='nova-2-general',    \n",
    "    tts_provider='ElevenLabs',\n",
    "    voice='7u8qsX4HQsSHJ0f8xsQZ',\n",
    "\n",
    "    # Configurações adicionais para aprimorar a experiência do usuário\n",
    "    interruptible=True,  # Permitir que o usuário interrompa o assistente\n",
    "\n",
    "    dtmfDetection=True,  # Habilitar detecção de DTMF (dígitos)\n",
    "\n",
    "    reportInputDuringAgentSpeech=True,  # Reportar entradas do usuário durante o discurso do agente\n",
    "\n",
    "    preemptible=True,  # Permitir que novos tokens do assistente interrompam o TTS em andamento\n",
    "\n",
    "    hints='Twilio, Conversation Relay, Signal São Paulo, Owl Bank', # Sugestões para melhorar a precisão do reconhecimento de fala\n",
    "\n",
    "    debug='debugging, speaker-events, tokens-played', # opções de depuração, eventos de debug, fala e tokens tocados\n",
    "\n",
    "    elevenlabsTextNormalization='on', # Normalização de texto para ElevenLabs TTS\n",
    ")\n",
    "\n",
    "# Adicionando o idioma e o modelo de fala\n",
    "conversation_relay.language(\n",
    "    code='pt-BR',\n",
    "    tts_provider='ElevenLabs',\n",
    "    voice='7u8qsX4HQsSHJ0f8xsQZ',\n",
    "    transcription_provider='Deepgram',\n",
    "    speech_model='nova-2-general'\n",
    ")\n",
    "\n",
    "connect.append(conversation_relay)\n",
    "response.append(connect)\n",
    "\n",
    "# Make the call with Conversation Relay\n",
    "call = client.calls.create(\n",
    "    from_=\"+551150398717\",\n",
    "    to=\"+5511968432422\",\n",
    "    twiml=str(response)\n",
    ")\n",
    "\n",
    "print(f\"Call SID: {call.sid}\")\n",
    "print(f\"WebSocket URL: wss://{ngrok_domain}\")\n",
    "pretty_print_twiml(response)"
   ]
  },
  {
   "cell_type": "markdown",
   "id": "1b3cfb33",
   "metadata": {
    "slideshow": {
     "slide_type": "slide"
    }
   },
   "source": [
    "## Como Escalar com Conversation Relay?"
   ]
  },
  {
   "cell_type": "markdown",
   "id": "9de9dbb4",
   "metadata": {
    "slideshow": {
     "slide_type": "fragment"
    }
   },
   "source": [
    "### `<Language>` \n",
    "\n",
    "Nativamente Multi-Idiomas, Flexibilidade de Modelos para TTS e STT"
   ]
  },
  {
   "cell_type": "code",
   "execution_count": null,
   "id": "8dc46044",
   "metadata": {
    "slideshow": {
     "slide_type": "fragment"
    }
   },
   "outputs": [],
   "source": [
    "from twilio.twiml.voice_response import VoiceResponse, Connect, ConversationRelay\n",
    "\n",
    "# Get your ngrok domain from .env file\n",
    "ngrok_domain = os.getenv('NGROK_DOMAIN', 'your-custom-domain.ngrok-free.app')\n",
    "\n",
    "# Create TwiML with Conversation Relay\n",
    "response = VoiceResponse()\n",
    "connect = Connect()"
   ]
  },
  {
   "cell_type": "code",
   "execution_count": null,
   "id": "2896612e",
   "metadata": {},
   "outputs": [],
   "source": [
    "# Suporte nativo a múltiplos idiomas\n",
    "\n",
    "conversation_relay = ConversationRelay(\n",
    "    url=f'wss://{ngrok_domain}/websocket',\n",
    "    welcome_greeting=\"Oi de novo! Aqui é a assistente virtual do Sígnal São Paulo. Como posso te ajudar?\",\n",
    "    welcomeGreetingInterruptible=True,  # Permitir que o usuário interrompa a saudação\n",
    "    language='pt-BR',\n",
    "    debug='debugging, speaker-events, tokens-played', # opções de depuração\n",
    "    interruptible=True,  # Permitir que o usuário interrompa o assistente\n",
    "    dtmfDetection=True,  # Habilitar detecção de DTMF (dígitos)\n",
    "    reportInputDuringAgentSpeech=True,  # Relatar entradas do usuário durante o discurso do agente\n",
    "    preemptible=True,  # Permitir que novos tokens do assistente interrompam o TTS em andamento\n",
    "    hints='Twilio, Conversation Relay, Signal São Paulo, Owl Bank',\n",
    "    elevenlabsTextNormalization='on',\n",
    ")\n",
    "\n",
    "# Configurar idioma e modelo de fala para português do Brasil\n",
    "conversation_relay.language(\n",
    "    code='pt-BR',\n",
    "    tts_provider='ElevenLabs',\n",
    "    voice='OB6x7EbXYlhG4DDTB1XU',\n",
    "    transcription_provider='Deepgram',\n",
    "    speech_model='nova-2-general',\n",
    "    customParameter='change_to_pt-BR'\n",
    ")\n",
    "\n",
    "# Configurar idioma e modelo de fala para espanhol dos EUA\n",
    "conversation_relay.language(\n",
    "    code='es-US',\n",
    "    tts_provider='ElevenLabs',\n",
    "    voice='OB6x7EbXYlhG4DDTB1XU',\n",
    "    transcription_provider='Deepgram',\n",
    "    speech_model='nova-2-general',\n",
    "    customParameter='change_to_es-US'\n",
    ")\n",
    "\n",
    "# Configurar idioma e modelo de fala para inglês dos EUA\n",
    "conversation_relay.language(\n",
    "    code='en-US',\n",
    "    tts_provider='ElevenLabs',\n",
    "    voice='OB6x7EbXYlhG4DDTB1XU',\n",
    "    transcription_provider='Deepgram',\n",
    "    speech_model='nova-2-general',\n",
    "    customParameter=\"change_to_en-US\"\n",
    ")\n",
    "\n",
    "connect.append(conversation_relay)\n",
    "response.append(connect)\n",
    "\n",
    "# Make the call with Conversation Relay\n",
    "call = client.calls.create(\n",
    "    from_=\"+551150398717\",\n",
    "    to=\"+5511968432422\",\n",
    "    twiml=str(response)\n",
    ")\n",
    "\n",
    "print(f\"Call SID: {call.sid}\")\n",
    "print(f\"WebSocket URL: wss://{ngrok_domain}\")\n",
    "pretty_print_twiml(response)"
   ]
  },
  {
   "cell_type": "markdown",
   "id": "cc9283fe",
   "metadata": {
    "slideshow": {
     "slide_type": "slide"
    }
   },
   "source": [
    "### Engajamento de Clientes Multi-Agente\n",
    "\n",
    "**Aprimorando a experiência com agentes especialistas**"
   ]
  },
  {
   "cell_type": "code",
   "execution_count": null,
   "id": "dbc93372",
   "metadata": {},
   "outputs": [],
   "source": [
    "# Send WhatsApp Template via Twilio Content API\n",
    "\n",
    "# Create a WhatsApp message using a pre-approved template\n",
    "message = client.messages.create(\n",
    "    content_sid='HX24e21284bd73e331c9a031d2614717d3',  # Your Content Template SID\n",
    "    from_='whatsapp:+5516957820017',  # Your Twilio WhatsApp number\n",
    "    to='whatsapp:+5511993387765',   # Recipient's WhatsApp number (Mariana profile)\n",
    "    content_variables=json.dumps({'1': 'Mariana','2': 'a'}),\n",
    ")\n",
    "\n",
    "print(f\"WhatsApp message sent!\")\n",
    "print(f\"Message SID: {message.sid}\")\n",
    "print(f\"Status: {message.status}\")"
   ]
  },
  {
   "cell_type": "markdown",
   "id": "ec47e4ca",
   "metadata": {
    "slideshow": {
     "slide_type": "slide"
    }
   },
   "source": [
    "### Observabiidade com Conversational Intelligence"
   ]
  },
  {
   "cell_type": "code",
   "execution_count": null,
   "id": "0f38fa58",
   "metadata": {
    "slideshow": {
     "slide_type": "fragment"
    }
   },
   "outputs": [],
   "source": [
    "# Aprimorando as chamadas feitas com Conversation Relay\n",
    "\n",
    "from twilio.twiml.voice_response import VoiceResponse, Connect, ConversationRelay\n",
    "\n",
    "# Get your ngrok domain from .env file\n",
    "ngrok_domain = os.getenv('NGROK_DOMAIN', 'your-custom-domain.ngrok-free.app')\n",
    "\n",
    "# Create TwiML with Conversation Relay\n",
    "response = VoiceResponse()\n",
    "connect = Connect()\n",
    "\n",
    "# Create ConversationRelay pointing to your WebSocket server\n",
    "conversation_relay = ConversationRelay(\n",
    "    url=f'wss://{ngrok_domain}/websocket',\n",
    "    welcome_greeting=\"Tarde! Assistente virtual do Signal São Paulo na área. Como posso te ajudar, chefia?\",\n",
    "    welcomeGreetingInterruptible=True,  # Allow user to interrupt the welcome greeting\n",
    "    language='pt-BR',\n",
    "    transcription_provider='Deepgram',\n",
    "    speech_model='nova-2-general',\n",
    "    tts_provider='ElevenLabs',\n",
    "    voice='eQnBc1norhy4xHHbr9Ip',\n",
    "    interruptible=True,  # Allow user to interrupt the assistant\n",
    "    dtmfDetection=True,  # Enable DTMF detection\n",
    "    reportInputDuringAgentSpeech=True,  # Report input during agent speech\n",
    "    preemptible=True,  # Allow the assistant to preempt the user\n",
    "    hints='Twilio, Conversation Relay, Signal São Paulo, Owl Bank',\n",
    "    debug='debugging, speaker-events, tokens-played', # debbugging options\n",
    "    elevenlabsTextNormalization='on',\n",
    "    intelligenceService='GAde9c513fd3914897cac25df18f3203b7'\n",
    ")\n",
    "\n",
    "# Configure language settings for Brazilian Portuguese\n",
    "conversation_relay.language(\n",
    "    code='pt-BR',\n",
    "    tts_provider='ElevenLabs',\n",
    "    voice='7u8qsX4HQsSHJ0f8xsQZ',\n",
    "    transcription_provider='Deepgram',\n",
    "    speech_model='nova-2-general'\n",
    ")\n",
    "\n",
    "connect.append(conversation_relay)\n",
    "response.append(connect)\n",
    "\n",
    "# Make the call with Conversation Relay\n",
    "call = client.calls.create(\n",
    "    from_=\"+551150397615\",\n",
    "    to=\"+5511968432422\",\n",
    "    twiml=str(response)\n",
    ")\n",
    "\n",
    "print(f\"Call SID: {call.sid}\")\n",
    "print(f\"WebSocket URL: wss://{ngrok_domain}\")\n",
    "pretty_print_twiml(response)"
   ]
  },
  {
   "cell_type": "markdown",
   "id": "b42ee8cd",
   "metadata": {
    "slideshow": {
     "slide_type": "slide"
    }
   },
   "source": [
    "### Verificando os resultados com Conversational Intelligence"
   ]
  },
  {
   "cell_type": "code",
   "execution_count": null,
   "id": "21abd50e",
   "metadata": {
    "slideshow": {
     "slide_type": "fragment"
    }
   },
   "outputs": [],
   "source": [
    "# List Transcripts Incrementally\n",
    "from datetime import datetime\n",
    "\n",
    "# Initialize or use existing last_update_date\n",
    "if 'last_update_date' not in globals():\n",
    "    # First run - get transcripts from last 24 hours to avoid missing recent ones\n",
    "    from datetime import timedelta\n",
    "    last_update_date = datetime.now() - timedelta(days=1)\n",
    "\n",
    "last_update_time = last_update_date.strftime('%Y-%m-%dT%H:%M:%SZ')\n",
    "print(f\"Fetching transcripts after: {last_update_time}\")\n",
    "\n",
    "transcripts = client.intelligence.v2.transcripts.list(\n",
    "    limit=100,\n",
    "    after_date_created=last_update_time,\n",
    "    after_start_time=last_update_time,\n",
    ")\n",
    "\n",
    "print(f\"Found {len(transcripts)} new transcripts:\\n\")\n",
    "\n",
    "for record in transcripts:\n",
    "    for key, value in vars(record).items():\n",
    "        print(f\"{key}: {value}\")\n",
    "    print(\"\\n---\\n\")\n",
    "\n",
    "# Update the timestamp for next run\n",
    "last_update_date = datetime.now()\n",
    "print(f\"Updated last_update_date to: {last_update_date}\")"
   ]
  },
  {
   "cell_type": "code",
   "execution_count": null,
   "id": "330a7973",
   "metadata": {
    "slideshow": {
     "slide_type": "subslide"
    }
   },
   "outputs": [],
   "source": [
    "# List Operator Results for all Transcripts found incrementally\n",
    "print(f\"Getting operator results for {len(transcripts)} transcripts...\\n\")\n",
    "\n",
    "for transcript_record in transcripts:\n",
    "    print(f\"TRANSCRIPT: {transcript_record.sid}\")\n",
    "    print(\"=\" * 80)\n",
    "    \n",
    "    try:\n",
    "        operator_results = client.intelligence.v2.transcripts(\n",
    "            transcript_record.sid\n",
    "        ).operator_results.list(limit=100)\n",
    "        \n",
    "        print(f\"Found {len(operator_results)} operator results:\\n\")\n",
    "\n",
    "        for i, record in enumerate(operator_results, 1):\n",
    "            print(f\"OPERATOR RESULT #{i}\")\n",
    "            print(\"=\" * 60)\n",
    "            print(f\"Name: {record.name}\")\n",
    "            print(f\"Type: {record.operator_type}\")\n",
    "            print(f\"Operator SID: {record.operator_sid}\")\n",
    "            \n",
    "            # Handle different result types\n",
    "            if record.operator_type == 'text-generation' and record.text_generation_results:\n",
    "                print(f\"\\nText Generation Result:\")\n",
    "                print(\"-\" * 30)\n",
    "                result_text = record.text_generation_results.get('result', 'No result available')\n",
    "                print(f\"{result_text}\")\n",
    "                \n",
    "            elif record.operator_type == 'extract' and record.extract_results:\n",
    "                print(f\"\\nExtraction Results:\")\n",
    "                print(\"-\" * 30)\n",
    "                for entity_type, entities in record.extract_results.items():\n",
    "                    print(f\"  {entity_type}: {entities}\")\n",
    "                \n",
    "                if record.extract_match:\n",
    "                    print(f\"\\nMatch Found: {record.extract_match}\")\n",
    "                    print(f\"Match Probability: {record.match_probability}\")\n",
    "                    \n",
    "                if record.utterance_results:\n",
    "                    print(f\"\\nUtterance Analysis:\")\n",
    "                    for j, utterance in enumerate(record.utterance_results):\n",
    "                        print(f\"  Utterance {j+1} (Index {utterance['utterance_index']}):\")\n",
    "                        print(f\"    Match Probability: {utterance['match_probability']}\")\n",
    "                        labeled_text = \"\"\n",
    "                        for part in utterance['utterance_parts']:\n",
    "                            if part['label']:\n",
    "                                labeled_text += f\"[{part['label']}: {part['text']}]\"\n",
    "                            else:\n",
    "                                labeled_text += part['text']\n",
    "                        print(f\"    Text: {labeled_text}\")\n",
    "                \n",
    "            elif record.operator_type == 'conversation-classify':\n",
    "                print(f\"\\nClassification Result:\")\n",
    "                print(\"-\" * 30)\n",
    "                print(f\"Predicted Label: {record.predicted_label}\")\n",
    "                print(f\"Predicted Probability: {record.predicted_probability}\")\n",
    "                \n",
    "                if record.label_probabilities:\n",
    "                    print(f\"All Label Probabilities:\")\n",
    "                    for label, prob in record.label_probabilities.items():\n",
    "                        print(f\"  {label}: {prob}\")\n",
    "            \n",
    "            print(f\"\\nTranscript SID: {record.transcript_sid}\")\n",
    "            print(f\"URL: {record.url}\")\n",
    "            print(\"=\" * 60)\n",
    "            print()\n",
    "            \n",
    "    except Exception as e:\n",
    "        print(f\"Error fetching operator results for transcript {transcript_record.sid}: {e}\")\n",
    "    \n",
    "    print(\"=\" * 80)\n",
    "    print()"
   ]
  },
  {
   "cell_type": "code",
   "execution_count": null,
   "id": "b6abc4d1",
   "metadata": {},
   "outputs": [],
   "source": [
    "from IPython.display import display\n",
    "\n",
    "mermaid_text = \"\"\"\n",
    "%%{init: {\n",
    "  \"theme\": \"base\",\n",
    "  \"themeVariables\": {\n",
    "    \"background\": \"#0B0D17\",\n",
    "    \"primaryColor\": \"#12284C\",\n",
    "    \"primaryBorderColor\": \"#661847\",\n",
    "    \"primaryTextColor\": \"#FFFFFF\",\n",
    "    \"tertiaryColor\": \"#0DC5FB\",\n",
    "    \"tertiaryBorderColor\": \"#0B3D91\",\n",
    "    \"tertiaryTextColor\": \"#FFFFFF\",\n",
    "    \"noteBkgColor\": \"#4B0082\",\n",
    "    \"noteTextColor\": \"#FFFFFF\",\n",
    "    \"sequence\": {\n",
    "      \"actorFontSize\": \"14px\",\n",
    "      \"messageFontSize\": \"13px\"\n",
    "    }\n",
    "  }\n",
    "}}%%\n",
    "\n",
    "sequenceDiagram\n",
    "    participant User\n",
    "    participant Conversations (Text)\n",
    "    participant External Service\n",
    "    participant LLMs / AI Agents\n",
    "    participant RAG / MCP\n",
    "\n",
    "    Note over User: Starts a text conversation\n",
    "\n",
    "    User->>Conversations (Text): Send message\n",
    "    Conversations (Text)->>External Service: Webhook (incoming message)\n",
    "    External Service->>RAG / MCP: Retrieve context\n",
    "    External Service->>LLMs / AI Agents: Prompt with message + context\n",
    "    LLMs / AI Agents-->>External Service: Response (text)\n",
    "    External Service->>Conversations (Text): Send reply via REST API/SDK\n",
    "    Conversations (Text)->>User: Deliver response\n",
    "\"\"\"\n",
    "\n",
    "display(Mermaid(mermaid_text))\n"
   ]
  },
  {
   "cell_type": "code",
   "execution_count": null,
   "id": "d64f3cc2",
   "metadata": {},
   "outputs": [],
   "source": [
    "from IPython.display import display\n",
    "\n",
    "mermaid_voice = \"\"\"\n",
    "%%{init: {\n",
    "  \"theme\": \"base\",\n",
    "  \"themeVariables\": {\n",
    "    \"background\": \"#0B0D17\",\n",
    "    \"primaryColor\": \"#12284C\",\n",
    "    \"primaryBorderColor\": \"#661847\",\n",
    "    \"primaryTextColor\": \"#FFFFFF\",\n",
    "    \"tertiaryColor\": \"#0DC5FB\",\n",
    "    \"tertiaryBorderColor\": \"#0B3D91\",\n",
    "    \"tertiaryTextColor\": \"#FFFFFF\",\n",
    "    \"noteBkgColor\": \"#4B0082\",\n",
    "    \"noteTextColor\": \"#FFFFFF\",\n",
    "    \"sequence\": {\n",
    "      \"actorFontSize\": \"14px\",\n",
    "      \"messageFontSize\": \"13px\"\n",
    "    }\n",
    "  }\n",
    "}}%%\n",
    "\n",
    "sequenceDiagram\n",
    "    participant User\n",
    "    participant Conversation Relay (Voice)\n",
    "    participant External Service\n",
    "    participant LLMs / AI Agents\n",
    "    participant RAG / MCP\n",
    "\n",
    "    Note over User: Starts a voice interaction\n",
    "\n",
    "    User->>Conversation Relay (Voice): Speak during call\n",
    "    Conversation Relay (Voice)->>External Service: WebSocket (STT + debug)\n",
    "    External Service->>RAG / MCP: Retrieve context\n",
    "    External Service->>LLMs / AI Agents: Prompt with STT text + context\n",
    "    LLMs / AI Agents-->>External Service: Token stream (text)\n",
    "    External Service->>Conversation Relay (Voice): WebSocket (TTS payloads)\n",
    "    Conversation Relay (Voice)->>User: Speak response (TTS)\n",
    "\"\"\"\n",
    "\n",
    "display(Mermaid(mermaid_voice))\n"
   ]
  },
  {
   "cell_type": "code",
   "execution_count": null,
   "id": "332babf1",
   "metadata": {},
   "outputs": [],
   "source": [
    "from IPython.display import display\n",
    "\n",
    "mermaid_combined = \"\"\"\n",
    "%%{init: {\n",
    "  \"theme\": \"base\",\n",
    "  \"themeVariables\": {\n",
    "    \"background\": \"#0B0D17\",\n",
    "    \"primaryColor\": \"#12284C\",\n",
    "    \"primaryBorderColor\": \"#661847\",\n",
    "    \"primaryTextColor\": \"#FFFFFF\",\n",
    "    \"tertiaryColor\": \"#0DC5FB\",\n",
    "    \"tertiaryBorderColor\": \"#0B3D91\",\n",
    "    \"tertiaryTextColor\": \"#FFFFFF\",\n",
    "    \"noteBkgColor\": \"#4B0082\",\n",
    "    \"noteTextColor\": \"#FFFFFF\",\n",
    "    \"clusterBkg\": \"#0B0D17\",\n",
    "    \"clusterBorder\": \"#1D1F2B\"\n",
    "  },\n",
    "  \"flowchart\": {\n",
    "    \"useMaxWidth\": true,\n",
    "    \"htmlLabels\": true,\n",
    "    \"wrap\": true\n",
    "  }\n",
    "}}%%\n",
    "\n",
    "graph TD\n",
    "\n",
    "    subgraph EntryPoint[\"User\"]\n",
    "      UserText[\"User (Text)\"]:::user\n",
    "      UserVoice[\"User (Voice)\"]:::user\n",
    "    end\n",
    "\n",
    "    subgraph Messaging\n",
    "      Conversations[\"Conversations (Text)\"]:::infra\n",
    "      ConvRelay[\"Conversation Relay (Voice)\"]:::infra\n",
    "    end\n",
    "\n",
    "    subgraph Server[\"External Service\"]\n",
    "      Ext[\"Webhook + WS Handler\"]:::server\n",
    "    end\n",
    "\n",
    "    subgraph Intelligence[\"AI & Context Layer\"]\n",
    "      RAG[\"RAG / MCP\"]:::ai\n",
    "      LLMs[\"LLMs / AI Agents\"]:::ai\n",
    "    end\n",
    "\n",
    "    %% TEXT FLOW\n",
    "    UserText -->|Send Message| Conversations\n",
    "    Conversations -->|Webhook| Ext\n",
    "    Ext --> RAG\n",
    "    Ext -->|Prompt| LLMs\n",
    "    LLMs -->|Response| Ext\n",
    "    Ext -->|SDK/API| Conversations\n",
    "    Conversations -->|Reply| UserText\n",
    "\n",
    "    %% VOICE FLOW\n",
    "    UserVoice -->|Speech| ConvRelay\n",
    "    ConvRelay -->|STT + Events| Ext\n",
    "    Ext --> RAG\n",
    "    Ext -->|Prompt| LLMs\n",
    "    LLMs -->|Token Stream| Ext\n",
    "    Ext -->|TTS Payload| ConvRelay\n",
    "    ConvRelay -->|Speech| UserVoice\n",
    "\n",
    "    %% Styles\n",
    "    classDef user fill:#0DC5FB,stroke:#0B3D91,stroke-width:3px,color:#ffffff\n",
    "    classDef infra fill:#F22F46,stroke:#0B3D91,stroke-width:3px,color:#ffffff\n",
    "    classDef server fill:#4B0082,stroke:#F22F46,stroke-width:3px,color:#ffffff\n",
    "    classDef ai fill:#661847,stroke:#F22F46,stroke-width:2px,color:#ffffff\n",
    "\"\"\"\n",
    "\n",
    "display(Mermaid(mermaid_combined))\n"
   ]
  },
  {
   "cell_type": "markdown",
   "id": "ff6b5619",
   "metadata": {
    "slideshow": {
     "slide_type": "slide"
    }
   },
   "source": [
    "## Wrap-Up"
   ]
  },
  {
   "cell_type": "markdown",
   "id": "a3f1d68e",
   "metadata": {},
   "source": [
    "**Melhores Práticas para Escalar o\n",
    "<br>\n",
    "Engajamento de Clientes Multi-Agentes \n",
    "<br>\n",
    "com Conversation Relay**\n",
    "\n",
    "&emsp; &#9658; Orquestração Omnicanal\n",
    "<br>\n",
    "&emsp; &#9658; Personalização em Tempo Real\n",
    "<br>\n",
    "&emsp; &#9658; Especialização de Agentes e Recursos\n",
    "<br>\n",
    "&emsp; &#9658; Governança e Observabilidade"
   ]
  },
  {
   "cell_type": "markdown",
   "id": "fa65acf7",
   "metadata": {},
   "source": [
    "#### Next Session:\n",
    "\n",
    "**Conversas em escala: <br>\n",
    "A nova era do engajamento pelo WhatsApp**"
   ]
  },
  {
   "cell_type": "code",
   "execution_count": null,
   "id": "9396358f",
   "metadata": {
    "slideshow": {
     "slide_type": "fragment"
    }
   },
   "outputs": [],
   "source": [
    "import time\n",
    "from IPython.display import display, clear_output, HTML\n",
    "\n",
    "# Messages to cycle through\n",
    "messages = [\n",
    "    \"Thank you!\",\n",
    "    \"¡Gracias!\",\n",
    "    \"Obrigado!\"\n",
    "]\n",
    "\n",
    "# Final message\n",
    "final_message = \"TWILIO SIGNAL SÃO PAULO 2025\"\n",
    "\n",
    "# Shared CSS for animated gradient box\n",
    "style = \"\"\"\n",
    "<style>\n",
    "@keyframes gradient {\n",
    "    0% { background-position: 0% 50%; }\n",
    "    50% { background-position: 100% 50%; }\n",
    "    100% { background-position: 0% 50%; }\n",
    "}\n",
    ".welcome-box {\n",
    "    font-family: 'Segoe UI', sans-serif;\n",
    "    font-size: 2em;\n",
    "    font-weight: bold;\n",
    "    color: white;\n",
    "    padding: 30px;\n",
    "    text-align: center;\n",
    "    border-radius: 16px;\n",
    "    background: linear-gradient(-45deg, #0DC5FB, #661847, #4B0082, #F22F46);\n",
    "    background-size: 400% 400%;\n",
    "    animation: gradient 8s ease infinite;\n",
    "    box-shadow: 0 0 20px rgba(0,0,0,0.4);\n",
    "    margin: 40px auto;\n",
    "    width: 70%;\n",
    "}\n",
    "</style>\n",
    "\"\"\"\n",
    "\n",
    "# Animation loop\n",
    "for _ in range(2):  # Number of cycles\n",
    "    for msg in messages:\n",
    "        clear_output(wait=True)\n",
    "        html = f\"{style}<div class='welcome-box'>{msg}</div>\"\n",
    "        display(HTML(html))\n",
    "        time.sleep(1.5)\n",
    "\n",
    "# Final SIGNAL banner\n",
    "clear_output(wait=True)\n",
    "html = f\"{style}<div class='welcome-box'>{final_message}</div>\"\n",
    "display(HTML(html))\n"
   ]
  }
 ],
 "metadata": {
  "kernelspec": {
   "display_name": ".venv",
   "language": "python",
   "name": "python3",
   "execution_count": null
  },
  "language_info": {
   "codemirror_mode": {
    "name": "ipython",
    "version": 3
   },
   "file_extension": ".py",
   "mimetype": "text/x-python",
   "name": "python",
   "nbconvert_exporter": "python",
   "pygments_lexer": "ipython3",
   "version": "3.13.5"
  }
 },
 "nbformat": 4,
 "nbformat_minor": 5
}